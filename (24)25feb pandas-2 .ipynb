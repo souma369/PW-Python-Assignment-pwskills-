{
 "cells": [
  {
   "cell_type": "markdown",
   "id": "b3386c47-44ca-442c-a259-7593a80e52ea",
   "metadata": {},
   "source": [
    "#      pandas Advance-2"
   ]
  },
  {
   "cell_type": "markdown",
   "id": "ab0d16c8-8672-4534-9d82-d658263c4ec9",
   "metadata": {},
   "source": [
    "Consider following code to answer further question:\n",
    "    import pandas as pd\n",
    "    course_name = [\"Data Science\", \"Machine learning\", \"Big Data\", \"Data Engineer\"]\n",
    "    duration = [2,3,6,4]\n",
    "    df = pd.DtaFrame(data = {\"course_name\" : course_name, \"duration\": duration})"
   ]
  },
  {
   "cell_type": "markdown",
   "id": "30c502cb-e5d4-43ca-8e9b-70e03b299d99",
   "metadata": {},
   "source": [
    "# Q1. write a code to print the data present in the second row of the dataframe, df."
   ]
  },
  {
   "cell_type": "code",
   "execution_count": 1,
   "id": "ba53ae49-acce-45b9-9be5-6cb87dc49e2b",
   "metadata": {},
   "outputs": [],
   "source": [
    "import pandas as pd"
   ]
  },
  {
   "cell_type": "code",
   "execution_count": 2,
   "id": "7cca8282-c615-4a54-9847-fa79391e99c8",
   "metadata": {},
   "outputs": [],
   "source": [
    "df=pd.DataFrame({\"a\":[1,2,3,4,5],\n",
    "                \"b\":[11,22,33,44,55],\n",
    "                \"c\":[111,222,333,444,555,],\n",
    "                \"d\":[\"souma\",\"raj\",\"reju\",\"suderson\",\"channki\"]})"
   ]
  },
  {
   "cell_type": "code",
   "execution_count": 3,
   "id": "ffc8ace1-3b48-40e6-91dd-e9f8bee602dc",
   "metadata": {},
   "outputs": [
    {
     "data": {
      "text/html": [
       "<div>\n",
       "<style scoped>\n",
       "    .dataframe tbody tr th:only-of-type {\n",
       "        vertical-align: middle;\n",
       "    }\n",
       "\n",
       "    .dataframe tbody tr th {\n",
       "        vertical-align: top;\n",
       "    }\n",
       "\n",
       "    .dataframe thead th {\n",
       "        text-align: right;\n",
       "    }\n",
       "</style>\n",
       "<table border=\"1\" class=\"dataframe\">\n",
       "  <thead>\n",
       "    <tr style=\"text-align: right;\">\n",
       "      <th></th>\n",
       "      <th>a</th>\n",
       "      <th>b</th>\n",
       "      <th>c</th>\n",
       "      <th>d</th>\n",
       "    </tr>\n",
       "  </thead>\n",
       "  <tbody>\n",
       "    <tr>\n",
       "      <th>0</th>\n",
       "      <td>1</td>\n",
       "      <td>11</td>\n",
       "      <td>111</td>\n",
       "      <td>souma</td>\n",
       "    </tr>\n",
       "    <tr>\n",
       "      <th>1</th>\n",
       "      <td>2</td>\n",
       "      <td>22</td>\n",
       "      <td>222</td>\n",
       "      <td>raj</td>\n",
       "    </tr>\n",
       "    <tr>\n",
       "      <th>2</th>\n",
       "      <td>3</td>\n",
       "      <td>33</td>\n",
       "      <td>333</td>\n",
       "      <td>reju</td>\n",
       "    </tr>\n",
       "    <tr>\n",
       "      <th>3</th>\n",
       "      <td>4</td>\n",
       "      <td>44</td>\n",
       "      <td>444</td>\n",
       "      <td>suderson</td>\n",
       "    </tr>\n",
       "    <tr>\n",
       "      <th>4</th>\n",
       "      <td>5</td>\n",
       "      <td>55</td>\n",
       "      <td>555</td>\n",
       "      <td>channki</td>\n",
       "    </tr>\n",
       "  </tbody>\n",
       "</table>\n",
       "</div>"
      ],
      "text/plain": [
       "   a   b    c         d\n",
       "0  1  11  111     souma\n",
       "1  2  22  222       raj\n",
       "2  3  33  333      reju\n",
       "3  4  44  444  suderson\n",
       "4  5  55  555   channki"
      ]
     },
     "execution_count": 3,
     "metadata": {},
     "output_type": "execute_result"
    }
   ],
   "source": [
    "df"
   ]
  },
  {
   "cell_type": "code",
   "execution_count": 4,
   "id": "38ef6d5b-86c9-4904-8564-d30013cc77a2",
   "metadata": {},
   "outputs": [],
   "source": [
    "second_row= df.iloc[1]\n",
    "    "
   ]
  },
  {
   "cell_type": "code",
   "execution_count": 5,
   "id": "82e215e8-aebf-43e0-bd7d-7834607a45ad",
   "metadata": {},
   "outputs": [
    {
     "data": {
      "text/plain": [
       "a      2\n",
       "b     22\n",
       "c    222\n",
       "d    raj\n",
       "Name: 1, dtype: object"
      ]
     },
     "execution_count": 5,
     "metadata": {},
     "output_type": "execute_result"
    }
   ],
   "source": [
    "second_row"
   ]
  },
  {
   "cell_type": "code",
   "execution_count": null,
   "id": "31d470fe-ac36-4c36-a410-d82ccd13c6d1",
   "metadata": {},
   "outputs": [],
   "source": []
  },
  {
   "cell_type": "markdown",
   "id": "40973436-b1aa-4c32-9a36-53ddc3d1c867",
   "metadata": {},
   "source": [
    "# Q.2 What is the difference between the function loc and iloc in pandas.DataFrame?"
   ]
  },
  {
   "cell_type": "raw",
   "id": "39438a4c-d881-417f-9b21-0ddd6409c5ea",
   "metadata": {},
   "source": [
    "loc and iloc are both accessors in pandas used for indexing and selecting data from a DataFrame, but they have some key differences:\n",
    "\n",
    "   A.... loc:\n",
    "\n",
    "             loc is primarily label-based indexing. It is used for selecting data based on the labels of rows and columns.\n",
    "\n",
    "Example usage:\n",
    "\n",
    "\n",
    "import pandas as pd\n",
    "\n",
    "data = {'A': [1, 2, 3], 'B': [4, 5, 6]}\n",
    "df = pd.DataFrame(data, index=['x', 'y', 'z'])\n",
    "\n",
    "result = df.loc['y', 'A']\n",
    "In this example, df.loc['y', 'A'] selects the value at row 'y' and column 'A'.\n",
    "\n",
    "        loc supports boolean indexing and can accept labels or boolean arrays.\n",
    "\n",
    "        loc also allows you to perform operations like slicing based on labels.\n",
    "\n",
    "\n",
    "        \n",
    "    B.... iloc:\n",
    "\n",
    "iloc is primarily integer-location based indexing. It is used for selecting data based on the numerical positions of rows and columns.\n",
    "\n",
    "Example usage:\n",
    "import pandas as pd\n",
    "\n",
    "data = {'A': [1, 2, 3], 'B': [4, 5, 6]}\n",
    "df = pd.DataFrame(data)\n",
    "\n",
    "result = df.iloc[1, 0]\n",
    "In this example, df.iloc[1, 0] selects the value at row 1 and column 0 (zero-based indexing).\n",
    "\n",
    "      iloc supports integer-based slicing and indexing.\n",
    "\n",
    "       It does not accept labels; it only works with numerical indices.\n",
    "\n",
    "\n",
    "    C.... Key Differences:\n",
    "\n",
    "                         i). loc uses label-based indexing, which means it accepts labels to select rows and columns.\n",
    "                         ii). iloc uses integer-based indexing, which means it accepts numerical positions to select rows and columns \n",
    "                              (similar to how you would index a list).\n",
    "\n",
    "                    \n",
    "     D.... Choosing between loc and iloc:\n",
    "\n",
    "                                    i). Use loc when you want to select data based on labels (row and column names).\n",
    "                                  ii). Use iloc when you want to select data based on numerical positions (integer indices).\n",
    "                                iii). Both loc and iloc are powerful tools that provide flexibility in accessing data from a DataFrame, and the choice\n",
    "                                    between them depends on the specific requirements of your data manipulation tasks.\n",
    "\n",
    "\n",
    "\n",
    "\n"
   ]
  },
  {
   "cell_type": "code",
   "execution_count": null,
   "id": "1b941220-51cd-486a-a256-0c29c72556da",
   "metadata": {},
   "outputs": [],
   "source": []
  },
  {
   "cell_type": "markdown",
   "id": "86484c7f-3a67-4d12-b589-4db1366bd577",
   "metadata": {},
   "source": [
    "# Q.3 Reindex the given dataframe using a variable, reindex=[3,0,1,2] and store it in the variable, new_df then find the output for both new_df.loc[2] and new_df.iloc[2].\n",
    "# Did you observe any difference in both the outputs? If so then explain it.\n",
    "# Consider the below code to answer further questions:\n",
    "#   \n",
    "#    import pandas as pd\n",
    "#    import numpy as np\n",
    "#    column = [\"column_1\", \"column_2\", \"column_3\", \"column_4\", \"column_5\", \"column_6\"]\n",
    "#    indices = [1,2,3,4,5,6]\n",
    "#    # creating a dataframe:\n",
    "#    df1 = pd.DataFrame(np.DataFrame(np.random.rand(6,6), columns=columns, index = indices)"
   ]
  },
  {
   "cell_type": "code",
   "execution_count": null,
   "id": "6a8fd91a-4886-4e47-8938-282eed266659",
   "metadata": {},
   "outputs": [],
   "source": []
  },
  {
   "cell_type": "code",
   "execution_count": 6,
   "id": "e4178645-9e61-49af-b45b-6e784d0fe75b",
   "metadata": {},
   "outputs": [],
   "source": [
    "#Reindex the given dataframe using a variable, reindex=[3,0,1,2] and store it in the variable, new_df then find the output for both new_df.loc[2] and new_df.iloc[2]."
   ]
  },
  {
   "cell_type": "code",
   "execution_count": 7,
   "id": "d895d5df-d2ae-4be4-8af2-4437950ae31f",
   "metadata": {},
   "outputs": [],
   "source": [
    "import pandas as pd"
   ]
  },
  {
   "cell_type": "code",
   "execution_count": 8,
   "id": "dde289c2-0237-42e0-a641-635cc9810665",
   "metadata": {},
   "outputs": [],
   "source": [
    "df=pd.DataFrame({\"a\":[2,1,4,3],\n",
    "                \"b\":[33,22,11,44],\n",
    "                \"c\":[111,444,333,222]})"
   ]
  },
  {
   "cell_type": "code",
   "execution_count": 9,
   "id": "86a63b6c-c920-40e1-a6a1-0d9e47670b41",
   "metadata": {},
   "outputs": [
    {
     "data": {
      "text/html": [
       "<div>\n",
       "<style scoped>\n",
       "    .dataframe tbody tr th:only-of-type {\n",
       "        vertical-align: middle;\n",
       "    }\n",
       "\n",
       "    .dataframe tbody tr th {\n",
       "        vertical-align: top;\n",
       "    }\n",
       "\n",
       "    .dataframe thead th {\n",
       "        text-align: right;\n",
       "    }\n",
       "</style>\n",
       "<table border=\"1\" class=\"dataframe\">\n",
       "  <thead>\n",
       "    <tr style=\"text-align: right;\">\n",
       "      <th></th>\n",
       "      <th>a</th>\n",
       "      <th>b</th>\n",
       "      <th>c</th>\n",
       "    </tr>\n",
       "  </thead>\n",
       "  <tbody>\n",
       "    <tr>\n",
       "      <th>0</th>\n",
       "      <td>2</td>\n",
       "      <td>33</td>\n",
       "      <td>111</td>\n",
       "    </tr>\n",
       "    <tr>\n",
       "      <th>1</th>\n",
       "      <td>1</td>\n",
       "      <td>22</td>\n",
       "      <td>444</td>\n",
       "    </tr>\n",
       "    <tr>\n",
       "      <th>2</th>\n",
       "      <td>4</td>\n",
       "      <td>11</td>\n",
       "      <td>333</td>\n",
       "    </tr>\n",
       "    <tr>\n",
       "      <th>3</th>\n",
       "      <td>3</td>\n",
       "      <td>44</td>\n",
       "      <td>222</td>\n",
       "    </tr>\n",
       "  </tbody>\n",
       "</table>\n",
       "</div>"
      ],
      "text/plain": [
       "   a   b    c\n",
       "0  2  33  111\n",
       "1  1  22  444\n",
       "2  4  11  333\n",
       "3  3  44  222"
      ]
     },
     "execution_count": 9,
     "metadata": {},
     "output_type": "execute_result"
    }
   ],
   "source": [
    "df"
   ]
  },
  {
   "cell_type": "code",
   "execution_count": 10,
   "id": "3b0b723a-2071-46fc-b83c-0b2caf79524a",
   "metadata": {},
   "outputs": [],
   "source": [
    "new_df=df.reindex([3,0,1,2])"
   ]
  },
  {
   "cell_type": "code",
   "execution_count": 11,
   "id": "7fff6e3b-3949-464e-83c2-3aa5b0335991",
   "metadata": {},
   "outputs": [
    {
     "data": {
      "text/html": [
       "<div>\n",
       "<style scoped>\n",
       "    .dataframe tbody tr th:only-of-type {\n",
       "        vertical-align: middle;\n",
       "    }\n",
       "\n",
       "    .dataframe tbody tr th {\n",
       "        vertical-align: top;\n",
       "    }\n",
       "\n",
       "    .dataframe thead th {\n",
       "        text-align: right;\n",
       "    }\n",
       "</style>\n",
       "<table border=\"1\" class=\"dataframe\">\n",
       "  <thead>\n",
       "    <tr style=\"text-align: right;\">\n",
       "      <th></th>\n",
       "      <th>a</th>\n",
       "      <th>b</th>\n",
       "      <th>c</th>\n",
       "    </tr>\n",
       "  </thead>\n",
       "  <tbody>\n",
       "    <tr>\n",
       "      <th>3</th>\n",
       "      <td>3</td>\n",
       "      <td>44</td>\n",
       "      <td>222</td>\n",
       "    </tr>\n",
       "    <tr>\n",
       "      <th>0</th>\n",
       "      <td>2</td>\n",
       "      <td>33</td>\n",
       "      <td>111</td>\n",
       "    </tr>\n",
       "    <tr>\n",
       "      <th>1</th>\n",
       "      <td>1</td>\n",
       "      <td>22</td>\n",
       "      <td>444</td>\n",
       "    </tr>\n",
       "    <tr>\n",
       "      <th>2</th>\n",
       "      <td>4</td>\n",
       "      <td>11</td>\n",
       "      <td>333</td>\n",
       "    </tr>\n",
       "  </tbody>\n",
       "</table>\n",
       "</div>"
      ],
      "text/plain": [
       "   a   b    c\n",
       "3  3  44  222\n",
       "0  2  33  111\n",
       "1  1  22  444\n",
       "2  4  11  333"
      ]
     },
     "execution_count": 11,
     "metadata": {},
     "output_type": "execute_result"
    }
   ],
   "source": [
    "new_df"
   ]
  },
  {
   "cell_type": "code",
   "execution_count": 12,
   "id": "66a54c07-cb5b-4b06-8946-aac0d4284a95",
   "metadata": {},
   "outputs": [
    {
     "data": {
      "text/plain": [
       "a      1\n",
       "b     22\n",
       "c    444\n",
       "Name: 1, dtype: int64"
      ]
     },
     "execution_count": 12,
     "metadata": {},
     "output_type": "execute_result"
    }
   ],
   "source": [
    "new_df.iloc[2]"
   ]
  },
  {
   "cell_type": "code",
   "execution_count": 13,
   "id": "80271907-0a9f-46a1-917b-02e62c819c87",
   "metadata": {},
   "outputs": [
    {
     "data": {
      "text/plain": [
       "a      4\n",
       "b     11\n",
       "c    333\n",
       "Name: 2, dtype: int64"
      ]
     },
     "execution_count": 13,
     "metadata": {},
     "output_type": "execute_result"
    }
   ],
   "source": [
    "new_df.loc[2]"
   ]
  },
  {
   "cell_type": "code",
   "execution_count": null,
   "id": "e1a4fc69-1cea-4d8f-b0df-8ebe0e31f26f",
   "metadata": {},
   "outputs": [],
   "source": []
  },
  {
   "cell_type": "code",
   "execution_count": 14,
   "id": "61e05e14-ff98-4cea-b8c5-153926cd8acf",
   "metadata": {},
   "outputs": [],
   "source": [
    "# Did you observe any difference in both the outputs? If so then explain it."
   ]
  },
  {
   "cell_type": "code",
   "execution_count": 15,
   "id": "f29caf59-00da-4981-8bfd-24abddc6b1b3",
   "metadata": {},
   "outputs": [],
   "source": [
    "#    yes, iloc takes in built index but loc takes givenindex"
   ]
  },
  {
   "cell_type": "code",
   "execution_count": null,
   "id": "1d7320c6-d25e-4c08-8646-be2097d7285a",
   "metadata": {},
   "outputs": [],
   "source": []
  },
  {
   "cell_type": "code",
   "execution_count": 16,
   "id": "7fa5301a-5d7c-4654-b2fd-2dc24834a2b4",
   "metadata": {},
   "outputs": [],
   "source": [
    "# import pandas as pd\n",
    "#import numpy as np\n",
    "#column = [\"column_1\", \"column_2\", \"column_3\", \"column_4\", \"column_5\", \"column_6\"]\n",
    "#indices = [1,2,3,4,5,6]\n",
    "# creating a dataframe:\n",
    "#df1 = pd.DataFrame(np.DataFrame(np.random.rand(6,6), columns=columns, index = indices)"
   ]
  },
  {
   "cell_type": "code",
   "execution_count": 17,
   "id": "ae29773b-ea2c-4e06-a539-6888335394fd",
   "metadata": {},
   "outputs": [],
   "source": [
    "import pandas as pd\n",
    "import numpy as np\n",
    "column = [\"column_1\", \"column_2\", \"column_3\", \"column_4\", \"column_5\", \"column_6\"]\n",
    "indices = [1,2,3,4,5,6]\n",
    "# creating a dataframe:\n",
    "df1 = pd.DataFrame(pd.DataFrame(np.random.rand(6,6), columns=column, index = indices))"
   ]
  },
  {
   "cell_type": "code",
   "execution_count": 18,
   "id": "3e59615f-ba0d-4580-9705-4aa59a723da3",
   "metadata": {},
   "outputs": [
    {
     "data": {
      "text/html": [
       "<div>\n",
       "<style scoped>\n",
       "    .dataframe tbody tr th:only-of-type {\n",
       "        vertical-align: middle;\n",
       "    }\n",
       "\n",
       "    .dataframe tbody tr th {\n",
       "        vertical-align: top;\n",
       "    }\n",
       "\n",
       "    .dataframe thead th {\n",
       "        text-align: right;\n",
       "    }\n",
       "</style>\n",
       "<table border=\"1\" class=\"dataframe\">\n",
       "  <thead>\n",
       "    <tr style=\"text-align: right;\">\n",
       "      <th></th>\n",
       "      <th>column_1</th>\n",
       "      <th>column_2</th>\n",
       "      <th>column_3</th>\n",
       "      <th>column_4</th>\n",
       "      <th>column_5</th>\n",
       "      <th>column_6</th>\n",
       "    </tr>\n",
       "  </thead>\n",
       "  <tbody>\n",
       "    <tr>\n",
       "      <th>1</th>\n",
       "      <td>0.332393</td>\n",
       "      <td>0.741370</td>\n",
       "      <td>0.311082</td>\n",
       "      <td>0.022984</td>\n",
       "      <td>0.551881</td>\n",
       "      <td>0.189114</td>\n",
       "    </tr>\n",
       "    <tr>\n",
       "      <th>2</th>\n",
       "      <td>0.561067</td>\n",
       "      <td>0.068065</td>\n",
       "      <td>0.240284</td>\n",
       "      <td>0.831750</td>\n",
       "      <td>0.930196</td>\n",
       "      <td>0.830257</td>\n",
       "    </tr>\n",
       "    <tr>\n",
       "      <th>3</th>\n",
       "      <td>0.305804</td>\n",
       "      <td>0.802638</td>\n",
       "      <td>0.446291</td>\n",
       "      <td>0.690367</td>\n",
       "      <td>0.275204</td>\n",
       "      <td>0.749955</td>\n",
       "    </tr>\n",
       "    <tr>\n",
       "      <th>4</th>\n",
       "      <td>0.412627</td>\n",
       "      <td>0.960769</td>\n",
       "      <td>0.474150</td>\n",
       "      <td>0.866287</td>\n",
       "      <td>0.668024</td>\n",
       "      <td>0.125986</td>\n",
       "    </tr>\n",
       "    <tr>\n",
       "      <th>5</th>\n",
       "      <td>0.052861</td>\n",
       "      <td>0.748755</td>\n",
       "      <td>0.660798</td>\n",
       "      <td>0.146851</td>\n",
       "      <td>0.050541</td>\n",
       "      <td>0.468431</td>\n",
       "    </tr>\n",
       "    <tr>\n",
       "      <th>6</th>\n",
       "      <td>0.420368</td>\n",
       "      <td>0.931459</td>\n",
       "      <td>0.911167</td>\n",
       "      <td>0.747765</td>\n",
       "      <td>0.284216</td>\n",
       "      <td>0.818711</td>\n",
       "    </tr>\n",
       "  </tbody>\n",
       "</table>\n",
       "</div>"
      ],
      "text/plain": [
       "   column_1  column_2  column_3  column_4  column_5  column_6\n",
       "1  0.332393  0.741370  0.311082  0.022984  0.551881  0.189114\n",
       "2  0.561067  0.068065  0.240284  0.831750  0.930196  0.830257\n",
       "3  0.305804  0.802638  0.446291  0.690367  0.275204  0.749955\n",
       "4  0.412627  0.960769  0.474150  0.866287  0.668024  0.125986\n",
       "5  0.052861  0.748755  0.660798  0.146851  0.050541  0.468431\n",
       "6  0.420368  0.931459  0.911167  0.747765  0.284216  0.818711"
      ]
     },
     "execution_count": 18,
     "metadata": {},
     "output_type": "execute_result"
    }
   ],
   "source": [
    "df1"
   ]
  },
  {
   "cell_type": "code",
   "execution_count": null,
   "id": "7e42c390-35ec-4f5e-9134-be8aa859e81d",
   "metadata": {},
   "outputs": [],
   "source": []
  },
  {
   "cell_type": "code",
   "execution_count": null,
   "id": "39cff0e3-d1d3-4dfb-861a-29b8e90e5d16",
   "metadata": {},
   "outputs": [],
   "source": []
  },
  {
   "cell_type": "markdown",
   "id": "ec207d8e-f43f-486b-ae8d-aa6043790bf6",
   "metadata": {},
   "source": [
    "# Q.4 Write a code to find the following statistical measurements for the above dataframe df1:\n",
    "#    (i) mean of each and every column present in the dataframe.\n",
    "#    (ii) standard deviation of column, \"column_2'"
   ]
  },
  {
   "cell_type": "code",
   "execution_count": 19,
   "id": "3d66d151-2ee7-44d5-b7c9-e3e6fc7b9d45",
   "metadata": {},
   "outputs": [
    {
     "data": {
      "text/html": [
       "<div>\n",
       "<style scoped>\n",
       "    .dataframe tbody tr th:only-of-type {\n",
       "        vertical-align: middle;\n",
       "    }\n",
       "\n",
       "    .dataframe tbody tr th {\n",
       "        vertical-align: top;\n",
       "    }\n",
       "\n",
       "    .dataframe thead th {\n",
       "        text-align: right;\n",
       "    }\n",
       "</style>\n",
       "<table border=\"1\" class=\"dataframe\">\n",
       "  <thead>\n",
       "    <tr style=\"text-align: right;\">\n",
       "      <th></th>\n",
       "      <th>column_1</th>\n",
       "      <th>column_2</th>\n",
       "      <th>column_3</th>\n",
       "      <th>column_4</th>\n",
       "      <th>column_5</th>\n",
       "      <th>column_6</th>\n",
       "    </tr>\n",
       "  </thead>\n",
       "  <tbody>\n",
       "    <tr>\n",
       "      <th>1</th>\n",
       "      <td>0.332393</td>\n",
       "      <td>0.741370</td>\n",
       "      <td>0.311082</td>\n",
       "      <td>0.022984</td>\n",
       "      <td>0.551881</td>\n",
       "      <td>0.189114</td>\n",
       "    </tr>\n",
       "    <tr>\n",
       "      <th>2</th>\n",
       "      <td>0.561067</td>\n",
       "      <td>0.068065</td>\n",
       "      <td>0.240284</td>\n",
       "      <td>0.831750</td>\n",
       "      <td>0.930196</td>\n",
       "      <td>0.830257</td>\n",
       "    </tr>\n",
       "    <tr>\n",
       "      <th>3</th>\n",
       "      <td>0.305804</td>\n",
       "      <td>0.802638</td>\n",
       "      <td>0.446291</td>\n",
       "      <td>0.690367</td>\n",
       "      <td>0.275204</td>\n",
       "      <td>0.749955</td>\n",
       "    </tr>\n",
       "    <tr>\n",
       "      <th>4</th>\n",
       "      <td>0.412627</td>\n",
       "      <td>0.960769</td>\n",
       "      <td>0.474150</td>\n",
       "      <td>0.866287</td>\n",
       "      <td>0.668024</td>\n",
       "      <td>0.125986</td>\n",
       "    </tr>\n",
       "    <tr>\n",
       "      <th>5</th>\n",
       "      <td>0.052861</td>\n",
       "      <td>0.748755</td>\n",
       "      <td>0.660798</td>\n",
       "      <td>0.146851</td>\n",
       "      <td>0.050541</td>\n",
       "      <td>0.468431</td>\n",
       "    </tr>\n",
       "    <tr>\n",
       "      <th>6</th>\n",
       "      <td>0.420368</td>\n",
       "      <td>0.931459</td>\n",
       "      <td>0.911167</td>\n",
       "      <td>0.747765</td>\n",
       "      <td>0.284216</td>\n",
       "      <td>0.818711</td>\n",
       "    </tr>\n",
       "  </tbody>\n",
       "</table>\n",
       "</div>"
      ],
      "text/plain": [
       "   column_1  column_2  column_3  column_4  column_5  column_6\n",
       "1  0.332393  0.741370  0.311082  0.022984  0.551881  0.189114\n",
       "2  0.561067  0.068065  0.240284  0.831750  0.930196  0.830257\n",
       "3  0.305804  0.802638  0.446291  0.690367  0.275204  0.749955\n",
       "4  0.412627  0.960769  0.474150  0.866287  0.668024  0.125986\n",
       "5  0.052861  0.748755  0.660798  0.146851  0.050541  0.468431\n",
       "6  0.420368  0.931459  0.911167  0.747765  0.284216  0.818711"
      ]
     },
     "execution_count": 19,
     "metadata": {},
     "output_type": "execute_result"
    }
   ],
   "source": [
    "df1"
   ]
  },
  {
   "cell_type": "code",
   "execution_count": 20,
   "id": "694e8142-2e57-4954-9dba-07121a794f03",
   "metadata": {},
   "outputs": [
    {
     "data": {
      "text/plain": [
       "0.3475198767402144"
      ]
     },
     "execution_count": 20,
     "metadata": {},
     "output_type": "execute_result"
    }
   ],
   "source": [
    "df1['column_1'].mean()"
   ]
  },
  {
   "cell_type": "markdown",
   "id": "18dbc1d8-049e-4fa5-a208-43213bc2a994",
   "metadata": {},
   "source": [
    "# i) mean of each and every column present in the dataframe"
   ]
  },
  {
   "cell_type": "code",
   "execution_count": 21,
   "id": "06a1eb7d-eaca-4fbe-84f5-ea01402112f1",
   "metadata": {},
   "outputs": [
    {
     "data": {
      "text/html": [
       "<div>\n",
       "<style scoped>\n",
       "    .dataframe tbody tr th:only-of-type {\n",
       "        vertical-align: middle;\n",
       "    }\n",
       "\n",
       "    .dataframe tbody tr th {\n",
       "        vertical-align: top;\n",
       "    }\n",
       "\n",
       "    .dataframe thead th {\n",
       "        text-align: right;\n",
       "    }\n",
       "</style>\n",
       "<table border=\"1\" class=\"dataframe\">\n",
       "  <thead>\n",
       "    <tr style=\"text-align: right;\">\n",
       "      <th></th>\n",
       "      <th>col_1_mean</th>\n",
       "      <th>col_2_mean</th>\n",
       "      <th>col_3_mean</th>\n",
       "      <th>col_4_mean</th>\n",
       "      <th>col_5_mean</th>\n",
       "      <th>col_6_mean</th>\n",
       "    </tr>\n",
       "  </thead>\n",
       "  <tbody>\n",
       "    <tr>\n",
       "      <th>0</th>\n",
       "      <td>0.34752</td>\n",
       "      <td>0.708843</td>\n",
       "      <td>0.507295</td>\n",
       "      <td>0.551</td>\n",
       "      <td>0.46001</td>\n",
       "      <td>0.530409</td>\n",
       "    </tr>\n",
       "  </tbody>\n",
       "</table>\n",
       "</div>"
      ],
      "text/plain": [
       "   col_1_mean  col_2_mean  col_3_mean  col_4_mean  col_5_mean  col_6_mean\n",
       "0     0.34752    0.708843    0.507295       0.551     0.46001    0.530409"
      ]
     },
     "execution_count": 21,
     "metadata": {},
     "output_type": "execute_result"
    }
   ],
   "source": [
    "pd.DataFrame({\"col_1_mean\":[df1['column_1'].mean()],\n",
    "             \"col_2_mean\":[df1['column_2'].mean()],\n",
    "              \"col_3_mean\":[df1['column_3'].mean()],\n",
    "              \"col_4_mean\":[df1['column_4'].mean()],\n",
    "              \"col_5_mean\":[df1['column_5'].mean()],\n",
    "              \"col_6_mean\":[df1['column_6'].mean()],\n",
    "              \n",
    "             })"
   ]
  },
  {
   "cell_type": "markdown",
   "id": "400e66ba-324b-4cc0-aac8-731759570953",
   "metadata": {},
   "source": [
    "# (ii) standard deviation of column, \"column_2'"
   ]
  },
  {
   "cell_type": "code",
   "execution_count": 22,
   "id": "164e0f5e-6c4c-422a-bd58-b18b64ac17c9",
   "metadata": {},
   "outputs": [
    {
     "data": {
      "text/plain": [
       "0.3271295789016034"
      ]
     },
     "execution_count": 22,
     "metadata": {},
     "output_type": "execute_result"
    }
   ],
   "source": [
    "df1['column_2'].std()"
   ]
  },
  {
   "cell_type": "code",
   "execution_count": null,
   "id": "b478360e-7aaf-42df-b2ec-76313ba77ea8",
   "metadata": {},
   "outputs": [],
   "source": []
  },
  {
   "cell_type": "markdown",
   "id": "57d5bf1a-9637-4e04-8f65-48dff7bb5d6a",
   "metadata": {},
   "source": [
    "# Q.5 Replace the data present in the second row  of column, \"column_2\" by a string variable then find the mean of column, \"column_2\".\n",
    "# If you are getting errors in executing it then explain why.\n",
    "# [Hint: To replace the data use df1.loc[] and equate this to string data of your choice.]"
   ]
  },
  {
   "cell_type": "code",
   "execution_count": 23,
   "id": "c959f817-e1b6-4083-aa33-69c463eeeab5",
   "metadata": {},
   "outputs": [
    {
     "data": {
      "text/html": [
       "<div>\n",
       "<style scoped>\n",
       "    .dataframe tbody tr th:only-of-type {\n",
       "        vertical-align: middle;\n",
       "    }\n",
       "\n",
       "    .dataframe tbody tr th {\n",
       "        vertical-align: top;\n",
       "    }\n",
       "\n",
       "    .dataframe thead th {\n",
       "        text-align: right;\n",
       "    }\n",
       "</style>\n",
       "<table border=\"1\" class=\"dataframe\">\n",
       "  <thead>\n",
       "    <tr style=\"text-align: right;\">\n",
       "      <th></th>\n",
       "      <th>column_1</th>\n",
       "      <th>column_2</th>\n",
       "      <th>column_3</th>\n",
       "      <th>column_4</th>\n",
       "      <th>column_5</th>\n",
       "      <th>column_6</th>\n",
       "    </tr>\n",
       "  </thead>\n",
       "  <tbody>\n",
       "    <tr>\n",
       "      <th>1</th>\n",
       "      <td>0.332393</td>\n",
       "      <td>0.741370</td>\n",
       "      <td>0.311082</td>\n",
       "      <td>0.022984</td>\n",
       "      <td>0.551881</td>\n",
       "      <td>0.189114</td>\n",
       "    </tr>\n",
       "    <tr>\n",
       "      <th>2</th>\n",
       "      <td>0.561067</td>\n",
       "      <td>0.068065</td>\n",
       "      <td>0.240284</td>\n",
       "      <td>0.831750</td>\n",
       "      <td>0.930196</td>\n",
       "      <td>0.830257</td>\n",
       "    </tr>\n",
       "    <tr>\n",
       "      <th>3</th>\n",
       "      <td>0.305804</td>\n",
       "      <td>0.802638</td>\n",
       "      <td>0.446291</td>\n",
       "      <td>0.690367</td>\n",
       "      <td>0.275204</td>\n",
       "      <td>0.749955</td>\n",
       "    </tr>\n",
       "    <tr>\n",
       "      <th>4</th>\n",
       "      <td>0.412627</td>\n",
       "      <td>0.960769</td>\n",
       "      <td>0.474150</td>\n",
       "      <td>0.866287</td>\n",
       "      <td>0.668024</td>\n",
       "      <td>0.125986</td>\n",
       "    </tr>\n",
       "    <tr>\n",
       "      <th>5</th>\n",
       "      <td>0.052861</td>\n",
       "      <td>0.748755</td>\n",
       "      <td>0.660798</td>\n",
       "      <td>0.146851</td>\n",
       "      <td>0.050541</td>\n",
       "      <td>0.468431</td>\n",
       "    </tr>\n",
       "    <tr>\n",
       "      <th>6</th>\n",
       "      <td>0.420368</td>\n",
       "      <td>0.931459</td>\n",
       "      <td>0.911167</td>\n",
       "      <td>0.747765</td>\n",
       "      <td>0.284216</td>\n",
       "      <td>0.818711</td>\n",
       "    </tr>\n",
       "  </tbody>\n",
       "</table>\n",
       "</div>"
      ],
      "text/plain": [
       "   column_1  column_2  column_3  column_4  column_5  column_6\n",
       "1  0.332393  0.741370  0.311082  0.022984  0.551881  0.189114\n",
       "2  0.561067  0.068065  0.240284  0.831750  0.930196  0.830257\n",
       "3  0.305804  0.802638  0.446291  0.690367  0.275204  0.749955\n",
       "4  0.412627  0.960769  0.474150  0.866287  0.668024  0.125986\n",
       "5  0.052861  0.748755  0.660798  0.146851  0.050541  0.468431\n",
       "6  0.420368  0.931459  0.911167  0.747765  0.284216  0.818711"
      ]
     },
     "execution_count": 23,
     "metadata": {},
     "output_type": "execute_result"
    }
   ],
   "source": [
    "df1"
   ]
  },
  {
   "cell_type": "code",
   "execution_count": 24,
   "id": "1f3284a6-e614-4091-850f-9a75c0b62b95",
   "metadata": {},
   "outputs": [
    {
     "data": {
      "text/html": [
       "<div>\n",
       "<style scoped>\n",
       "    .dataframe tbody tr th:only-of-type {\n",
       "        vertical-align: middle;\n",
       "    }\n",
       "\n",
       "    .dataframe tbody tr th {\n",
       "        vertical-align: top;\n",
       "    }\n",
       "\n",
       "    .dataframe thead th {\n",
       "        text-align: right;\n",
       "    }\n",
       "</style>\n",
       "<table border=\"1\" class=\"dataframe\">\n",
       "  <thead>\n",
       "    <tr style=\"text-align: right;\">\n",
       "      <th></th>\n",
       "      <th>column_2</th>\n",
       "    </tr>\n",
       "  </thead>\n",
       "  <tbody>\n",
       "    <tr>\n",
       "      <th>1</th>\n",
       "      <td>0.741370</td>\n",
       "    </tr>\n",
       "    <tr>\n",
       "      <th>2</th>\n",
       "      <td>0.068065</td>\n",
       "    </tr>\n",
       "  </tbody>\n",
       "</table>\n",
       "</div>"
      ],
      "text/plain": [
       "   column_2\n",
       "1  0.741370\n",
       "2  0.068065"
      ]
     },
     "execution_count": 24,
     "metadata": {},
     "output_type": "execute_result"
    }
   ],
   "source": [
    "df1.loc[0:2,['column_2']]"
   ]
  },
  {
   "cell_type": "code",
   "execution_count": 25,
   "id": "d1e918b1-90ee-4e70-a613-9d6a05e2b0f5",
   "metadata": {},
   "outputs": [
    {
     "data": {
      "text/html": [
       "<div>\n",
       "<style scoped>\n",
       "    .dataframe tbody tr th:only-of-type {\n",
       "        vertical-align: middle;\n",
       "    }\n",
       "\n",
       "    .dataframe tbody tr th {\n",
       "        vertical-align: top;\n",
       "    }\n",
       "\n",
       "    .dataframe thead th {\n",
       "        text-align: right;\n",
       "    }\n",
       "</style>\n",
       "<table border=\"1\" class=\"dataframe\">\n",
       "  <thead>\n",
       "    <tr style=\"text-align: right;\">\n",
       "      <th></th>\n",
       "      <th>column_1</th>\n",
       "      <th>column_2</th>\n",
       "      <th>column_3</th>\n",
       "      <th>column_4</th>\n",
       "      <th>column_5</th>\n",
       "      <th>column_6</th>\n",
       "    </tr>\n",
       "  </thead>\n",
       "  <tbody>\n",
       "    <tr>\n",
       "      <th>1</th>\n",
       "      <td>0.332393</td>\n",
       "      <td>0.741370</td>\n",
       "      <td>0.311082</td>\n",
       "      <td>0.022984</td>\n",
       "      <td>0.551881</td>\n",
       "      <td>0.189114</td>\n",
       "    </tr>\n",
       "    <tr>\n",
       "      <th>2</th>\n",
       "      <td>0.561067</td>\n",
       "      <td>0.068065</td>\n",
       "      <td>0.240284</td>\n",
       "      <td>0.831750</td>\n",
       "      <td>0.930196</td>\n",
       "      <td>0.830257</td>\n",
       "    </tr>\n",
       "    <tr>\n",
       "      <th>3</th>\n",
       "      <td>0.305804</td>\n",
       "      <td>0.802638</td>\n",
       "      <td>0.446291</td>\n",
       "      <td>0.690367</td>\n",
       "      <td>0.275204</td>\n",
       "      <td>0.749955</td>\n",
       "    </tr>\n",
       "    <tr>\n",
       "      <th>4</th>\n",
       "      <td>0.412627</td>\n",
       "      <td>0.960769</td>\n",
       "      <td>0.474150</td>\n",
       "      <td>0.866287</td>\n",
       "      <td>0.668024</td>\n",
       "      <td>0.125986</td>\n",
       "    </tr>\n",
       "    <tr>\n",
       "      <th>5</th>\n",
       "      <td>0.052861</td>\n",
       "      <td>0.748755</td>\n",
       "      <td>0.660798</td>\n",
       "      <td>0.146851</td>\n",
       "      <td>0.050541</td>\n",
       "      <td>0.468431</td>\n",
       "    </tr>\n",
       "    <tr>\n",
       "      <th>6</th>\n",
       "      <td>0.420368</td>\n",
       "      <td>0.931459</td>\n",
       "      <td>0.911167</td>\n",
       "      <td>0.747765</td>\n",
       "      <td>0.284216</td>\n",
       "      <td>0.818711</td>\n",
       "    </tr>\n",
       "  </tbody>\n",
       "</table>\n",
       "</div>"
      ],
      "text/plain": [
       "   column_1  column_2  column_3  column_4  column_5  column_6\n",
       "1  0.332393  0.741370  0.311082  0.022984  0.551881  0.189114\n",
       "2  0.561067  0.068065  0.240284  0.831750  0.930196  0.830257\n",
       "3  0.305804  0.802638  0.446291  0.690367  0.275204  0.749955\n",
       "4  0.412627  0.960769  0.474150  0.866287  0.668024  0.125986\n",
       "5  0.052861  0.748755  0.660798  0.146851  0.050541  0.468431\n",
       "6  0.420368  0.931459  0.911167  0.747765  0.284216  0.818711"
      ]
     },
     "execution_count": 25,
     "metadata": {},
     "output_type": "execute_result"
    }
   ],
   "source": [
    "df1"
   ]
  },
  {
   "cell_type": "code",
   "execution_count": null,
   "id": "9baff188-1b5b-4a75-90e3-7fcf98075b27",
   "metadata": {},
   "outputs": [],
   "source": []
  },
  {
   "cell_type": "code",
   "execution_count": null,
   "id": "c2a061a2-4525-4e90-aab9-b4767337dd0b",
   "metadata": {},
   "outputs": [],
   "source": []
  },
  {
   "cell_type": "markdown",
   "id": "be759b74-847f-46ee-8ef7-6f0aafe922b2",
   "metadata": {},
   "source": [
    "# Q.6  what do you understand about the  windows function in pandas and list the types of windows functions?"
   ]
  },
  {
   "cell_type": "code",
   "execution_count": null,
   "id": "21908424-862f-4bbd-a99d-80b87954b0ca",
   "metadata": {},
   "outputs": [],
   "source": []
  },
  {
   "cell_type": "raw",
   "id": "700279b0-7e04-4a4b-9d0c-fdc5bd457d8b",
   "metadata": {},
   "source": [
    "In pandas, a window function (also known as a windowed or analytical function) is a function that performs calculations across a specified range of rows related to the current row. \n",
    " It allows you to compute aggregate statistics or apply transformations within a defined window of data in a DataFrame.\n",
    "\n",
    "Here are some common types of window functions in pandas:\n",
    "\n",
    "    1. rolling():\n",
    "\n",
    "                This function creates a rolling view of a specified window size over a series or DataFrame. It's commonly used for tasks like calculating rolling means, sums, or other \n",
    "                statistics.\n",
    "    \n",
    "    2. expanding():\n",
    "\n",
    "                The expanding function computes an expanding window view, which means it includes all the data points from the start up to the current row. It's useful for calculating \n",
    "                 cumulative sums, means, or other aggregates.\n",
    "     \n",
    "    3. ewm() (Exponentially Weighted Moving Average):\n",
    "\n",
    "                                                 This function computes the exponentially weighted moving average, which assigns different weights to data points based on their recency.\n",
    "                                                 It's suitable for tasks like calculating smoothed averages.\n",
    "\n",
    "    4. rank():\n",
    "\n",
    "             The rank function assigns a rank to each element in a series or DataFrame, optionally within a specified window. It can be used to identify the relative position of \n",
    "              data points.\n",
    "    \n",
    "    5. aggregate() and transform():\n",
    "\n",
    "                                 These functions allow you to perform custom aggregation or transformation operations within a window. You can apply your own defined function to\n",
    "                                 the data within the specified window.\n",
    "\n",
    "    6. sum(), mean(), min(), max(), etc. (Aggregation Functions):\n",
    "\n",
    "                                                                These are standard aggregation functions that can be applied within a window. They calculate the sum, mean, minimum,\n",
    "                                                                 maximum, etc., of the data within the specified window.\n",
    "\n",
    "    7. cumsum(), cumprod(), cummin(), cummax() (Cumulative Functions):\n",
    "\n",
    "                                                                     These functions compute cumulative sums, products, minimums, or maximums within a window.\n",
    "                                                                     They accumulate values from the start up to the current row.\n",
    "\n",
    "    8. shift() and diff():\n",
    "\n",
    "                        While not traditional window functions, these functions can be used in combination with window operations to perform tasks like calculating differences \n",
    "                        or shifts within a window.\n",
    "\n",
    "    9. cov() and corr():\n",
    "\n",
    "                       These functions calculate the covariance and correlation matrices, respectively, which can be applied within a window to compute time-based correlations\n",
    "                       or covariances.\n",
    "\n",
    "                \n",
    "    These window functions are powerful tools for time series analysis, data transformation, and feature engineering tasks in pandas.\n",
    "    They enable you to gain insights into the patterns and trends within your data over specific time intervals or moving windows.\n",
    "\n",
    "\n",
    "    10. rolling().apply():\n",
    "\n",
    "                         You can apply custom functions to rolling windows using the apply() method. This allows you to perform complex calculations or transformations within \n",
    "                         the defined window.\n",
    "\n",
    "    11. rolling().agg():\n",
    "\n",
    "                      The agg() method in conjunction with rolling() allows you to apply multiple aggregation functions simultaneously within a rolling window,\n",
    "                        producing multiple summary statistics in one pass.\n",
    "\n",
    "    12. shift() with Custom Windows:\n",
    "\n",
    "                                   While shift() is not a traditional window function, you can use it to create custom windows by shifting data points within a time series. \n",
    "                                   This can be valuable for analyzing data in non-standard windows.\n",
    "\n",
    "    13. expanding().apply() and ewm().apply():\n",
    "\n",
    "                                            Similar to rolling windows, you can also apply custom functions within expanding or exponentially weighted windows using the apply() method.\n",
    "                                            This provides flexibility for various time-based calculations.\n",
    "\n",
    "    14. rolling().quantile():\n",
    "\n",
    "                             This function calculates quantiles (percentiles) within a rolling window, allowing you to analyze the distribution of data within specific time intervals.\n",
    "\n",
    "    15. rolling().cov() and rolling().corr():\n",
    "\n",
    "                                          These functions compute rolling covariance and correlation matrices, which are useful for time series analysis and risk assessment.\n",
    "\n",
    "    16. expanding().skew() and expanding().kurt():\n",
    "\n",
    "                                              These functions calculate the skewness and kurtosis of data within an expanding window. They help in assessing the shape and distribution \n",
    "                                              of data as it accumulates over time.\n",
    "\n",
    "    17. rolling().applymap():\n",
    "\n",
    "                           The applymap() function within a rolling window can be used to apply element-wise custom functions to DataFrame windows, providing fine-grained control \n",
    "                           over data transformations.\n",
    "\n",
    "    18. rolling().window() and expanding().window():\n",
    "\n",
    "                                                 These functions return a NumPy-style rolling or expanding window object, allowing for advanced custom operations on the data,\n",
    "                                                 such as custom aggregation or element-wise calculations.\n",
    "\n",
    "    19. rolling().shift() and rolling().diff():\n",
    "\n",
    "                                             Combining rolling windows with the shift() and diff() functions enables the calculation of changes or differences within a moving time frame,\n",
    "                                             which can be valuable in various analytical scenarios.\n",
    "\n",
    "                \n",
    "    These additional window functions expand the capabilities of pandas for time series analysis, data manipulation, and feature engineering. \n",
    "    They empower you to explore, analyze, and transform your data based on various time-based and moving window criteria.\n",
    "\n",
    "    \n",
    "    \n",
    "\n",
    "    20. rolling().rolling():\n",
    "                         You can apply multiple rolling operations sequentially using the rolling() function within another rolling() operation. This allows for more complex\n",
    "                          calculations involving nested windows.\n",
    "\n",
    "    21. expanding().agg() and ewm().agg():\n",
    "                                        These methods enable the application of multiple aggregation functions within expanding or exponentially weighted windows, \n",
    "                                         allowing for the simultaneous computation of multiple summary statistics.\n",
    "\n",
    "    22. expanding().applymap() and ewm().applymap():\n",
    "                                                   These functions apply element-wise custom functions within expanding or exponentially weighted windows. This provides fine-grained \n",
    "                                                     control over the transformations applied to individual elements.\n",
    "\n",
    "    23. rolling().rank() and expanding().rank():\n",
    "                                            These functions compute ranks within rolling and expanding windows, allowing you to analyze the relative positions of data points over time.\n",
    "\n",
    "    \n",
    "    24. rolling().cumcount():\n",
    "                            This function returns the cumulative count of non-null elements within a rolling window. It's useful for tasks involving data completeness or density.\n",
    "\n",
    "    25. expanding().cummin() and expanding().cummax():\n",
    "                                                         These functions calculate the cumulative minimum and maximum values within an expanding window. They can be helpful\n",
    "                                                         for tracking the range of data over time.\n",
    "\n",
    "    26. rolling().expanding() and expanding().rolling():\n",
    "                                                          Combining rolling and expanding windows allows for advanced calculations involving both a moving time frame and an \n",
    "                                                          accumulating dataset.\n",
    "    \n",
    "    27. rolling().var() and rolling().std():\n",
    "                                                These functions compute the rolling variance and standard deviation, which are important for analyzing data variability and volatility \n",
    "                                                over time.\n",
    "\n",
    "    28. rolling().apply() with lambda functions:\n",
    "                                                   You can use lambda functions within a rolling window's apply() method to perform concise and on-the-fly calculations within \n",
    "                                                   the specified window.\n",
    "\n",
    "    29. expanding().max() and expanding().min():\n",
    "                                                  These functions calculate the maximum and minimum values within an expanding window, providing insights into the overall \n",
    "                                                  range of data as it accumulates.\n",
    "\n",
    "    30 rolling().corrwith():\n",
    "                                This function computes the pairwise correlation between a column in a DataFrame and the specified series or DataFrame within a rolling window.\n",
    "\n",
    "                \n",
    "    These advanced window functions extend the capabilities of pandas, allowing for even more sophisticated time series analysis, feature engineering, and data transformation tasks.\n",
    "    They provide the flexibility needed to address a wide range of analytical challenges in various domains."
   ]
  },
  {
   "cell_type": "code",
   "execution_count": null,
   "id": "53dc187c-e433-42a8-b8b2-1a0ba3c69bad",
   "metadata": {},
   "outputs": [],
   "source": []
  },
  {
   "cell_type": "code",
   "execution_count": null,
   "id": "c043328d-c128-4276-b2a1-7d7117d1556b",
   "metadata": {},
   "outputs": [],
   "source": []
  },
  {
   "cell_type": "markdown",
   "id": "13b721b9-6567-4b1a-ac1e-76a0495f6329",
   "metadata": {},
   "source": [
    "# Q.7 Write a code to print only the current month and year at the time of answering this question.[Hint: Use pandas.datetime function]"
   ]
  },
  {
   "cell_type": "code",
   "execution_count": 26,
   "id": "395c4ba6-bb9b-45c1-8a5d-d3f864501cea",
   "metadata": {},
   "outputs": [],
   "source": [
    "import pandas as pd"
   ]
  },
  {
   "cell_type": "code",
   "execution_count": 27,
   "id": "3a39ba0a-841f-4edf-bd70-a8f9271a23cb",
   "metadata": {},
   "outputs": [
    {
     "name": "stderr",
     "output_type": "stream",
     "text": [
      "/tmp/ipykernel_341/263908062.py:1: FutureWarning: The parsing of 'now' in pd.to_datetime without `utc=True` is deprecated. In a future version, this will match Timestamp('now') and Timestamp.now()\n",
      "  today_date=pd.to_datetime(\"now\")\n"
     ]
    }
   ],
   "source": [
    "today_date=pd.to_datetime(\"now\")"
   ]
  },
  {
   "cell_type": "code",
   "execution_count": 28,
   "id": "275caac5-ce2c-4a0f-aa50-97708081554c",
   "metadata": {},
   "outputs": [
    {
     "data": {
      "text/plain": [
       "Timestamp('2023-10-28 08:04:13.215515')"
      ]
     },
     "execution_count": 28,
     "metadata": {},
     "output_type": "execute_result"
    }
   ],
   "source": [
    "today_date"
   ]
  },
  {
   "cell_type": "code",
   "execution_count": 29,
   "id": "0993cf16-6452-4e9c-8e5f-56958d70cae0",
   "metadata": {},
   "outputs": [
    {
     "name": "stdout",
     "output_type": "stream",
     "text": [
      "today_date:2023-10-28 08:04:13.215515\n"
     ]
    }
   ],
   "source": [
    "print(f\"today_date:{today_date}\")"
   ]
  },
  {
   "cell_type": "code",
   "execution_count": null,
   "id": "096a4143-21b7-4b2b-81f3-a73ab76e8a56",
   "metadata": {},
   "outputs": [],
   "source": []
  },
  {
   "cell_type": "code",
   "execution_count": null,
   "id": "6e2b43ed-bca2-40ab-b929-462ea65fcece",
   "metadata": {},
   "outputs": [],
   "source": []
  },
  {
   "cell_type": "markdown",
   "id": "73ce1a88-6fc4-498c-b1e0-edbffb3cba32",
   "metadata": {},
   "source": [
    "# Q.8 Write a python program that takes in two dates as input(in the format yyyy-mm-dd) and calculates the difference between them  in days, hours, and minutes using pandas time delta. The program should prompt the user to enter  the dates and display the result."
   ]
  },
  {
   "cell_type": "code",
   "execution_count": 30,
   "id": "a2e360b3-51e4-4fba-9a2e-b7d20583571f",
   "metadata": {},
   "outputs": [],
   "source": [
    "import pandas as pd"
   ]
  },
  {
   "cell_type": "code",
   "execution_count": 31,
   "id": "187d7cf0-3973-40fc-875c-54ba3e14c329",
   "metadata": {},
   "outputs": [],
   "source": [
    "def time_diff(start_date,end_date):\n",
    "    start_date=pd.to_datetime(start_date)\n",
    "    end_date=pd.to_datetime(end_date)\n",
    "    time_difference=end_date - start_date\n",
    "    days=time_difference.days\n",
    "    hours=time_difference.seconds//3600\n",
    "    minutes=(time_difference.seconds % 3600)//60\n",
    "    print(f\"time_difference:{days}days,{hours}hours,{minutes}minutes.\")"
   ]
  },
  {
   "cell_type": "code",
   "execution_count": 32,
   "id": "09545b8c-933f-48f2-a7f1-70fda6de0693",
   "metadata": {},
   "outputs": [
    {
     "name": "stdin",
     "output_type": "stream",
     "text": [
      "enter the start date(yyyy-mm-dd): 2023-04-5\n"
     ]
    }
   ],
   "source": [
    "start_date=input(\"enter the start date(yyyy-mm-dd):\")"
   ]
  },
  {
   "cell_type": "code",
   "execution_count": 33,
   "id": "78d974ac-bfea-463a-b5b2-4b49cd57f16b",
   "metadata": {},
   "outputs": [
    {
     "name": "stdin",
     "output_type": "stream",
     "text": [
      "enter the end date(yyyy-mm-dd): 2023-08-26\n"
     ]
    }
   ],
   "source": [
    "end_date=input(\"enter the end date(yyyy-mm-dd):\")"
   ]
  },
  {
   "cell_type": "code",
   "execution_count": 34,
   "id": "436bdde6-e378-4a44-a43e-303ca3bacf3d",
   "metadata": {},
   "outputs": [
    {
     "name": "stdout",
     "output_type": "stream",
     "text": [
      "time_difference:143days,0hours,0minutes.\n"
     ]
    }
   ],
   "source": [
    "time_diff(start_date,end_date)"
   ]
  },
  {
   "cell_type": "code",
   "execution_count": null,
   "id": "239dd7fa-1dc4-4014-9833-63553d7466ff",
   "metadata": {},
   "outputs": [],
   "source": []
  },
  {
   "cell_type": "code",
   "execution_count": null,
   "id": "315d1af0-3be3-4adb-a2e3-edc171253b57",
   "metadata": {},
   "outputs": [],
   "source": []
  },
  {
   "cell_type": "markdown",
   "id": "93fda3b4-fa28-425c-ae8c-12f880326985",
   "metadata": {},
   "source": [
    "# Q.9 Write  a python program that reads a csv file containing categorical data and convert a specified column to a categorical data type. The program should prompt the user to enter the file path, column name, and category order, and then display the sorted data."
   ]
  },
  {
   "cell_type": "code",
   "execution_count": 35,
   "id": "48ead237-beb4-4259-b83d-2e2220b8a424",
   "metadata": {},
   "outputs": [],
   "source": [
    "import seaborn as sns\n",
    "import pandas as pd"
   ]
  },
  {
   "cell_type": "code",
   "execution_count": 36,
   "id": "29628118-9994-4f57-9d46-2c68a28968b0",
   "metadata": {},
   "outputs": [],
   "source": [
    "df9=sns.load_dataset(\"tips\")"
   ]
  },
  {
   "cell_type": "code",
   "execution_count": 37,
   "id": "51cd0c90-6aba-47d3-b12e-1d5551a92dc2",
   "metadata": {},
   "outputs": [
    {
     "data": {
      "text/html": [
       "<div>\n",
       "<style scoped>\n",
       "    .dataframe tbody tr th:only-of-type {\n",
       "        vertical-align: middle;\n",
       "    }\n",
       "\n",
       "    .dataframe tbody tr th {\n",
       "        vertical-align: top;\n",
       "    }\n",
       "\n",
       "    .dataframe thead th {\n",
       "        text-align: right;\n",
       "    }\n",
       "</style>\n",
       "<table border=\"1\" class=\"dataframe\">\n",
       "  <thead>\n",
       "    <tr style=\"text-align: right;\">\n",
       "      <th></th>\n",
       "      <th>total_bill</th>\n",
       "      <th>tip</th>\n",
       "      <th>sex</th>\n",
       "      <th>smoker</th>\n",
       "      <th>day</th>\n",
       "      <th>time</th>\n",
       "      <th>size</th>\n",
       "    </tr>\n",
       "  </thead>\n",
       "  <tbody>\n",
       "    <tr>\n",
       "      <th>0</th>\n",
       "      <td>16.99</td>\n",
       "      <td>1.01</td>\n",
       "      <td>Female</td>\n",
       "      <td>No</td>\n",
       "      <td>Sun</td>\n",
       "      <td>Dinner</td>\n",
       "      <td>2</td>\n",
       "    </tr>\n",
       "    <tr>\n",
       "      <th>1</th>\n",
       "      <td>10.34</td>\n",
       "      <td>1.66</td>\n",
       "      <td>Male</td>\n",
       "      <td>No</td>\n",
       "      <td>Sun</td>\n",
       "      <td>Dinner</td>\n",
       "      <td>3</td>\n",
       "    </tr>\n",
       "  </tbody>\n",
       "</table>\n",
       "</div>"
      ],
      "text/plain": [
       "   total_bill   tip     sex smoker  day    time  size\n",
       "0       16.99  1.01  Female     No  Sun  Dinner     2\n",
       "1       10.34  1.66    Male     No  Sun  Dinner     3"
      ]
     },
     "execution_count": 37,
     "metadata": {},
     "output_type": "execute_result"
    }
   ],
   "source": [
    "df9.head(2)"
   ]
  },
  {
   "cell_type": "code",
   "execution_count": 38,
   "id": "37b43157-1478-4009-a929-61b13779fa6d",
   "metadata": {},
   "outputs": [],
   "source": [
    "df9.to_csv(\"Tips.csv\",index=False)"
   ]
  },
  {
   "cell_type": "code",
   "execution_count": 39,
   "id": "ee88bd56-4719-448a-a6c1-683e670e5455",
   "metadata": {},
   "outputs": [
    {
     "data": {
      "text/html": [
       "<div>\n",
       "<style scoped>\n",
       "    .dataframe tbody tr th:only-of-type {\n",
       "        vertical-align: middle;\n",
       "    }\n",
       "\n",
       "    .dataframe tbody tr th {\n",
       "        vertical-align: top;\n",
       "    }\n",
       "\n",
       "    .dataframe thead th {\n",
       "        text-align: right;\n",
       "    }\n",
       "</style>\n",
       "<table border=\"1\" class=\"dataframe\">\n",
       "  <thead>\n",
       "    <tr style=\"text-align: right;\">\n",
       "      <th></th>\n",
       "      <th>total_bill</th>\n",
       "      <th>tip</th>\n",
       "      <th>size</th>\n",
       "    </tr>\n",
       "  </thead>\n",
       "  <tbody>\n",
       "    <tr>\n",
       "      <th>count</th>\n",
       "      <td>244.000000</td>\n",
       "      <td>244.000000</td>\n",
       "      <td>244.000000</td>\n",
       "    </tr>\n",
       "    <tr>\n",
       "      <th>mean</th>\n",
       "      <td>19.785943</td>\n",
       "      <td>2.998279</td>\n",
       "      <td>2.569672</td>\n",
       "    </tr>\n",
       "    <tr>\n",
       "      <th>std</th>\n",
       "      <td>8.902412</td>\n",
       "      <td>1.383638</td>\n",
       "      <td>0.951100</td>\n",
       "    </tr>\n",
       "    <tr>\n",
       "      <th>min</th>\n",
       "      <td>3.070000</td>\n",
       "      <td>1.000000</td>\n",
       "      <td>1.000000</td>\n",
       "    </tr>\n",
       "    <tr>\n",
       "      <th>25%</th>\n",
       "      <td>13.347500</td>\n",
       "      <td>2.000000</td>\n",
       "      <td>2.000000</td>\n",
       "    </tr>\n",
       "    <tr>\n",
       "      <th>50%</th>\n",
       "      <td>17.795000</td>\n",
       "      <td>2.900000</td>\n",
       "      <td>2.000000</td>\n",
       "    </tr>\n",
       "    <tr>\n",
       "      <th>75%</th>\n",
       "      <td>24.127500</td>\n",
       "      <td>3.562500</td>\n",
       "      <td>3.000000</td>\n",
       "    </tr>\n",
       "    <tr>\n",
       "      <th>max</th>\n",
       "      <td>50.810000</td>\n",
       "      <td>10.000000</td>\n",
       "      <td>6.000000</td>\n",
       "    </tr>\n",
       "  </tbody>\n",
       "</table>\n",
       "</div>"
      ],
      "text/plain": [
       "       total_bill         tip        size\n",
       "count  244.000000  244.000000  244.000000\n",
       "mean    19.785943    2.998279    2.569672\n",
       "std      8.902412    1.383638    0.951100\n",
       "min      3.070000    1.000000    1.000000\n",
       "25%     13.347500    2.000000    2.000000\n",
       "50%     17.795000    2.900000    2.000000\n",
       "75%     24.127500    3.562500    3.000000\n",
       "max     50.810000   10.000000    6.000000"
      ]
     },
     "execution_count": 39,
     "metadata": {},
     "output_type": "execute_result"
    }
   ],
   "source": [
    "df9.describe()"
   ]
  },
  {
   "cell_type": "code",
   "execution_count": 40,
   "id": "1f396c13-3829-4f43-a296-6b29a3f18b3c",
   "metadata": {},
   "outputs": [
    {
     "data": {
      "text/plain": [
       "['Female', 'Male', 'Male', 'Male', 'Female', ..., 'Male', 'Female', 'Male', 'Male', 'Female']\n",
       "Length: 244\n",
       "Categories (2, object): ['Male', 'Female']"
      ]
     },
     "execution_count": 40,
     "metadata": {},
     "output_type": "execute_result"
    }
   ],
   "source": [
    "pd.Categorical(df9[\"sex\"])"
   ]
  },
  {
   "cell_type": "code",
   "execution_count": null,
   "id": "5e864d28-0dea-49bd-917a-73ca67a00ecb",
   "metadata": {},
   "outputs": [],
   "source": []
  },
  {
   "cell_type": "code",
   "execution_count": null,
   "id": "26d57148-7209-4884-b366-fd65dcab8b04",
   "metadata": {},
   "outputs": [],
   "source": []
  },
  {
   "cell_type": "markdown",
   "id": "ec9a67b6-a29b-498d-b242-334836f4ad4e",
   "metadata": {},
   "source": [
    "# Q.10 Write a python program that reads a csv file containing sales data for different products and visualizes the data using a stacked bar chart to show the sales of each product category over time. The program should prompt the user to enter the file path and display the chart."
   ]
  },
  {
   "cell_type": "code",
   "execution_count": 57,
   "id": "de827e8e-cb44-412a-bc36-2609df74b61f",
   "metadata": {},
   "outputs": [],
   "source": [
    "import pandas as pd"
   ]
  },
  {
   "cell_type": "code",
   "execution_count": null,
   "id": "fc6efcc6-04f4-4c61-9817-258ada3532db",
   "metadata": {},
   "outputs": [],
   "source": []
  },
  {
   "cell_type": "code",
   "execution_count": null,
   "id": "f21a6fbe-0a8f-49b7-94fd-59ca1cc45693",
   "metadata": {},
   "outputs": [],
   "source": []
  },
  {
   "cell_type": "markdown",
   "id": "a4fc4929-219a-4027-8c10-6c91d54e2727",
   "metadata": {},
   "source": [
    "# Q.11 you are given a csv file containing student data that includes the student ID and their test score. Write a python program that reads the csv file , calculates the mean, median, and mode of the test scores, and displays the results in a table.\n",
    "# The program should do the following:\n",
    "#    * prompt the user to enter the file path of the csv file containing the student data.\n",
    "#    * read the csv file into a pandas DataFrame.\n",
    "#    * Calculate the mean, median, and mode in a table.\n",
    "#    * Display the mean, median, and mode in a table.\n",
    "    \n",
    "# Assume the CSv file contains the following columns:\n",
    "\n",
    "#    *Student ID: The ID  of the student.\n",
    "#    * Test Score: The Score of the student's test.\n",
    "    \n",
    "# Example usage of the program:\n",
    "# Enter the file path of the CSV file containing the student data: student_data.csv\n",
    "# +-----------+--------+\n",
    "# | Statistic | Value |\n",
    "# +-----------+--------+\n",
    "# | Mean | 79.6 |\n",
    "# | Median | 82 |\n",
    "# | Mode | 85, 90 |\n",
    "# +-----------+--------+\n",
    "# Assume that the CSV file student_data.csv contains the following data:\n",
    "# Student ID,Test Score\n",
    "# 1,85\n",
    "# 2,90\n",
    "# 3,80\n",
    "# 4,75\n",
    "# 5,85\n",
    "# 6,82\n",
    "# 7,78\n",
    "# 8,85\n",
    "# 9,90\n",
    "# 10,85\n",
    "# The program should calculate the mean, median, and mode of the test scores and display the results in a table.\n",
    "\n"
   ]
  },
  {
   "cell_type": "code",
   "execution_count": 41,
   "id": "9428333a-b7f0-4e61-bcb4-e7db46968370",
   "metadata": {},
   "outputs": [],
   "source": [
    "import pandas as pd"
   ]
  },
  {
   "cell_type": "code",
   "execution_count": 42,
   "id": "e91d683e-9cb4-4fa4-8a61-49938cc4bd6b",
   "metadata": {},
   "outputs": [
    {
     "name": "stdin",
     "output_type": "stream",
     "text": [
      "enter your file path testscore.csv\n"
     ]
    }
   ],
   "source": [
    "input_user=input(\"enter your file path\")"
   ]
  },
  {
   "cell_type": "code",
   "execution_count": 43,
   "id": "f1f6bcf9-af5b-46c7-8d27-a7cadb9efcb4",
   "metadata": {},
   "outputs": [],
   "source": [
    "df=pd.read_csv(input_user)"
   ]
  },
  {
   "cell_type": "code",
   "execution_count": 44,
   "id": "2c182ec4-deec-4e06-b8d9-4e222ea0663f",
   "metadata": {},
   "outputs": [],
   "source": [
    "df[\"Test_score_mean\"]=df[\"Test Score\"].mean()\n",
    "df[\"Test_score_median\"]=df[\"Test Score\"].median()\n",
    "df[\"Test_score_mode\"]=df[\"Test Score\"].mode()\n",
    "df[\"Test_score_std\"]=df[\"Test Score\"].std()\n"
   ]
  },
  {
   "cell_type": "code",
   "execution_count": 45,
   "id": "0d457d6c-63db-4aca-b39d-ac0fc19294a2",
   "metadata": {},
   "outputs": [
    {
     "data": {
      "text/html": [
       "<div>\n",
       "<style scoped>\n",
       "    .dataframe tbody tr th:only-of-type {\n",
       "        vertical-align: middle;\n",
       "    }\n",
       "\n",
       "    .dataframe tbody tr th {\n",
       "        vertical-align: top;\n",
       "    }\n",
       "\n",
       "    .dataframe thead th {\n",
       "        text-align: right;\n",
       "    }\n",
       "</style>\n",
       "<table border=\"1\" class=\"dataframe\">\n",
       "  <thead>\n",
       "    <tr style=\"text-align: right;\">\n",
       "      <th></th>\n",
       "      <th>Student Id</th>\n",
       "      <th>Test Score</th>\n",
       "      <th>Test_score_mean</th>\n",
       "      <th>Test_score_median</th>\n",
       "      <th>Test_score_mode</th>\n",
       "      <th>Test_score_std</th>\n",
       "    </tr>\n",
       "  </thead>\n",
       "  <tbody>\n",
       "    <tr>\n",
       "      <th>0</th>\n",
       "      <td>1</td>\n",
       "      <td>85</td>\n",
       "      <td>83.5</td>\n",
       "      <td>85.0</td>\n",
       "      <td>85.0</td>\n",
       "      <td>4.836206</td>\n",
       "    </tr>\n",
       "    <tr>\n",
       "      <th>1</th>\n",
       "      <td>2</td>\n",
       "      <td>90</td>\n",
       "      <td>83.5</td>\n",
       "      <td>85.0</td>\n",
       "      <td>NaN</td>\n",
       "      <td>4.836206</td>\n",
       "    </tr>\n",
       "    <tr>\n",
       "      <th>2</th>\n",
       "      <td>3</td>\n",
       "      <td>80</td>\n",
       "      <td>83.5</td>\n",
       "      <td>85.0</td>\n",
       "      <td>NaN</td>\n",
       "      <td>4.836206</td>\n",
       "    </tr>\n",
       "    <tr>\n",
       "      <th>3</th>\n",
       "      <td>4</td>\n",
       "      <td>75</td>\n",
       "      <td>83.5</td>\n",
       "      <td>85.0</td>\n",
       "      <td>NaN</td>\n",
       "      <td>4.836206</td>\n",
       "    </tr>\n",
       "    <tr>\n",
       "      <th>4</th>\n",
       "      <td>5</td>\n",
       "      <td>85</td>\n",
       "      <td>83.5</td>\n",
       "      <td>85.0</td>\n",
       "      <td>NaN</td>\n",
       "      <td>4.836206</td>\n",
       "    </tr>\n",
       "    <tr>\n",
       "      <th>5</th>\n",
       "      <td>6</td>\n",
       "      <td>82</td>\n",
       "      <td>83.5</td>\n",
       "      <td>85.0</td>\n",
       "      <td>NaN</td>\n",
       "      <td>4.836206</td>\n",
       "    </tr>\n",
       "    <tr>\n",
       "      <th>6</th>\n",
       "      <td>7</td>\n",
       "      <td>78</td>\n",
       "      <td>83.5</td>\n",
       "      <td>85.0</td>\n",
       "      <td>NaN</td>\n",
       "      <td>4.836206</td>\n",
       "    </tr>\n",
       "    <tr>\n",
       "      <th>7</th>\n",
       "      <td>8</td>\n",
       "      <td>85</td>\n",
       "      <td>83.5</td>\n",
       "      <td>85.0</td>\n",
       "      <td>NaN</td>\n",
       "      <td>4.836206</td>\n",
       "    </tr>\n",
       "    <tr>\n",
       "      <th>8</th>\n",
       "      <td>9</td>\n",
       "      <td>90</td>\n",
       "      <td>83.5</td>\n",
       "      <td>85.0</td>\n",
       "      <td>NaN</td>\n",
       "      <td>4.836206</td>\n",
       "    </tr>\n",
       "    <tr>\n",
       "      <th>9</th>\n",
       "      <td>10</td>\n",
       "      <td>85</td>\n",
       "      <td>83.5</td>\n",
       "      <td>85.0</td>\n",
       "      <td>NaN</td>\n",
       "      <td>4.836206</td>\n",
       "    </tr>\n",
       "  </tbody>\n",
       "</table>\n",
       "</div>"
      ],
      "text/plain": [
       "   Student Id  Test Score  Test_score_mean  Test_score_median  \\\n",
       "0           1          85             83.5               85.0   \n",
       "1           2          90             83.5               85.0   \n",
       "2           3          80             83.5               85.0   \n",
       "3           4          75             83.5               85.0   \n",
       "4           5          85             83.5               85.0   \n",
       "5           6          82             83.5               85.0   \n",
       "6           7          78             83.5               85.0   \n",
       "7           8          85             83.5               85.0   \n",
       "8           9          90             83.5               85.0   \n",
       "9          10          85             83.5               85.0   \n",
       "\n",
       "   Test_score_mode  Test_score_std  \n",
       "0             85.0        4.836206  \n",
       "1              NaN        4.836206  \n",
       "2              NaN        4.836206  \n",
       "3              NaN        4.836206  \n",
       "4              NaN        4.836206  \n",
       "5              NaN        4.836206  \n",
       "6              NaN        4.836206  \n",
       "7              NaN        4.836206  \n",
       "8              NaN        4.836206  \n",
       "9              NaN        4.836206  "
      ]
     },
     "execution_count": 45,
     "metadata": {},
     "output_type": "execute_result"
    }
   ],
   "source": [
    "df"
   ]
  },
  {
   "cell_type": "code",
   "execution_count": 46,
   "id": "30eeda64-742f-418b-b6bb-f127bff70127",
   "metadata": {},
   "outputs": [],
   "source": [
    "df1=pd.DataFrame({\"mean\":[df[\"Test Score\"].mean()],\n",
    "\"median\":[df[\"Test Score\"].median()],\n",
    "\"mode\":[df[\"Test Score\"].mode()],\n",
    "\"std\":[df[\"Test Score\"].std()]\n",
    "})"
   ]
  },
  {
   "cell_type": "code",
   "execution_count": 47,
   "id": "4b278065-21e0-4b3b-aade-8efcb9c34510",
   "metadata": {},
   "outputs": [
    {
     "data": {
      "text/html": [
       "<div>\n",
       "<style scoped>\n",
       "    .dataframe tbody tr th:only-of-type {\n",
       "        vertical-align: middle;\n",
       "    }\n",
       "\n",
       "    .dataframe tbody tr th {\n",
       "        vertical-align: top;\n",
       "    }\n",
       "\n",
       "    .dataframe thead th {\n",
       "        text-align: right;\n",
       "    }\n",
       "</style>\n",
       "<table border=\"1\" class=\"dataframe\">\n",
       "  <thead>\n",
       "    <tr style=\"text-align: right;\">\n",
       "      <th></th>\n",
       "      <th>mean</th>\n",
       "      <th>median</th>\n",
       "      <th>mode</th>\n",
       "      <th>std</th>\n",
       "    </tr>\n",
       "  </thead>\n",
       "  <tbody>\n",
       "    <tr>\n",
       "      <th>0</th>\n",
       "      <td>83.5</td>\n",
       "      <td>85.0</td>\n",
       "      <td>0    85\n",
       "Name: Test Score, dtype: int64</td>\n",
       "      <td>4.836206</td>\n",
       "    </tr>\n",
       "  </tbody>\n",
       "</table>\n",
       "</div>"
      ],
      "text/plain": [
       "   mean  median                                    mode       std\n",
       "0  83.5    85.0  0    85\n",
       "Name: Test Score, dtype: int64  4.836206"
      ]
     },
     "execution_count": 47,
     "metadata": {},
     "output_type": "execute_result"
    }
   ],
   "source": [
    "df1"
   ]
  },
  {
   "cell_type": "code",
   "execution_count": 48,
   "id": "369e0a49-8029-4874-801b-654158a3d737",
   "metadata": {},
   "outputs": [],
   "source": [
    "def result_detail(file_path):\n",
    "    df11=pd.read_csv(file_path)\n",
    "    df12=pd.DataFrame({\"mean\":[df11[\"Test Score\"].mean()],\n",
    "                       \"median\":[df11[\"Test Score\"].median()],\n",
    "                       \"mode\":[df11[\"Test Score\"].mode()],\n",
    "                       \"std\":[df11[\"Test Score\"].std()]})\n",
    "    print(df12)\n",
    "    "
   ]
  },
  {
   "cell_type": "code",
   "execution_count": 49,
   "id": "80d58194-ac2f-42e4-96bb-fea7524cdc7a",
   "metadata": {},
   "outputs": [
    {
     "name": "stdin",
     "output_type": "stream",
     "text": [
      "enter file path testscore.csv\n"
     ]
    }
   ],
   "source": [
    "user=input(\"enter file path\")"
   ]
  },
  {
   "cell_type": "code",
   "execution_count": 50,
   "id": "63a44f60-96a6-4d2f-aa85-d0d390824609",
   "metadata": {},
   "outputs": [
    {
     "name": "stdout",
     "output_type": "stream",
     "text": [
      "   mean  median                                    mode       std\n",
      "0  83.5    85.0  0    85\n",
      "Name: Test Score, dtype: int64  4.836206\n"
     ]
    }
   ],
   "source": [
    "result_detail(user)"
   ]
  },
  {
   "cell_type": "code",
   "execution_count": null,
   "id": "6966ed89-96c4-406c-9d43-5ba924af7429",
   "metadata": {},
   "outputs": [],
   "source": []
  }
 ],
 "metadata": {
  "kernelspec": {
   "display_name": "Python 3 (ipykernel)",
   "language": "python",
   "name": "python3"
  },
  "language_info": {
   "codemirror_mode": {
    "name": "ipython",
    "version": 3
   },
   "file_extension": ".py",
   "mimetype": "text/x-python",
   "name": "python",
   "nbconvert_exporter": "python",
   "pygments_lexer": "ipython3",
   "version": "3.10.8"
  }
 },
 "nbformat": 4,
 "nbformat_minor": 5
}
