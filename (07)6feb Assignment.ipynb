{
 "cells": [
  {
   "cell_type": "markdown",
   "id": "975b649c-1fd8-404b-b805-c0cb7ab3c845",
   "metadata": {},
   "source": [
    "## Task - 1"
   ]
  },
  {
   "cell_type": "code",
   "execution_count": null,
   "id": "1e2828a5-6272-49c6-92bd-bf7c07ae6cab",
   "metadata": {},
   "outputs": [],
   "source": []
  },
  {
   "cell_type": "markdown",
   "id": "f206b328-2fa8-4cb4-820d-c264c4e9c3be",
   "metadata": {},
   "source": [
    "# 1. create a function which will take a list as an argument and return the product of all the numbers after creating a flat list.\n",
    " #  use the below-given list as an argument for your function.\n",
    " # l = [1,2,3,4,[44,55,66,True],False,(34,56,78,89,34),{1,2,3,3,2,1},{1:34,\"key2\":[55,67,78,89],4:(45,22,61,34)},[56,\"data science\"],\"machine learning\"]\n",
    "     ###  Note: you must extract numeric keys and values of the dictionary also"
   ]
  },
  {
   "cell_type": "code",
   "execution_count": 1,
   "id": "31e0d121-8ae6-4572-ab82-566b1da66792",
   "metadata": {},
   "outputs": [],
   "source": [
    "l = [1,2,3,4,[44,55,66,True], False,(34,56,78,89,34),{1,2,3,3,2,1},{1:34,\"key2\": [55,67,78,89],4:(45,22,61,34)},[56,\"data science\"],\"machine learning\"]"
   ]
  },
  {
   "cell_type": "code",
   "execution_count": 56,
   "id": "4f9e5096-1e23-456c-9621-5d7a4e6f9379",
   "metadata": {},
   "outputs": [
    {
     "data": {
      "text/plain": [
       "[1, 2, 3, 4, 44, 55, 66, 34, 56, 78, 89, 34, 1, 2, 3, 56]"
      ]
     },
     "execution_count": 56,
     "metadata": {},
     "output_type": "execute_result"
    }
   ],
   "source": [
    "l1=[]\n",
    "for i in l:\n",
    "    if type(i)==int:\n",
    "        l1.append(i)\n",
    "    if type(i)==list:\n",
    "        for j in list(i):\n",
    "            if type(j)==int:\n",
    "                l1.append(j)\n",
    "    if type(i)==tuple:\n",
    "        for j in tuple(i):\n",
    "            if type(j)==int:\n",
    "                l1.append(j)\n",
    "    if type(i)==set:\n",
    "        for j in set(i):\n",
    "            if type(j)==int:\n",
    "                l1.append(j)\n",
    "l1       "
   ]
  },
  {
   "cell_type": "code",
   "execution_count": 57,
   "id": "30fbaafd-77be-475c-9d2b-03527700295d",
   "metadata": {},
   "outputs": [
    {
     "data": {
      "text/plain": [
       "[{1: 34, 'key2': [55, 67, 78, 89], 4: (45, 22, 61, 34)}]"
      ]
     },
     "execution_count": 57,
     "metadata": {},
     "output_type": "execute_result"
    }
   ],
   "source": [
    "l2=[]\n",
    "for i in l:\n",
    "    if type(i)==dict:\n",
    "        l2.append(i)\n",
    "l2    "
   ]
  },
  {
   "cell_type": "code",
   "execution_count": 58,
   "id": "e3f20547-bfbf-4245-b692-e025c8770a51",
   "metadata": {},
   "outputs": [
    {
     "name": "stdout",
     "output_type": "stream",
     "text": [
      "[1, 34, [55, 67, 78, 89], 4, (45, 22, 61, 34)]\n"
     ]
    }
   ],
   "source": [
    "l3=[]\n",
    "for dictionary in l2:\n",
    "    for key, value in dictionary.items():\n",
    "        if isinstance(key, int):\n",
    "            l3.append(key)\n",
    "        if isinstance(value, int):\n",
    "            l3.append(value)\n",
    "        if isinstance(value, list):\n",
    "            l3.append(value)\n",
    "        if isinstance(value, tuple):\n",
    "            l3.append(value)\n",
    "print(l3)"
   ]
  },
  {
   "cell_type": "code",
   "execution_count": 59,
   "id": "cdeca64b-41a4-49f9-bfe2-7894c9e01cd5",
   "metadata": {},
   "outputs": [],
   "source": [
    "l4=[]\n",
    "for i in l3:\n",
    "    if type(i)==int:\n",
    "        l4.append(i)\n",
    "    if type(i)==list:\n",
    "        for j in list(i):\n",
    "            if type(j)==int:\n",
    "                l4.append(j)\n",
    "    if type(i)==tuple:\n",
    "        for j in tuple(i):\n",
    "            if type(j)==int:\n",
    "                l4.append(j)\n",
    "            "
   ]
  },
  {
   "cell_type": "code",
   "execution_count": 60,
   "id": "8d35f550-fb26-448e-9427-df1260900155",
   "metadata": {},
   "outputs": [
    {
     "data": {
      "text/plain": [
       "[1, 34, 55, 67, 78, 89, 4, 45, 22, 61, 34]"
      ]
     },
     "execution_count": 60,
     "metadata": {},
     "output_type": "execute_result"
    }
   ],
   "source": [
    "l4"
   ]
  },
  {
   "cell_type": "code",
   "execution_count": 61,
   "id": "92aaf14f-1504-48e8-bc01-47f602bcc588",
   "metadata": {},
   "outputs": [],
   "source": [
    "l_final=l1+l4"
   ]
  },
  {
   "cell_type": "code",
   "execution_count": 62,
   "id": "9d959cb8-127d-4ce6-9d6f-04acf950cb45",
   "metadata": {},
   "outputs": [
    {
     "data": {
      "text/plain": [
       "[1,\n",
       " 2,\n",
       " 3,\n",
       " 4,\n",
       " 44,\n",
       " 55,\n",
       " 66,\n",
       " 34,\n",
       " 56,\n",
       " 78,\n",
       " 89,\n",
       " 34,\n",
       " 1,\n",
       " 2,\n",
       " 3,\n",
       " 56,\n",
       " 1,\n",
       " 34,\n",
       " 55,\n",
       " 67,\n",
       " 78,\n",
       " 89,\n",
       " 4,\n",
       " 45,\n",
       " 22,\n",
       " 61,\n",
       " 34]"
      ]
     },
     "execution_count": 62,
     "metadata": {},
     "output_type": "execute_result"
    }
   ],
   "source": [
    "l_final"
   ]
  },
  {
   "cell_type": "code",
   "execution_count": 3,
   "id": "0f29c81d-245b-42c0-a98d-e24b5b80b5d6",
   "metadata": {},
   "outputs": [],
   "source": [
    "def flat_list(l):\n",
    "    l1=[]\n",
    "    for i in l:\n",
    "        if type(i)==int:\n",
    "            l1.append(i)\n",
    "        if type(i)==list:\n",
    "            for j in list(i):\n",
    "                if type(j)==int:\n",
    "                    l1.append(j)\n",
    "        if type(i)==tuple:\n",
    "            for j in tuple(i):\n",
    "                if type(j)==int:\n",
    "                    l1.append(j)\n",
    "        if type(i)==set:\n",
    "            for j in set(i):\n",
    "                if type(j)==int:\n",
    "                    l1.append(j)\n",
    "   # print(l1)\n",
    "    l2=[]\n",
    "    for i in l:\n",
    "        if type(i)==dict:\n",
    "            l2.append(i)\n",
    "    #print(l2)  \n",
    "    l3=[]\n",
    "    for dictionary in l2:\n",
    "        for key, value in dictionary.items():\n",
    "            if isinstance(key, int):\n",
    "                l3.append(key)\n",
    "            if isinstance(value, int):\n",
    "                l3.append(value)\n",
    "            if isinstance(value, list):\n",
    "                l3.append(value)\n",
    "            if isinstance(value, tuple):\n",
    "                l3.append(value)\n",
    "    #print(l3)\n",
    "    l4=[]\n",
    "    for i in l3:\n",
    "        if type(i)==int:\n",
    "            l4.append(i)\n",
    "        if type(i)==list:\n",
    "            for j in list(i):\n",
    "                if type(j)==int:\n",
    "                    l4.append(j)\n",
    "        if type(i)==tuple:\n",
    "            for j in tuple(i):\n",
    "                if type(j)==int:\n",
    "                    l4.append(j)\n",
    "   # print(l4)\n",
    "    #return l1+l4\n",
    "    from functools import reduce\n",
    "    print(reduce(lambda x,y: x*y,(l1+l4)))\n",
    "\n",
    "    "
   ]
  },
  {
   "cell_type": "code",
   "execution_count": 70,
   "id": "72c80007-829b-410a-9d50-45fe669c029d",
   "metadata": {},
   "outputs": [
    {
     "name": "stdout",
     "output_type": "stream",
     "text": [
      "4134711838987085478833841242112000\n"
     ]
    }
   ],
   "source": [
    "flat_list(l)"
   ]
  },
  {
   "cell_type": "code",
   "execution_count": 4,
   "id": "12483ca4-6e30-415d-b981-cff7ea055dba",
   "metadata": {},
   "outputs": [
    {
     "name": "stdout",
     "output_type": "stream",
     "text": [
      "4134711838987085478833841242112000\n"
     ]
    }
   ],
   "source": [
    "flat_list(l)"
   ]
  },
  {
   "cell_type": "code",
   "execution_count": null,
   "id": "4eb6fc86-8d14-47af-94ad-1de0cbda79a6",
   "metadata": {},
   "outputs": [],
   "source": []
  },
  {
   "cell_type": "markdown",
   "id": "4920c822-8b40-40d0-a9f5-d485f380d517",
   "metadata": {},
   "source": [
    "# 2. write a python program for encrypting a message sent to you by your friend. The logic of encryption should be such that , \n",
    "#     for a the output should be Z. For b, the output should be y. For c the output should be x respectivly. Also the whitespace should be\n",
    "#      replaced with a dollar sign. Keep the punctuation marks unchanged.\n",
    "\n",
    "# Input sentence: I want to become a data scientist\n",
    "\n",
    "#  encrypt the above input sentence using the program you just created.\n",
    "\n",
    "# note: convert the given input sentence into lowercase before encrypting. The final output should be lowercase."
   ]
  },
  {
   "cell_type": "code",
   "execution_count": 4,
   "id": "4b2e7449-36ec-4d1c-93c3-3e438080c1f8",
   "metadata": {},
   "outputs": [],
   "source": [
    "def encrypt_message(message):\n",
    "    encrypted_message = \"\"\n",
    "    for char in message:\n",
    "        if char.isalpha():\n",
    "            if char.islower():\n",
    "                encrypted_char = chr(219 - ord(char))\n",
    "            else:\n",
    "                encrypted_char = chr(155 - ord(char))\n",
    "        elif char == \" \":\n",
    "            encrypted_char = \"$\"\n",
    "        else:\n",
    "            encrypted_char = char\n",
    "        encrypted_message += encrypted_char\n",
    "    return encrypted_message.lower()\n"
   ]
  },
  {
   "cell_type": "code",
   "execution_count": 9,
   "id": "a7375162-c69b-4ab2-9aee-098fa7c9fe64",
   "metadata": {},
   "outputs": [
    {
     "data": {
      "text/plain": [
       "'zyx'"
      ]
     },
     "execution_count": 9,
     "metadata": {},
     "output_type": "execute_result"
    }
   ],
   "source": [
    "encrypt_message(\"abc\")"
   ]
  },
  {
   "cell_type": "code",
   "execution_count": 10,
   "id": "449710c5-858e-4e3e-b34b-d61c5e7cdbc0",
   "metadata": {},
   "outputs": [
    {
     "data": {
      "text/plain": [
       "'cba'"
      ]
     },
     "execution_count": 10,
     "metadata": {},
     "output_type": "execute_result"
    }
   ],
   "source": [
    "encrypt_message(\"xyz\")"
   ]
  },
  {
   "cell_type": "code",
   "execution_count": 11,
   "id": "eb21fffd-da30-44ea-95e3-bf96eb05b200",
   "metadata": {},
   "outputs": [
    {
     "data": {
      "text/plain": [
       "'r$dzmg$gl$yvxlnv$z$wzgz$hxrvmgrhg'"
      ]
     },
     "execution_count": 11,
     "metadata": {},
     "output_type": "execute_result"
    }
   ],
   "source": [
    "encrypt_message(\"I want to become a data scientist\")"
   ]
  },
  {
   "cell_type": "code",
   "execution_count": null,
   "id": "607a8b71-4313-43da-bbf6-01e88f76b196",
   "metadata": {},
   "outputs": [],
   "source": []
  },
  {
   "cell_type": "code",
   "execution_count": null,
   "id": "5f106a10-83fa-416f-b954-67d00721b9c6",
   "metadata": {},
   "outputs": [],
   "source": []
  }
 ],
 "metadata": {
  "kernelspec": {
   "display_name": "Python 3 (ipykernel)",
   "language": "python",
   "name": "python3"
  },
  "language_info": {
   "codemirror_mode": {
    "name": "ipython",
    "version": 3
   },
   "file_extension": ".py",
   "mimetype": "text/x-python",
   "name": "python",
   "nbconvert_exporter": "python",
   "pygments_lexer": "ipython3",
   "version": "3.10.8"
  }
 },
 "nbformat": 4,
 "nbformat_minor": 5
}
