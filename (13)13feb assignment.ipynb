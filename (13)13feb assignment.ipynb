{
 "cells": [
  {
   "cell_type": "markdown",
   "id": "024d9f83-1f98-4301-b6a8-14521a4b88ae",
   "metadata": {},
   "source": [
    "## Exception handling - 2"
   ]
  },
  {
   "cell_type": "code",
   "execution_count": null,
   "id": "cd85eece-cc6e-49a5-b56c-ec3a2ea84807",
   "metadata": {},
   "outputs": [],
   "source": []
  },
  {
   "cell_type": "markdown",
   "id": "c8757e67-db91-422e-920c-e0dd3e8196fb",
   "metadata": {
    "tags": []
   },
   "source": [
    "# Q.1 Explain why we have to use the Exception class while creating a custom Exception.\n",
    "# Note: Here Exception class refers to the base class for all the exceptions."
   ]
  },
  {
   "cell_type": "raw",
   "id": "43dd84d5-3ebf-4fd5-8eea-da7dea0c9dab",
   "metadata": {},
   "source": [
    "Using the Exception class as the base for creating custom exceptions in Python provides several benefits:\n",
    "\n",
    "    1). Hierarchy and Organization:\n",
    "\n",
    "                               By inheriting from Exception, your custom exception becomes a part of the existing exception hierarchy. \n",
    "                               This helps in organizing and categorizing different types of exceptions in a structured manner.\n",
    "\n",
    "            \n",
    "    2). Clear Identification:\n",
    "\n",
    "                          Using custom exceptions derived from Exception makes it clear to other developers (and to yourself in the future) that this is an \n",
    "                          exceptional condition specific to your application.\n",
    "\n",
    "    3). Specialized Handling:\n",
    "\n",
    "                        It allows you to catch specific types of exceptions at different levels in your code. This enables you to handle different exceptional cases in different ways,\n",
    "                        improving the robustness of your code.\n",
    "\n",
    "    4). Custom Error Messages:\n",
    "\n",
    "                          You can override the __str__ method in your custom exception to provide a specific error message that explains the exceptional condition in detail. \n",
    "                          This helps in debugging.\n",
    "\n",
    "    5).Polymorphism:\n",
    "\n",
    "                 Since custom exceptions inherit from Exception, they can be caught using the same except block that handles general exceptions. \n",
    "                  This promotes code reuse and adheres to the principle of polymorphism.\n",
    "\n",
    "    6). Documentation and Readability:\n",
    "\n",
    "                                    Custom exceptions serve as a form of self-documentation. They communicate to other developers (and to future-you) the specific types\n",
    "                                    of exceptional conditions that can occur in your code.\n",
    "\n",
    "    7). Traceback Information:\n",
    "\n",
    "                          When an exception is raised, the traceback includes the type of the exception. This makes it easier to identify the cause of an error during debugging.\n",
    "\n",
    "    8). Customized Behavior:\n",
    "\n",
    "                           You can add additional attributes and methods to your custom exception class, allowing you to include extra information or behavior specific\n",
    "                           to your application's needs.\n",
    "\n",
    "    9). Integration with Third-Party Libraries:\n",
    "\n",
    "                                              Many third-party libraries and frameworks in Python rely on the use of custom exceptions. \n",
    "                                               Inheriting from the built-in Exception class ensures compatibility with these libraries.\n",
    "\n",
    "    10). Granular Error Handling:\n",
    "\n",
    "                               By creating custom exceptions, you can provide more detailed information about the nature of the error.\n",
    "                               This allows for finer-grained error handling, enabling you to take specific actions based on the type of exception raised.\n",
    "\n",
    "    11). Error Context:\n",
    "\n",
    "                     Custom exceptions can include additional attributes to provide context about the error. For example, you can include data or metadata related \n",
    "                     to the exceptional condition, which can be useful for debugging or logging purposes.\n",
    "\n",
    "    12). Unit Testing:\n",
    "\n",
    "                    Custom exceptions facilitate unit testing. You can write test cases specifically to handle and assert the behavior of your custom exceptions, \n",
    "                    ensuring that your code responds correctly to exceptional conditions.\n",
    "\n",
    "    13). Intuitive API Design:\n",
    "\n",
    "                             Well-defined custom exceptions contribute to an intuitive and well-documented API. When others use your code or library, they can quickly understand \n",
    "                             the types of errors that might occur and how to handle them.\n",
    "\n",
    "    14). Code Maintenance:\n",
    "\n",
    "                         Custom exceptions make code maintenance easier. If the exceptional condition evolves or changes over time, you can update \n",
    "                          the custom exception class without affecting the rest of the codebase.\n",
    "\n",
    "    15). Avoiding Ambiguity:\n",
    "\n",
    "                            Using specific custom exceptions helps avoid the ambiguity that can arise from catching and handling broad, generic exceptions. \n",
    "                           It provides clarity about what kind of exceptional condition is being handled.\n",
    "\n",
    "    16). Error Propagation:\n",
    "\n",
    "                         Custom exceptions allow for controlled error propagation. You can choose to catch and handle an exception at a higher level,\n",
    "                         or allow it to propagate up the call stack until it reaches an appropriate handler.\n",
    "\n",
    "    17). Custom Error Codes:\n",
    "\n",
    "                          You can include custom error codes in your custom exceptions to provide a numeric identifier for specific error conditions. \n",
    "                          This can be useful for logging and tracking errors.\n",
    "\n",
    "    18). Standard Naming Conventions:\n",
    "\n",
    "                                    Following naming conventions (ending custom exception classes with \"Error\" or similar) makes it easy for others (and yourself) \n",
    "                                   to identify custom exceptions in the codebase.\n",
    "\n",
    "    19). Enforcing Exception Types:\n",
    "\n",
    "                                  When defining interfaces or contracts, using custom exceptions allows you to specify the types of exceptions that can be raised. \n",
    "                                 This helps enforce proper error handling in client code.\n",
    "\n",
    "    20). Community and Documentation:\n",
    "\n",
    "                                    Utilizing custom exceptions in line with Python's conventions ensures that your code is consistent with established best practices,\n",
    "                                    making it more accessible and understandable for other Python developers.\n",
    "\n",
    "                \n",
    "                \n",
    "                \n",
    "    In summary, using the Exception class as the base for custom exceptions provides a powerful tool for handling exceptional conditions in a structured, organized, \n",
    "     and maintainable manner. It contributes to code reliability, readability, and maintainability."
   ]
  },
  {
   "cell_type": "code",
   "execution_count": null,
   "id": "63349087-d6d1-4bfb-ac20-56696f20ac53",
   "metadata": {},
   "outputs": [],
   "source": []
  },
  {
   "cell_type": "code",
   "execution_count": null,
   "id": "6977a25d-9555-421a-b9a7-8850ba4f14f2",
   "metadata": {},
   "outputs": [],
   "source": []
  },
  {
   "cell_type": "markdown",
   "id": "14ac732f-8afb-43c3-aef3-cb2b06ecb8de",
   "metadata": {},
   "source": [
    "# Q.2 write a python program to print python Exception Hierarchy."
   ]
  },
  {
   "cell_type": "code",
   "execution_count": 8,
   "id": "17cbdafb-7fc4-4b9e-8b78-722b9c5da7d4",
   "metadata": {},
   "outputs": [],
   "source": [
    "import inspect\n",
    "import sys\n",
    "def tree_class(cls, ind=0):\n",
    "    print(\"-\" * ind, cls.__name__)\n",
    "    for k in cls.__subclasses__():\n",
    "        if k in sys.modules[' __builtin__ '].__dict__:\n",
    "            tree_class(k, ind + 3)\n",
    "\n",
    "    "
   ]
  },
  {
   "cell_type": "code",
   "execution_count": 9,
   "id": "f7853ab2-7deb-4ccd-8139-8af6126b74af",
   "metadata": {},
   "outputs": [
    {
     "name": "stdout",
     "output_type": "stream",
     "text": [
      "the hierarchy for builtin exceptions is:\n",
      " object\n"
     ]
    },
    {
     "ename": "KeyError",
     "evalue": "' __builtin__ '",
     "output_type": "error",
     "traceback": [
      "\u001b[0;31m---------------------------------------------------------------------------\u001b[0m",
      "\u001b[0;31mKeyError\u001b[0m                                  Traceback (most recent call last)",
      "Cell \u001b[0;32mIn[9], line 2\u001b[0m\n\u001b[1;32m      1\u001b[0m \u001b[38;5;28mprint\u001b[39m(\u001b[38;5;124m\"\u001b[39m\u001b[38;5;124mthe hierarchy for builtin exceptions is:\u001b[39m\u001b[38;5;124m\"\u001b[39m)\n\u001b[0;32m----> 2\u001b[0m \u001b[43mtree_class\u001b[49m\u001b[43m(\u001b[49m\u001b[43minspect\u001b[49m\u001b[38;5;241;43m.\u001b[39;49m\u001b[43mgetmro\u001b[49m\u001b[43m(\u001b[49m\u001b[38;5;167;43;01mBaseException\u001b[39;49;00m\u001b[43m)\u001b[49m\u001b[43m[\u001b[49m\u001b[38;5;241;43m1\u001b[39;49m\u001b[43m]\u001b[49m\u001b[43m)\u001b[49m\n",
      "Cell \u001b[0;32mIn[8], line 6\u001b[0m, in \u001b[0;36mtree_class\u001b[0;34m(cls, ind)\u001b[0m\n\u001b[1;32m      4\u001b[0m \u001b[38;5;28mprint\u001b[39m(\u001b[38;5;124m\"\u001b[39m\u001b[38;5;124m-\u001b[39m\u001b[38;5;124m\"\u001b[39m \u001b[38;5;241m*\u001b[39m ind, \u001b[38;5;28mcls\u001b[39m\u001b[38;5;241m.\u001b[39m\u001b[38;5;18m__name__\u001b[39m)\n\u001b[1;32m      5\u001b[0m \u001b[38;5;28;01mfor\u001b[39;00m k \u001b[38;5;129;01min\u001b[39;00m \u001b[38;5;28mcls\u001b[39m\u001b[38;5;241m.\u001b[39m__subclasses__():\n\u001b[0;32m----> 6\u001b[0m     \u001b[38;5;28;01mif\u001b[39;00m k \u001b[38;5;129;01min\u001b[39;00m \u001b[43msys\u001b[49m\u001b[38;5;241;43m.\u001b[39;49m\u001b[43mmodules\u001b[49m\u001b[43m[\u001b[49m\u001b[38;5;124;43m'\u001b[39;49m\u001b[38;5;124;43m __builtin__ \u001b[39;49m\u001b[38;5;124;43m'\u001b[39;49m\u001b[43m]\u001b[49m\u001b[38;5;241m.\u001b[39m\u001b[38;5;18m__dict__\u001b[39m:\n\u001b[1;32m      7\u001b[0m         tree_class(k, ind \u001b[38;5;241m+\u001b[39m \u001b[38;5;241m3\u001b[39m)\n",
      "\u001b[0;31mKeyError\u001b[0m: ' __builtin__ '"
     ]
    }
   ],
   "source": [
    "\n",
    "print(\"the hierarchy for builtin exceptions is:\")\n",
    "tree_class(inspect.getmro(BaseException)[1])\n",
    "    "
   ]
  },
  {
   "cell_type": "code",
   "execution_count": null,
   "id": "1641d3dc-1ad3-46e0-8f66-bca0e369963b",
   "metadata": {},
   "outputs": [],
   "source": []
  },
  {
   "cell_type": "markdown",
   "id": "ab6677e0-d301-4325-9c17-0bb8b30ed450",
   "metadata": {},
   "source": [
    "# Q.3 What errors are defined in the Arithmetic Errors class? Explain any two with an example."
   ]
  },
  {
   "cell_type": "markdown",
   "id": "d281c2ee-4299-48ba-abf2-d2a468b3f902",
   "metadata": {},
   "source": [
    "## What errors are defined in the Arithmetic Errors class? "
   ]
  },
  {
   "cell_type": "raw",
   "id": "d5493d9d-7e4c-4755-b2a8-f37386eb8e1f",
   "metadata": {},
   "source": [
    "The ArithmeticError class in Python is the base class for arithmetic-related exceptions. It serves as a parent class for specific arithmetic-related exceptions. \n",
    "  Here are some of the common errors defined in the ArithmeticError class:\n",
    "\n",
    "   1. OverflowError:\n",
    "\n",
    "                     Raised when the result of an arithmetic operation is too large to be represented.\n",
    "\n",
    "    2. ZeroDivisionError:\n",
    "\n",
    "                         Raised when trying to divide a number by zero. This is a common error that occurs when attempting to perform an operation that is mathematically undefined.\n",
    "\n",
    "            \n",
    "     3. FloatingPointError:\n",
    "\n",
    "                         This is a subcategory of ArithmeticError. It is not directly derived from ArithmeticError, but it's considered part of the arithmetic errors. \n",
    "                         It typically occurs when there's an issue with floating-point arithmetic.\n",
    "\n",
    "    4. FloatingPointError: underflow:\n",
    "\n",
    "                                  Raised when a floating-point operation results in an underflow, meaning the result is too small to be represented.\n",
    "\n",
    "    5. FloatingPointError: overflow:\n",
    "\n",
    "                                 Raised when a floating-point operation results in an overflow, meaning the result is too large to be represented.\n",
    "\n",
    "     6. FloatingPointError: invalid:\n",
    "\n",
    "                                  Raised when a floating-point operation results in an invalid operation, such as a domain error or an operation with a NaN (Not a Number) value.\n",
    "\n",
    "            \n",
    "            While ArithmeticError is the parent class for these exceptions, it's worth noting that ZeroDivisionError is perhaps the most commonly encountered arithmetic error in Python. \n",
    "            It occurs when attempting to divide a number by zero, which is mathematically undefined.\n",
    "\n",
    "Handling these exceptions appropriately in your code allows you to gracefully manage arithmetic errors and provide meaningful feedback to users or take alternative actions \n",
    "when such errors occur.\n",
    "\n",
    "\n",
    "\n",
    "\n"
   ]
  },
  {
   "cell_type": "markdown",
   "id": "8414c931-84cc-43ab-985b-783c33c9ac7d",
   "metadata": {},
   "source": [
    "## Explain any two with an example."
   ]
  },
  {
   "cell_type": "raw",
   "id": "6721eca2-40fe-4ca6-ae5b-0bb4c4ba4fe3",
   "metadata": {},
   "source": [
    "ZeroDivisionError:\n",
    "\n",
    "ZeroDivisionError is raised when you attempt to divide a number by zero. This operation is mathematically undefined because you cannot divide any number by zero"
   ]
  },
  {
   "cell_type": "code",
   "execution_count": 1,
   "id": "82628552-5ccc-40d8-bab7-26548054eb89",
   "metadata": {},
   "outputs": [
    {
     "name": "stdout",
     "output_type": "stream",
     "text": [
      "Error: division by zero\n"
     ]
    }
   ],
   "source": [
    "# Example of ZeroDivisionError\n",
    "numerator = 10\n",
    "denominator = 0\n",
    "\n",
    "try:\n",
    "    result = numerator / denominator\n",
    "    print(\"Result:\", result)\n",
    "except ZeroDivisionError as e:\n",
    "    print(\"Error:\", e)\n"
   ]
  },
  {
   "cell_type": "code",
   "execution_count": null,
   "id": "9a1e1d81-352e-402f-a79e-02b28c138f54",
   "metadata": {},
   "outputs": [],
   "source": []
  },
  {
   "cell_type": "raw",
   "id": "fcb3717d-961f-4974-9156-54c0f1d60378",
   "metadata": {},
   "source": [
    "In this example, attempting to divide numerator by denominator results in a ZeroDivisionError because denominator is zero. To handle this error, you can use \n",
    "a try-except block to catch the exception and handle it gracefully, preventing your program from crashing."
   ]
  },
  {
   "cell_type": "code",
   "execution_count": null,
   "id": "27f4c4a7-e09f-4a61-a453-425cc193ce4a",
   "metadata": {},
   "outputs": [],
   "source": []
  },
  {
   "cell_type": "raw",
   "id": "d7e33b5b-c327-42ef-9245-ab529d5693b4",
   "metadata": {},
   "source": [
    "OverflowError:\n",
    "\n",
    "OverflowError occurs when the result of an arithmetic operation is too large to be represented by the data type used. It typically arises with integers in Python."
   ]
  },
  {
   "cell_type": "code",
   "execution_count": 2,
   "id": "a77f694b-dbc0-43ab-96ba-8f9ce6deaf12",
   "metadata": {},
   "outputs": [
    {
     "name": "stdout",
     "output_type": "stream",
     "text": [
      "Result: 9223372036854775808\n"
     ]
    }
   ],
   "source": [
    "# Example of OverflowError\n",
    "import sys\n",
    "\n",
    "max_int = sys.maxsize  # Get the maximum representable integer on the system\n",
    "result = max_int + 1  # Attempt to exceed the maximum integer value\n",
    "\n",
    "try:\n",
    "    print(\"Result:\", result)\n",
    "except OverflowError as e:\n",
    "    print(\"Error:\", e)\n"
   ]
  },
  {
   "cell_type": "code",
   "execution_count": null,
   "id": "429f4f22-c7fa-4b2c-812c-3b24ad57bcc7",
   "metadata": {},
   "outputs": [],
   "source": []
  },
  {
   "cell_type": "raw",
   "id": "607c0c9a-0aad-4d0e-9c54-fa32db7bc123",
   "metadata": {},
   "source": [
    "In this example, we attempt to exceed the maximum representable integer value on the system using max_int + 1, which results in an OverflowError. \n",
    "Python reports that the integer is \"too large to convert to C long.\" Handling this error typically involves either using a larger data type (e.g., float) or \n",
    "applying some logic to prevent the overflow.\n",
    "\n",
    "Handling these arithmetic errors is crucial for writing robust and error-tolerant code. It allows you to provide informative error messages to users or \n",
    "take appropriate actions to prevent unexpected program crashes."
   ]
  },
  {
   "cell_type": "code",
   "execution_count": null,
   "id": "e2fe4941-a6ef-4df4-b617-5c1f3c912335",
   "metadata": {},
   "outputs": [],
   "source": []
  },
  {
   "cell_type": "markdown",
   "id": "30a84584-a961-4335-8f99-10fad1ae614e",
   "metadata": {},
   "source": [
    "# Q.4 Why LookupError class is used? Explain with an example KeyError and IndexError."
   ]
  },
  {
   "cell_type": "markdown",
   "id": "b890fe52-0df9-4b5f-bcd1-b05e5fd1495e",
   "metadata": {},
   "source": [
    "## Why LookupError class is used?"
   ]
  },
  {
   "cell_type": "code",
   "execution_count": null,
   "id": "f7c37136-b527-4beb-8aa4-0a305b09c816",
   "metadata": {},
   "outputs": [],
   "source": [
    "#  In python the \"LookupError\" class is a base class for exception that occur when a lookup or retrieval operations fails. It is a subclass of the built-in \"Exception\" class and \n",
    "#     provides a common interface for handling lookup-related errors. \"LookupError\" itself is not directly raised but serves as a superclass for more specific lookup-related exceptions.\n",
    "\n",
    "# The \"LookupError\" class is used to handle situations where a lookup operation fails to find a specific item or element in a collaction or when accessing a resource by name or \n",
    "#       identifier encounter an error . It provides a convenient way to catch and handle various lookup-related exceptions with a single exception handler.\n",
    "\n",
    "# some commonly used subclasses of \"LookupError\" in Python include:\n",
    "\n",
    "# 1. \"KeyError\": raised when a dictionary or mapping type is accessed with a key that does not exist.\n",
    "\n",
    "# 2. \"IndexError\": raised when attempting to access a list, tuple , or other sequence with an index that is out of range.\n",
    "\n",
    "# 3. \"NameError\": raised when a local or global name is not found.\n",
    "\n",
    "# 4. \"AttributeError\":  raised  when an attribute of an object cannot be accessed or does not exist.\n",
    "\n",
    "#   By catching \"LookupError\" or its specific subclasses you can handle these lookup-related errors in a unified manner, allowing for more robust and predicatable error handling in \n",
    "#      your code. It provides a way to handle common lookup failures without having to catch each specific exception individually."
   ]
  },
  {
   "cell_type": "markdown",
   "id": "2d794fd8-45a5-422e-8e75-754165383a2b",
   "metadata": {},
   "source": [
    "## Explain with an example KeyError and IndexError."
   ]
  },
  {
   "cell_type": "code",
   "execution_count": 1,
   "id": "2857f8ca-d765-4b44-ad1c-7019516b0cbc",
   "metadata": {},
   "outputs": [
    {
     "name": "stdout",
     "output_type": "stream",
     "text": [
      "1\n",
      "2\n"
     ]
    },
    {
     "ename": "KeyError",
     "evalue": "'suderson'",
     "output_type": "error",
     "traceback": [
      "\u001b[0;31m---------------------------------------------------------------------------\u001b[0m",
      "\u001b[0;31mKeyError\u001b[0m                                  Traceback (most recent call last)",
      "Cell \u001b[0;32mIn[1], line 8\u001b[0m\n\u001b[1;32m      6\u001b[0m \u001b[38;5;28mprint\u001b[39m(my_dict[\u001b[38;5;124m\"\u001b[39m\u001b[38;5;124msouma\u001b[39m\u001b[38;5;124m\"\u001b[39m])\n\u001b[1;32m      7\u001b[0m \u001b[38;5;28mprint\u001b[39m(my_dict[\u001b[38;5;124m\"\u001b[39m\u001b[38;5;124mraj\u001b[39m\u001b[38;5;124m\"\u001b[39m])\n\u001b[0;32m----> 8\u001b[0m \u001b[38;5;28mprint\u001b[39m(\u001b[43mmy_dict\u001b[49m\u001b[43m[\u001b[49m\u001b[38;5;124;43m\"\u001b[39;49m\u001b[38;5;124;43msuderson\u001b[39;49m\u001b[38;5;124;43m\"\u001b[39;49m\u001b[43m]\u001b[49m)\n",
      "\u001b[0;31mKeyError\u001b[0m: 'suderson'"
     ]
    }
   ],
   "source": [
    "# 1.KeyError: \n",
    "#          a. \"KeyError is raised when you try to access a dictionary key that does not exist.\n",
    "#          b.Dictionaries are data structures in python that store key-value pairs, and keys must be unique within a dictionary.\n",
    "#          c. when you attempt to access a key that is not present in the dictionary a \"KeyError\" is raised.\n",
    "my_dict = {\"souma\": 1,\"raj\": 2,\"reju\": 3}\n",
    "print(my_dict[\"souma\"])\n",
    "print(my_dict[\"raj\"])\n",
    "print(my_dict[\"suderson\"])"
   ]
  },
  {
   "cell_type": "code",
   "execution_count": 2,
   "id": "f4846277-6eed-4b6a-8a51-68d66610e232",
   "metadata": {},
   "outputs": [],
   "source": [
    "# In this example the dictionary \"my_dict\" contains keys \"souma\",\"raj\",\"reju\" .Accessing \"my_dict[\"souma\"]\" retrieves the corresponding value of 1. However, attempting \n",
    "#      to access \"my-dict[\"suderson\"]\" raise a \"KeyError\" since \"suderson\" is not a key in the dictionary.\n"
   ]
  },
  {
   "cell_type": "code",
   "execution_count": 4,
   "id": "a9ce4e8c-a24e-48b9-bacd-7daaace30f52",
   "metadata": {},
   "outputs": [
    {
     "name": "stdout",
     "output_type": "stream",
     "text": [
      "1\n",
      "2\n",
      "3\n",
      "6\n"
     ]
    },
    {
     "ename": "IndexError",
     "evalue": "list index out of range",
     "output_type": "error",
     "traceback": [
      "\u001b[0;31m---------------------------------------------------------------------------\u001b[0m",
      "\u001b[0;31mIndexError\u001b[0m                                Traceback (most recent call last)",
      "Cell \u001b[0;32mIn[4], line 10\u001b[0m\n\u001b[1;32m      8\u001b[0m \u001b[38;5;28mprint\u001b[39m(l[\u001b[38;5;241m2\u001b[39m])\n\u001b[1;32m      9\u001b[0m \u001b[38;5;28mprint\u001b[39m(l[\u001b[38;5;241m5\u001b[39m])\n\u001b[0;32m---> 10\u001b[0m \u001b[38;5;28mprint\u001b[39m(\u001b[43ml\u001b[49m\u001b[43m[\u001b[49m\u001b[38;5;241;43m6\u001b[39;49m\u001b[43m]\u001b[49m)\n",
      "\u001b[0;31mIndexError\u001b[0m: list index out of range"
     ]
    }
   ],
   "source": [
    "# 2. IndexError:\n",
    "#              a. \"IndexError\" is raised when you try to access a sequence(such as a list or a string) using an invalid index.\n",
    "#              b. In python sequences are zero-indexed meaning the first element has an index of 0, the second element has an index of 1, and so on.\n",
    "#              c. If you provide an index that is out of range for the given sequence an \"IndexError\" is raised.\n",
    "l = [1,2,3,4,5,6]\n",
    "print(l[0])\n",
    "print(l[1])\n",
    "print(l[2])\n",
    "print(l[5])\n",
    "print(l[6])\n"
   ]
  },
  {
   "cell_type": "code",
   "execution_count": 5,
   "id": "acd89083-0451-47c7-9d40-eec85c234355",
   "metadata": {},
   "outputs": [],
   "source": [
    "# In the example l contains six elements. Accessing l retrieves the first element which is 1. similarly l[5] retrives the last element which is 6. But when i attempting \n",
    "#         to access l[6] raise an \"IndexError\" since the index is out of range for the list.\n",
    "#  Both \"KeyError\" and \"IndexError\" are common exceptions in python and can be handled using try-except blocks to gracefully handle the errors and prevent program crashes."
   ]
  },
  {
   "cell_type": "markdown",
   "id": "3fa22a93-348a-4dad-aa42-25d286b53b1c",
   "metadata": {},
   "source": [
    "# Q.5 Explain ImportError. What is ModuleNotFoundError?"
   ]
  },
  {
   "cell_type": "markdown",
   "id": "f8bdca1d-6228-4010-8390-2e7a55ee7bc8",
   "metadata": {},
   "source": [
    "## Explain ImportError."
   ]
  },
  {
   "cell_type": "code",
   "execution_count": null,
   "id": "dd376e18-61a5-49fa-8943-227e93959b70",
   "metadata": {},
   "outputs": [],
   "source": [
    "#  In python \"ImportError\" is raised when you encounter an error while importing  MODULE OR A PACKAGE. iT TYPICALLY OCCURS WHEN PYTHON CANNOT FIND THE SPECIFIED MODULE or when \n",
    "#    there is an issue with the module itself."
   ]
  },
  {
   "cell_type": "code",
   "execution_count": 7,
   "id": "cd35c2e7-d3d3-47c5-bb5f-b28c73aff8ef",
   "metadata": {},
   "outputs": [
    {
     "ename": "ModuleNotFoundError",
     "evalue": "No module named 'non_existent_module'",
     "output_type": "error",
     "traceback": [
      "\u001b[0;31m---------------------------------------------------------------------------\u001b[0m",
      "\u001b[0;31mModuleNotFoundError\u001b[0m                       Traceback (most recent call last)",
      "Cell \u001b[0;32mIn[7], line 6\u001b[0m\n\u001b[1;32m      1\u001b[0m \u001b[38;5;66;03m#  here are a few scenarios that can cause an \"ImportError\":\u001b[39;00m\n\u001b[1;32m      2\u001b[0m \u001b[38;5;66;03m#  1. Module Not Found:\u001b[39;00m\n\u001b[1;32m      3\u001b[0m \u001b[38;5;66;03m#       If you attempt to import a module that does not exist or is not installed in your python environment an \"ImportError\" is raised.\u001b[39;00m\n\u001b[1;32m      4\u001b[0m \n\u001b[1;32m      5\u001b[0m \u001b[38;5;66;03m#       This could happen if you misspell the module name or if the module is not installed.\u001b[39;00m\n\u001b[0;32m----> 6\u001b[0m \u001b[38;5;28;01mimport\u001b[39;00m \u001b[38;5;21;01mnon_existent_module\u001b[39;00m\n",
      "\u001b[0;31mModuleNotFoundError\u001b[0m: No module named 'non_existent_module'"
     ]
    }
   ],
   "source": [
    "#  here are a few scenarios that can cause an \"ImportError\":\n",
    "#  1. Module Not Found:\n",
    "#       If you attempt to import a module that does not exist or is not installed in your python environment an \"ImportError\" is raised.\n",
    "\n",
    "#       This could happen if you misspell the module name or if the module is not installed.\n",
    "import non_existent_module"
   ]
  },
  {
   "cell_type": "code",
   "execution_count": null,
   "id": "a4a48980-7f76-46c5-a2ba-107dbae71640",
   "metadata": {},
   "outputs": [],
   "source": [
    "#  In this case the \"non_existent_module\" does not exist so attempting to import it raises an \"ImportError\""
   ]
  },
  {
   "cell_type": "code",
   "execution_count": 9,
   "id": "3210e44e-873c-439c-a82c-30f9e9de3d3c",
   "metadata": {},
   "outputs": [
    {
     "ename": "ModuleNotFoundError",
     "evalue": "No module named 'file2'",
     "output_type": "error",
     "traceback": [
      "\u001b[0;31m---------------------------------------------------------------------------\u001b[0m",
      "\u001b[0;31mModuleNotFoundError\u001b[0m                       Traceback (most recent call last)",
      "Cell \u001b[0;32mIn[9], line 6\u001b[0m\n\u001b[1;32m      1\u001b[0m \u001b[38;5;66;03m# 2. Circular Dependency:\u001b[39;00m\n\u001b[1;32m      2\u001b[0m \u001b[38;5;66;03m# python allows modules to import other modules but circular dependencies can cause an \"ImportError\"\u001b[39;00m\n\u001b[1;32m      3\u001b[0m \u001b[38;5;66;03m# Circular dependency occurs when two or more modules directly or indirectly depend on each other.\u001b[39;00m\n\u001b[1;32m      4\u001b[0m \u001b[38;5;66;03m# python detects this circularity and raises an \"ImportError\" to prevent an infinite loop.\u001b[39;00m\n\u001b[1;32m      5\u001b[0m \u001b[38;5;66;03m# file1.py\u001b[39;00m\n\u001b[0;32m----> 6\u001b[0m \u001b[38;5;28;01mfrom\u001b[39;00m \u001b[38;5;21;01mfile2\u001b[39;00m \u001b[38;5;28;01mimport\u001b[39;00m some_function\n\u001b[1;32m      7\u001b[0m \u001b[38;5;28;01mdef\u001b[39;00m \u001b[38;5;21manother_function\u001b[39m():\n\u001b[1;32m      8\u001b[0m     \u001b[38;5;28;01mpass\u001b[39;00m\n",
      "\u001b[0;31mModuleNotFoundError\u001b[0m: No module named 'file2'"
     ]
    }
   ],
   "source": [
    "# 2. Circular Dependency:\n",
    "# python allows modules to import other modules but circular dependencies can cause an \"ImportError\"\n",
    "# Circular dependency occurs when two or more modules directly or indirectly depend on each other.\n",
    "# python detects this circularity and raises an \"ImportError\" to prevent an infinite loop.\n",
    "# file1.py\n",
    "from file2 import some_function\n",
    "def another_function():\n",
    "    pass\n",
    "# file2.py\n",
    "from file1 import another_function\n",
    "def some_function():\n",
    "    pass\n"
   ]
  },
  {
   "cell_type": "code",
   "execution_count": null,
   "id": "c7e324a7-e940-4fba-9c18-8b729177dc4d",
   "metadata": {},
   "outputs": [],
   "source": [
    "# In this example \"file.py\" imports \"some_function\" from file2.py and file2.py imports \"another_function\" from \"file1.py\". This circular dependency results in an \"ImportError\""
   ]
  },
  {
   "cell_type": "code",
   "execution_count": 10,
   "id": "10cc8010-09b6-44a9-ad82-b51279a1d230",
   "metadata": {},
   "outputs": [
    {
     "ename": "ModuleNotFoundError",
     "evalue": "No module named 'module_with_syntax_error'",
     "output_type": "error",
     "traceback": [
      "\u001b[0;31m---------------------------------------------------------------------------\u001b[0m",
      "\u001b[0;31mModuleNotFoundError\u001b[0m                       Traceback (most recent call last)",
      "Cell \u001b[0;32mIn[10], line 4\u001b[0m\n\u001b[1;32m      1\u001b[0m \u001b[38;5;66;03m#  3. Syntax or Runtime Error in the Imported Module:\u001b[39;00m\n\u001b[1;32m      2\u001b[0m \u001b[38;5;66;03m#     If there is a syntax error or a runtime error within the imported module an \"ImportError\" may occur.\u001b[39;00m\n\u001b[1;32m      3\u001b[0m \u001b[38;5;66;03m#    This could happen if the imported module contains invalid syntax or references variables or functions that do not exist.\u001b[39;00m\n\u001b[0;32m----> 4\u001b[0m \u001b[38;5;28;01mimport\u001b[39;00m \u001b[38;5;21;01mmodule_with_syntax_error\u001b[39;00m\n",
      "\u001b[0;31mModuleNotFoundError\u001b[0m: No module named 'module_with_syntax_error'"
     ]
    }
   ],
   "source": [
    "#  3. Syntax or Runtime Error in the Imported Module:\n",
    "#     If there is a syntax error or a runtime error within the imported module an \"ImportError\" may occur.\n",
    "#    This could happen if the imported module contains invalid syntax or references variables or functions that do not exist.\n",
    "import module_with_syntax_error"
   ]
  },
  {
   "cell_type": "markdown",
   "id": "f38b9610-0502-4399-9c4e-d363e309302d",
   "metadata": {},
   "source": [
    "## What is ModuleNotFoundError?"
   ]
  },
  {
   "cell_type": "raw",
   "id": "d9e4f948-9375-42a9-a226-564ef6985038",
   "metadata": {},
   "source": [
    "ModuleNotFoundError is a specific type of error in Python that occurs when the interpreter is unable to find the module you're trying to import.\n",
    "\n",
    "A module in Python is a file that contains Python definitions and statements. The file name is the module name with the suffix .py added.\n",
    "\n",
    "For example, a module named example_module would be stored in a file named example_module.py.\n",
    "\n",
    "Here's an example of how you might encounter a ModuleNotFoundError:\n",
    "\n",
    "import non_existent_module\n",
    "\n",
    "In this example, if there is no module named non_existent_module in the available Python modules, the interpreter will raise a ModuleNotFoundError.\n",
    "\n",
    "Possible reasons for encountering a ModuleNotFoundError include:\n",
    "\n",
    "1. Incorrect Module Name: \n",
    "                        You might have misspelled the module name you're trying to import.\n",
    "        \n",
    "\n",
    "2. Module Not Installed:\n",
    "                        The module you're trying to import might not be installed on your system. You can install modules using tools like pip.\n",
    "        \n",
    "\n",
    "3. Module Not in Correct Directory: \n",
    "                                    If the module is in a different directory than the one where your script is located, you'll need to ensure that the directory containing \n",
    "                                    the module is in the Python path or provide the correct relative or absolute path to the module.\n",
    "            \n",
    "            \n",
    "\n",
    "4. Virtual Environment Issues:\n",
    "                                If you're using a virtual environment, make sure you've activated it before running the script. This ensures that the modules installed in\n",
    "                                the virtual environment are available.\n",
    "            \n",
    "\n",
    "5. Python Version Compatibility: \n",
    "                                The module might not be compatible with the version of Python you're using.\n",
    "\n",
    "When you encounter a ModuleNotFoundError, it's important to double-check the module name, ensure that it's installed, and verify that it's in a location where Python can find it."
   ]
  },
  {
   "cell_type": "code",
   "execution_count": null,
   "id": "75c71e65-4177-488a-9c48-9b34d40d8ee3",
   "metadata": {},
   "outputs": [],
   "source": []
  },
  {
   "cell_type": "markdown",
   "id": "e8a1d57f-b853-4244-826e-3a18b79a48f4",
   "metadata": {},
   "source": [
    "# Q.6 List down some best practices for exception handling in python."
   ]
  },
  {
   "cell_type": "code",
   "execution_count": 1,
   "id": "b4021b1b-ca45-4155-bdec-59b5a7b6eef8",
   "metadata": {},
   "outputs": [],
   "source": [
    "# A. Use always a specific exception"
   ]
  },
  {
   "cell_type": "code",
   "execution_count": 2,
   "id": "1168e60d-ea5e-4de7-a5e7-cff7a31926c1",
   "metadata": {},
   "outputs": [],
   "source": [
    "# B. Print always a proper message"
   ]
  },
  {
   "cell_type": "code",
   "execution_count": 3,
   "id": "0015afa3-c0b0-437d-8a0e-3bab2150f3f3",
   "metadata": {},
   "outputs": [],
   "source": [
    "# C.Always log my error"
   ]
  },
  {
   "cell_type": "code",
   "execution_count": 4,
   "id": "6e3f7187-e7ee-48d2-b532-d9d2ff4dc57d",
   "metadata": {},
   "outputs": [],
   "source": [
    "# D. Always avoid to write multiple exception handle\n"
   ]
  },
  {
   "cell_type": "code",
   "execution_count": 5,
   "id": "e20a9bc8-fb23-4287-87f9-61ecb067928c",
   "metadata": {},
   "outputs": [],
   "source": [
    "# E. Documents all the error"
   ]
  },
  {
   "cell_type": "code",
   "execution_count": 6,
   "id": "36d8fee2-a518-416e-b4e0-8b09cf60a444",
   "metadata": {},
   "outputs": [],
   "source": [
    "# F. Cleanup all the resources"
   ]
  },
  {
   "cell_type": "code",
   "execution_count": 7,
   "id": "f3e92052-6205-4a98-8fb0-85474bcbd19f",
   "metadata": {},
   "outputs": [],
   "source": [
    "# G. Don't first use super class exception"
   ]
  },
  {
   "cell_type": "code",
   "execution_count": null,
   "id": "d3150c48-332d-4e17-b855-188736fa76e3",
   "metadata": {},
   "outputs": [],
   "source": []
  }
 ],
 "metadata": {
  "kernelspec": {
   "display_name": "Python 3 (ipykernel)",
   "language": "python",
   "name": "python3"
  },
  "language_info": {
   "codemirror_mode": {
    "name": "ipython",
    "version": 3
   },
   "file_extension": ".py",
   "mimetype": "text/x-python",
   "name": "python",
   "nbconvert_exporter": "python",
   "pygments_lexer": "ipython3",
   "version": "3.10.8"
  }
 },
 "nbformat": 4,
 "nbformat_minor": 5
}
