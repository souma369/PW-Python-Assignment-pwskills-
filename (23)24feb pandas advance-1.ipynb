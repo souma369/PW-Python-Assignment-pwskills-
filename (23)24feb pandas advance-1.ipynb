{
 "cells": [
  {
   "cell_type": "markdown",
   "id": "7b178b39-4da1-4a25-bc2c-40ed011e8c4a",
   "metadata": {
    "jp-MarkdownHeadingCollapsed": true,
    "tags": []
   },
   "source": [
    "#                                        Pandas Advance-1"
   ]
  },
  {
   "cell_type": "markdown",
   "id": "565c3073-9319-4ec7-8ea1-ef58f210165b",
   "metadata": {},
   "source": [
    "# Q.1 List any five functions of the pandas library with execution."
   ]
  },
  {
   "cell_type": "raw",
   "id": "c5961c21-44e6-4711-be28-150c3652a686",
   "metadata": {},
   "source": [
    " 1. \" read_csv\": This function used to read data from a CSV  file and create a DataFrame, a two dimensional tabular data structure in pandas\n",
    " 2. \" head(n) \": This function returns the first n row of  a DataFrame. It is useful for quickly inspecting the data.\n",
    " 3. \"Concat()\": This Concat() function merge two or more DataFrame  and horizontally merge so that create new column\n",
    " 4. \"sort_values\": This function is used to sort the DataFrame by one or more columns.\n",
    " 5. \"drop\": This function is used to remove specified rows or columns from a DataFrame."
   ]
  },
  {
   "cell_type": "code",
   "execution_count": null,
   "id": "f64365a9-3e43-4351-9575-955a6eb1d9fe",
   "metadata": {},
   "outputs": [],
   "source": []
  },
  {
   "cell_type": "markdown",
   "id": "3b640b85-91d8-4841-b9e6-eee64df58e93",
   "metadata": {},
   "source": [
    "# Q.2  Given a Pandas DataFrame df with columns\"A\", \"B\", and \"C\", write a python function to re-index the DataFrame with a new index that starts from 1 and increments by 2 for each row."
   ]
  },
  {
   "cell_type": "code",
   "execution_count": 1,
   "id": "79df9f91-3469-45fb-8933-130aa162c9b6",
   "metadata": {},
   "outputs": [],
   "source": [
    "import pandas as pd"
   ]
  },
  {
   "cell_type": "code",
   "execution_count": 2,
   "id": "d4ddd908-ff3d-4250-a3e8-f7d3a33df423",
   "metadata": {},
   "outputs": [],
   "source": [
    "data={\"A\":[1,2,3,4,5,6,7,8,9,10,11,12,13,14,15,16,17,18,19,20],\n",
    "     \"B\":[11,22,33,44,55,66,77,88,99,11,1,222,333,444,555,666,777,888,999,1000],\n",
    "     \"C\":[12,13,14,15,16,17,18,19,20,21,22,23,24,25,2,6,8,9,77,99]}"
   ]
  },
  {
   "cell_type": "code",
   "execution_count": 3,
   "id": "6ab6fd5b-886f-43bb-b88c-804a3d1b0900",
   "metadata": {},
   "outputs": [],
   "source": [
    "df=pd.DataFrame(data)"
   ]
  },
  {
   "cell_type": "code",
   "execution_count": 4,
   "id": "3f82cc52-cae6-49a3-99db-4af5de7bc5ff",
   "metadata": {},
   "outputs": [],
   "source": [
    "l=[1,3,5,7,9,11,13,15,17,19,21,23,25,27,29,31,33,35,37,39]"
   ]
  },
  {
   "cell_type": "code",
   "execution_count": 5,
   "id": "4f2c7f2b-b218-45c6-9680-8e9b6187dc09",
   "metadata": {},
   "outputs": [
    {
     "data": {
      "text/plain": [
       "20"
      ]
     },
     "execution_count": 5,
     "metadata": {},
     "output_type": "execute_result"
    }
   ],
   "source": [
    "len(df[\"A\"])"
   ]
  },
  {
   "cell_type": "code",
   "execution_count": 6,
   "id": "85865239-3059-4c94-a407-a4cb06544c92",
   "metadata": {},
   "outputs": [],
   "source": [
    "df1=pd.DataFrame(data, index=l)"
   ]
  },
  {
   "cell_type": "code",
   "execution_count": 7,
   "id": "908d86cb-67d6-4c7d-93ee-3beac7a82143",
   "metadata": {},
   "outputs": [
    {
     "data": {
      "text/html": [
       "<div>\n",
       "<style scoped>\n",
       "    .dataframe tbody tr th:only-of-type {\n",
       "        vertical-align: middle;\n",
       "    }\n",
       "\n",
       "    .dataframe tbody tr th {\n",
       "        vertical-align: top;\n",
       "    }\n",
       "\n",
       "    .dataframe thead th {\n",
       "        text-align: right;\n",
       "    }\n",
       "</style>\n",
       "<table border=\"1\" class=\"dataframe\">\n",
       "  <thead>\n",
       "    <tr style=\"text-align: right;\">\n",
       "      <th></th>\n",
       "      <th>A</th>\n",
       "      <th>B</th>\n",
       "      <th>C</th>\n",
       "    </tr>\n",
       "  </thead>\n",
       "  <tbody>\n",
       "    <tr>\n",
       "      <th>1</th>\n",
       "      <td>1</td>\n",
       "      <td>11</td>\n",
       "      <td>12</td>\n",
       "    </tr>\n",
       "    <tr>\n",
       "      <th>3</th>\n",
       "      <td>2</td>\n",
       "      <td>22</td>\n",
       "      <td>13</td>\n",
       "    </tr>\n",
       "    <tr>\n",
       "      <th>5</th>\n",
       "      <td>3</td>\n",
       "      <td>33</td>\n",
       "      <td>14</td>\n",
       "    </tr>\n",
       "    <tr>\n",
       "      <th>7</th>\n",
       "      <td>4</td>\n",
       "      <td>44</td>\n",
       "      <td>15</td>\n",
       "    </tr>\n",
       "    <tr>\n",
       "      <th>9</th>\n",
       "      <td>5</td>\n",
       "      <td>55</td>\n",
       "      <td>16</td>\n",
       "    </tr>\n",
       "    <tr>\n",
       "      <th>11</th>\n",
       "      <td>6</td>\n",
       "      <td>66</td>\n",
       "      <td>17</td>\n",
       "    </tr>\n",
       "    <tr>\n",
       "      <th>13</th>\n",
       "      <td>7</td>\n",
       "      <td>77</td>\n",
       "      <td>18</td>\n",
       "    </tr>\n",
       "    <tr>\n",
       "      <th>15</th>\n",
       "      <td>8</td>\n",
       "      <td>88</td>\n",
       "      <td>19</td>\n",
       "    </tr>\n",
       "    <tr>\n",
       "      <th>17</th>\n",
       "      <td>9</td>\n",
       "      <td>99</td>\n",
       "      <td>20</td>\n",
       "    </tr>\n",
       "    <tr>\n",
       "      <th>19</th>\n",
       "      <td>10</td>\n",
       "      <td>11</td>\n",
       "      <td>21</td>\n",
       "    </tr>\n",
       "    <tr>\n",
       "      <th>21</th>\n",
       "      <td>11</td>\n",
       "      <td>1</td>\n",
       "      <td>22</td>\n",
       "    </tr>\n",
       "    <tr>\n",
       "      <th>23</th>\n",
       "      <td>12</td>\n",
       "      <td>222</td>\n",
       "      <td>23</td>\n",
       "    </tr>\n",
       "    <tr>\n",
       "      <th>25</th>\n",
       "      <td>13</td>\n",
       "      <td>333</td>\n",
       "      <td>24</td>\n",
       "    </tr>\n",
       "    <tr>\n",
       "      <th>27</th>\n",
       "      <td>14</td>\n",
       "      <td>444</td>\n",
       "      <td>25</td>\n",
       "    </tr>\n",
       "    <tr>\n",
       "      <th>29</th>\n",
       "      <td>15</td>\n",
       "      <td>555</td>\n",
       "      <td>2</td>\n",
       "    </tr>\n",
       "    <tr>\n",
       "      <th>31</th>\n",
       "      <td>16</td>\n",
       "      <td>666</td>\n",
       "      <td>6</td>\n",
       "    </tr>\n",
       "    <tr>\n",
       "      <th>33</th>\n",
       "      <td>17</td>\n",
       "      <td>777</td>\n",
       "      <td>8</td>\n",
       "    </tr>\n",
       "    <tr>\n",
       "      <th>35</th>\n",
       "      <td>18</td>\n",
       "      <td>888</td>\n",
       "      <td>9</td>\n",
       "    </tr>\n",
       "    <tr>\n",
       "      <th>37</th>\n",
       "      <td>19</td>\n",
       "      <td>999</td>\n",
       "      <td>77</td>\n",
       "    </tr>\n",
       "    <tr>\n",
       "      <th>39</th>\n",
       "      <td>20</td>\n",
       "      <td>1000</td>\n",
       "      <td>99</td>\n",
       "    </tr>\n",
       "  </tbody>\n",
       "</table>\n",
       "</div>"
      ],
      "text/plain": [
       "     A     B   C\n",
       "1    1    11  12\n",
       "3    2    22  13\n",
       "5    3    33  14\n",
       "7    4    44  15\n",
       "9    5    55  16\n",
       "11   6    66  17\n",
       "13   7    77  18\n",
       "15   8    88  19\n",
       "17   9    99  20\n",
       "19  10    11  21\n",
       "21  11     1  22\n",
       "23  12   222  23\n",
       "25  13   333  24\n",
       "27  14   444  25\n",
       "29  15   555   2\n",
       "31  16   666   6\n",
       "33  17   777   8\n",
       "35  18   888   9\n",
       "37  19   999  77\n",
       "39  20  1000  99"
      ]
     },
     "execution_count": 7,
     "metadata": {},
     "output_type": "execute_result"
    }
   ],
   "source": [
    "df1"
   ]
  },
  {
   "cell_type": "code",
   "execution_count": 8,
   "id": "6dbeb7a8-22fd-4d5f-ac07-65585b7fb22e",
   "metadata": {},
   "outputs": [
    {
     "data": {
      "text/plain": [
       "14"
      ]
     },
     "execution_count": 8,
     "metadata": {},
     "output_type": "execute_result"
    }
   ],
   "source": [
    "6+8"
   ]
  },
  {
   "cell_type": "code",
   "execution_count": 9,
   "id": "b50de0e6-fbef-443a-9ea3-a9a000911cf9",
   "metadata": {},
   "outputs": [],
   "source": [
    "data1={\"A\":[1,2,3,4,5,6,7,8,9,10,11,12,13,14,15,16,17,18],\n",
    "     \"B\":[11,22,33,44,55,66,77,88,99,11,1,222,333,444,555,666,777,888],\n",
    "     \"C\":[12,13,14,15,16,17,18,19,20,21,22,23,24,25,2,6,8,9]}"
   ]
  },
  {
   "cell_type": "code",
   "execution_count": 10,
   "id": "b46f4935-adb3-4d37-9974-f73f33198c51",
   "metadata": {},
   "outputs": [],
   "source": [
    "df1=pd.DataFrame(data1)"
   ]
  },
  {
   "cell_type": "code",
   "execution_count": 11,
   "id": "ea42dc9e-8cd4-4f36-9a26-320b5e5db549",
   "metadata": {},
   "outputs": [
    {
     "data": {
      "text/html": [
       "<div>\n",
       "<style scoped>\n",
       "    .dataframe tbody tr th:only-of-type {\n",
       "        vertical-align: middle;\n",
       "    }\n",
       "\n",
       "    .dataframe tbody tr th {\n",
       "        vertical-align: top;\n",
       "    }\n",
       "\n",
       "    .dataframe thead th {\n",
       "        text-align: right;\n",
       "    }\n",
       "</style>\n",
       "<table border=\"1\" class=\"dataframe\">\n",
       "  <thead>\n",
       "    <tr style=\"text-align: right;\">\n",
       "      <th></th>\n",
       "      <th>A</th>\n",
       "      <th>B</th>\n",
       "      <th>C</th>\n",
       "    </tr>\n",
       "  </thead>\n",
       "  <tbody>\n",
       "    <tr>\n",
       "      <th>0</th>\n",
       "      <td>1</td>\n",
       "      <td>11</td>\n",
       "      <td>12</td>\n",
       "    </tr>\n",
       "    <tr>\n",
       "      <th>1</th>\n",
       "      <td>2</td>\n",
       "      <td>22</td>\n",
       "      <td>13</td>\n",
       "    </tr>\n",
       "    <tr>\n",
       "      <th>2</th>\n",
       "      <td>3</td>\n",
       "      <td>33</td>\n",
       "      <td>14</td>\n",
       "    </tr>\n",
       "    <tr>\n",
       "      <th>3</th>\n",
       "      <td>4</td>\n",
       "      <td>44</td>\n",
       "      <td>15</td>\n",
       "    </tr>\n",
       "    <tr>\n",
       "      <th>4</th>\n",
       "      <td>5</td>\n",
       "      <td>55</td>\n",
       "      <td>16</td>\n",
       "    </tr>\n",
       "    <tr>\n",
       "      <th>5</th>\n",
       "      <td>6</td>\n",
       "      <td>66</td>\n",
       "      <td>17</td>\n",
       "    </tr>\n",
       "    <tr>\n",
       "      <th>6</th>\n",
       "      <td>7</td>\n",
       "      <td>77</td>\n",
       "      <td>18</td>\n",
       "    </tr>\n",
       "    <tr>\n",
       "      <th>7</th>\n",
       "      <td>8</td>\n",
       "      <td>88</td>\n",
       "      <td>19</td>\n",
       "    </tr>\n",
       "    <tr>\n",
       "      <th>8</th>\n",
       "      <td>9</td>\n",
       "      <td>99</td>\n",
       "      <td>20</td>\n",
       "    </tr>\n",
       "    <tr>\n",
       "      <th>9</th>\n",
       "      <td>10</td>\n",
       "      <td>11</td>\n",
       "      <td>21</td>\n",
       "    </tr>\n",
       "    <tr>\n",
       "      <th>10</th>\n",
       "      <td>11</td>\n",
       "      <td>1</td>\n",
       "      <td>22</td>\n",
       "    </tr>\n",
       "    <tr>\n",
       "      <th>11</th>\n",
       "      <td>12</td>\n",
       "      <td>222</td>\n",
       "      <td>23</td>\n",
       "    </tr>\n",
       "    <tr>\n",
       "      <th>12</th>\n",
       "      <td>13</td>\n",
       "      <td>333</td>\n",
       "      <td>24</td>\n",
       "    </tr>\n",
       "    <tr>\n",
       "      <th>13</th>\n",
       "      <td>14</td>\n",
       "      <td>444</td>\n",
       "      <td>25</td>\n",
       "    </tr>\n",
       "    <tr>\n",
       "      <th>14</th>\n",
       "      <td>15</td>\n",
       "      <td>555</td>\n",
       "      <td>2</td>\n",
       "    </tr>\n",
       "    <tr>\n",
       "      <th>15</th>\n",
       "      <td>16</td>\n",
       "      <td>666</td>\n",
       "      <td>6</td>\n",
       "    </tr>\n",
       "    <tr>\n",
       "      <th>16</th>\n",
       "      <td>17</td>\n",
       "      <td>777</td>\n",
       "      <td>8</td>\n",
       "    </tr>\n",
       "    <tr>\n",
       "      <th>17</th>\n",
       "      <td>18</td>\n",
       "      <td>888</td>\n",
       "      <td>9</td>\n",
       "    </tr>\n",
       "  </tbody>\n",
       "</table>\n",
       "</div>"
      ],
      "text/plain": [
       "     A    B   C\n",
       "0    1   11  12\n",
       "1    2   22  13\n",
       "2    3   33  14\n",
       "3    4   44  15\n",
       "4    5   55  16\n",
       "5    6   66  17\n",
       "6    7   77  18\n",
       "7    8   88  19\n",
       "8    9   99  20\n",
       "9   10   11  21\n",
       "10  11    1  22\n",
       "11  12  222  23\n",
       "12  13  333  24\n",
       "13  14  444  25\n",
       "14  15  555   2\n",
       "15  16  666   6\n",
       "16  17  777   8\n",
       "17  18  888   9"
      ]
     },
     "execution_count": 11,
     "metadata": {},
     "output_type": "execute_result"
    }
   ],
   "source": [
    "df1"
   ]
  },
  {
   "cell_type": "code",
   "execution_count": 12,
   "id": "b466d372-f6d4-4b4a-9001-888abf8fb9ea",
   "metadata": {},
   "outputs": [],
   "source": [
    "import pandas as pd\n",
    "\n",
    "def reindex_with_custom_increment(df1):\n",
    "    new_index = pd.Series(range(1, 2 * len(df1), 2))\n",
    "    df1 = df1.reset_index(drop=True)\n",
    "    df1.index = new_index\n",
    "    return df1\n",
    "\n",
    "# Example usage:\n",
    "# Assuming 'df' is your DataFrame with columns \"A\", \"B\", and \"C\"\n",
    "# df = ... # Your DataFrame creation code here\n",
    "\n",
    "df = reindex_with_custom_increment(df1)\n"
   ]
  },
  {
   "cell_type": "code",
   "execution_count": 13,
   "id": "64570fdd-a8a5-4cc6-9fb8-6a558d7ca277",
   "metadata": {},
   "outputs": [
    {
     "data": {
      "text/html": [
       "<div>\n",
       "<style scoped>\n",
       "    .dataframe tbody tr th:only-of-type {\n",
       "        vertical-align: middle;\n",
       "    }\n",
       "\n",
       "    .dataframe tbody tr th {\n",
       "        vertical-align: top;\n",
       "    }\n",
       "\n",
       "    .dataframe thead th {\n",
       "        text-align: right;\n",
       "    }\n",
       "</style>\n",
       "<table border=\"1\" class=\"dataframe\">\n",
       "  <thead>\n",
       "    <tr style=\"text-align: right;\">\n",
       "      <th></th>\n",
       "      <th>A</th>\n",
       "      <th>B</th>\n",
       "      <th>C</th>\n",
       "    </tr>\n",
       "  </thead>\n",
       "  <tbody>\n",
       "    <tr>\n",
       "      <th>1</th>\n",
       "      <td>1</td>\n",
       "      <td>11</td>\n",
       "      <td>12</td>\n",
       "    </tr>\n",
       "    <tr>\n",
       "      <th>3</th>\n",
       "      <td>2</td>\n",
       "      <td>22</td>\n",
       "      <td>13</td>\n",
       "    </tr>\n",
       "    <tr>\n",
       "      <th>5</th>\n",
       "      <td>3</td>\n",
       "      <td>33</td>\n",
       "      <td>14</td>\n",
       "    </tr>\n",
       "    <tr>\n",
       "      <th>7</th>\n",
       "      <td>4</td>\n",
       "      <td>44</td>\n",
       "      <td>15</td>\n",
       "    </tr>\n",
       "    <tr>\n",
       "      <th>9</th>\n",
       "      <td>5</td>\n",
       "      <td>55</td>\n",
       "      <td>16</td>\n",
       "    </tr>\n",
       "    <tr>\n",
       "      <th>11</th>\n",
       "      <td>6</td>\n",
       "      <td>66</td>\n",
       "      <td>17</td>\n",
       "    </tr>\n",
       "    <tr>\n",
       "      <th>13</th>\n",
       "      <td>7</td>\n",
       "      <td>77</td>\n",
       "      <td>18</td>\n",
       "    </tr>\n",
       "    <tr>\n",
       "      <th>15</th>\n",
       "      <td>8</td>\n",
       "      <td>88</td>\n",
       "      <td>19</td>\n",
       "    </tr>\n",
       "    <tr>\n",
       "      <th>17</th>\n",
       "      <td>9</td>\n",
       "      <td>99</td>\n",
       "      <td>20</td>\n",
       "    </tr>\n",
       "    <tr>\n",
       "      <th>19</th>\n",
       "      <td>10</td>\n",
       "      <td>11</td>\n",
       "      <td>21</td>\n",
       "    </tr>\n",
       "    <tr>\n",
       "      <th>21</th>\n",
       "      <td>11</td>\n",
       "      <td>1</td>\n",
       "      <td>22</td>\n",
       "    </tr>\n",
       "    <tr>\n",
       "      <th>23</th>\n",
       "      <td>12</td>\n",
       "      <td>222</td>\n",
       "      <td>23</td>\n",
       "    </tr>\n",
       "    <tr>\n",
       "      <th>25</th>\n",
       "      <td>13</td>\n",
       "      <td>333</td>\n",
       "      <td>24</td>\n",
       "    </tr>\n",
       "    <tr>\n",
       "      <th>27</th>\n",
       "      <td>14</td>\n",
       "      <td>444</td>\n",
       "      <td>25</td>\n",
       "    </tr>\n",
       "    <tr>\n",
       "      <th>29</th>\n",
       "      <td>15</td>\n",
       "      <td>555</td>\n",
       "      <td>2</td>\n",
       "    </tr>\n",
       "    <tr>\n",
       "      <th>31</th>\n",
       "      <td>16</td>\n",
       "      <td>666</td>\n",
       "      <td>6</td>\n",
       "    </tr>\n",
       "    <tr>\n",
       "      <th>33</th>\n",
       "      <td>17</td>\n",
       "      <td>777</td>\n",
       "      <td>8</td>\n",
       "    </tr>\n",
       "    <tr>\n",
       "      <th>35</th>\n",
       "      <td>18</td>\n",
       "      <td>888</td>\n",
       "      <td>9</td>\n",
       "    </tr>\n",
       "  </tbody>\n",
       "</table>\n",
       "</div>"
      ],
      "text/plain": [
       "     A    B   C\n",
       "1    1   11  12\n",
       "3    2   22  13\n",
       "5    3   33  14\n",
       "7    4   44  15\n",
       "9    5   55  16\n",
       "11   6   66  17\n",
       "13   7   77  18\n",
       "15   8   88  19\n",
       "17   9   99  20\n",
       "19  10   11  21\n",
       "21  11    1  22\n",
       "23  12  222  23\n",
       "25  13  333  24\n",
       "27  14  444  25\n",
       "29  15  555   2\n",
       "31  16  666   6\n",
       "33  17  777   8\n",
       "35  18  888   9"
      ]
     },
     "execution_count": 13,
     "metadata": {},
     "output_type": "execute_result"
    }
   ],
   "source": [
    "df"
   ]
  },
  {
   "cell_type": "code",
   "execution_count": null,
   "id": "07d1d31f-aca7-4c88-8c73-ceff21ea64b7",
   "metadata": {},
   "outputs": [],
   "source": []
  },
  {
   "cell_type": "markdown",
   "id": "31b9baff-08ff-4c30-95a0-7c9c380226ae",
   "metadata": {},
   "source": [
    "# Q.3 You have a Pandas DataFrame df with a column named \"Values\". Write a Python Function that iterates over the DataFrame and calculates the sum of the first three values in the \"Values\" column. The function should print the sum to the console.\n",
    "# For example, if the \"Values\" column of df contains the values[10,20,30,40,50], your function should calculate and print the sum of the first three values, which is 60."
   ]
  },
  {
   "cell_type": "code",
   "execution_count": 14,
   "id": "57e78535-2601-48ce-82df-34a212d6a54e",
   "metadata": {},
   "outputs": [],
   "source": [
    "import pandas as pd"
   ]
  },
  {
   "cell_type": "code",
   "execution_count": 15,
   "id": "ca16aac1-c46c-47c9-aafb-9b1967350aa1",
   "metadata": {},
   "outputs": [],
   "source": [
    "data={\"Values\":[10,20,30,40,50]}"
   ]
  },
  {
   "cell_type": "code",
   "execution_count": 16,
   "id": "a83b3dde-387a-4e5b-bddc-c0fc593794e6",
   "metadata": {},
   "outputs": [],
   "source": [
    "l=[1,2,3,4,5]"
   ]
  },
  {
   "cell_type": "code",
   "execution_count": 17,
   "id": "76ed36c8-048b-4de7-8cb5-356359e1a5f8",
   "metadata": {},
   "outputs": [],
   "source": [
    "df3=pd.DataFrame(data, index=l)"
   ]
  },
  {
   "cell_type": "code",
   "execution_count": 18,
   "id": "422f35a7-ab16-4dc5-a627-496e21de95ca",
   "metadata": {},
   "outputs": [
    {
     "data": {
      "text/html": [
       "<div>\n",
       "<style scoped>\n",
       "    .dataframe tbody tr th:only-of-type {\n",
       "        vertical-align: middle;\n",
       "    }\n",
       "\n",
       "    .dataframe tbody tr th {\n",
       "        vertical-align: top;\n",
       "    }\n",
       "\n",
       "    .dataframe thead th {\n",
       "        text-align: right;\n",
       "    }\n",
       "</style>\n",
       "<table border=\"1\" class=\"dataframe\">\n",
       "  <thead>\n",
       "    <tr style=\"text-align: right;\">\n",
       "      <th></th>\n",
       "      <th>Values</th>\n",
       "    </tr>\n",
       "  </thead>\n",
       "  <tbody>\n",
       "    <tr>\n",
       "      <th>1</th>\n",
       "      <td>10</td>\n",
       "    </tr>\n",
       "    <tr>\n",
       "      <th>2</th>\n",
       "      <td>20</td>\n",
       "    </tr>\n",
       "    <tr>\n",
       "      <th>3</th>\n",
       "      <td>30</td>\n",
       "    </tr>\n",
       "    <tr>\n",
       "      <th>4</th>\n",
       "      <td>40</td>\n",
       "    </tr>\n",
       "    <tr>\n",
       "      <th>5</th>\n",
       "      <td>50</td>\n",
       "    </tr>\n",
       "  </tbody>\n",
       "</table>\n",
       "</div>"
      ],
      "text/plain": [
       "   Values\n",
       "1      10\n",
       "2      20\n",
       "3      30\n",
       "4      40\n",
       "5      50"
      ]
     },
     "execution_count": 18,
     "metadata": {},
     "output_type": "execute_result"
    }
   ],
   "source": [
    "df3"
   ]
  },
  {
   "cell_type": "code",
   "execution_count": 19,
   "id": "f7ff34c0-5f1c-43f8-8228-94987ff36e35",
   "metadata": {},
   "outputs": [
    {
     "data": {
      "text/plain": [
       "Values    60\n",
       "dtype: int64"
      ]
     },
     "execution_count": 19,
     "metadata": {},
     "output_type": "execute_result"
    }
   ],
   "source": [
    "df3[[\"Values\"]][0:3].sum()"
   ]
  },
  {
   "cell_type": "code",
   "execution_count": 20,
   "id": "a315cfa1-41eb-40ef-8344-a1695a262fec",
   "metadata": {},
   "outputs": [
    {
     "data": {
      "text/html": [
       "<div>\n",
       "<style scoped>\n",
       "    .dataframe tbody tr th:only-of-type {\n",
       "        vertical-align: middle;\n",
       "    }\n",
       "\n",
       "    .dataframe tbody tr th {\n",
       "        vertical-align: top;\n",
       "    }\n",
       "\n",
       "    .dataframe thead th {\n",
       "        text-align: right;\n",
       "    }\n",
       "</style>\n",
       "<table border=\"1\" class=\"dataframe\">\n",
       "  <thead>\n",
       "    <tr style=\"text-align: right;\">\n",
       "      <th></th>\n",
       "      <th>Values</th>\n",
       "    </tr>\n",
       "  </thead>\n",
       "  <tbody>\n",
       "    <tr>\n",
       "      <th>1</th>\n",
       "      <td>10</td>\n",
       "    </tr>\n",
       "    <tr>\n",
       "      <th>2</th>\n",
       "      <td>20</td>\n",
       "    </tr>\n",
       "    <tr>\n",
       "      <th>3</th>\n",
       "      <td>30</td>\n",
       "    </tr>\n",
       "    <tr>\n",
       "      <th>4</th>\n",
       "      <td>40</td>\n",
       "    </tr>\n",
       "    <tr>\n",
       "      <th>5</th>\n",
       "      <td>50</td>\n",
       "    </tr>\n",
       "  </tbody>\n",
       "</table>\n",
       "</div>"
      ],
      "text/plain": [
       "   Values\n",
       "1      10\n",
       "2      20\n",
       "3      30\n",
       "4      40\n",
       "5      50"
      ]
     },
     "execution_count": 20,
     "metadata": {},
     "output_type": "execute_result"
    }
   ],
   "source": [
    "df3"
   ]
  },
  {
   "cell_type": "code",
   "execution_count": 21,
   "id": "33ccad76-f754-4fce-b925-d56cf2340c6b",
   "metadata": {},
   "outputs": [],
   "source": [
    "def sum_of_first_three_values(x):\n",
    "    first_3_values_sum=x[\"Values\"].head(3).sum()\n",
    "    print(f\"The sum of the first three values is: {first_3_values_sum}\")"
   ]
  },
  {
   "cell_type": "code",
   "execution_count": 22,
   "id": "ee9efadf-d6e6-4db8-accd-9986f4a39566",
   "metadata": {},
   "outputs": [
    {
     "name": "stdout",
     "output_type": "stream",
     "text": [
      "The sum of the first three values is: 60\n"
     ]
    }
   ],
   "source": [
    "sum_of_first_three_values(df3)"
   ]
  },
  {
   "cell_type": "code",
   "execution_count": null,
   "id": "7680109f-bb5d-4fd6-a7c6-8cd623a5d509",
   "metadata": {},
   "outputs": [],
   "source": []
  },
  {
   "cell_type": "markdown",
   "id": "411fae73-51f0-4e2f-8467-94a0338c6736",
   "metadata": {},
   "source": [
    "# Q.4 Given a pandas DataFrame df with a column \"Text\", write a python function to create a new column \"Word_Count\" that contains the number of words in each row  of the \"Text\" column."
   ]
  },
  {
   "cell_type": "code",
   "execution_count": 23,
   "id": "3942a7f8-66c0-4725-9f6e-1e5403ab1346",
   "metadata": {},
   "outputs": [],
   "source": [
    "import pandas as pd"
   ]
  },
  {
   "cell_type": "code",
   "execution_count": 24,
   "id": "81647b34-31cf-4fa5-b1a2-bc933aafeb3c",
   "metadata": {},
   "outputs": [],
   "source": [
    "data={\"Text\":[\"The mens football tournament at the Asian Games 2023 in Hangzhou\",\" the People’s Republic of China, starts on September 19 and will conclude on October 7. Matches will be played across seven different venues.The men’s football event at the Asian Games has been an under-23 affair since 2002. However, each team is allowed a maximum of three players above 23 years of age in the squad.\",\" At Hangzhou 2023, the men’s football tournament is being contested by 21 teams, who have been divided into four groups of four teams each, one group of three and one group of two for the preliminary round or group stage. The Indian men’s football team is in Group A with hosts China.Afghanistan and Syria, both in Group C, withdrew from the tournament leaving Uzbekistan and Hong Kong China as the only teams in the group.The Republic of Korea, reigning and record five-time champions, headline Group E.\",\" The two teams in Group C will face each other twice. The remaining groups, meanwhile, will be played in a single-legged round robin format.The top two football teams from each group and the four best third-placed teams across all groups advance to the round of 16. For groups with four teams, the results against the fourth-placed teams won’t be considered while ranking the third-placed teams.The Shangcheng Sports Centre Stadium will host the bronze medal match on October 7 while the gold medal match is scheduled at the Huanglong Sports Center Stadium later on the same day.Live streaming of the Asian Games 2023 football matches will be available on Sony Liv. Asian Games football will be telecast live on the Sony Sports Network TV channels in India. \", \" The All India Football Federation (AIFF), on Thursday, announced a revised 21-member Indian men’s football team for the Asian Games 2023, scheduled in Hangzhou, the People's Republic of China, from September 23 to October 8.The AIFF had announced a 22-member squad, including ace striker Sunil Chhetri, in August. However, the team was cut to 17 after Indian clubs had reportedly expressed concerns over releasing players for the continental meet with a busy football schedule on the cards, both on the domestic and international fronts.Goalkeeper Gurpreet Singh Sandhu and defender Sandesh Jhingan, who were the other two senior players barring Sunil Chhetri in the initial squad to Hangzhou, were left out from the second list. Sunil Chhetri, however, was retained.In the latest iteration, however, Sandesh Jhingan was added back to the squad. Chinglensana Singh, Lalchungnunga and Deepak Tangri were also included.The men’s football event at the Asian Games has been an under-23 affair since 2002 with each team allowed a maximum of three players above 23 years.\",\"It is a wonderful development that some experienced players have been added to the Asian Games squad, who will certainly help the cause of the team\",\"India head coach Igor Stimac said.\", \"I am thankful to everyone for making it happen. Whoever represents India, together we will be honoured to defend the flag.\" ,\"I am very happy to see that more senior players have answered the call to join the national team for the Asian Games\",\" India captain Sunil Chhetri noted.\" ,\"Our Indian team are going to the Asian Games for the first time in nine years, and it is indeed a special occasion for all of us, who will get this opportunity.\", \"The Indian men’s football team has been drawn in Group A alongside hosts China, Bangladesh and Myanmar.India, 99th in the latest FIFA rankings, will be the second-best ranked team in their group behind China (80th). Myanmar are ranked 160th while Bangladesh are 189th.The Indian men’s football team won gold medals at the New Delhi 1951 and Jakarta 1962 Asian Games while clinching a bronze at Bangkok 1970. The Hangzhou 2023 Games will be the 16th Asian Games appearance for the Indian men’s football team.The Indian football team is participating in the Hangzhou Games as a special case. The sports ministry relaxed its rules on the basis of India’s current performances that saw the national team winning back-to-back international tournaments – Intercontinental Cup and the SAFF Cup.As per government rules, teams that rank eighth or better in Asia are allowed to participate in continental events like the Asian Games. It was on this basis that Indian football teams did not play in the 2018 Asian Games in Jakarta. Indian men are currently ranked 18th in Asia. India will be participating in the upcoming Games after a gap of nine years.\"]}"
   ]
  },
  {
   "cell_type": "code",
   "execution_count": 25,
   "id": "92f778af-cc72-4fdc-9005-32a660b86215",
   "metadata": {},
   "outputs": [],
   "source": [
    "df44=pd.DataFrame(data)"
   ]
  },
  {
   "cell_type": "code",
   "execution_count": 26,
   "id": "b22df574-5167-492c-9304-e93eda4fe5c7",
   "metadata": {},
   "outputs": [],
   "source": [
    "pd.set_option(\"display.max_colwidth\",500)"
   ]
  },
  {
   "cell_type": "code",
   "execution_count": 27,
   "id": "a9cd3f70-1005-40d0-8d47-80100fbb75e2",
   "metadata": {},
   "outputs": [
    {
     "data": {
      "text/html": [
       "<div>\n",
       "<style scoped>\n",
       "    .dataframe tbody tr th:only-of-type {\n",
       "        vertical-align: middle;\n",
       "    }\n",
       "\n",
       "    .dataframe tbody tr th {\n",
       "        vertical-align: top;\n",
       "    }\n",
       "\n",
       "    .dataframe thead th {\n",
       "        text-align: right;\n",
       "    }\n",
       "</style>\n",
       "<table border=\"1\" class=\"dataframe\">\n",
       "  <thead>\n",
       "    <tr style=\"text-align: right;\">\n",
       "      <th></th>\n",
       "      <th>Text</th>\n",
       "    </tr>\n",
       "  </thead>\n",
       "  <tbody>\n",
       "    <tr>\n",
       "      <th>0</th>\n",
       "      <td>The mens football tournament at the Asian Games 2023 in Hangzhou</td>\n",
       "    </tr>\n",
       "    <tr>\n",
       "      <th>1</th>\n",
       "      <td>the People’s Republic of China, starts on September 19 and will conclude on October 7. Matches will be played across seven different venues.The men’s football event at the Asian Games has been an under-23 affair since 2002. However, each team is allowed a maximum of three players above 23 years of age in the squad.</td>\n",
       "    </tr>\n",
       "    <tr>\n",
       "      <th>2</th>\n",
       "      <td>At Hangzhou 2023, the men’s football tournament is being contested by 21 teams, who have been divided into four groups of four teams each, one group of three and one group of two for the preliminary round or group stage. The Indian men’s football team is in Group A with hosts China.Afghanistan and Syria, both in Group C, withdrew from the tournament leaving Uzbekistan and Hong Kong China as the only teams in the group.The Republic of Korea, reigning and record five-time champions, headline ...</td>\n",
       "    </tr>\n",
       "    <tr>\n",
       "      <th>3</th>\n",
       "      <td>The two teams in Group C will face each other twice. The remaining groups, meanwhile, will be played in a single-legged round robin format.The top two football teams from each group and the four best third-placed teams across all groups advance to the round of 16. For groups with four teams, the results against the fourth-placed teams won’t be considered while ranking the third-placed teams.The Shangcheng Sports Centre Stadium will host the bronze medal match on October 7 while the gold med...</td>\n",
       "    </tr>\n",
       "    <tr>\n",
       "      <th>4</th>\n",
       "      <td>The All India Football Federation (AIFF), on Thursday, announced a revised 21-member Indian men’s football team for the Asian Games 2023, scheduled in Hangzhou, the People's Republic of China, from September 23 to October 8.The AIFF had announced a 22-member squad, including ace striker Sunil Chhetri, in August. However, the team was cut to 17 after Indian clubs had reportedly expressed concerns over releasing players for the continental meet with a busy football schedule on the cards, both...</td>\n",
       "    </tr>\n",
       "    <tr>\n",
       "      <th>5</th>\n",
       "      <td>It is a wonderful development that some experienced players have been added to the Asian Games squad, who will certainly help the cause of the team</td>\n",
       "    </tr>\n",
       "    <tr>\n",
       "      <th>6</th>\n",
       "      <td>India head coach Igor Stimac said.</td>\n",
       "    </tr>\n",
       "    <tr>\n",
       "      <th>7</th>\n",
       "      <td>I am thankful to everyone for making it happen. Whoever represents India, together we will be honoured to defend the flag.</td>\n",
       "    </tr>\n",
       "    <tr>\n",
       "      <th>8</th>\n",
       "      <td>I am very happy to see that more senior players have answered the call to join the national team for the Asian Games</td>\n",
       "    </tr>\n",
       "    <tr>\n",
       "      <th>9</th>\n",
       "      <td>India captain Sunil Chhetri noted.</td>\n",
       "    </tr>\n",
       "    <tr>\n",
       "      <th>10</th>\n",
       "      <td>Our Indian team are going to the Asian Games for the first time in nine years, and it is indeed a special occasion for all of us, who will get this opportunity.</td>\n",
       "    </tr>\n",
       "    <tr>\n",
       "      <th>11</th>\n",
       "      <td>The Indian men’s football team has been drawn in Group A alongside hosts China, Bangladesh and Myanmar.India, 99th in the latest FIFA rankings, will be the second-best ranked team in their group behind China (80th). Myanmar are ranked 160th while Bangladesh are 189th.The Indian men’s football team won gold medals at the New Delhi 1951 and Jakarta 1962 Asian Games while clinching a bronze at Bangkok 1970. The Hangzhou 2023 Games will be the 16th Asian Games appearance for the Indian men’s foo...</td>\n",
       "    </tr>\n",
       "  </tbody>\n",
       "</table>\n",
       "</div>"
      ],
      "text/plain": [
       "                                                                                                                                                                                                                                                                                                                                                                                                                                                                                                                   Text\n",
       "0                                                                                                                                                                                                                                                                                                                                                                                                                                                      The mens football tournament at the Asian Games 2023 in Hangzhou\n",
       "1                                                                                                                                                                                          the People’s Republic of China, starts on September 19 and will conclude on October 7. Matches will be played across seven different venues.The men’s football event at the Asian Games has been an under-23 affair since 2002. However, each team is allowed a maximum of three players above 23 years of age in the squad.\n",
       "2    At Hangzhou 2023, the men’s football tournament is being contested by 21 teams, who have been divided into four groups of four teams each, one group of three and one group of two for the preliminary round or group stage. The Indian men’s football team is in Group A with hosts China.Afghanistan and Syria, both in Group C, withdrew from the tournament leaving Uzbekistan and Hong Kong China as the only teams in the group.The Republic of Korea, reigning and record five-time champions, headline ...\n",
       "3    The two teams in Group C will face each other twice. The remaining groups, meanwhile, will be played in a single-legged round robin format.The top two football teams from each group and the four best third-placed teams across all groups advance to the round of 16. For groups with four teams, the results against the fourth-placed teams won’t be considered while ranking the third-placed teams.The Shangcheng Sports Centre Stadium will host the bronze medal match on October 7 while the gold med...\n",
       "4    The All India Football Federation (AIFF), on Thursday, announced a revised 21-member Indian men’s football team for the Asian Games 2023, scheduled in Hangzhou, the People's Republic of China, from September 23 to October 8.The AIFF had announced a 22-member squad, including ace striker Sunil Chhetri, in August. However, the team was cut to 17 after Indian clubs had reportedly expressed concerns over releasing players for the continental meet with a busy football schedule on the cards, both...\n",
       "5                                                                                                                                                                                                                                                                                                                                                                   It is a wonderful development that some experienced players have been added to the Asian Games squad, who will certainly help the cause of the team\n",
       "6                                                                                                                                                                                                                                                                                                                                                                                                                                                                                    India head coach Igor Stimac said.\n",
       "7                                                                                                                                                                                                                                                                                                                                                                                            I am thankful to everyone for making it happen. Whoever represents India, together we will be honoured to defend the flag.\n",
       "8                                                                                                                                                                                                                                                                                                                                                                                                  I am very happy to see that more senior players have answered the call to join the national team for the Asian Games\n",
       "9                                                                                                                                                                                                                                                                                                                                                                                                                                                                                    India captain Sunil Chhetri noted.\n",
       "10                                                                                                                                                                                                                                                                                                                                                     Our Indian team are going to the Asian Games for the first time in nine years, and it is indeed a special occasion for all of us, who will get this opportunity.\n",
       "11  The Indian men’s football team has been drawn in Group A alongside hosts China, Bangladesh and Myanmar.India, 99th in the latest FIFA rankings, will be the second-best ranked team in their group behind China (80th). Myanmar are ranked 160th while Bangladesh are 189th.The Indian men’s football team won gold medals at the New Delhi 1951 and Jakarta 1962 Asian Games while clinching a bronze at Bangkok 1970. The Hangzhou 2023 Games will be the 16th Asian Games appearance for the Indian men’s foo..."
      ]
     },
     "execution_count": 27,
     "metadata": {},
     "output_type": "execute_result"
    }
   ],
   "source": [
    "df44"
   ]
  },
  {
   "cell_type": "code",
   "execution_count": 28,
   "id": "a67653d1-adef-4ff6-b9c0-3ff430026548",
   "metadata": {},
   "outputs": [],
   "source": [
    "df44[\"len\"]=df44[\"Text\"].apply(len)"
   ]
  },
  {
   "cell_type": "code",
   "execution_count": 29,
   "id": "1bbdb45a-476f-4f84-8940-4c4e96c90887",
   "metadata": {},
   "outputs": [
    {
     "data": {
      "text/html": [
       "<div>\n",
       "<style scoped>\n",
       "    .dataframe tbody tr th:only-of-type {\n",
       "        vertical-align: middle;\n",
       "    }\n",
       "\n",
       "    .dataframe tbody tr th {\n",
       "        vertical-align: top;\n",
       "    }\n",
       "\n",
       "    .dataframe thead th {\n",
       "        text-align: right;\n",
       "    }\n",
       "</style>\n",
       "<table border=\"1\" class=\"dataframe\">\n",
       "  <thead>\n",
       "    <tr style=\"text-align: right;\">\n",
       "      <th></th>\n",
       "      <th>Text</th>\n",
       "      <th>len</th>\n",
       "    </tr>\n",
       "  </thead>\n",
       "  <tbody>\n",
       "    <tr>\n",
       "      <th>0</th>\n",
       "      <td>The mens football tournament at the Asian Games 2023 in Hangzhou</td>\n",
       "      <td>64</td>\n",
       "    </tr>\n",
       "    <tr>\n",
       "      <th>1</th>\n",
       "      <td>the People’s Republic of China, starts on September 19 and will conclude on October 7. Matches will be played across seven different venues.The men’s football event at the Asian Games has been an under-23 affair since 2002. However, each team is allowed a maximum of three players above 23 years of age in the squad.</td>\n",
       "      <td>317</td>\n",
       "    </tr>\n",
       "    <tr>\n",
       "      <th>2</th>\n",
       "      <td>At Hangzhou 2023, the men’s football tournament is being contested by 21 teams, who have been divided into four groups of four teams each, one group of three and one group of two for the preliminary round or group stage. The Indian men’s football team is in Group A with hosts China.Afghanistan and Syria, both in Group C, withdrew from the tournament leaving Uzbekistan and Hong Kong China as the only teams in the group.The Republic of Korea, reigning and record five-time champions, headline ...</td>\n",
       "      <td>504</td>\n",
       "    </tr>\n",
       "    <tr>\n",
       "      <th>3</th>\n",
       "      <td>The two teams in Group C will face each other twice. The remaining groups, meanwhile, will be played in a single-legged round robin format.The top two football teams from each group and the four best third-placed teams across all groups advance to the round of 16. For groups with four teams, the results against the fourth-placed teams won’t be considered while ranking the third-placed teams.The Shangcheng Sports Centre Stadium will host the bronze medal match on October 7 while the gold med...</td>\n",
       "      <td>758</td>\n",
       "    </tr>\n",
       "    <tr>\n",
       "      <th>4</th>\n",
       "      <td>The All India Football Federation (AIFF), on Thursday, announced a revised 21-member Indian men’s football team for the Asian Games 2023, scheduled in Hangzhou, the People's Republic of China, from September 23 to October 8.The AIFF had announced a 22-member squad, including ace striker Sunil Chhetri, in August. However, the team was cut to 17 after Indian clubs had reportedly expressed concerns over releasing players for the continental meet with a busy football schedule on the cards, both...</td>\n",
       "      <td>1066</td>\n",
       "    </tr>\n",
       "    <tr>\n",
       "      <th>5</th>\n",
       "      <td>It is a wonderful development that some experienced players have been added to the Asian Games squad, who will certainly help the cause of the team</td>\n",
       "      <td>147</td>\n",
       "    </tr>\n",
       "    <tr>\n",
       "      <th>6</th>\n",
       "      <td>India head coach Igor Stimac said.</td>\n",
       "      <td>34</td>\n",
       "    </tr>\n",
       "    <tr>\n",
       "      <th>7</th>\n",
       "      <td>I am thankful to everyone for making it happen. Whoever represents India, together we will be honoured to defend the flag.</td>\n",
       "      <td>122</td>\n",
       "    </tr>\n",
       "    <tr>\n",
       "      <th>8</th>\n",
       "      <td>I am very happy to see that more senior players have answered the call to join the national team for the Asian Games</td>\n",
       "      <td>116</td>\n",
       "    </tr>\n",
       "    <tr>\n",
       "      <th>9</th>\n",
       "      <td>India captain Sunil Chhetri noted.</td>\n",
       "      <td>35</td>\n",
       "    </tr>\n",
       "    <tr>\n",
       "      <th>10</th>\n",
       "      <td>Our Indian team are going to the Asian Games for the first time in nine years, and it is indeed a special occasion for all of us, who will get this opportunity.</td>\n",
       "      <td>160</td>\n",
       "    </tr>\n",
       "    <tr>\n",
       "      <th>11</th>\n",
       "      <td>The Indian men’s football team has been drawn in Group A alongside hosts China, Bangladesh and Myanmar.India, 99th in the latest FIFA rankings, will be the second-best ranked team in their group behind China (80th). Myanmar are ranked 160th while Bangladesh are 189th.The Indian men’s football team won gold medals at the New Delhi 1951 and Jakarta 1962 Asian Games while clinching a bronze at Bangkok 1970. The Hangzhou 2023 Games will be the 16th Asian Games appearance for the Indian men’s foo...</td>\n",
       "      <td>1143</td>\n",
       "    </tr>\n",
       "  </tbody>\n",
       "</table>\n",
       "</div>"
      ],
      "text/plain": [
       "                                                                                                                                                                                                                                                                                                                                                                                                                                                                                                                   Text  \\\n",
       "0                                                                                                                                                                                                                                                                                                                                                                                                                                                      The mens football tournament at the Asian Games 2023 in Hangzhou   \n",
       "1                                                                                                                                                                                          the People’s Republic of China, starts on September 19 and will conclude on October 7. Matches will be played across seven different venues.The men’s football event at the Asian Games has been an under-23 affair since 2002. However, each team is allowed a maximum of three players above 23 years of age in the squad.   \n",
       "2    At Hangzhou 2023, the men’s football tournament is being contested by 21 teams, who have been divided into four groups of four teams each, one group of three and one group of two for the preliminary round or group stage. The Indian men’s football team is in Group A with hosts China.Afghanistan and Syria, both in Group C, withdrew from the tournament leaving Uzbekistan and Hong Kong China as the only teams in the group.The Republic of Korea, reigning and record five-time champions, headline ...   \n",
       "3    The two teams in Group C will face each other twice. The remaining groups, meanwhile, will be played in a single-legged round robin format.The top two football teams from each group and the four best third-placed teams across all groups advance to the round of 16. For groups with four teams, the results against the fourth-placed teams won’t be considered while ranking the third-placed teams.The Shangcheng Sports Centre Stadium will host the bronze medal match on October 7 while the gold med...   \n",
       "4    The All India Football Federation (AIFF), on Thursday, announced a revised 21-member Indian men’s football team for the Asian Games 2023, scheduled in Hangzhou, the People's Republic of China, from September 23 to October 8.The AIFF had announced a 22-member squad, including ace striker Sunil Chhetri, in August. However, the team was cut to 17 after Indian clubs had reportedly expressed concerns over releasing players for the continental meet with a busy football schedule on the cards, both...   \n",
       "5                                                                                                                                                                                                                                                                                                                                                                   It is a wonderful development that some experienced players have been added to the Asian Games squad, who will certainly help the cause of the team   \n",
       "6                                                                                                                                                                                                                                                                                                                                                                                                                                                                                    India head coach Igor Stimac said.   \n",
       "7                                                                                                                                                                                                                                                                                                                                                                                            I am thankful to everyone for making it happen. Whoever represents India, together we will be honoured to defend the flag.   \n",
       "8                                                                                                                                                                                                                                                                                                                                                                                                  I am very happy to see that more senior players have answered the call to join the national team for the Asian Games   \n",
       "9                                                                                                                                                                                                                                                                                                                                                                                                                                                                                    India captain Sunil Chhetri noted.   \n",
       "10                                                                                                                                                                                                                                                                                                                                                     Our Indian team are going to the Asian Games for the first time in nine years, and it is indeed a special occasion for all of us, who will get this opportunity.   \n",
       "11  The Indian men’s football team has been drawn in Group A alongside hosts China, Bangladesh and Myanmar.India, 99th in the latest FIFA rankings, will be the second-best ranked team in their group behind China (80th). Myanmar are ranked 160th while Bangladesh are 189th.The Indian men’s football team won gold medals at the New Delhi 1951 and Jakarta 1962 Asian Games while clinching a bronze at Bangkok 1970. The Hangzhou 2023 Games will be the 16th Asian Games appearance for the Indian men’s foo...   \n",
       "\n",
       "     len  \n",
       "0     64  \n",
       "1    317  \n",
       "2    504  \n",
       "3    758  \n",
       "4   1066  \n",
       "5    147  \n",
       "6     34  \n",
       "7    122  \n",
       "8    116  \n",
       "9     35  \n",
       "10   160  \n",
       "11  1143  "
      ]
     },
     "execution_count": 29,
     "metadata": {},
     "output_type": "execute_result"
    }
   ],
   "source": [
    "df44"
   ]
  },
  {
   "cell_type": "code",
   "execution_count": 30,
   "id": "61e57501-6673-4292-8a4e-54f22eeba634",
   "metadata": {},
   "outputs": [],
   "source": [
    "df44[\"word_count\"]=df44[\"Text\"].apply(lambda x: len(x.split()))"
   ]
  },
  {
   "cell_type": "code",
   "execution_count": 31,
   "id": "91b477d9-a31f-4323-9456-9123c91facec",
   "metadata": {},
   "outputs": [
    {
     "data": {
      "text/html": [
       "<div>\n",
       "<style scoped>\n",
       "    .dataframe tbody tr th:only-of-type {\n",
       "        vertical-align: middle;\n",
       "    }\n",
       "\n",
       "    .dataframe tbody tr th {\n",
       "        vertical-align: top;\n",
       "    }\n",
       "\n",
       "    .dataframe thead th {\n",
       "        text-align: right;\n",
       "    }\n",
       "</style>\n",
       "<table border=\"1\" class=\"dataframe\">\n",
       "  <thead>\n",
       "    <tr style=\"text-align: right;\">\n",
       "      <th></th>\n",
       "      <th>Text</th>\n",
       "      <th>len</th>\n",
       "      <th>word_count</th>\n",
       "    </tr>\n",
       "  </thead>\n",
       "  <tbody>\n",
       "    <tr>\n",
       "      <th>0</th>\n",
       "      <td>The mens football tournament at the Asian Games 2023 in Hangzhou</td>\n",
       "      <td>64</td>\n",
       "      <td>11</td>\n",
       "    </tr>\n",
       "    <tr>\n",
       "      <th>1</th>\n",
       "      <td>the People’s Republic of China, starts on September 19 and will conclude on October 7. Matches will be played across seven different venues.The men’s football event at the Asian Games has been an under-23 affair since 2002. However, each team is allowed a maximum of three players above 23 years of age in the squad.</td>\n",
       "      <td>317</td>\n",
       "      <td>55</td>\n",
       "    </tr>\n",
       "    <tr>\n",
       "      <th>2</th>\n",
       "      <td>At Hangzhou 2023, the men’s football tournament is being contested by 21 teams, who have been divided into four groups of four teams each, one group of three and one group of two for the preliminary round or group stage. The Indian men’s football team is in Group A with hosts China.Afghanistan and Syria, both in Group C, withdrew from the tournament leaving Uzbekistan and Hong Kong China as the only teams in the group.The Republic of Korea, reigning and record five-time champions, headline ...</td>\n",
       "      <td>504</td>\n",
       "      <td>86</td>\n",
       "    </tr>\n",
       "    <tr>\n",
       "      <th>3</th>\n",
       "      <td>The two teams in Group C will face each other twice. The remaining groups, meanwhile, will be played in a single-legged round robin format.The top two football teams from each group and the four best third-placed teams across all groups advance to the round of 16. For groups with four teams, the results against the fourth-placed teams won’t be considered while ranking the third-placed teams.The Shangcheng Sports Centre Stadium will host the bronze medal match on October 7 while the gold med...</td>\n",
       "      <td>758</td>\n",
       "      <td>126</td>\n",
       "    </tr>\n",
       "    <tr>\n",
       "      <th>4</th>\n",
       "      <td>The All India Football Federation (AIFF), on Thursday, announced a revised 21-member Indian men’s football team for the Asian Games 2023, scheduled in Hangzhou, the People's Republic of China, from September 23 to October 8.The AIFF had announced a 22-member squad, including ace striker Sunil Chhetri, in August. However, the team was cut to 17 after Indian clubs had reportedly expressed concerns over releasing players for the continental meet with a busy football schedule on the cards, both...</td>\n",
       "      <td>1066</td>\n",
       "      <td>166</td>\n",
       "    </tr>\n",
       "    <tr>\n",
       "      <th>5</th>\n",
       "      <td>It is a wonderful development that some experienced players have been added to the Asian Games squad, who will certainly help the cause of the team</td>\n",
       "      <td>147</td>\n",
       "      <td>26</td>\n",
       "    </tr>\n",
       "    <tr>\n",
       "      <th>6</th>\n",
       "      <td>India head coach Igor Stimac said.</td>\n",
       "      <td>34</td>\n",
       "      <td>6</td>\n",
       "    </tr>\n",
       "    <tr>\n",
       "      <th>7</th>\n",
       "      <td>I am thankful to everyone for making it happen. Whoever represents India, together we will be honoured to defend the flag.</td>\n",
       "      <td>122</td>\n",
       "      <td>21</td>\n",
       "    </tr>\n",
       "    <tr>\n",
       "      <th>8</th>\n",
       "      <td>I am very happy to see that more senior players have answered the call to join the national team for the Asian Games</td>\n",
       "      <td>116</td>\n",
       "      <td>23</td>\n",
       "    </tr>\n",
       "    <tr>\n",
       "      <th>9</th>\n",
       "      <td>India captain Sunil Chhetri noted.</td>\n",
       "      <td>35</td>\n",
       "      <td>5</td>\n",
       "    </tr>\n",
       "    <tr>\n",
       "      <th>10</th>\n",
       "      <td>Our Indian team are going to the Asian Games for the first time in nine years, and it is indeed a special occasion for all of us, who will get this opportunity.</td>\n",
       "      <td>160</td>\n",
       "      <td>32</td>\n",
       "    </tr>\n",
       "    <tr>\n",
       "      <th>11</th>\n",
       "      <td>The Indian men’s football team has been drawn in Group A alongside hosts China, Bangladesh and Myanmar.India, 99th in the latest FIFA rankings, will be the second-best ranked team in their group behind China (80th). Myanmar are ranked 160th while Bangladesh are 189th.The Indian men’s football team won gold medals at the New Delhi 1951 and Jakarta 1962 Asian Games while clinching a bronze at Bangkok 1970. The Hangzhou 2023 Games will be the 16th Asian Games appearance for the Indian men’s foo...</td>\n",
       "      <td>1143</td>\n",
       "      <td>189</td>\n",
       "    </tr>\n",
       "  </tbody>\n",
       "</table>\n",
       "</div>"
      ],
      "text/plain": [
       "                                                                                                                                                                                                                                                                                                                                                                                                                                                                                                                   Text  \\\n",
       "0                                                                                                                                                                                                                                                                                                                                                                                                                                                      The mens football tournament at the Asian Games 2023 in Hangzhou   \n",
       "1                                                                                                                                                                                          the People’s Republic of China, starts on September 19 and will conclude on October 7. Matches will be played across seven different venues.The men’s football event at the Asian Games has been an under-23 affair since 2002. However, each team is allowed a maximum of three players above 23 years of age in the squad.   \n",
       "2    At Hangzhou 2023, the men’s football tournament is being contested by 21 teams, who have been divided into four groups of four teams each, one group of three and one group of two for the preliminary round or group stage. The Indian men’s football team is in Group A with hosts China.Afghanistan and Syria, both in Group C, withdrew from the tournament leaving Uzbekistan and Hong Kong China as the only teams in the group.The Republic of Korea, reigning and record five-time champions, headline ...   \n",
       "3    The two teams in Group C will face each other twice. The remaining groups, meanwhile, will be played in a single-legged round robin format.The top two football teams from each group and the four best third-placed teams across all groups advance to the round of 16. For groups with four teams, the results against the fourth-placed teams won’t be considered while ranking the third-placed teams.The Shangcheng Sports Centre Stadium will host the bronze medal match on October 7 while the gold med...   \n",
       "4    The All India Football Federation (AIFF), on Thursday, announced a revised 21-member Indian men’s football team for the Asian Games 2023, scheduled in Hangzhou, the People's Republic of China, from September 23 to October 8.The AIFF had announced a 22-member squad, including ace striker Sunil Chhetri, in August. However, the team was cut to 17 after Indian clubs had reportedly expressed concerns over releasing players for the continental meet with a busy football schedule on the cards, both...   \n",
       "5                                                                                                                                                                                                                                                                                                                                                                   It is a wonderful development that some experienced players have been added to the Asian Games squad, who will certainly help the cause of the team   \n",
       "6                                                                                                                                                                                                                                                                                                                                                                                                                                                                                    India head coach Igor Stimac said.   \n",
       "7                                                                                                                                                                                                                                                                                                                                                                                            I am thankful to everyone for making it happen. Whoever represents India, together we will be honoured to defend the flag.   \n",
       "8                                                                                                                                                                                                                                                                                                                                                                                                  I am very happy to see that more senior players have answered the call to join the national team for the Asian Games   \n",
       "9                                                                                                                                                                                                                                                                                                                                                                                                                                                                                    India captain Sunil Chhetri noted.   \n",
       "10                                                                                                                                                                                                                                                                                                                                                     Our Indian team are going to the Asian Games for the first time in nine years, and it is indeed a special occasion for all of us, who will get this opportunity.   \n",
       "11  The Indian men’s football team has been drawn in Group A alongside hosts China, Bangladesh and Myanmar.India, 99th in the latest FIFA rankings, will be the second-best ranked team in their group behind China (80th). Myanmar are ranked 160th while Bangladesh are 189th.The Indian men’s football team won gold medals at the New Delhi 1951 and Jakarta 1962 Asian Games while clinching a bronze at Bangkok 1970. The Hangzhou 2023 Games will be the 16th Asian Games appearance for the Indian men’s foo...   \n",
       "\n",
       "     len  word_count  \n",
       "0     64          11  \n",
       "1    317          55  \n",
       "2    504          86  \n",
       "3    758         126  \n",
       "4   1066         166  \n",
       "5    147          26  \n",
       "6     34           6  \n",
       "7    122          21  \n",
       "8    116          23  \n",
       "9     35           5  \n",
       "10   160          32  \n",
       "11  1143         189  "
      ]
     },
     "execution_count": 31,
     "metadata": {},
     "output_type": "execute_result"
    }
   ],
   "source": [
    "df44"
   ]
  },
  {
   "cell_type": "code",
   "execution_count": null,
   "id": "7040e035-344a-4bc4-8d63-f2e9ad7fc57e",
   "metadata": {},
   "outputs": [],
   "source": []
  },
  {
   "cell_type": "markdown",
   "id": "f3bb0115-8bcd-415c-a674-eca64865fff8",
   "metadata": {},
   "source": [
    "# Q.5 How are DataFrame.size() and DataFrame.shape() different?"
   ]
  },
  {
   "cell_type": "raw",
   "id": "4da15599-a632-4118-95d3-819e3c9f20cc",
   "metadata": {},
   "source": [
    "DataFrame.size and DataFrame.shape are both attributes in the pandas library in Python, but they provide different information about a DataFrame:\n",
    "\n",
    "  A.. DataFrame.size:\n",
    "\n",
    "                   DataFrame.size returns the total number of elements in the DataFrame. It counts both rows and columns, considering each cell as one element.\n",
    "\n",
    "Example:\n",
    "\n",
    "import pandas as pd\n",
    "\n",
    "data = {'A': [1, 2, 3], 'B': [4, 5, 6]}\n",
    "df = pd.DataFrame(data)\n",
    "\n",
    "size = df.size\n",
    "print(size)  # Output: 6 (3 rows * 2 columns = 6 elements)\n",
    "In the example, the DataFrame df has 3 rows and 2 columns, so df.size returns 6.\n",
    "\n",
    "  \n",
    "    \n",
    "    B..DataFrame.shape:\n",
    "\n",
    "DataFrame.shape returns a tuple representing the dimensions of the DataFrame. It provides the number of rows and columns in the DataFrame.\n",
    "\n",
    "Example:\n",
    "import pandas as pd\n",
    "\n",
    "data = {'A': [1, 2, 3], 'B': [4, 5, 6]}\n",
    "df = pd.DataFrame(data)\n",
    "\n",
    "shape = df.shape\n",
    "print(shape)  # Output: (3, 2) (3 rows, 2 columns)\n",
    "In the example, df.shape returns (3, 2) indicating that the DataFrame has 3 rows and 2 columns.\n",
    "\n",
    "shape[0] gives the number of rows, and shape[1] gives the number of columns.\n",
    "\n",
    "                             \n",
    "    \n",
    "                             In summary:\n",
    "\n",
    "DataFrame.size gives the total number of elements in the DataFrame (rows * columns).\n",
    "DataFrame.shape provides a tuple representing the dimensions of the DataFrame (number of rows, number of columns).\n",
    "These attributes are useful for understanding the size and structure of a DataFrame, which is essential for data manipulation and analysis."
   ]
  },
  {
   "cell_type": "code",
   "execution_count": null,
   "id": "cd626c51-7ee9-4011-8e66-057bbd3b22a5",
   "metadata": {},
   "outputs": [],
   "source": []
  },
  {
   "cell_type": "markdown",
   "id": "73bab4db-9612-4f74-b54d-02ba7cf49c88",
   "metadata": {},
   "source": [
    "# Q.6 Which function of pandas do we use to read an excel file?"
   ]
  },
  {
   "cell_type": "raw",
   "id": "0c2eeeb5-d4e2-42d0-a902-226df6c9f43d",
   "metadata": {},
   "source": [
    "The function in pandas used to read an Excel file is pandas.read_excel().\n",
    "\n",
    "\n",
    "\n",
    "pandas.read_excel():\n",
    "This function is part of the pandas library in Python and is used to read data from Excel files.\n",
    "\n",
    "Example usage:\n",
    "\n",
    "import pandas as pd\n",
    "\n",
    "# Read an Excel file\n",
    "df = pd.read_excel('file.xlsx')\n",
    "\n",
    "\n",
    "                                      Parameters:\n",
    "\n",
    "    1. io: \n",
    "          Specifies the path or Excel file-like object (e.g., file path or buffer).\n",
    "\n",
    "    2. sheet_name: \n",
    "                 Specifies which sheet to read (default is the first sheet).\n",
    "\n",
    "        Additional parameters allow for customization of how the data is read (e.g., specifying specific columns, handling headers, etc.).\n",
    "\n",
    "    3. Returns:\n",
    "\n",
    "            The function returns a DataFrame containing the data from the Excel file.\n",
    " \n",
    "  Using pandas.read_excel(), you can easily import data from Excel spreadsheets into a DataFrame for further analysis and manipulation in Python. \n",
    "    This function supports various Excel file formats, including .xls and .xlsx."
   ]
  },
  {
   "cell_type": "code",
   "execution_count": null,
   "id": "5aa7c109-0fb9-4252-9543-570ae7db78e1",
   "metadata": {},
   "outputs": [],
   "source": []
  },
  {
   "cell_type": "markdown",
   "id": "dcf7825f-1836-4db1-831f-ffd2ad1b2c17",
   "metadata": {},
   "source": [
    "# Q.7 You have a pandas DataFrame df that contains  a column named \"Email\" that contains email addresses in the formate \"username@domain.com\". \n",
    "# Write a Python function that creates a new column \"Username\" in df that contains only the username part of each email address.\n",
    "\n",
    "# The username is the part of the email address that appears before the \"@\" symbol. FOr example, if the email address is \"john@example.com\",\n",
    "# the \"Username\" column should contain \"john.doe\". Your function should extract the username from each email address and store it in the new \"Username\" column."
   ]
  },
  {
   "cell_type": "code",
   "execution_count": 32,
   "id": "b651c3d7-1c2c-48cf-b43c-240b23b63870",
   "metadata": {},
   "outputs": [],
   "source": [
    "import pandas as pd"
   ]
  },
  {
   "cell_type": "code",
   "execution_count": 33,
   "id": "bc522e0d-887c-4387-8bd2-378df92386de",
   "metadata": {},
   "outputs": [],
   "source": [
    "df7=pd.DataFrame({\"Email\":[\"username@domain.com\",\"john@example.com\",\"john.doe@jd.com\"]})"
   ]
  },
  {
   "cell_type": "code",
   "execution_count": 34,
   "id": "dcb14cf8-affc-4b6f-b194-a2971e132033",
   "metadata": {},
   "outputs": [
    {
     "data": {
      "text/html": [
       "<div>\n",
       "<style scoped>\n",
       "    .dataframe tbody tr th:only-of-type {\n",
       "        vertical-align: middle;\n",
       "    }\n",
       "\n",
       "    .dataframe tbody tr th {\n",
       "        vertical-align: top;\n",
       "    }\n",
       "\n",
       "    .dataframe thead th {\n",
       "        text-align: right;\n",
       "    }\n",
       "</style>\n",
       "<table border=\"1\" class=\"dataframe\">\n",
       "  <thead>\n",
       "    <tr style=\"text-align: right;\">\n",
       "      <th></th>\n",
       "      <th>Email</th>\n",
       "    </tr>\n",
       "  </thead>\n",
       "  <tbody>\n",
       "    <tr>\n",
       "      <th>0</th>\n",
       "      <td>username@domain.com</td>\n",
       "    </tr>\n",
       "    <tr>\n",
       "      <th>1</th>\n",
       "      <td>john@example.com</td>\n",
       "    </tr>\n",
       "    <tr>\n",
       "      <th>2</th>\n",
       "      <td>john.doe@jd.com</td>\n",
       "    </tr>\n",
       "  </tbody>\n",
       "</table>\n",
       "</div>"
      ],
      "text/plain": [
       "                 Email\n",
       "0  username@domain.com\n",
       "1     john@example.com\n",
       "2      john.doe@jd.com"
      ]
     },
     "execution_count": 34,
     "metadata": {},
     "output_type": "execute_result"
    }
   ],
   "source": [
    "df7"
   ]
  },
  {
   "cell_type": "code",
   "execution_count": 35,
   "id": "6df87a46-7f5d-447e-b692-410213d479cd",
   "metadata": {},
   "outputs": [],
   "source": [
    "def extract_email(x):\n",
    "    x[\"Username\"]=x[\"Email\"].str.split(\"@\").str[0]\n",
    "    x[\"Domain_name\"]=x[\"Email\"].str.split(\"@\").str[1]\n",
    "    print(x)"
   ]
  },
  {
   "cell_type": "code",
   "execution_count": 36,
   "id": "e5713e00-db68-45bb-aed2-757110994a1f",
   "metadata": {},
   "outputs": [
    {
     "name": "stdout",
     "output_type": "stream",
     "text": [
      "                 Email  Username  Domain_name\n",
      "0  username@domain.com  username   domain.com\n",
      "1     john@example.com      john  example.com\n",
      "2      john.doe@jd.com  john.doe       jd.com\n"
     ]
    }
   ],
   "source": [
    "extract_email(df7)"
   ]
  },
  {
   "cell_type": "code",
   "execution_count": null,
   "id": "36ed1a8f-777c-4ff6-b0dd-f2a4c54592a7",
   "metadata": {},
   "outputs": [],
   "source": []
  },
  {
   "cell_type": "markdown",
   "id": "6ae39bc6-bfb4-4c6c-927d-928509cc03a3",
   "metadata": {},
   "source": [
    "# Q.8 You have a pandas Dataframe df with columns \"A\", \"B\", and \"C\" . Write a python function that selects all rows where the value in \n",
    "# column \"A\" is greater than 5 and the value in column \"B\" is less than 10. The function should return a new DataFrame that contains only\n",
    "# the selected rows.\n",
    "# For example, if df contains the following values:\n",
    " #   A=[3,8,6,2,9,]\n",
    " #   B=[5,2,9,3,1]\n",
    " #   c=[1,7,4,5,2]\n",
    "    \n",
    "# Your function should select the following rows:\n",
    "  # A B C \n",
    "# 1 8 2 7\n",
    "# 4 9 1 2\n",
    "# The function should return a new DataFrame that contains only the selected rows."
   ]
  },
  {
   "cell_type": "code",
   "execution_count": 37,
   "id": "c2e0a69a-f6ec-450e-bcee-f82fae942723",
   "metadata": {},
   "outputs": [],
   "source": [
    "data9={'A':[3,8,6,2,9],\n",
    "'B':[5,2,9,3,1],\n",
    "'c':[1,7,4,5,2]}"
   ]
  },
  {
   "cell_type": "code",
   "execution_count": 38,
   "id": "dff6627f-47fd-4d16-9c56-40fd11904477",
   "metadata": {},
   "outputs": [],
   "source": [
    "df9=pd.DataFrame(data9)"
   ]
  },
  {
   "cell_type": "code",
   "execution_count": 39,
   "id": "361ca5cd-0449-4448-ac0d-0ab2997625df",
   "metadata": {},
   "outputs": [
    {
     "data": {
      "text/html": [
       "<div>\n",
       "<style scoped>\n",
       "    .dataframe tbody tr th:only-of-type {\n",
       "        vertical-align: middle;\n",
       "    }\n",
       "\n",
       "    .dataframe tbody tr th {\n",
       "        vertical-align: top;\n",
       "    }\n",
       "\n",
       "    .dataframe thead th {\n",
       "        text-align: right;\n",
       "    }\n",
       "</style>\n",
       "<table border=\"1\" class=\"dataframe\">\n",
       "  <thead>\n",
       "    <tr style=\"text-align: right;\">\n",
       "      <th></th>\n",
       "      <th>A</th>\n",
       "      <th>B</th>\n",
       "      <th>c</th>\n",
       "    </tr>\n",
       "  </thead>\n",
       "  <tbody>\n",
       "    <tr>\n",
       "      <th>0</th>\n",
       "      <td>3</td>\n",
       "      <td>5</td>\n",
       "      <td>1</td>\n",
       "    </tr>\n",
       "    <tr>\n",
       "      <th>1</th>\n",
       "      <td>8</td>\n",
       "      <td>2</td>\n",
       "      <td>7</td>\n",
       "    </tr>\n",
       "    <tr>\n",
       "      <th>2</th>\n",
       "      <td>6</td>\n",
       "      <td>9</td>\n",
       "      <td>4</td>\n",
       "    </tr>\n",
       "    <tr>\n",
       "      <th>3</th>\n",
       "      <td>2</td>\n",
       "      <td>3</td>\n",
       "      <td>5</td>\n",
       "    </tr>\n",
       "    <tr>\n",
       "      <th>4</th>\n",
       "      <td>9</td>\n",
       "      <td>1</td>\n",
       "      <td>2</td>\n",
       "    </tr>\n",
       "  </tbody>\n",
       "</table>\n",
       "</div>"
      ],
      "text/plain": [
       "   A  B  c\n",
       "0  3  5  1\n",
       "1  8  2  7\n",
       "2  6  9  4\n",
       "3  2  3  5\n",
       "4  9  1  2"
      ]
     },
     "execution_count": 39,
     "metadata": {},
     "output_type": "execute_result"
    }
   ],
   "source": [
    "df9"
   ]
  },
  {
   "cell_type": "code",
   "execution_count": 40,
   "id": "07d09163-fc7c-4741-935b-55563880afdd",
   "metadata": {},
   "outputs": [],
   "source": [
    "new_data=df9[(df9[\"A\"]>5) & (df9[\"B\"]<10)]"
   ]
  },
  {
   "cell_type": "code",
   "execution_count": 41,
   "id": "a54f4e63-4044-429a-aecf-abfa6d305a98",
   "metadata": {},
   "outputs": [
    {
     "data": {
      "text/html": [
       "<div>\n",
       "<style scoped>\n",
       "    .dataframe tbody tr th:only-of-type {\n",
       "        vertical-align: middle;\n",
       "    }\n",
       "\n",
       "    .dataframe tbody tr th {\n",
       "        vertical-align: top;\n",
       "    }\n",
       "\n",
       "    .dataframe thead th {\n",
       "        text-align: right;\n",
       "    }\n",
       "</style>\n",
       "<table border=\"1\" class=\"dataframe\">\n",
       "  <thead>\n",
       "    <tr style=\"text-align: right;\">\n",
       "      <th></th>\n",
       "      <th>A</th>\n",
       "      <th>B</th>\n",
       "      <th>c</th>\n",
       "    </tr>\n",
       "  </thead>\n",
       "  <tbody>\n",
       "    <tr>\n",
       "      <th>1</th>\n",
       "      <td>8</td>\n",
       "      <td>2</td>\n",
       "      <td>7</td>\n",
       "    </tr>\n",
       "    <tr>\n",
       "      <th>2</th>\n",
       "      <td>6</td>\n",
       "      <td>9</td>\n",
       "      <td>4</td>\n",
       "    </tr>\n",
       "    <tr>\n",
       "      <th>4</th>\n",
       "      <td>9</td>\n",
       "      <td>1</td>\n",
       "      <td>2</td>\n",
       "    </tr>\n",
       "  </tbody>\n",
       "</table>\n",
       "</div>"
      ],
      "text/plain": [
       "   A  B  c\n",
       "1  8  2  7\n",
       "2  6  9  4\n",
       "4  9  1  2"
      ]
     },
     "execution_count": 41,
     "metadata": {},
     "output_type": "execute_result"
    }
   ],
   "source": [
    "new_data"
   ]
  },
  {
   "cell_type": "code",
   "execution_count": null,
   "id": "a388c1e0-3fdf-47aa-8675-ea920e27de7d",
   "metadata": {},
   "outputs": [],
   "source": []
  },
  {
   "cell_type": "markdown",
   "id": "99b6cc41-1bdb-40a4-ad4f-3a1965978e1b",
   "metadata": {},
   "source": [
    "# Q9. Given a Pandas DataFrame df with a column 'Values', write a Python function to calculate the mean, median, and standard deviation of the values in the 'Values' column."
   ]
  },
  {
   "cell_type": "code",
   "execution_count": 42,
   "id": "7bc01ad1-42ed-4bab-b621-e6f76b545979",
   "metadata": {},
   "outputs": [
    {
     "data": {
      "text/html": [
       "<div>\n",
       "<style scoped>\n",
       "    .dataframe tbody tr th:only-of-type {\n",
       "        vertical-align: middle;\n",
       "    }\n",
       "\n",
       "    .dataframe tbody tr th {\n",
       "        vertical-align: top;\n",
       "    }\n",
       "\n",
       "    .dataframe thead th {\n",
       "        text-align: right;\n",
       "    }\n",
       "</style>\n",
       "<table border=\"1\" class=\"dataframe\">\n",
       "  <thead>\n",
       "    <tr style=\"text-align: right;\">\n",
       "      <th></th>\n",
       "      <th>Values</th>\n",
       "    </tr>\n",
       "  </thead>\n",
       "  <tbody>\n",
       "    <tr>\n",
       "      <th>1</th>\n",
       "      <td>10</td>\n",
       "    </tr>\n",
       "    <tr>\n",
       "      <th>2</th>\n",
       "      <td>20</td>\n",
       "    </tr>\n",
       "    <tr>\n",
       "      <th>3</th>\n",
       "      <td>30</td>\n",
       "    </tr>\n",
       "    <tr>\n",
       "      <th>4</th>\n",
       "      <td>40</td>\n",
       "    </tr>\n",
       "    <tr>\n",
       "      <th>5</th>\n",
       "      <td>50</td>\n",
       "    </tr>\n",
       "  </tbody>\n",
       "</table>\n",
       "</div>"
      ],
      "text/plain": [
       "   Values\n",
       "1      10\n",
       "2      20\n",
       "3      30\n",
       "4      40\n",
       "5      50"
      ]
     },
     "execution_count": 42,
     "metadata": {},
     "output_type": "execute_result"
    }
   ],
   "source": [
    "df3"
   ]
  },
  {
   "cell_type": "code",
   "execution_count": 43,
   "id": "561d395e-2394-42a8-8561-734d54a8a8ff",
   "metadata": {},
   "outputs": [
    {
     "data": {
      "text/plain": [
       "30.0"
      ]
     },
     "execution_count": 43,
     "metadata": {},
     "output_type": "execute_result"
    }
   ],
   "source": [
    "df3['Values'].mean()"
   ]
  },
  {
   "cell_type": "code",
   "execution_count": 44,
   "id": "2538b6df-86d2-4f72-9749-1ddb37ddc6d3",
   "metadata": {},
   "outputs": [
    {
     "data": {
      "text/plain": [
       "30.0"
      ]
     },
     "execution_count": 44,
     "metadata": {},
     "output_type": "execute_result"
    }
   ],
   "source": [
    "df3['Values'].median()"
   ]
  },
  {
   "cell_type": "code",
   "execution_count": 45,
   "id": "170ca303-be2c-4089-b1e0-f75c34f64a55",
   "metadata": {},
   "outputs": [
    {
     "data": {
      "text/plain": [
       "15.811388300841896"
      ]
     },
     "execution_count": 45,
     "metadata": {},
     "output_type": "execute_result"
    }
   ],
   "source": [
    "df3['Values'].std()"
   ]
  },
  {
   "cell_type": "code",
   "execution_count": null,
   "id": "7f918273-eb8d-42ea-8909-1d3f66aa7d23",
   "metadata": {},
   "outputs": [],
   "source": []
  },
  {
   "cell_type": "markdown",
   "id": "82bcea64-6acf-4927-b4e2-d678b8b9144b",
   "metadata": {},
   "source": [
    "# Q10. Given a Pandas DataFrame df with a column 'Sales' and a column 'Date', write a Python function to create a new column 'MovingAverage' that contains the moving average of the sales for the past 7 days for each row in the DataFrame. The moving average should be calculated using a window of size 7 and should include the current day."
   ]
  },
  {
   "cell_type": "code",
   "execution_count": 46,
   "id": "b661da49-70ea-49fc-8a42-20d3890f6fde",
   "metadata": {},
   "outputs": [],
   "source": [
    "import pandas as pd\n",
    "import numpy as np"
   ]
  },
  {
   "cell_type": "code",
   "execution_count": 47,
   "id": "0023c4f8-82f3-45a7-8d03-2ff66ef44243",
   "metadata": {},
   "outputs": [],
   "source": [
    "Date=pd.date_range(start=\"2023-07-07\", end=\"2023-10-27\")"
   ]
  },
  {
   "cell_type": "code",
   "execution_count": 48,
   "id": "1bef5879-7b55-419a-b0f8-4ad0c44c9718",
   "metadata": {},
   "outputs": [],
   "source": [
    "Sales=np.random.randint(100,5000,len(Date))"
   ]
  },
  {
   "cell_type": "code",
   "execution_count": 49,
   "id": "b5377a3b-e248-40ba-a9a7-3465c3803320",
   "metadata": {},
   "outputs": [],
   "source": [
    "Sales_Table=pd.DataFrame({\"Date\": Date,\"Sales\":Sales})"
   ]
  },
  {
   "cell_type": "code",
   "execution_count": 50,
   "id": "b0e570b5-01a1-4e8e-b68e-5e38b3e9dbd1",
   "metadata": {},
   "outputs": [],
   "source": [
    "Sales_Table[\"MA(window=7)\"]=Sales_Table['Sales'].rolling(window=7).mean()"
   ]
  },
  {
   "cell_type": "code",
   "execution_count": 51,
   "id": "c20a7ba4-70a7-4494-b7a8-eb5f3feef5e0",
   "metadata": {},
   "outputs": [
    {
     "data": {
      "text/html": [
       "<div>\n",
       "<style scoped>\n",
       "    .dataframe tbody tr th:only-of-type {\n",
       "        vertical-align: middle;\n",
       "    }\n",
       "\n",
       "    .dataframe tbody tr th {\n",
       "        vertical-align: top;\n",
       "    }\n",
       "\n",
       "    .dataframe thead th {\n",
       "        text-align: right;\n",
       "    }\n",
       "</style>\n",
       "<table border=\"1\" class=\"dataframe\">\n",
       "  <thead>\n",
       "    <tr style=\"text-align: right;\">\n",
       "      <th></th>\n",
       "      <th>Date</th>\n",
       "      <th>Sales</th>\n",
       "      <th>MA(window=7)</th>\n",
       "    </tr>\n",
       "  </thead>\n",
       "  <tbody>\n",
       "    <tr>\n",
       "      <th>0</th>\n",
       "      <td>2023-07-07</td>\n",
       "      <td>675</td>\n",
       "      <td>NaN</td>\n",
       "    </tr>\n",
       "    <tr>\n",
       "      <th>1</th>\n",
       "      <td>2023-07-08</td>\n",
       "      <td>4572</td>\n",
       "      <td>NaN</td>\n",
       "    </tr>\n",
       "    <tr>\n",
       "      <th>2</th>\n",
       "      <td>2023-07-09</td>\n",
       "      <td>4125</td>\n",
       "      <td>NaN</td>\n",
       "    </tr>\n",
       "    <tr>\n",
       "      <th>3</th>\n",
       "      <td>2023-07-10</td>\n",
       "      <td>1121</td>\n",
       "      <td>NaN</td>\n",
       "    </tr>\n",
       "    <tr>\n",
       "      <th>4</th>\n",
       "      <td>2023-07-11</td>\n",
       "      <td>355</td>\n",
       "      <td>NaN</td>\n",
       "    </tr>\n",
       "    <tr>\n",
       "      <th>5</th>\n",
       "      <td>2023-07-12</td>\n",
       "      <td>3412</td>\n",
       "      <td>NaN</td>\n",
       "    </tr>\n",
       "    <tr>\n",
       "      <th>6</th>\n",
       "      <td>2023-07-13</td>\n",
       "      <td>1750</td>\n",
       "      <td>2287.142857</td>\n",
       "    </tr>\n",
       "    <tr>\n",
       "      <th>7</th>\n",
       "      <td>2023-07-14</td>\n",
       "      <td>2881</td>\n",
       "      <td>2602.285714</td>\n",
       "    </tr>\n",
       "    <tr>\n",
       "      <th>8</th>\n",
       "      <td>2023-07-15</td>\n",
       "      <td>1223</td>\n",
       "      <td>2123.857143</td>\n",
       "    </tr>\n",
       "    <tr>\n",
       "      <th>9</th>\n",
       "      <td>2023-07-16</td>\n",
       "      <td>322</td>\n",
       "      <td>1580.571429</td>\n",
       "    </tr>\n",
       "    <tr>\n",
       "      <th>10</th>\n",
       "      <td>2023-07-17</td>\n",
       "      <td>3106</td>\n",
       "      <td>1864.142857</td>\n",
       "    </tr>\n",
       "    <tr>\n",
       "      <th>11</th>\n",
       "      <td>2023-07-18</td>\n",
       "      <td>1157</td>\n",
       "      <td>1978.714286</td>\n",
       "    </tr>\n",
       "    <tr>\n",
       "      <th>12</th>\n",
       "      <td>2023-07-19</td>\n",
       "      <td>4713</td>\n",
       "      <td>2164.571429</td>\n",
       "    </tr>\n",
       "    <tr>\n",
       "      <th>13</th>\n",
       "      <td>2023-07-20</td>\n",
       "      <td>4918</td>\n",
       "      <td>2617.142857</td>\n",
       "    </tr>\n",
       "    <tr>\n",
       "      <th>14</th>\n",
       "      <td>2023-07-21</td>\n",
       "      <td>683</td>\n",
       "      <td>2303.142857</td>\n",
       "    </tr>\n",
       "  </tbody>\n",
       "</table>\n",
       "</div>"
      ],
      "text/plain": [
       "         Date  Sales  MA(window=7)\n",
       "0  2023-07-07    675           NaN\n",
       "1  2023-07-08   4572           NaN\n",
       "2  2023-07-09   4125           NaN\n",
       "3  2023-07-10   1121           NaN\n",
       "4  2023-07-11    355           NaN\n",
       "5  2023-07-12   3412           NaN\n",
       "6  2023-07-13   1750   2287.142857\n",
       "7  2023-07-14   2881   2602.285714\n",
       "8  2023-07-15   1223   2123.857143\n",
       "9  2023-07-16    322   1580.571429\n",
       "10 2023-07-17   3106   1864.142857\n",
       "11 2023-07-18   1157   1978.714286\n",
       "12 2023-07-19   4713   2164.571429\n",
       "13 2023-07-20   4918   2617.142857\n",
       "14 2023-07-21    683   2303.142857"
      ]
     },
     "execution_count": 51,
     "metadata": {},
     "output_type": "execute_result"
    }
   ],
   "source": [
    "Sales_Table.head(15)"
   ]
  },
  {
   "cell_type": "code",
   "execution_count": null,
   "id": "80c6e122-863a-48b2-b513-ca69a457a91e",
   "metadata": {},
   "outputs": [],
   "source": []
  },
  {
   "cell_type": "markdown",
   "id": "d0c63131-8216-4164-8eea-aa2de6dffa3c",
   "metadata": {},
   "source": [
    "# Q11. You have a Pandas DataFrame df with a column 'Date'. Write a Python function that creates a new column 'Weekday' in the DataFrame. The 'Weekday' column should contain the weekday name (e.g. Monday, Tuesday) corresponding to each date in the 'Date' column. For example, if df contains the following values:\n",
    "# Date\n",
    "# 0 2023-01-01\n",
    "# 1 2023-01-02\n",
    "# 2 2023-01-03\n",
    "# 3 2023-01-04\n",
    "# 4 2023-01-05\n",
    "# Your function should create the following DataFrame:\n",
    "\n",
    "# Date Weekday\n",
    "# 0 2023-01-01 Sunday\n",
    "# 1 2023-01-02 Monday\n",
    "# 2 2023-01-03 Tuesday\n",
    "# 3 2023-01-04 Wednesday\n",
    "# 4 2023-01-05 Thursday\n",
    "# The function should return the modified DataFrame."
   ]
  },
  {
   "cell_type": "code",
   "execution_count": 52,
   "id": "9870478b-b6fb-4d67-bb66-5e2e36d057b9",
   "metadata": {},
   "outputs": [],
   "source": [
    "df=pd.DataFrame({\"Date\":['2023-01-01','2023-01-02','2023-01-03','2023-01-04','2023-01-05']})"
   ]
  },
  {
   "cell_type": "code",
   "execution_count": 53,
   "id": "28793a64-2840-4aa0-9c10-5fec63db9dba",
   "metadata": {},
   "outputs": [
    {
     "data": {
      "text/html": [
       "<div>\n",
       "<style scoped>\n",
       "    .dataframe tbody tr th:only-of-type {\n",
       "        vertical-align: middle;\n",
       "    }\n",
       "\n",
       "    .dataframe tbody tr th {\n",
       "        vertical-align: top;\n",
       "    }\n",
       "\n",
       "    .dataframe thead th {\n",
       "        text-align: right;\n",
       "    }\n",
       "</style>\n",
       "<table border=\"1\" class=\"dataframe\">\n",
       "  <thead>\n",
       "    <tr style=\"text-align: right;\">\n",
       "      <th></th>\n",
       "      <th>Date</th>\n",
       "    </tr>\n",
       "  </thead>\n",
       "  <tbody>\n",
       "    <tr>\n",
       "      <th>0</th>\n",
       "      <td>2023-01-01</td>\n",
       "    </tr>\n",
       "    <tr>\n",
       "      <th>1</th>\n",
       "      <td>2023-01-02</td>\n",
       "    </tr>\n",
       "    <tr>\n",
       "      <th>2</th>\n",
       "      <td>2023-01-03</td>\n",
       "    </tr>\n",
       "    <tr>\n",
       "      <th>3</th>\n",
       "      <td>2023-01-04</td>\n",
       "    </tr>\n",
       "    <tr>\n",
       "      <th>4</th>\n",
       "      <td>2023-01-05</td>\n",
       "    </tr>\n",
       "  </tbody>\n",
       "</table>\n",
       "</div>"
      ],
      "text/plain": [
       "         Date\n",
       "0  2023-01-01\n",
       "1  2023-01-02\n",
       "2  2023-01-03\n",
       "3  2023-01-04\n",
       "4  2023-01-05"
      ]
     },
     "execution_count": 53,
     "metadata": {},
     "output_type": "execute_result"
    }
   ],
   "source": [
    "df"
   ]
  },
  {
   "cell_type": "code",
   "execution_count": 54,
   "id": "a1540748-60b5-4da7-876f-89429702d696",
   "metadata": {},
   "outputs": [
    {
     "data": {
      "text/plain": [
       "Date    object\n",
       "dtype: object"
      ]
     },
     "execution_count": 54,
     "metadata": {},
     "output_type": "execute_result"
    }
   ],
   "source": [
    "df.dtypes"
   ]
  },
  {
   "cell_type": "code",
   "execution_count": 55,
   "id": "6327a578-d56f-41cf-a791-3e59c24ccb5a",
   "metadata": {},
   "outputs": [],
   "source": [
    "def week_day(df):\n",
    "    df[\"update_date\"]=pd.to_datetime(df['Date'])\n",
    "    df[\"Week_day\"]=df['update_date'].dt.strftime('%A')\n",
    "    print(df)"
   ]
  },
  {
   "cell_type": "code",
   "execution_count": 56,
   "id": "7d77ed52-bacb-4c05-a2bd-3ca5b4b5abc5",
   "metadata": {},
   "outputs": [
    {
     "name": "stdout",
     "output_type": "stream",
     "text": [
      "         Date update_date   Week_day\n",
      "0  2023-01-01  2023-01-01     Sunday\n",
      "1  2023-01-02  2023-01-02     Monday\n",
      "2  2023-01-03  2023-01-03    Tuesday\n",
      "3  2023-01-04  2023-01-04  Wednesday\n",
      "4  2023-01-05  2023-01-05   Thursday\n"
     ]
    }
   ],
   "source": [
    "week_day(df)"
   ]
  },
  {
   "cell_type": "code",
   "execution_count": null,
   "id": "d09eb227-09a8-4341-93b6-0341cc26117b",
   "metadata": {},
   "outputs": [],
   "source": []
  },
  {
   "cell_type": "markdown",
   "id": "549b6ef5-3ba1-4166-ac8a-819667fdcb1d",
   "metadata": {},
   "source": [
    "# Q12. Given a Pandas DataFrame df with a column 'Date' that contains timestamps, write a Python function to select all rows where the date is between '2023-01-01' and '2023-01-31'."
   ]
  },
  {
   "cell_type": "code",
   "execution_count": 57,
   "id": "35353947-4b36-464a-8476-b2c960701e14",
   "metadata": {},
   "outputs": [],
   "source": [
    "df12=pd.DataFrame({\"Date\":[\"2023-01-19\",\"2023-01-25\",\"2023-02-08\",\"2022-12-31\",\"2023-02-01\"]})"
   ]
  },
  {
   "cell_type": "code",
   "execution_count": 58,
   "id": "420f73b0-0410-4987-aebb-f2adfcc1ef3e",
   "metadata": {},
   "outputs": [
    {
     "data": {
      "text/html": [
       "<div>\n",
       "<style scoped>\n",
       "    .dataframe tbody tr th:only-of-type {\n",
       "        vertical-align: middle;\n",
       "    }\n",
       "\n",
       "    .dataframe tbody tr th {\n",
       "        vertical-align: top;\n",
       "    }\n",
       "\n",
       "    .dataframe thead th {\n",
       "        text-align: right;\n",
       "    }\n",
       "</style>\n",
       "<table border=\"1\" class=\"dataframe\">\n",
       "  <thead>\n",
       "    <tr style=\"text-align: right;\">\n",
       "      <th></th>\n",
       "      <th>Date</th>\n",
       "    </tr>\n",
       "  </thead>\n",
       "  <tbody>\n",
       "    <tr>\n",
       "      <th>0</th>\n",
       "      <td>2023-01-19</td>\n",
       "    </tr>\n",
       "    <tr>\n",
       "      <th>1</th>\n",
       "      <td>2023-01-25</td>\n",
       "    </tr>\n",
       "    <tr>\n",
       "      <th>2</th>\n",
       "      <td>2023-02-08</td>\n",
       "    </tr>\n",
       "    <tr>\n",
       "      <th>3</th>\n",
       "      <td>2022-12-31</td>\n",
       "    </tr>\n",
       "    <tr>\n",
       "      <th>4</th>\n",
       "      <td>2023-02-01</td>\n",
       "    </tr>\n",
       "  </tbody>\n",
       "</table>\n",
       "</div>"
      ],
      "text/plain": [
       "         Date\n",
       "0  2023-01-19\n",
       "1  2023-01-25\n",
       "2  2023-02-08\n",
       "3  2022-12-31\n",
       "4  2023-02-01"
      ]
     },
     "execution_count": 58,
     "metadata": {},
     "output_type": "execute_result"
    }
   ],
   "source": [
    "df12"
   ]
  },
  {
   "cell_type": "code",
   "execution_count": 59,
   "id": "71a3827b-e179-4821-8934-4fc029e78c09",
   "metadata": {},
   "outputs": [
    {
     "data": {
      "text/plain": [
       "Date    object\n",
       "dtype: object"
      ]
     },
     "execution_count": 59,
     "metadata": {},
     "output_type": "execute_result"
    }
   ],
   "source": [
    "df12.dtypes"
   ]
  },
  {
   "cell_type": "code",
   "execution_count": 60,
   "id": "ca2d9db6-7855-435b-939a-a53c023786f2",
   "metadata": {},
   "outputs": [],
   "source": [
    "def filter_date(df):\n",
    "    df[\"update_Date\"]=pd.to_datetime(df[\"Date\"])\n",
    "    start_date=\"2023-01-01\"\n",
    "    end_date=\"2023-01-31\"\n",
    "    fil_date=df[(df[\"update_Date\"]>= start_date) & (df[\"update_Date\"]<=end_date)]\n",
    "    print(fil_date)\n"
   ]
  },
  {
   "cell_type": "code",
   "execution_count": 61,
   "id": "1f5d0f8d-5939-4fca-bcde-823d8c02ff68",
   "metadata": {},
   "outputs": [
    {
     "name": "stdout",
     "output_type": "stream",
     "text": [
      "         Date update_Date\n",
      "0  2023-01-19  2023-01-19\n",
      "1  2023-01-25  2023-01-25\n"
     ]
    }
   ],
   "source": [
    "filter_date(df12)"
   ]
  },
  {
   "cell_type": "code",
   "execution_count": null,
   "id": "90da93be-2485-4457-8465-008e53a49f84",
   "metadata": {},
   "outputs": [],
   "source": []
  },
  {
   "cell_type": "markdown",
   "id": "8a5f5173-779d-4a97-b216-2db3ebf10459",
   "metadata": {},
   "source": [
    "# Q13. To use the basic functions of pandas, what is the first and foremost necessary library that needs to be imported?"
   ]
  },
  {
   "cell_type": "raw",
   "id": "0642bc99-4583-47b6-8b0b-62de2a563647",
   "metadata": {},
   "source": [
    "To use the basic functions of pandas, you need to import the pandas library itself. This can be done with the following line of code in Python:"
   ]
  },
  {
   "cell_type": "code",
   "execution_count": 62,
   "id": "92b835c4-663c-4928-8445-cd1b37e534fd",
   "metadata": {},
   "outputs": [],
   "source": [
    "import pandas as pd\n"
   ]
  },
  {
   "cell_type": "raw",
   "id": "a0295948-2491-4227-b49e-02f04624c833",
   "metadata": {},
   "source": [
    "Here, import pandas brings the entire pandas library into your Python environment, and as pd gives it an alias pd for convenience. This is a common convention in the Python community,\n",
    "making it easier to refer to pandas functions and objects.\n",
    "\n",
    "After importing pandas, you can start using its various functions and classes for data manipulation and analysis."
   ]
  },
  {
   "cell_type": "code",
   "execution_count": null,
   "id": "1d60e748-c3fd-40db-a954-7198398fd866",
   "metadata": {},
   "outputs": [],
   "source": []
  }
 ],
 "metadata": {
  "kernelspec": {
   "display_name": "Python 3 (ipykernel)",
   "language": "python",
   "name": "python3"
  },
  "language_info": {
   "codemirror_mode": {
    "name": "ipython",
    "version": 3
   },
   "file_extension": ".py",
   "mimetype": "text/x-python",
   "name": "python",
   "nbconvert_exporter": "python",
   "pygments_lexer": "ipython3",
   "version": "3.10.8"
  }
 },
 "nbformat": 4,
 "nbformat_minor": 5
}
