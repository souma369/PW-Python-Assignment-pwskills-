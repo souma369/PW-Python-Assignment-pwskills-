{
 "cells": [
  {
   "cell_type": "markdown",
   "id": "fe78ac94-6b3f-4ac6-ac5f-df306ebd2206",
   "metadata": {},
   "source": [
    "## PANDAS BASIC"
   ]
  },
  {
   "cell_type": "code",
   "execution_count": 1,
   "id": "302cd134-d054-4156-9663-b680c216536a",
   "metadata": {},
   "outputs": [],
   "source": [
    "import pandas as pd"
   ]
  },
  {
   "cell_type": "code",
   "execution_count": 2,
   "id": "4d7b4198-3adb-4d89-956a-55393d46cd18",
   "metadata": {},
   "outputs": [
    {
     "name": "stdout",
     "output_type": "stream",
     "text": [
      "Requirement already satisfied: pandas in /opt/conda/lib/python3.10/site-packages (1.5.2)\n",
      "Requirement already satisfied: python-dateutil>=2.8.1 in /opt/conda/lib/python3.10/site-packages (from pandas) (2.8.2)\n",
      "Requirement already satisfied: pytz>=2020.1 in /opt/conda/lib/python3.10/site-packages (from pandas) (2022.6)\n",
      "Requirement already satisfied: numpy>=1.21.0 in /opt/conda/lib/python3.10/site-packages (from pandas) (1.23.5)\n",
      "Requirement already satisfied: six>=1.5 in /opt/conda/lib/python3.10/site-packages (from python-dateutil>=2.8.1->pandas) (1.16.0)\n",
      "Note: you may need to restart the kernel to use updated packages.\n"
     ]
    }
   ],
   "source": [
    "pip install pandas"
   ]
  },
  {
   "cell_type": "markdown",
   "id": "1af13af1-ec89-43ff-8d3b-cef618be38b6",
   "metadata": {},
   "source": [
    "# Q.1 Create a pandas series that contains the following data : 4, 8, 15, 16, 23, and 42. Then print the series."
   ]
  },
  {
   "cell_type": "code",
   "execution_count": 3,
   "id": "a4a714f5-a251-4b7e-b426-74a47cf762d7",
   "metadata": {},
   "outputs": [],
   "source": [
    "S=[4,8,15,16,23,42]\n",
    "i=[\"a\",\"b\",\"c\",\"d\",\"e\",\"f\"]"
   ]
  },
  {
   "cell_type": "code",
   "execution_count": 4,
   "id": "16e10495-a3ba-4276-b1e2-da4e6bf37cf2",
   "metadata": {},
   "outputs": [],
   "source": [
    "s2=pd.Series(S, index=i)"
   ]
  },
  {
   "cell_type": "code",
   "execution_count": 5,
   "id": "0e090717-d9bc-49bc-a511-5c2b140ff417",
   "metadata": {},
   "outputs": [
    {
     "data": {
      "text/plain": [
       "a     4\n",
       "b     8\n",
       "c    15\n",
       "d    16\n",
       "e    23\n",
       "f    42\n",
       "dtype: int64"
      ]
     },
     "execution_count": 5,
     "metadata": {},
     "output_type": "execute_result"
    }
   ],
   "source": [
    "s2"
   ]
  },
  {
   "cell_type": "code",
   "execution_count": 6,
   "id": "95f14a71-9b57-4a51-816f-02145e4bd819",
   "metadata": {},
   "outputs": [
    {
     "data": {
      "text/plain": [
       "pandas.core.series.Series"
      ]
     },
     "execution_count": 6,
     "metadata": {},
     "output_type": "execute_result"
    }
   ],
   "source": [
    "type(s2)"
   ]
  },
  {
   "cell_type": "code",
   "execution_count": 7,
   "id": "995b79e4-f7e8-46da-962e-220b15de4e3a",
   "metadata": {},
   "outputs": [],
   "source": [
    "s1=pd.Series(list(S),index=i)"
   ]
  },
  {
   "cell_type": "code",
   "execution_count": 8,
   "id": "bbdf9657-80f1-4cf5-ab8c-a199123443ed",
   "metadata": {},
   "outputs": [
    {
     "data": {
      "text/plain": [
       "a     4\n",
       "b     8\n",
       "c    15\n",
       "d    16\n",
       "e    23\n",
       "f    42\n",
       "dtype: int64"
      ]
     },
     "execution_count": 8,
     "metadata": {},
     "output_type": "execute_result"
    }
   ],
   "source": [
    "s1"
   ]
  },
  {
   "cell_type": "code",
   "execution_count": 9,
   "id": "dfdfd34b-e3aa-481f-a89c-6db49987afd7",
   "metadata": {},
   "outputs": [
    {
     "data": {
      "text/plain": [
       "pandas.core.series.Series"
      ]
     },
     "execution_count": 9,
     "metadata": {},
     "output_type": "execute_result"
    }
   ],
   "source": [
    "type(s1)"
   ]
  },
  {
   "cell_type": "markdown",
   "id": "e697e8d8-0b9a-4789-8cc3-afad1bc6d341",
   "metadata": {},
   "source": [
    "# Q.2 Create a variable of list type containing 10  elements in it, and apply pandas.series function on the variable print it."
   ]
  },
  {
   "cell_type": "code",
   "execution_count": 10,
   "id": "5f46127b-4282-4280-b89a-da72540e8ccc",
   "metadata": {},
   "outputs": [],
   "source": [
    "my_list=[5,15,25,35,45,55,65,75,85,95]"
   ]
  },
  {
   "cell_type": "code",
   "execution_count": 11,
   "id": "a39e9711-3f71-41ae-8def-84b85726ad05",
   "metadata": {},
   "outputs": [],
   "source": [
    "my_series=pd.Series(my_list)"
   ]
  },
  {
   "cell_type": "code",
   "execution_count": 12,
   "id": "2b062c56-abb6-41a5-bcbe-62c7515c9310",
   "metadata": {},
   "outputs": [
    {
     "data": {
      "text/plain": [
       "0     5\n",
       "1    15\n",
       "2    25\n",
       "3    35\n",
       "4    45\n",
       "5    55\n",
       "6    65\n",
       "7    75\n",
       "8    85\n",
       "9    95\n",
       "dtype: int64"
      ]
     },
     "execution_count": 12,
     "metadata": {},
     "output_type": "execute_result"
    }
   ],
   "source": [
    "my_series"
   ]
  },
  {
   "cell_type": "markdown",
   "id": "b6865ebe-e812-46ac-bfe4-0c1866dc956c",
   "metadata": {},
   "source": [
    "# Q.3 Create a pandas DataFrame that contains the following data:\n",
    "Name= Alice, Bob, Claire, \n",
    "Age= 25,30,27,\n",
    "Gender= Female, Male, Female\n",
    "\n",
    "Then print the DataFrame"
   ]
  },
  {
   "cell_type": "code",
   "execution_count": 13,
   "id": "2082c18c-28f8-40bc-a773-cadebcce9767",
   "metadata": {},
   "outputs": [],
   "source": [
    "d1={\"Name\" : [\"Alica\",\"Bob\",\"Claire\"],\"Age\" :[25,30,27],\"Gender\" :[\"Female\",\"Male\",\"Female\"]}"
   ]
  },
  {
   "cell_type": "code",
   "execution_count": 14,
   "id": "58f100ea-a4ed-443a-ac99-b7ca5371a0cc",
   "metadata": {},
   "outputs": [],
   "source": [
    "df=pd.DataFrame(d1)"
   ]
  },
  {
   "cell_type": "code",
   "execution_count": 15,
   "id": "6f44193b-2e95-4042-8cfb-ad97c683b6ba",
   "metadata": {},
   "outputs": [
    {
     "data": {
      "text/html": [
       "<div>\n",
       "<style scoped>\n",
       "    .dataframe tbody tr th:only-of-type {\n",
       "        vertical-align: middle;\n",
       "    }\n",
       "\n",
       "    .dataframe tbody tr th {\n",
       "        vertical-align: top;\n",
       "    }\n",
       "\n",
       "    .dataframe thead th {\n",
       "        text-align: right;\n",
       "    }\n",
       "</style>\n",
       "<table border=\"1\" class=\"dataframe\">\n",
       "  <thead>\n",
       "    <tr style=\"text-align: right;\">\n",
       "      <th></th>\n",
       "      <th>Name</th>\n",
       "      <th>Age</th>\n",
       "      <th>Gender</th>\n",
       "    </tr>\n",
       "  </thead>\n",
       "  <tbody>\n",
       "    <tr>\n",
       "      <th>0</th>\n",
       "      <td>Alica</td>\n",
       "      <td>25</td>\n",
       "      <td>Female</td>\n",
       "    </tr>\n",
       "    <tr>\n",
       "      <th>1</th>\n",
       "      <td>Bob</td>\n",
       "      <td>30</td>\n",
       "      <td>Male</td>\n",
       "    </tr>\n",
       "    <tr>\n",
       "      <th>2</th>\n",
       "      <td>Claire</td>\n",
       "      <td>27</td>\n",
       "      <td>Female</td>\n",
       "    </tr>\n",
       "  </tbody>\n",
       "</table>\n",
       "</div>"
      ],
      "text/plain": [
       "     Name  Age  Gender\n",
       "0   Alica   25  Female\n",
       "1     Bob   30    Male\n",
       "2  Claire   27  Female"
      ]
     },
     "execution_count": 15,
     "metadata": {},
     "output_type": "execute_result"
    }
   ],
   "source": [
    "df"
   ]
  },
  {
   "cell_type": "code",
   "execution_count": 16,
   "id": "edfaa32e-8ae8-4ae8-bd2d-342c312f1e75",
   "metadata": {},
   "outputs": [],
   "source": [
    "df.set_index(\"Name\",inplace=True)"
   ]
  },
  {
   "cell_type": "code",
   "execution_count": 17,
   "id": "e93df469-9ee5-4af7-8af3-2bbeb1bc29a3",
   "metadata": {},
   "outputs": [
    {
     "data": {
      "text/html": [
       "<div>\n",
       "<style scoped>\n",
       "    .dataframe tbody tr th:only-of-type {\n",
       "        vertical-align: middle;\n",
       "    }\n",
       "\n",
       "    .dataframe tbody tr th {\n",
       "        vertical-align: top;\n",
       "    }\n",
       "\n",
       "    .dataframe thead th {\n",
       "        text-align: right;\n",
       "    }\n",
       "</style>\n",
       "<table border=\"1\" class=\"dataframe\">\n",
       "  <thead>\n",
       "    <tr style=\"text-align: right;\">\n",
       "      <th></th>\n",
       "      <th>Age</th>\n",
       "      <th>Gender</th>\n",
       "    </tr>\n",
       "    <tr>\n",
       "      <th>Name</th>\n",
       "      <th></th>\n",
       "      <th></th>\n",
       "    </tr>\n",
       "  </thead>\n",
       "  <tbody>\n",
       "    <tr>\n",
       "      <th>Alica</th>\n",
       "      <td>25</td>\n",
       "      <td>Female</td>\n",
       "    </tr>\n",
       "    <tr>\n",
       "      <th>Bob</th>\n",
       "      <td>30</td>\n",
       "      <td>Male</td>\n",
       "    </tr>\n",
       "    <tr>\n",
       "      <th>Claire</th>\n",
       "      <td>27</td>\n",
       "      <td>Female</td>\n",
       "    </tr>\n",
       "  </tbody>\n",
       "</table>\n",
       "</div>"
      ],
      "text/plain": [
       "        Age  Gender\n",
       "Name               \n",
       "Alica    25  Female\n",
       "Bob      30    Male\n",
       "Claire   27  Female"
      ]
     },
     "execution_count": 17,
     "metadata": {},
     "output_type": "execute_result"
    }
   ],
   "source": [
    "df"
   ]
  },
  {
   "cell_type": "markdown",
   "id": "78e03ef8-fe49-43f9-bc15-3c610203b830",
   "metadata": {},
   "source": [
    "# Q.4 What is \"DataFrame\" in pandas and how is it different from pandas.series? Explain with an example."
   ]
  },
  {
   "cell_type": "markdown",
   "id": "58a898fe-eb13-40e3-bf2f-17a7d6273121",
   "metadata": {},
   "source": [
    "## What is \"DataFrame\" in pandas and how is it different from pandas.series?"
   ]
  },
  {
   "cell_type": "raw",
   "id": "85ad6027-3df7-4c69-924b-907f66dd9426",
   "metadata": {},
   "source": [
    "In pandas, a DataFrame is a two-dimensional labeled data structure, similar to a table in a relational database or an Excel spreadsheet. It is one of the primary data structures used for data manipulation and analysis in pandas. A DataFrame is capable of holding data of different data types, and it organizes data in rows and columns, where each column can have a different data type."
   ]
  },
  {
   "cell_type": "raw",
   "id": "9bdc2244-fd8b-4fd9-a1fc-5e9c616505b9",
   "metadata": {},
   "source": [
    "On the other hand, a pandas Series is a one-dimensional labeled array, which can be thought of as a single column of data. It is similar to a Python list or a one-column DataFrame. A Series can hold data of the same data type and is associated with an index that labels each element in the Series."
   ]
  },
  {
   "cell_type": "markdown",
   "id": "7b070443-ad5f-4d38-a7ba-853247e87904",
   "metadata": {},
   "source": [
    "## Explain with an example."
   ]
  },
  {
   "cell_type": "code",
   "execution_count": 18,
   "id": "87d56c5e-e5af-45e3-8b59-3da708f2d8ed",
   "metadata": {},
   "outputs": [
    {
     "data": {
      "text/plain": [
       "{'Name': ['Alica', 'Bob', 'Claire'],\n",
       " 'Age': [25, 30, 27],\n",
       " 'Gender': ['Female', 'Male', 'Female']}"
      ]
     },
     "execution_count": 18,
     "metadata": {},
     "output_type": "execute_result"
    }
   ],
   "source": [
    "d1"
   ]
  },
  {
   "cell_type": "code",
   "execution_count": 19,
   "id": "9d42a4c1-c2c2-4d7b-a7b5-560fa110212a",
   "metadata": {},
   "outputs": [],
   "source": [
    "# creating a dataframe from the d1\n",
    "df2=pd.DataFrame(d1)"
   ]
  },
  {
   "cell_type": "code",
   "execution_count": 20,
   "id": "f58bf6d1-6867-409c-a38c-767de8527119",
   "metadata": {},
   "outputs": [
    {
     "data": {
      "text/html": [
       "<div>\n",
       "<style scoped>\n",
       "    .dataframe tbody tr th:only-of-type {\n",
       "        vertical-align: middle;\n",
       "    }\n",
       "\n",
       "    .dataframe tbody tr th {\n",
       "        vertical-align: top;\n",
       "    }\n",
       "\n",
       "    .dataframe thead th {\n",
       "        text-align: right;\n",
       "    }\n",
       "</style>\n",
       "<table border=\"1\" class=\"dataframe\">\n",
       "  <thead>\n",
       "    <tr style=\"text-align: right;\">\n",
       "      <th></th>\n",
       "      <th>Name</th>\n",
       "      <th>Age</th>\n",
       "      <th>Gender</th>\n",
       "    </tr>\n",
       "  </thead>\n",
       "  <tbody>\n",
       "    <tr>\n",
       "      <th>0</th>\n",
       "      <td>Alica</td>\n",
       "      <td>25</td>\n",
       "      <td>Female</td>\n",
       "    </tr>\n",
       "    <tr>\n",
       "      <th>1</th>\n",
       "      <td>Bob</td>\n",
       "      <td>30</td>\n",
       "      <td>Male</td>\n",
       "    </tr>\n",
       "    <tr>\n",
       "      <th>2</th>\n",
       "      <td>Claire</td>\n",
       "      <td>27</td>\n",
       "      <td>Female</td>\n",
       "    </tr>\n",
       "  </tbody>\n",
       "</table>\n",
       "</div>"
      ],
      "text/plain": [
       "     Name  Age  Gender\n",
       "0   Alica   25  Female\n",
       "1     Bob   30    Male\n",
       "2  Claire   27  Female"
      ]
     },
     "execution_count": 20,
     "metadata": {},
     "output_type": "execute_result"
    }
   ],
   "source": [
    "df2"
   ]
  },
  {
   "cell_type": "code",
   "execution_count": 21,
   "id": "d2408574-b456-4fd1-9fb3-c08f66d1ed1c",
   "metadata": {},
   "outputs": [
    {
     "name": "stdout",
     "output_type": "stream",
     "text": [
      "     Name  Age  Gender\n",
      "0   Alica   25  Female\n",
      "1     Bob   30    Male\n",
      "2  Claire   27  Female\n"
     ]
    }
   ],
   "source": [
    "print(df2)"
   ]
  },
  {
   "cell_type": "raw",
   "id": "86507b1b-6344-437c-9183-91dbc310df47",
   "metadata": {},
   "source": [
    "In the above example, data is a dictionary containing three columns: 'Name', 'Age', and 'Gender'. When we pass this data to pd.DataFrame(), it creates a DataFrame with three rows and three columns. Each column has a unique label, and the DataFrame can hold data of different types (strings for 'Name' and 'Gender', and integers for 'Age')."
   ]
  },
  {
   "cell_type": "code",
   "execution_count": 22,
   "id": "f6127d52-baaa-47fe-9eb8-f9ce884e490e",
   "metadata": {},
   "outputs": [],
   "source": [
    "# creating series\n",
    "Age= pd.Series([25,30,27])"
   ]
  },
  {
   "cell_type": "code",
   "execution_count": 23,
   "id": "616be9ea-c819-4f47-a940-4c3e0b0c6718",
   "metadata": {},
   "outputs": [
    {
     "name": "stdout",
     "output_type": "stream",
     "text": [
      "0    25\n",
      "1    30\n",
      "2    27\n",
      "dtype: int64\n"
     ]
    }
   ],
   "source": [
    "\n",
    "print(Age)"
   ]
  },
  {
   "cell_type": "raw",
   "id": "583cdf7e-094f-418a-8dea-364890089499",
   "metadata": {},
   "source": [
    "The Age variable, on the other hand, is a pandas Series that contains three integers. It only has one column of data, and each element in the Series is labeled with an index (0, 1, 2)."
   ]
  },
  {
   "cell_type": "raw",
   "id": "18d7dc7e-85ad-46eb-b2c1-afb4bc8fbe40",
   "metadata": {},
   "source": [
    "In summary, a DataFrame is a two-dimensional data structure that can hold multiple columns of data of different data types, while a Series is a one-dimensional data structure that represents a single column of data with associated labels.\n",
    "\n",
    "\n",
    "\n",
    "\n"
   ]
  },
  {
   "cell_type": "markdown",
   "id": "191b0bce-3a9d-4bbe-95e9-c8d67aaf2f8e",
   "metadata": {},
   "source": [
    "# Q.5 What are the some common functions you can use to manipulate data in a pandas DataFrame? Can you give an example of when you might use one of these functions?"
   ]
  },
  {
   "cell_type": "markdown",
   "id": "51fad9d2-77b3-43b0-9f1d-42972516b9f4",
   "metadata": {},
   "source": [
    "## What are the some common functions you can use to manipulate data in a pandas DataFrame?"
   ]
  },
  {
   "cell_type": "code",
   "execution_count": 24,
   "id": "740a6f12-7a5b-426f-9ffb-f0fb75060044",
   "metadata": {},
   "outputs": [],
   "source": [
    "###   Some common functions are which can use to manipulate data in a pandas DataFrame\n",
    "#  1. Filtering: we can filtering rows based conditions using the \"loc\" or \"iloc\" function.\n",
    "df5={\"Name\" : [\"Alica\",\"Bob\",\"Claire\"],\"Age\" :[25,30,27],\"Gender\" :[\"Female\",\"Male\",\"Female\"]}"
   ]
  },
  {
   "cell_type": "code",
   "execution_count": 25,
   "id": "b9f3f99e-5ba4-4e39-b494-3c355340ffbe",
   "metadata": {},
   "outputs": [],
   "source": [
    "df6=pd.DataFrame(df5)"
   ]
  },
  {
   "cell_type": "code",
   "execution_count": 26,
   "id": "c63514c8-83a1-4254-93f0-ac7e8f99e1f3",
   "metadata": {},
   "outputs": [
    {
     "data": {
      "text/html": [
       "<div>\n",
       "<style scoped>\n",
       "    .dataframe tbody tr th:only-of-type {\n",
       "        vertical-align: middle;\n",
       "    }\n",
       "\n",
       "    .dataframe tbody tr th {\n",
       "        vertical-align: top;\n",
       "    }\n",
       "\n",
       "    .dataframe thead th {\n",
       "        text-align: right;\n",
       "    }\n",
       "</style>\n",
       "<table border=\"1\" class=\"dataframe\">\n",
       "  <thead>\n",
       "    <tr style=\"text-align: right;\">\n",
       "      <th></th>\n",
       "      <th>Name</th>\n",
       "      <th>Age</th>\n",
       "      <th>Gender</th>\n",
       "    </tr>\n",
       "  </thead>\n",
       "  <tbody>\n",
       "    <tr>\n",
       "      <th>0</th>\n",
       "      <td>Alica</td>\n",
       "      <td>25</td>\n",
       "      <td>Female</td>\n",
       "    </tr>\n",
       "    <tr>\n",
       "      <th>1</th>\n",
       "      <td>Bob</td>\n",
       "      <td>30</td>\n",
       "      <td>Male</td>\n",
       "    </tr>\n",
       "    <tr>\n",
       "      <th>2</th>\n",
       "      <td>Claire</td>\n",
       "      <td>27</td>\n",
       "      <td>Female</td>\n",
       "    </tr>\n",
       "  </tbody>\n",
       "</table>\n",
       "</div>"
      ],
      "text/plain": [
       "     Name  Age  Gender\n",
       "0   Alica   25  Female\n",
       "1     Bob   30    Male\n",
       "2  Claire   27  Female"
      ]
     },
     "execution_count": 26,
     "metadata": {},
     "output_type": "execute_result"
    }
   ],
   "source": [
    "df6"
   ]
  },
  {
   "cell_type": "code",
   "execution_count": 27,
   "id": "842e8eda-6a0a-4364-a69a-391bc481cf17",
   "metadata": {},
   "outputs": [
    {
     "name": "stdout",
     "output_type": "stream",
     "text": [
      "     Name  Age  Gender\n",
      "1     Bob   30    Male\n",
      "2  Claire   27  Female\n"
     ]
    }
   ],
   "source": [
    "#  filter the age greater than 25\n",
    "filtered_df6= df6.loc[df6[\"Age\"]>25]\n",
    "print(filtered_df6)"
   ]
  },
  {
   "cell_type": "code",
   "execution_count": 28,
   "id": "f1cd325f-848a-454f-8668-3413e34003f6",
   "metadata": {},
   "outputs": [
    {
     "name": "stdout",
     "output_type": "stream",
     "text": [
      "     Name  Age  Gender\n",
      "1     Bob   30    Male\n",
      "2  Claire   27  Female\n",
      "0   Alica   25  Female\n"
     ]
    }
   ],
   "source": [
    "# 2.Sorting: we can sort the DataFrame based on one or more columns using the \"sort_values\" function\n",
    "sorted_df6=df6.sort_values(\"Age\", ascending=False)\n",
    "print(sorted_df6)"
   ]
  },
  {
   "cell_type": "code",
   "execution_count": 29,
   "id": "109b82dc-a5cb-494d-b6d0-1be2e6fe38da",
   "metadata": {},
   "outputs": [
    {
     "name": "stdout",
     "output_type": "stream",
     "text": [
      "     Name  Age  Gender\n",
      "0   Alica   25  Female\n",
      "2  Claire   27  Female\n",
      "1     Bob   30    Male\n"
     ]
    }
   ],
   "source": [
    "sorted_df7=df6.sort_values(\"Age\", ascending=True)\n",
    "print(sorted_df7)"
   ]
  },
  {
   "cell_type": "code",
   "execution_count": 30,
   "id": "be1da00a-7aea-48a7-baae-edcc2d1b62d2",
   "metadata": {},
   "outputs": [
    {
     "name": "stdout",
     "output_type": "stream",
     "text": [
      "         Age\n",
      "Gender      \n",
      "Female  26.0\n",
      "Male    30.0\n"
     ]
    }
   ],
   "source": [
    "# 3 Grouping and Aggregation: we can group the data on one or more columns and perform aggregate functions on the groups.\n",
    "group_df=df6.groupby(\"Gender\").agg({\"Age\":\"mean\"})\n",
    "print(group_df)"
   ]
  },
  {
   "cell_type": "code",
   "execution_count": 31,
   "id": "130ae08e-dde3-4393-b3b8-d166642b0a97",
   "metadata": {},
   "outputs": [
    {
     "data": {
      "text/html": [
       "<div>\n",
       "<style scoped>\n",
       "    .dataframe tbody tr th:only-of-type {\n",
       "        vertical-align: middle;\n",
       "    }\n",
       "\n",
       "    .dataframe tbody tr th {\n",
       "        vertical-align: top;\n",
       "    }\n",
       "\n",
       "    .dataframe thead th {\n",
       "        text-align: right;\n",
       "    }\n",
       "</style>\n",
       "<table border=\"1\" class=\"dataframe\">\n",
       "  <thead>\n",
       "    <tr style=\"text-align: right;\">\n",
       "      <th></th>\n",
       "      <th>Name</th>\n",
       "      <th>Age</th>\n",
       "      <th>Gender</th>\n",
       "    </tr>\n",
       "  </thead>\n",
       "  <tbody>\n",
       "    <tr>\n",
       "      <th>0</th>\n",
       "      <td>Alica</td>\n",
       "      <td>25</td>\n",
       "      <td>Female</td>\n",
       "    </tr>\n",
       "    <tr>\n",
       "      <th>1</th>\n",
       "      <td>Bob</td>\n",
       "      <td>30</td>\n",
       "      <td>Male</td>\n",
       "    </tr>\n",
       "    <tr>\n",
       "      <th>2</th>\n",
       "      <td>Claire</td>\n",
       "      <td>27</td>\n",
       "      <td>Female</td>\n",
       "    </tr>\n",
       "  </tbody>\n",
       "</table>\n",
       "</div>"
      ],
      "text/plain": [
       "     Name  Age  Gender\n",
       "0   Alica   25  Female\n",
       "1     Bob   30    Male\n",
       "2  Claire   27  Female"
      ]
     },
     "execution_count": 31,
     "metadata": {},
     "output_type": "execute_result"
    }
   ],
   "source": [
    "# 4.Adding and Dropping columns: we can add new columns or drop existing one column \n",
    "df6"
   ]
  },
  {
   "cell_type": "code",
   "execution_count": 32,
   "id": "2ef8cf93-9a76-4341-963b-dcd68750c3b1",
   "metadata": {},
   "outputs": [],
   "source": [
    "# add new column\n",
    "df6[\"Country\"] = [\"America\",\"India\",\"england\"]"
   ]
  },
  {
   "cell_type": "code",
   "execution_count": 33,
   "id": "19c53bf5-2555-488f-b82b-b0456c269aa1",
   "metadata": {},
   "outputs": [
    {
     "data": {
      "text/html": [
       "<div>\n",
       "<style scoped>\n",
       "    .dataframe tbody tr th:only-of-type {\n",
       "        vertical-align: middle;\n",
       "    }\n",
       "\n",
       "    .dataframe tbody tr th {\n",
       "        vertical-align: top;\n",
       "    }\n",
       "\n",
       "    .dataframe thead th {\n",
       "        text-align: right;\n",
       "    }\n",
       "</style>\n",
       "<table border=\"1\" class=\"dataframe\">\n",
       "  <thead>\n",
       "    <tr style=\"text-align: right;\">\n",
       "      <th></th>\n",
       "      <th>Name</th>\n",
       "      <th>Age</th>\n",
       "      <th>Gender</th>\n",
       "      <th>Country</th>\n",
       "    </tr>\n",
       "  </thead>\n",
       "  <tbody>\n",
       "    <tr>\n",
       "      <th>0</th>\n",
       "      <td>Alica</td>\n",
       "      <td>25</td>\n",
       "      <td>Female</td>\n",
       "      <td>America</td>\n",
       "    </tr>\n",
       "    <tr>\n",
       "      <th>1</th>\n",
       "      <td>Bob</td>\n",
       "      <td>30</td>\n",
       "      <td>Male</td>\n",
       "      <td>India</td>\n",
       "    </tr>\n",
       "    <tr>\n",
       "      <th>2</th>\n",
       "      <td>Claire</td>\n",
       "      <td>27</td>\n",
       "      <td>Female</td>\n",
       "      <td>england</td>\n",
       "    </tr>\n",
       "  </tbody>\n",
       "</table>\n",
       "</div>"
      ],
      "text/plain": [
       "     Name  Age  Gender  Country\n",
       "0   Alica   25  Female  America\n",
       "1     Bob   30    Male    India\n",
       "2  Claire   27  Female  england"
      ]
     },
     "execution_count": 33,
     "metadata": {},
     "output_type": "execute_result"
    }
   ],
   "source": [
    "df6"
   ]
  },
  {
   "cell_type": "code",
   "execution_count": 34,
   "id": "b9a41fe3-442a-4dbd-bafb-aa30a205e98c",
   "metadata": {},
   "outputs": [
    {
     "data": {
      "text/html": [
       "<div>\n",
       "<style scoped>\n",
       "    .dataframe tbody tr th:only-of-type {\n",
       "        vertical-align: middle;\n",
       "    }\n",
       "\n",
       "    .dataframe tbody tr th {\n",
       "        vertical-align: top;\n",
       "    }\n",
       "\n",
       "    .dataframe thead th {\n",
       "        text-align: right;\n",
       "    }\n",
       "</style>\n",
       "<table border=\"1\" class=\"dataframe\">\n",
       "  <thead>\n",
       "    <tr style=\"text-align: right;\">\n",
       "      <th></th>\n",
       "      <th>Name</th>\n",
       "      <th>Age</th>\n",
       "      <th>Gender</th>\n",
       "      <th>Country</th>\n",
       "    </tr>\n",
       "  </thead>\n",
       "  <tbody>\n",
       "    <tr>\n",
       "      <th>0</th>\n",
       "      <td>Alica</td>\n",
       "      <td>25</td>\n",
       "      <td>Female</td>\n",
       "      <td>America</td>\n",
       "    </tr>\n",
       "    <tr>\n",
       "      <th>1</th>\n",
       "      <td>Bob</td>\n",
       "      <td>30</td>\n",
       "      <td>Male</td>\n",
       "      <td>India</td>\n",
       "    </tr>\n",
       "    <tr>\n",
       "      <th>2</th>\n",
       "      <td>Claire</td>\n",
       "      <td>27</td>\n",
       "      <td>Female</td>\n",
       "      <td>england</td>\n",
       "    </tr>\n",
       "  </tbody>\n",
       "</table>\n",
       "</div>"
      ],
      "text/plain": [
       "     Name  Age  Gender  Country\n",
       "0   Alica   25  Female  America\n",
       "1     Bob   30    Male    India\n",
       "2  Claire   27  Female  england"
      ]
     },
     "execution_count": 34,
     "metadata": {},
     "output_type": "execute_result"
    }
   ],
   "source": [
    "df6"
   ]
  },
  {
   "cell_type": "code",
   "execution_count": 35,
   "id": "cb341d05-74db-4205-97d1-9d5235cd7d1f",
   "metadata": {},
   "outputs": [
    {
     "data": {
      "text/plain": [
       "{'Name': ['Alica', 'Bob', 'Claire'],\n",
       " 'Age': [25, 30, 27],\n",
       " 'Gender': ['Female', 'Male', 'Female']}"
      ]
     },
     "execution_count": 35,
     "metadata": {},
     "output_type": "execute_result"
    }
   ],
   "source": [
    "df5"
   ]
  },
  {
   "cell_type": "code",
   "execution_count": 36,
   "id": "d27b515d-f6f4-4ac0-9096-f719db5edb04",
   "metadata": {},
   "outputs": [
    {
     "data": {
      "text/html": [
       "<div>\n",
       "<style scoped>\n",
       "    .dataframe tbody tr th:only-of-type {\n",
       "        vertical-align: middle;\n",
       "    }\n",
       "\n",
       "    .dataframe tbody tr th {\n",
       "        vertical-align: top;\n",
       "    }\n",
       "\n",
       "    .dataframe thead th {\n",
       "        text-align: right;\n",
       "    }\n",
       "</style>\n",
       "<table border=\"1\" class=\"dataframe\">\n",
       "  <thead>\n",
       "    <tr style=\"text-align: right;\">\n",
       "      <th></th>\n",
       "      <th>Name</th>\n",
       "      <th>Age</th>\n",
       "      <th>Gender</th>\n",
       "      <th>Country</th>\n",
       "    </tr>\n",
       "  </thead>\n",
       "  <tbody>\n",
       "    <tr>\n",
       "      <th>0</th>\n",
       "      <td>Alica</td>\n",
       "      <td>25</td>\n",
       "      <td>Female</td>\n",
       "      <td>America</td>\n",
       "    </tr>\n",
       "    <tr>\n",
       "      <th>1</th>\n",
       "      <td>Bob</td>\n",
       "      <td>30</td>\n",
       "      <td>Male</td>\n",
       "      <td>India</td>\n",
       "    </tr>\n",
       "    <tr>\n",
       "      <th>2</th>\n",
       "      <td>Claire</td>\n",
       "      <td>27</td>\n",
       "      <td>Female</td>\n",
       "      <td>england</td>\n",
       "    </tr>\n",
       "  </tbody>\n",
       "</table>\n",
       "</div>"
      ],
      "text/plain": [
       "     Name  Age  Gender  Country\n",
       "0   Alica   25  Female  America\n",
       "1     Bob   30    Male    India\n",
       "2  Claire   27  Female  england"
      ]
     },
     "execution_count": 36,
     "metadata": {},
     "output_type": "execute_result"
    }
   ],
   "source": [
    "df6"
   ]
  },
  {
   "cell_type": "code",
   "execution_count": 37,
   "id": "ce54b3ee-d0d6-4075-833b-08cdbf3d738a",
   "metadata": {},
   "outputs": [],
   "source": [
    "# Drop the country column\n",
    "df8= df6.drop(\"Country\", axis=1,inplace=True)"
   ]
  },
  {
   "cell_type": "code",
   "execution_count": 38,
   "id": "3bc447c0-5323-4006-94b1-b8f8876f4b20",
   "metadata": {},
   "outputs": [],
   "source": [
    "df8"
   ]
  },
  {
   "cell_type": "code",
   "execution_count": 39,
   "id": "c78e2aa0-b08b-4525-a8c6-24a1a642145f",
   "metadata": {},
   "outputs": [
    {
     "data": {
      "text/html": [
       "<div>\n",
       "<style scoped>\n",
       "    .dataframe tbody tr th:only-of-type {\n",
       "        vertical-align: middle;\n",
       "    }\n",
       "\n",
       "    .dataframe tbody tr th {\n",
       "        vertical-align: top;\n",
       "    }\n",
       "\n",
       "    .dataframe thead th {\n",
       "        text-align: right;\n",
       "    }\n",
       "</style>\n",
       "<table border=\"1\" class=\"dataframe\">\n",
       "  <thead>\n",
       "    <tr style=\"text-align: right;\">\n",
       "      <th></th>\n",
       "      <th>Name</th>\n",
       "      <th>Age</th>\n",
       "      <th>Gender</th>\n",
       "    </tr>\n",
       "  </thead>\n",
       "  <tbody>\n",
       "    <tr>\n",
       "      <th>0</th>\n",
       "      <td>Alica</td>\n",
       "      <td>25</td>\n",
       "      <td>Female</td>\n",
       "    </tr>\n",
       "    <tr>\n",
       "      <th>1</th>\n",
       "      <td>Bob</td>\n",
       "      <td>30</td>\n",
       "      <td>Male</td>\n",
       "    </tr>\n",
       "    <tr>\n",
       "      <th>2</th>\n",
       "      <td>Claire</td>\n",
       "      <td>27</td>\n",
       "      <td>Female</td>\n",
       "    </tr>\n",
       "  </tbody>\n",
       "</table>\n",
       "</div>"
      ],
      "text/plain": [
       "     Name  Age  Gender\n",
       "0   Alica   25  Female\n",
       "1     Bob   30    Male\n",
       "2  Claire   27  Female"
      ]
     },
     "execution_count": 39,
     "metadata": {},
     "output_type": "execute_result"
    }
   ],
   "source": [
    "df6"
   ]
  },
  {
   "cell_type": "code",
   "execution_count": 40,
   "id": "367b3b03-9e9a-4b74-b9aa-238069cc2cc8",
   "metadata": {},
   "outputs": [],
   "source": [
    "df8"
   ]
  },
  {
   "cell_type": "code",
   "execution_count": 41,
   "id": "a490e7ef-3b04-4fd8-9e7d-8eae2a0de619",
   "metadata": {},
   "outputs": [],
   "source": [
    "# 5 Concat: we can merge or join multiple DataFrames based on a common column using fuction like Concat()\n",
    "df55={ \"City\":[\"london\",\"Delhi\",\"Kolkata\"],\"Country\":[\"UK\",\"India\",\"WB\"]}\n",
    "df555=pd.DataFrame(df55)"
   ]
  },
  {
   "cell_type": "code",
   "execution_count": 42,
   "id": "b0440163-a6fb-4b3d-8ff3-fab253584b5b",
   "metadata": {},
   "outputs": [
    {
     "data": {
      "text/html": [
       "<div>\n",
       "<style scoped>\n",
       "    .dataframe tbody tr th:only-of-type {\n",
       "        vertical-align: middle;\n",
       "    }\n",
       "\n",
       "    .dataframe tbody tr th {\n",
       "        vertical-align: top;\n",
       "    }\n",
       "\n",
       "    .dataframe thead th {\n",
       "        text-align: right;\n",
       "    }\n",
       "</style>\n",
       "<table border=\"1\" class=\"dataframe\">\n",
       "  <thead>\n",
       "    <tr style=\"text-align: right;\">\n",
       "      <th></th>\n",
       "      <th>City</th>\n",
       "      <th>Country</th>\n",
       "    </tr>\n",
       "  </thead>\n",
       "  <tbody>\n",
       "    <tr>\n",
       "      <th>0</th>\n",
       "      <td>london</td>\n",
       "      <td>UK</td>\n",
       "    </tr>\n",
       "    <tr>\n",
       "      <th>1</th>\n",
       "      <td>Delhi</td>\n",
       "      <td>India</td>\n",
       "    </tr>\n",
       "    <tr>\n",
       "      <th>2</th>\n",
       "      <td>Kolkata</td>\n",
       "      <td>WB</td>\n",
       "    </tr>\n",
       "  </tbody>\n",
       "</table>\n",
       "</div>"
      ],
      "text/plain": [
       "      City Country\n",
       "0   london      UK\n",
       "1    Delhi   India\n",
       "2  Kolkata      WB"
      ]
     },
     "execution_count": 42,
     "metadata": {},
     "output_type": "execute_result"
    }
   ],
   "source": [
    "df555"
   ]
  },
  {
   "cell_type": "code",
   "execution_count": 43,
   "id": "0b87685b-7e12-4dd3-8039-e1abea1324c4",
   "metadata": {},
   "outputs": [
    {
     "data": {
      "text/html": [
       "<div>\n",
       "<style scoped>\n",
       "    .dataframe tbody tr th:only-of-type {\n",
       "        vertical-align: middle;\n",
       "    }\n",
       "\n",
       "    .dataframe tbody tr th {\n",
       "        vertical-align: top;\n",
       "    }\n",
       "\n",
       "    .dataframe thead th {\n",
       "        text-align: right;\n",
       "    }\n",
       "</style>\n",
       "<table border=\"1\" class=\"dataframe\">\n",
       "  <thead>\n",
       "    <tr style=\"text-align: right;\">\n",
       "      <th></th>\n",
       "      <th>Name</th>\n",
       "      <th>Age</th>\n",
       "      <th>Gender</th>\n",
       "    </tr>\n",
       "  </thead>\n",
       "  <tbody>\n",
       "    <tr>\n",
       "      <th>0</th>\n",
       "      <td>Alica</td>\n",
       "      <td>25</td>\n",
       "      <td>Female</td>\n",
       "    </tr>\n",
       "    <tr>\n",
       "      <th>1</th>\n",
       "      <td>Bob</td>\n",
       "      <td>30</td>\n",
       "      <td>Male</td>\n",
       "    </tr>\n",
       "    <tr>\n",
       "      <th>2</th>\n",
       "      <td>Claire</td>\n",
       "      <td>27</td>\n",
       "      <td>Female</td>\n",
       "    </tr>\n",
       "  </tbody>\n",
       "</table>\n",
       "</div>"
      ],
      "text/plain": [
       "     Name  Age  Gender\n",
       "0   Alica   25  Female\n",
       "1     Bob   30    Male\n",
       "2  Claire   27  Female"
      ]
     },
     "execution_count": 43,
     "metadata": {},
     "output_type": "execute_result"
    }
   ],
   "source": [
    "df6"
   ]
  },
  {
   "cell_type": "code",
   "execution_count": 44,
   "id": "8f05f6f3-e908-4dd6-8f7b-6c86abf9019b",
   "metadata": {},
   "outputs": [],
   "source": [
    "df9=pd.concat([df555,df6], axis=1)"
   ]
  },
  {
   "cell_type": "code",
   "execution_count": 45,
   "id": "f29ec28a-bc0f-4e24-9217-ccc3e669bc71",
   "metadata": {},
   "outputs": [
    {
     "data": {
      "text/html": [
       "<div>\n",
       "<style scoped>\n",
       "    .dataframe tbody tr th:only-of-type {\n",
       "        vertical-align: middle;\n",
       "    }\n",
       "\n",
       "    .dataframe tbody tr th {\n",
       "        vertical-align: top;\n",
       "    }\n",
       "\n",
       "    .dataframe thead th {\n",
       "        text-align: right;\n",
       "    }\n",
       "</style>\n",
       "<table border=\"1\" class=\"dataframe\">\n",
       "  <thead>\n",
       "    <tr style=\"text-align: right;\">\n",
       "      <th></th>\n",
       "      <th>City</th>\n",
       "      <th>Country</th>\n",
       "      <th>Name</th>\n",
       "      <th>Age</th>\n",
       "      <th>Gender</th>\n",
       "    </tr>\n",
       "  </thead>\n",
       "  <tbody>\n",
       "    <tr>\n",
       "      <th>0</th>\n",
       "      <td>london</td>\n",
       "      <td>UK</td>\n",
       "      <td>Alica</td>\n",
       "      <td>25</td>\n",
       "      <td>Female</td>\n",
       "    </tr>\n",
       "    <tr>\n",
       "      <th>1</th>\n",
       "      <td>Delhi</td>\n",
       "      <td>India</td>\n",
       "      <td>Bob</td>\n",
       "      <td>30</td>\n",
       "      <td>Male</td>\n",
       "    </tr>\n",
       "    <tr>\n",
       "      <th>2</th>\n",
       "      <td>Kolkata</td>\n",
       "      <td>WB</td>\n",
       "      <td>Claire</td>\n",
       "      <td>27</td>\n",
       "      <td>Female</td>\n",
       "    </tr>\n",
       "  </tbody>\n",
       "</table>\n",
       "</div>"
      ],
      "text/plain": [
       "      City Country    Name  Age  Gender\n",
       "0   london      UK   Alica   25  Female\n",
       "1    Delhi   India     Bob   30    Male\n",
       "2  Kolkata      WB  Claire   27  Female"
      ]
     },
     "execution_count": 45,
     "metadata": {},
     "output_type": "execute_result"
    }
   ],
   "source": [
    "df9"
   ]
  },
  {
   "cell_type": "markdown",
   "id": "e9ac5347-3b5f-484c-92be-1d6fa73fba9b",
   "metadata": {},
   "source": [
    "## Can you give an example of when you might use one of these functions?"
   ]
  },
  {
   "cell_type": "code",
   "execution_count": 46,
   "id": "ecc1932a-5304-4076-a07b-f1ab4271c6eb",
   "metadata": {},
   "outputs": [],
   "source": [
    "## previous answer"
   ]
  },
  {
   "cell_type": "code",
   "execution_count": null,
   "id": "ff5ed8d7-77d5-4268-9957-018ebd8d8efe",
   "metadata": {},
   "outputs": [],
   "source": []
  },
  {
   "cell_type": "code",
   "execution_count": null,
   "id": "323318ec-c2ff-42e0-aec3-64040df2685b",
   "metadata": {},
   "outputs": [],
   "source": []
  },
  {
   "cell_type": "markdown",
   "id": "7957a151-7210-4214-a046-cecd03f7f03f",
   "metadata": {},
   "source": [
    "# Q.6 Which of the following is mutable in nature series, DataFrame,Panel?"
   ]
  },
  {
   "cell_type": "raw",
   "id": "a7b59dea-fbe9-4c33-8f0e-30a2caaf9ff3",
   "metadata": {},
   "source": [
    "  Ans: The only mutable data structure in pandas in the DataFrame.\n",
    "A: Series: \n",
    "         A pandas Series is one-dimensional and behaves like an array or a list. It is immutable, meaning once it is created, you cannot modify its elements. You can, however, create a             new Series with modified values based on the original Series.\n",
    "\n",
    "B:   DataFrame: \n",
    "              A pandas DataFrame is two-dimensional and resembles a table with rows and columns. It is mutable, which means you can modify its contents after creation. You can change                    values in specific cells, add or delete rows or columns, and perform various other data manipulations.\n",
    "\n",
    "C:  Panel: \n",
    "       In older versions of pandas, there was a data structure called \"Panel\" that could hold data in three dimensions. However, as of pandas version 0.25.0, the Panel has been                   deprecated, and developers are encouraged to use MultiIndex DataFrames instead. Therefore, the Panel is not a part of the latest pandas versions and is not relevant for \n",
    "       this question.\n",
    "\n",
    "  To summarize, only the DataFrame is mutable in pandas, while Series is immutable.\n",
    "\n",
    "\n",
    "\n",
    "\n"
   ]
  },
  {
   "cell_type": "markdown",
   "id": "aa6652bd-4761-4233-8bc6-a0362367b5fa",
   "metadata": {},
   "source": [
    "# Q.7 Create a DataFrame using multiples series. Explain with an example."
   ]
  },
  {
   "cell_type": "markdown",
   "id": "d1573ce1-b1e9-4b3a-a045-17947daf5cde",
   "metadata": {},
   "source": [
    "## Create a DataFrame using multiples series."
   ]
  },
  {
   "cell_type": "code",
   "execution_count": 47,
   "id": "2cc9f8a9-0a84-408b-82f6-8e8759685d87",
   "metadata": {},
   "outputs": [],
   "source": [
    "# Creating a DataFrame using multiple Series is a common operation in pandas. I can think of a Series as a single column, and by combining multiple Series together,\n",
    "#        I can create a DataFrame with multiple columns.\n",
    "\n",
    "#         Let's create a simple example where we have three Series representing the names, ages, city,Gender and Country of five  individuals. We'll combine these Series into a\n",
    "#         DataFrame to represent a small dataset of people:"
   ]
  },
  {
   "cell_type": "code",
   "execution_count": 48,
   "id": "2f41f7a0-e82f-4069-9909-244c2dfce69d",
   "metadata": {},
   "outputs": [],
   "source": [
    "name_series=pd.Series([\"Alica\",\"Bob\",\"Claire\"])\n",
    "ages_series=pd.Series([25,30,2])\n",
    "gender_series=pd.Series([\"Female\",\"Male\",\"Female\"])\n",
    "country_series=pd.Series([\"UK\",\"India\",\"WB\"])\n",
    "city_series=pd.Series([\"london\",\"Delhi\",\"Kolkata\"])\n"
   ]
  },
  {
   "cell_type": "code",
   "execution_count": 49,
   "id": "6a794ce5-b44a-4c55-9878-2c44e235c685",
   "metadata": {},
   "outputs": [],
   "source": [
    "data_series={\"Name\": name_series,\"Ages\": ages_series,\"Gender\": gender_series,\"Country\": country_series, \"City\": city_series}"
   ]
  },
  {
   "cell_type": "code",
   "execution_count": 50,
   "id": "ebaa30e0-1fa0-415e-9cf6-0d572ba2ce90",
   "metadata": {},
   "outputs": [],
   "source": [
    "df777=pd.DataFrame(data_series)"
   ]
  },
  {
   "cell_type": "code",
   "execution_count": 51,
   "id": "cbc9c9b6-123d-4a28-887a-7ad37ee8beeb",
   "metadata": {},
   "outputs": [
    {
     "data": {
      "text/html": [
       "<div>\n",
       "<style scoped>\n",
       "    .dataframe tbody tr th:only-of-type {\n",
       "        vertical-align: middle;\n",
       "    }\n",
       "\n",
       "    .dataframe tbody tr th {\n",
       "        vertical-align: top;\n",
       "    }\n",
       "\n",
       "    .dataframe thead th {\n",
       "        text-align: right;\n",
       "    }\n",
       "</style>\n",
       "<table border=\"1\" class=\"dataframe\">\n",
       "  <thead>\n",
       "    <tr style=\"text-align: right;\">\n",
       "      <th></th>\n",
       "      <th>Name</th>\n",
       "      <th>Ages</th>\n",
       "      <th>Gender</th>\n",
       "      <th>Country</th>\n",
       "      <th>City</th>\n",
       "    </tr>\n",
       "  </thead>\n",
       "  <tbody>\n",
       "    <tr>\n",
       "      <th>0</th>\n",
       "      <td>Alica</td>\n",
       "      <td>25</td>\n",
       "      <td>Female</td>\n",
       "      <td>UK</td>\n",
       "      <td>london</td>\n",
       "    </tr>\n",
       "    <tr>\n",
       "      <th>1</th>\n",
       "      <td>Bob</td>\n",
       "      <td>30</td>\n",
       "      <td>Male</td>\n",
       "      <td>India</td>\n",
       "      <td>Delhi</td>\n",
       "    </tr>\n",
       "    <tr>\n",
       "      <th>2</th>\n",
       "      <td>Claire</td>\n",
       "      <td>2</td>\n",
       "      <td>Female</td>\n",
       "      <td>WB</td>\n",
       "      <td>Kolkata</td>\n",
       "    </tr>\n",
       "  </tbody>\n",
       "</table>\n",
       "</div>"
      ],
      "text/plain": [
       "     Name  Ages  Gender Country     City\n",
       "0   Alica    25  Female      UK   london\n",
       "1     Bob    30    Male   India    Delhi\n",
       "2  Claire     2  Female      WB  Kolkata"
      ]
     },
     "execution_count": 51,
     "metadata": {},
     "output_type": "execute_result"
    }
   ],
   "source": [
    "df777"
   ]
  },
  {
   "cell_type": "markdown",
   "id": "82378bc4-6985-40fe-913d-863888f7129a",
   "metadata": {},
   "source": [
    "## Explain with an example."
   ]
  },
  {
   "cell_type": "raw",
   "id": "d0c560e1-1f22-4578-944e-2c1f4b8e78d6",
   "metadata": {},
   "source": [
    "In the above example, I first create five separate Series: names_series, ages_series,city_series, country_series and gender_series. Each Series represents the names, ages,city,country, andgender of  five individuals, respectively.\n",
    "\n",
    "Next, we create a dictionary called data_series where each key-value pair represents a column name and the corresponding Series containing the data for that column.\n",
    "\n",
    "Finally, we use the pd.DataFrame() constructor to create a DataFrame called df by passing the data dictionary as an argument.\n",
    "\n",
    "The resulting DataFrame contains five columns: 'Name', 'Age','City', Country, and Gender , with each row representing information about a specific individual.\n",
    "\n",
    "\n",
    "\n",
    "\n",
    "\n",
    "\n"
   ]
  },
  {
   "cell_type": "code",
   "execution_count": null,
   "id": "b8374081-a49e-4ead-9c25-0511311e624c",
   "metadata": {},
   "outputs": [],
   "source": []
  }
 ],
 "metadata": {
  "kernelspec": {
   "display_name": "Python 3 (ipykernel)",
   "language": "python",
   "name": "python3"
  },
  "language_info": {
   "codemirror_mode": {
    "name": "ipython",
    "version": 3
   },
   "file_extension": ".py",
   "mimetype": "text/x-python",
   "name": "python",
   "nbconvert_exporter": "python",
   "pygments_lexer": "ipython3",
   "version": "3.10.8"
  }
 },
 "nbformat": 4,
 "nbformat_minor": 5
}
