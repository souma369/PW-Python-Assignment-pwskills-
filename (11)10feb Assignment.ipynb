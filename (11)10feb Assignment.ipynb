{
 "cells": [
  {
   "cell_type": "markdown",
   "id": "d3b841d7-8b30-4f00-b88a-f89daeaaa83f",
   "metadata": {},
   "source": [
    "## OOPs assignment"
   ]
  },
  {
   "cell_type": "code",
   "execution_count": null,
   "id": "53eff230-e407-4185-b686-0b3bf6c3ba44",
   "metadata": {},
   "outputs": [],
   "source": []
  },
  {
   "cell_type": "markdown",
   "id": "41ae2810-d090-422c-8c53-1136b22eda6b",
   "metadata": {},
   "source": [
    "# 1. which function is used to open a file? what are the different modes of opening a file? Explain each mode of file opening."
   ]
  },
  {
   "cell_type": "markdown",
   "id": "e73b3490-ea50-41b0-b8c1-69ced4d0b1ea",
   "metadata": {},
   "source": [
    "## which function is used to open a file?"
   ]
  },
  {
   "cell_type": "code",
   "execution_count": 1,
   "id": "596374cf-fba0-44fc-a3d8-66fecd04f9cb",
   "metadata": {},
   "outputs": [],
   "source": [
    "#          python the \" open()\" function is commonly used to open files. It takes a file path as a parameter and returns a file object that can be used for reading or writing.\n",
    "# Example:   file = open(\"file name.txt\",\"r\")  # this open file in read mode"
   ]
  },
  {
   "cell_type": "markdown",
   "id": "68d31b59-b80f-4c20-9053-dc0db58ac110",
   "metadata": {},
   "source": [
    "## what are the different modes of opening a file?"
   ]
  },
  {
   "cell_type": "code",
   "execution_count": 2,
   "id": "4dff19a7-4402-4abf-9d11-a02506601145",
   "metadata": {},
   "outputs": [],
   "source": [
    "# 1. Read mode(\"r\"):   This is the default mode. It opens the file for reading. If the file does not exist it will raise a \"FileNotFounfError\" exception.\n",
    "\n",
    "# 2.  Write mode(\"w\"):  It open the file for writing. If the file already exists, it truncates the file (empties it) before writing. If the file does not exist, it creates a new file . \n",
    "#                       If the file is opened in write mode and you try to read from it, it will raise a \"UnsupportedOperation\" exception.\n",
    "\n",
    "# 3. Append mode(\"a\"):  It opens the file for appending data. If the file exists, the data will be written at the end of the file. If the file does not exist, it creates a new file. \n",
    "#                       You  can not read from the file opened in append mode.\n",
    "\n",
    "# 4. Exclusive creation mode(\"x\"):  It opens the file for exclusive creation. If the file does not exist it create a new file. If the file already exists \n",
    "#                                   it raises a \"FileExistsError\" exception.\n",
    "\n",
    "# 5. Binary mode(\"b\"):  It opens the file in binary mode suitable for reading or writing binary data such as images or non-text files. This mode can be combined with other modes,\n",
    "#                       e,g.., \"rb\" for reading a binary file.\n",
    "\n",
    "# 6. Text mode(\"t\"): This is the default mode and opens the file in text mode, suitable for reading or writing text data. It is often combined with other modes, e.g., \"rt\" for \n",
    "#                    reading a text file.\n",
    "\n",
    "# 7. Update mode(\"+\"): It opens the file for both reading and writing(updating). This mode allows you to perform both read and write operations on the file. It can be combined with\n",
    "#                      other modes e.g., \"r+\" for reading and updating a file."
   ]
  },
  {
   "cell_type": "markdown",
   "id": "7b80b3a3-b119-4c4e-8899-9dd751df7849",
   "metadata": {},
   "source": [
    "## Explain each mode of file opening."
   ]
  },
  {
   "cell_type": "code",
   "execution_count": 3,
   "id": "6181da39-dfaa-431b-8aea-44f7b612ffcf",
   "metadata": {},
   "outputs": [],
   "source": [
    "#  Example of different different mode:\n",
    "\n",
    "#  1. Read Mode:\n",
    "#     file = open(\"filename.txt\",\"r\")\n",
    "\n",
    "#  2.  Write mode\n",
    "#     file = open(\"filename.txt\",\"w\")\n",
    "\n",
    "#  3. Append mode:\n",
    "#     file= open(\"filename.txt\", \"a\")\n",
    "\n",
    "#  4. Exclusive creation mode:\n",
    "#     file = open(\"filename.txt\", \"x\")\n",
    "\n",
    "#  5. Binary mode for reading:\n",
    "#     file= open(\"filename.txt\", \"rb\")\n",
    "\n",
    "#  6. Text mode for writing and updating:\n",
    "#   file = open(\"filename.txt\", \"wt+\")\n",
    "\n",
    "#  7. text mode:\n",
    "#   file= open(\"filename.txt\", \"t\")\n"
   ]
  },
  {
   "cell_type": "code",
   "execution_count": null,
   "id": "5441f578-3836-4fbc-b7ec-5126c2d1c7a6",
   "metadata": {},
   "outputs": [],
   "source": []
  },
  {
   "cell_type": "code",
   "execution_count": null,
   "id": "ea2431d0-fb57-49d6-a208-be0ef6f02e08",
   "metadata": {},
   "outputs": [],
   "source": []
  },
  {
   "cell_type": "markdown",
   "id": "01756722-24ac-4f7c-a808-48c11db06a7a",
   "metadata": {},
   "source": [
    "# 2. Why close() function is used? why is it important to close a file?"
   ]
  },
  {
   "cell_type": "markdown",
   "id": "842d3b7c-9542-4fe4-ba99-c2a7ae975db9",
   "metadata": {},
   "source": [
    "## Why close() function is used?"
   ]
  },
  {
   "cell_type": "code",
   "execution_count": 4,
   "id": "0296de13-f729-4c42-a001-d9b476f47af6",
   "metadata": {},
   "outputs": [],
   "source": [
    "#    Because the \"close()\" function is used to close an open file. when you open a file using the \"open()\" function system resources are allocated to facilitate reading from or \n",
    "#            writing to that file. These resources include memory buffers, file descriptors, and other operating system-level structures.\n",
    "\n",
    "#  file.close()\n"
   ]
  },
  {
   "cell_type": "markdown",
   "id": "da8df2df-3bda-4f19-a9b2-dc6a87daf38a",
   "metadata": {},
   "source": [
    "## why is it important to close a file?"
   ]
  },
  {
   "cell_type": "code",
   "execution_count": 5,
   "id": "4cf41bc2-c556-4182-8fec-ae5989721bbd",
   "metadata": {},
   "outputs": [],
   "source": [
    "# \"close()\"  function is important beacuse several reasons:\n",
    "\n",
    "\n",
    "#  1. Resource management:\n",
    "#                        when you open a file system resources are allocated to handle the I/O operations. These resources include memory buffers, file descriptors, \n",
    "#                        and other operating system-level structures. By closing the file, you release these resources allowing the operating system to free them up for other processes.\n",
    "#                        Failing to close a file properly can lead  to resources leaks, where resources remain tied up unnecessarily, potentially causing performance issues and \n",
    "#                       inefficiencies.\n",
    "\n",
    "# 2. Data integrity:  when you erite data to a file, it may be stored in memory buffers instead of being immediately written to the physical disk. Closing the file ensures that any\n",
    "#                    remaining buffered data is flushed and written to the file before it is closed. If you don't close the file properly there's a risk that the buffered data may not \n",
    "#                    be saved resulting in data loss or inconsistencies in the file.\n",
    "\n",
    "# 3. File locks:  Opening a file may involve acquiring locks to prevent other processes or threads from modifying or accessing the file simultaneously. By closing the file, any locks \n",
    "#                     associated with it are released allowing other processes or threads to work with the file.\n",
    "\n",
    "# 4. Portability and compatibility: While modern operating system automatically close open files when a program exits,explicitly closing files in your code makes it more portable and\n",
    "#                                  compatible across different platforms and versions of python. It ensures consistent behavior and reduces reliance on specific behaviors of the \n",
    "#                                  underlying operating system.\n",
    "\n",
    "# example:\n",
    "# file = open(\"filename.txt\",\"r\")files  --- open the file\n",
    "# file.close()   ---  close the file"
   ]
  },
  {
   "cell_type": "markdown",
   "id": "41a6b1bb-9d61-49e5-9bbc-b199289952a1",
   "metadata": {},
   "source": [
    "# 3. write a python program to create  a text file. Write \" I want to become a data scientist\" in that file . Then close the file. Open this file and read the content of the file."
   ]
  },
  {
   "cell_type": "code",
   "execution_count": 1,
   "id": "f22d6a97-7ff9-4f0f-8ef7-457354d09bc9",
   "metadata": {},
   "outputs": [],
   "source": [
    "f=open(\"test.txt\",\"w\")"
   ]
  },
  {
   "cell_type": "code",
   "execution_count": 2,
   "id": "141d0b93-f256-444d-87d1-810410668c7c",
   "metadata": {},
   "outputs": [
    {
     "data": {
      "text/plain": [
       "34"
      ]
     },
     "execution_count": 2,
     "metadata": {},
     "output_type": "execute_result"
    }
   ],
   "source": [
    "f.write(\" I want to become a data scientist\")"
   ]
  },
  {
   "cell_type": "code",
   "execution_count": 3,
   "id": "148a7b36-720f-4d76-94d4-4035f63e611d",
   "metadata": {},
   "outputs": [],
   "source": [
    "f.close()"
   ]
  },
  {
   "cell_type": "code",
   "execution_count": 5,
   "id": "06dfbd67-6e3c-49ed-8fe9-5022bc320468",
   "metadata": {},
   "outputs": [],
   "source": [
    "data=open(\"test.txt\",\"r\")"
   ]
  },
  {
   "cell_type": "code",
   "execution_count": 6,
   "id": "327519c9-124d-452f-9cc2-d1c0566ddacb",
   "metadata": {},
   "outputs": [
    {
     "data": {
      "text/plain": [
       "' I want to become a data scientist'"
      ]
     },
     "execution_count": 6,
     "metadata": {},
     "output_type": "execute_result"
    }
   ],
   "source": [
    "data.read()"
   ]
  },
  {
   "cell_type": "code",
   "execution_count": null,
   "id": "eee467e1-ecc8-4910-890a-2fcd140decf6",
   "metadata": {},
   "outputs": [],
   "source": []
  },
  {
   "cell_type": "code",
   "execution_count": null,
   "id": "371068fc-c34e-4bfe-a942-071bad0d70c4",
   "metadata": {},
   "outputs": [],
   "source": []
  },
  {
   "cell_type": "markdown",
   "id": "16e58b6f-bf2a-4296-ae9e-f2c0998ad99a",
   "metadata": {},
   "source": [
    "##  write a python program to create a text file."
   ]
  },
  {
   "cell_type": "code",
   "execution_count": 8,
   "id": "17a1a00b-fb34-4b00-9a4b-3a1e66ebab9f",
   "metadata": {},
   "outputs": [
    {
     "name": "stdout",
     "output_type": "stream",
     "text": [
      "File 'test1.txt' has been created.\n"
     ]
    }
   ],
   "source": [
    "# Open a file named \"example.txt\" in write mode (\"w\")\n",
    "with open(\"test1.txt\", \"w\") as file:\n",
    "    # Write content to the file\n",
    "    file.write(\"This is an example text file.\\n\")\n",
    "    file.write(\"This is the first line of the  text file.\\n\")\n",
    "    file.write(\"It contains some lines of text.\\n\")\n",
    "    file.write(\"This is the second line of the text file.\\n\")\n",
    "    file.write(\"This is the third line.\\n\")\n",
    "\n",
    "print(\"File 'test1.txt' has been created.\")"
   ]
  },
  {
   "cell_type": "raw",
   "id": "a792704d-9a1b-4211-b998-45ee4751a831",
   "metadata": {},
   "source": [
    "In this example, we use the open() function with the mode \"w\" which stands for write. This mode creates the file if it doesn't exist, or truncates it (removes its content)\n",
    "if it does exist. The with statement is used to automatically close the file after writing.\n",
    "\n",
    "The write() method is used to write content to the file. Each call to write() appends the content to the file.\n",
    "\n",
    "After running this program, you will find a file named \"test.txt\" in the same directory as your Python script, containing the specified lines of text."
   ]
  },
  {
   "cell_type": "markdown",
   "id": "f058587a-35eb-45f3-851e-3e913e090895",
   "metadata": {},
   "source": [
    "## Write \" I want to become a data scientist\" in that file ."
   ]
  },
  {
   "cell_type": "code",
   "execution_count": 9,
   "id": "ac70ce0a-bc94-43a5-9716-c8f9079d71ea",
   "metadata": {},
   "outputs": [],
   "source": [
    "data=open(\"test1.txt\",\"a\")"
   ]
  },
  {
   "cell_type": "code",
   "execution_count": 10,
   "id": "47921c06-addc-4066-a3f2-ce322209c426",
   "metadata": {},
   "outputs": [
    {
     "data": {
      "text/plain": [
       "33"
      ]
     },
     "execution_count": 10,
     "metadata": {},
     "output_type": "execute_result"
    }
   ],
   "source": [
    "data.write(\"I want to become a data scientist\")"
   ]
  },
  {
   "cell_type": "markdown",
   "id": "fadd5573-62ce-4d4f-90fb-a8348905922a",
   "metadata": {},
   "source": [
    "## Open this file and read the content of the file."
   ]
  },
  {
   "cell_type": "code",
   "execution_count": 12,
   "id": "7da0ee2b-5445-4754-94bd-d0b0343bbc8e",
   "metadata": {},
   "outputs": [],
   "source": [
    "data=open(\"test1.txt\",\"r\")"
   ]
  },
  {
   "cell_type": "code",
   "execution_count": 17,
   "id": "8c48381b-6594-4255-8f42-c8b600f6c81e",
   "metadata": {},
   "outputs": [
    {
     "data": {
      "text/plain": [
       "0"
      ]
     },
     "execution_count": 17,
     "metadata": {},
     "output_type": "execute_result"
    }
   ],
   "source": [
    "data.seek(0)"
   ]
  },
  {
   "cell_type": "code",
   "execution_count": 18,
   "id": "0ee8b422-671c-4292-9bd6-1ace0a689a4b",
   "metadata": {},
   "outputs": [
    {
     "data": {
      "text/plain": [
       "'This is an example text file.\\nThis is the first line of the  text file.\\nIt contains some lines of text.\\nThis is the second line of the text file.\\nThis is the third line.\\nI want to become a data scientist'"
      ]
     },
     "execution_count": 18,
     "metadata": {},
     "output_type": "execute_result"
    }
   ],
   "source": [
    "data.read()"
   ]
  },
  {
   "cell_type": "code",
   "execution_count": null,
   "id": "c0800bc8-5b6c-42d2-86c8-07396814d5d2",
   "metadata": {},
   "outputs": [],
   "source": []
  },
  {
   "cell_type": "markdown",
   "id": "044df9c9-08ca-48ac-804d-8056cba85df8",
   "metadata": {},
   "source": [
    "# 4. Explain the following with python  code:read(), readline() and readlines()."
   ]
  },
  {
   "cell_type": "markdown",
   "id": "f926f1ed-b898-42c5-9ae6-54ee79e577cb",
   "metadata": {},
   "source": [
    "## \"read()\""
   ]
  },
  {
   "cell_type": "raw",
   "id": "caf54f4f-60a0-4ca6-b61e-6f0b8368b00c",
   "metadata": {},
   "source": [
    "read():\n",
    "\n",
    "The read() method is used to read the entire content of a file as a string. It reads from the current position of the file pointer until the end of the file or \n",
    "      until a specified number of characters.\n",
    "\n",
    "This method is suitable for smaller files or when you want to process the entire content of a file as a single string."
   ]
  },
  {
   "cell_type": "raw",
   "id": "e233f695-b571-43d6-bd00-c97d90b9a6d8",
   "metadata": {},
   "source": [
    "with open('sample.txt', 'r') as file:\n",
    "    content = file.read()\n",
    "    print(content)\n"
   ]
  },
  {
   "cell_type": "markdown",
   "id": "d420c232-21b7-489e-870b-25673d162c4d",
   "metadata": {},
   "source": [
    "## \"readline()\""
   ]
  },
  {
   "cell_type": "raw",
   "id": "cedc24c3-2385-4e3a-a42a-7d70ca3daffa",
   "metadata": {},
   "source": [
    "readline():\n",
    "\n",
    "The readline() method reads a single line from a file and returns it as a string. It moves the file pointer to the next line after each call.\n",
    "\n",
    "This method is useful for processing files line by line, which can be memory-efficient for large files."
   ]
  },
  {
   "cell_type": "raw",
   "id": "f09c70dc-e6aa-4190-954c-013ba5a470ed",
   "metadata": {},
   "source": [
    "with open('sample.txt', 'r') as file:\n",
    "    line1 = file.readline()\n",
    "    line2 = file.readline()\n",
    "    print(line1)\n",
    "    print(line2)\n"
   ]
  },
  {
   "cell_type": "markdown",
   "id": "99419867-8aec-4703-be8b-a9d779b5d241",
   "metadata": {},
   "source": [
    "## readlines()"
   ]
  },
  {
   "cell_type": "raw",
   "id": "ca99b79d-0231-44e4-9834-b640f313bf03",
   "metadata": {},
   "source": [
    "The readlines() method reads all the lines of a file and returns them as a list of strings. Each element in the list represents a line of text.\n",
    "\n",
    "This method is convenient when you want to process multiple lines of a file and store them in memory for further manipulation."
   ]
  },
  {
   "cell_type": "raw",
   "id": "64248fec-6125-40b1-bd8d-c8cb49b662d9",
   "metadata": {},
   "source": [
    "with open('sample.txt', 'r') as file:\n",
    "    lines = file.readlines()\n",
    "    print(lines)\n"
   ]
  },
  {
   "cell_type": "raw",
   "id": "63c7ba03-cd1f-461a-8e3c-29a43a7ad828",
   "metadata": {},
   "source": [
    "In summary, these methods provide different approaches for reading and processing files in Python. Choosing the appropriate method depends on the size of the file, \n",
    "the specific requirements of the task, and how you want to handle the data from the file."
   ]
  },
  {
   "cell_type": "code",
   "execution_count": null,
   "id": "acb13cfd-02b2-4ce8-a374-7e396cf3088f",
   "metadata": {},
   "outputs": [],
   "source": []
  },
  {
   "cell_type": "code",
   "execution_count": null,
   "id": "b7442f35-47c0-4eed-9133-21513d41e6ad",
   "metadata": {},
   "outputs": [],
   "source": []
  },
  {
   "cell_type": "markdown",
   "id": "8aeff06c-3931-4a7e-b629-1e6563774c99",
   "metadata": {},
   "source": [
    "# 5. Explain why with statement is used with open(). what is the advantage of using with statement and open() together?"
   ]
  },
  {
   "cell_type": "markdown",
   "id": "968b7646-2666-4620-975a-46c8cc692c82",
   "metadata": {},
   "source": [
    "## Explain why with statement is used with open()"
   ]
  },
  {
   "cell_type": "raw",
   "id": "f1684ddb-7e50-4c24-ba58-0f2dbed3b9dd",
   "metadata": {},
   "source": [
    "The with statement in Python is used in conjunction with the open() function to simplify the process of working with files. It ensures that a file is properly opened, operated upon,\n",
    "  and then closed, even if an error occurs during the operation. This is important for several reasons:\n",
    "\n",
    "    i). Automatic Resource Management:\n",
    "\n",
    "                                   The with statement provides a clean and concise way to manage resources (like files) that need to be opened and closed properly.\n",
    "                                   It takes care of releasing resources when they are no longer needed.\n",
    "\n",
    "     ii). Automatic Cleanup:\n",
    "\n",
    "                            When you use with open(...) as ..., Python automatically handles the opening and closing of the file. This means you don't have to explicitly call\n",
    "                            file.close() at the end of your operations.\n",
    "\n",
    "     iii). Error Handling:\n",
    "\n",
    "                           Even if an error occurs during the operations inside the with block, Python ensures that the file is properly closed. This prevents potential issues\n",
    "                           with resource leaks and corruption of data.\n",
    "\n",
    "    iv). Readable and Elegant Code:\n",
    "\n",
    "                                 Using with makes the code more readable and elegant, as it clearly defines the scope of file operations. It also reduces boilerplate code \n",
    "                                for opening and closing files.\n",
    "\n",
    "     v). Context Managers:\n",
    "\n",
    "                            The with statement works with context managers, which are objects that define methods for resource allocation and cleanup (such as opening and closing files).\n",
    "                           The open() function returns a file object that acts as a context manager.\n",
    "\n",
    " Custom objects can also be made to act as context managers by implementing __enter__ and __exit__ methods. This allows for the same automatic resource management benefits.\n",
    "with open('sample.txt', 'r') as file:\n",
    "    content = file.read()\n",
    "    print(content)\n",
    "# At this point, the file is automatically closed, even if an error occurred.\n",
    "with open('sample.txt', 'r') as file:\n",
    "    content = file.read()\n",
    "    print(content)\n",
    "# At this point, the file is automatically closed, even if an error occurred.\n",
    "\n"
   ]
  },
  {
   "cell_type": "markdown",
   "id": "b28c73a7-67d3-4c50-8f08-23a1ab56bab6",
   "metadata": {},
   "source": [
    "## what is the advantage of using with statement and open() together?"
   ]
  },
  {
   "cell_type": "raw",
   "id": "77c0e0c9-bee9-48b3-a2e5-d16f155369f8",
   "metadata": {},
   "source": [
    "Using the with statement in conjunction with the open() function in Python offers several advantages:\n",
    "\n",
    "       1. Automatic Resource Management:\n",
    "\n",
    "                                         The most significant advantage is that it automatically manages resources like files. When you use with open(...) as ..., \n",
    "                                      Python ensures that the resource is properly opened and closed, even in the presence of exceptions or errors. This prevents resource leaks.\n",
    "        2. Automatic Cleanup:\n",
    "\n",
    "                          You don't need to explicitly call file.close() or manage the closing of the resource yourself. Python takes care of this for you when the with block\n",
    "                          is exited, ensuring that the resource is closed properly.\n",
    "\n",
    "        3. Error Handling:\n",
    "\n",
    "                         The with statement simplifies error handling related to resource management. If an exception occurs within the with block, the resource is still closed \n",
    "                         as part of the cleanup process. This reduces the risk of leaving resources in an inconsistent or corrupted state.\n",
    "\n",
    "        4. Readable and Elegant Code:\n",
    "\n",
    "                                     Code that uses with open() is more readable and elegant because it clearly defines the scope of file operations. It eliminates the need \n",
    "                                     for explicit resource management and reduces boilerplate code, making the codebase cleaner and more maintainable.\n",
    "\n",
    "        5. Context Managers:\n",
    "\n",
    "                             The with statement works seamlessly with context managers. While open() returns a file object acting as a context manager, you can create custom\n",
    "                             context managers for other resources. This allows for a consistent and standardized approach to resource management in Python.\n",
    "\n",
    "        6. Scalability and Robustness:\n",
    "\n",
    "                                    The automatic resource management provided by with and open() becomes increasingly valuable as your codebase grows. \n",
    "                                      It ensures that your code remains robust when dealing with multiple resources and complex operations.\n",
    "\n",
    "        7. Cross-Platform Compatibility:\n",
    "\n",
    "                                      Using the with statement with open() ensures that resource management is handled consistently across different platforms and operating systems,\n",
    "                                      reducing the risk of compatibility issues.\n",
    "\n",
    "                    \n",
    "    In summary, combining the with statement and the open() function simplifies resource management, enhances code readability, and improves error handling.\n",
    "     It is a recommended and best practice for working with files and other resources in Python."
   ]
  },
  {
   "cell_type": "code",
   "execution_count": null,
   "id": "8a8321c0-1005-4503-a6fd-a21b815c7004",
   "metadata": {},
   "outputs": [],
   "source": []
  },
  {
   "cell_type": "code",
   "execution_count": null,
   "id": "0182a3eb-6926-4689-b568-076338b6f34e",
   "metadata": {},
   "outputs": [],
   "source": []
  },
  {
   "cell_type": "markdown",
   "id": "356a3670-2459-4f1a-b4d8-fe01c5d02788",
   "metadata": {},
   "source": [
    "# 6. Explain the write() and writeline() functions. give a suitable example."
   ]
  },
  {
   "cell_type": "markdown",
   "id": "0bc6cf2c-2652-4174-af5c-f7ac48ac08bd",
   "metadata": {},
   "source": [
    "# write() Function:"
   ]
  },
  {
   "cell_type": "raw",
   "id": "e0825dfe-54b6-439a-8790-12b61d4f5ba0",
   "metadata": {},
   "source": [
    " A. Definition: \n",
    "                 The write() function is a method provided by file objects in Python. It is used to write a string or a sequence of characters to a file.\n",
    " B. Functionality:\n",
    "                 It appends the specified string or characters to the end of the file.\n",
    " C. Syntax: \n",
    "           file.write(string)\n",
    "\n",
    " D. file:\n",
    "        The file object that you've opened.\n",
    "\n",
    " E. string:\n",
    "            The data you want to write to the file, usually in the form of a string."
   ]
  },
  {
   "cell_type": "code",
   "execution_count": 6,
   "id": "3b333c05-cffa-4a58-bfab-d2ddd5cbd4c9",
   "metadata": {},
   "outputs": [],
   "source": [
    "# Open a file in write mode ('w')\n",
    "file = open('example.txt', 'w')\n",
    "\n",
    "# Write a string to the file\n",
    "file.write('Hello, World!\\n')\n",
    "\n",
    "# Close the file\n",
    "file.close()\n"
   ]
  },
  {
   "cell_type": "markdown",
   "id": "0bbccab8-4cb4-4387-8535-ba5199e5bb9c",
   "metadata": {},
   "source": [
    "# writelines() Function:"
   ]
  },
  {
   "cell_type": "raw",
   "id": "0c1a1822-ea23-4644-b284-f1fbe7ae8bb6",
   "metadata": {},
   "source": [
    " A. Definition:\n",
    "               The writelines() function is used to write a list of strings to a file.\n",
    " B. Functionality:\n",
    "                 It writes each string in the list to the file, one after the other.\n",
    " C. Syntax:\n",
    "           file.writelines(lines)\n",
    "\n",
    "  D. file: \n",
    "         The file object that you've opened.\n",
    "  E. lines:\n",
    "          A list of strings that you want to write to the file."
   ]
  },
  {
   "cell_type": "code",
   "execution_count": 7,
   "id": "8e4ce6b2-ce6c-49bd-a690-521f7893ce5a",
   "metadata": {},
   "outputs": [],
   "source": [
    "# Open a file in write mode ('w')\n",
    "file = open('example.txt', 'w')\n",
    "\n",
    "# Write a list of strings to the file\n",
    "lines = ['Line 1\\n', 'Line 2\\n', 'Line 3\\n']\n",
    "file.writelines(lines)\n",
    "\n",
    "# Close the file\n",
    "file.close()\n"
   ]
  },
  {
   "cell_type": "raw",
   "id": "063652aa-8de8-4d7c-8a73-6b8ac2548d63",
   "metadata": {},
   "source": [
    " 1. Features and Notes:\n",
    "                      i). Both write() and writelines() functions can only be used after opening a file in write mode ('w').\n",
    "                     ii). If the file specified does not exist, it will be created. If it already exists, it will be truncated (i.e., its contents will be deleted).\n",
    "                    iii). The write() function returns the number of characters written.\n",
    "                     iv). The writelines() function does not automatically add newline characters, so you need to include them in the strings if you want to separate lines.\n",
    "                      v). Always remember to close the file after writing to it using file.close().\n",
    "                      \n",
    "                      \n",
    "Line 1\n",
    "Line 2\n",
    "Line 3"
   ]
  },
  {
   "cell_type": "raw",
   "id": "9c6939c4-92bd-4088-b45a-e000da037f9b",
   "metadata": {},
   "source": [
    " 2. Mode Parameter:\n",
    "\n",
    "                   When opening a file, you specify a mode parameter. For writing, it should be 'w' (write mode). If the file already exists, using 'w' will overwrite it.\n",
    "                   If it doesn't exist, a new file will be created."
   ]
  },
  {
   "cell_type": "code",
   "execution_count": 8,
   "id": "4f337ba4-fdf9-4082-88b2-3c898811b7d1",
   "metadata": {},
   "outputs": [],
   "source": [
    "file = open('example.txt', 'w')\n"
   ]
  },
  {
   "cell_type": "raw",
   "id": "a80b0a63-730e-41e2-b344-6ac53433ad8a",
   "metadata": {},
   "source": [
    "  3. Appending with write():\n",
    "\n",
    "                         To add content to an existing file without overwriting it, open it in append mode ('a'). The write() function will then append data to the end of the file."
   ]
  },
  {
   "cell_type": "code",
   "execution_count": 9,
   "id": "d291f4b2-d223-4dae-8889-e7fdb09f76c2",
   "metadata": {},
   "outputs": [],
   "source": [
    "file = open('example.txt', 'a')\n",
    "file.write('This is appended content.\\n')\n",
    "file.close()\n"
   ]
  },
  {
   "cell_type": "raw",
   "id": "d489f959-3518-46eb-bf3b-47fed41e98f3",
   "metadata": {},
   "source": [
    " 4. Handling Binary Data:\n",
    "\n",
    "                          Both write() and writelines() work with strings. If you want to write binary data, you need to open the file \n",
    "                           in binary mode ('wb' for write() and 'wb' for writelines())"
   ]
  },
  {
   "cell_type": "code",
   "execution_count": 10,
   "id": "866e9e46-8fc2-49a7-92fb-307750f8a69c",
   "metadata": {},
   "outputs": [],
   "source": [
    "with open('binary_data.bin', 'wb') as file:\n",
    "    file.write(b'\\x48\\x65\\x6c\\x6c\\x6f')  # Writing binary data (ASCII values for 'Hello')\n"
   ]
  },
  {
   "cell_type": "code",
   "execution_count": 11,
   "id": "2cc6d05b-e434-40c7-a17f-273a25c95db6",
   "metadata": {},
   "outputs": [],
   "source": [
    "with open('binary_data.bin', 'wb') as file:\n",
    "    lines = [b'Line 1\\n', b'Line 2\\n', b'Line 3\\n']\n",
    "    file.writelines(lines)\n"
   ]
  },
  {
   "cell_type": "raw",
   "id": "a587e6c0-8bc2-49c6-bf4e-0fa70ee3922a",
   "metadata": {},
   "source": [
    " 5. Using Context Managers (with Statement):\n",
    "\n",
    "                                            It's recommended to use the with statement when working with files. This ensures that the file is properly closed after use,\n",
    "                                          even if an error occurs."
   ]
  },
  {
   "cell_type": "code",
   "execution_count": 12,
   "id": "bd78c92e-cc9d-4bab-a5b2-292ae9132f3f",
   "metadata": {},
   "outputs": [],
   "source": [
    "with open('example.txt', 'w') as file:\n",
    "    file.write('Hello, World!\\n')\n",
    "# File is automatically closed at the end of the block\n"
   ]
  },
  {
   "cell_type": "raw",
   "id": "cfd7d9e5-e7f7-48f7-bc53-969da1012554",
   "metadata": {},
   "source": [
    "  6. Error Handling:\n",
    "\n",
    "                   It's good practice to handle potential errors when working with files. This can be done using try and except blocks."
   ]
  },
  {
   "cell_type": "code",
   "execution_count": 13,
   "id": "15395b76-6f7c-429d-b88c-82a9fdcb5ad1",
   "metadata": {},
   "outputs": [],
   "source": [
    "try:\n",
    "    with open('example.txt', 'w') as file:\n",
    "        file.write('Hello, World!\\n')\n",
    "except IOError as e:\n",
    "    print(f'An error occurred: {e}')\n"
   ]
  },
  {
   "cell_type": "code",
   "execution_count": null,
   "id": "43aa7de6-8265-4e23-9e21-c7fbe6d13d3a",
   "metadata": {},
   "outputs": [],
   "source": []
  }
 ],
 "metadata": {
  "kernelspec": {
   "display_name": "Python 3 (ipykernel)",
   "language": "python",
   "name": "python3"
  },
  "language_info": {
   "codemirror_mode": {
    "name": "ipython",
    "version": 3
   },
   "file_extension": ".py",
   "mimetype": "text/x-python",
   "name": "python",
   "nbconvert_exporter": "python",
   "pygments_lexer": "ipython3",
   "version": "3.10.8"
  }
 },
 "nbformat": 4,
 "nbformat_minor": 5
}
