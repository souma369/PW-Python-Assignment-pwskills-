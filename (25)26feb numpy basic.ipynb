{
 "cells": [
  {
   "cell_type": "markdown",
   "id": "b835c17e-a7f0-402f-85f9-1ef0f10db5aa",
   "metadata": {},
   "source": [
    "## Numpy Basic"
   ]
  },
  {
   "cell_type": "code",
   "execution_count": null,
   "id": "9706aa34-77b2-4427-b129-a376df50b15d",
   "metadata": {},
   "outputs": [],
   "source": []
  },
  {
   "cell_type": "markdown",
   "id": "5eafa669-abe0-4c4d-8fc5-faac86ab711e",
   "metadata": {},
   "source": [
    "## Consider the below code to answer further question:\n",
    "## import numpy as np\n",
    "## list_ = [\"1\",\"2\",\"3\",\"4\",\"5\"]\n",
    "## arry_list = np.arry(object = list_)"
   ]
  },
  {
   "cell_type": "code",
   "execution_count": null,
   "id": "2dcfa24b-1537-49b8-ae2f-34deee1e85f8",
   "metadata": {},
   "outputs": [],
   "source": []
  },
  {
   "cell_type": "code",
   "execution_count": null,
   "id": "79d53f4c-40eb-4d3a-8a83-68ccff866c20",
   "metadata": {},
   "outputs": [],
   "source": []
  },
  {
   "cell_type": "markdown",
   "id": "16b5474d-d3dc-4b2d-afdb-0e44e17d792d",
   "metadata": {},
   "source": [
    "## Q.1  Is there any difference in the data type of variables list_and arry_list? If there is then write a code to print the data types of both the variables."
   ]
  },
  {
   "cell_type": "raw",
   "id": "c3dfe41b-dcd4-4de5-bcf5-f3251e262b8c",
   "metadata": {},
   "source": [
    "In NumPy, the data type of variables can make a significant difference in how computations are performed and how memory is allocated. Let's assume you're asking about \n",
    "  the difference in data types between variables named list_and and arry_list.\n",
    "\n",
    "   If list_and and arry_list are meant to represent Python lists, and arry_list is a NumPy array, then there could be a difference in data types. Here's a brief explanation:\n",
    "\n",
    "  A.... list_and:\n",
    "\n",
    "                  If list_and is a regular Python list, then it can contain elements of different data types. Python lists are dynamic and can hold objects of various \n",
    "                  types in a single list.\n",
    "\n",
    "Example:\n",
    "list_and = [1, 'hello', 3.14, True]\n",
    "In this example, list_and contains elements of different types: integer, string, float, and boolean.\n",
    "\n",
    "   B.... arry_list (Assuming it's a NumPy array):\n",
    "\n",
    "NumPy arrays are homogeneous, which means they can only contain elements of the same data type. This allows for more efficient storage and computation compared to Python lists.\n",
    "\n",
    "Example:\n",
    "import numpy as np\n",
    "\n",
    "arry_list = np.array([1, 2, 3, 4], dtype=np.int32)\n",
    "In this example, arry_list is a NumPy array containing integers. The data type is explicitly specified as np.int32.\n",
    "\n",
    "  C.... So, in summary:\n",
    "\n",
    "                      i). If list_and is a Python list, it can contain elements of different data types.\n",
    "                     ii). If arry_list is a NumPy array, it can only contain elements of the same data type.\n"
   ]
  },
  {
   "cell_type": "code",
   "execution_count": null,
   "id": "e63ae0f4-c660-40db-a02b-4523f72c73be",
   "metadata": {},
   "outputs": [],
   "source": []
  },
  {
   "cell_type": "markdown",
   "id": "ae4ab53f-1f77-42b6-bba3-a06114d8b64b",
   "metadata": {},
   "source": [
    "## Q.2 Write a code to print the data type of each and every element of both the variables list_and arra_list."
   ]
  },
  {
   "cell_type": "code",
   "execution_count": 1,
   "id": "2a3fa08f-2d6a-45e7-8797-8b0bb83a1c89",
   "metadata": {},
   "outputs": [],
   "source": [
    "import numpy as np"
   ]
  },
  {
   "cell_type": "code",
   "execution_count": 2,
   "id": "59d14f70-0243-4bc9-945f-d6d245a43f55",
   "metadata": {},
   "outputs": [],
   "source": [
    "list_data=[1,2,3,2.3,\"souma\",\"False\",2+7j,99]\n",
    "array_list=np.array([1,2,3,4,5,6])"
   ]
  },
  {
   "cell_type": "code",
   "execution_count": 3,
   "id": "3bfb293c-8ec5-46dd-aba6-5a09b91d83f9",
   "metadata": {},
   "outputs": [],
   "source": [
    "def Data_type(variable):\n",
    "    for i in variable:\n",
    "        print(f\"{i}:{type(i)}\")"
   ]
  },
  {
   "cell_type": "code",
   "execution_count": 4,
   "id": "9238fea9-c8ab-4bb2-9c88-7f8f7c6498dc",
   "metadata": {},
   "outputs": [
    {
     "name": "stdout",
     "output_type": "stream",
     "text": [
      "1:<class 'int'>\n",
      "2:<class 'int'>\n",
      "3:<class 'int'>\n",
      "2.3:<class 'float'>\n",
      "souma:<class 'str'>\n",
      "False:<class 'str'>\n",
      "(2+7j):<class 'complex'>\n",
      "99:<class 'int'>\n"
     ]
    }
   ],
   "source": [
    "Data_type(list_data)"
   ]
  },
  {
   "cell_type": "code",
   "execution_count": 5,
   "id": "a3ed5557-76db-4b7b-9f81-070910a375c3",
   "metadata": {},
   "outputs": [
    {
     "name": "stdout",
     "output_type": "stream",
     "text": [
      "1:<class 'numpy.int64'>\n",
      "2:<class 'numpy.int64'>\n",
      "3:<class 'numpy.int64'>\n",
      "4:<class 'numpy.int64'>\n",
      "5:<class 'numpy.int64'>\n",
      "6:<class 'numpy.int64'>\n"
     ]
    }
   ],
   "source": [
    "Data_type(array_list)"
   ]
  },
  {
   "cell_type": "code",
   "execution_count": null,
   "id": "e7142050-d1e6-49e2-a1b7-f40255d5a4ab",
   "metadata": {},
   "outputs": [],
   "source": []
  },
  {
   "cell_type": "code",
   "execution_count": null,
   "id": "2b5592e2-318e-4830-91e6-38e183fb219d",
   "metadata": {},
   "outputs": [],
   "source": []
  },
  {
   "cell_type": "markdown",
   "id": "d3f34b84-fcbb-4984-a601-50191409062b",
   "metadata": {},
   "source": [
    "## Q.3 Considering the following changes in the variable, arry_list:\n",
    "## array_list = np.array(object = list_, dtype = int)\n",
    "    \n",
    "## will there be any difference in the data type of the elements present in both the variables, list_and arra_list? If so then print the data types of each and every element present in both the variables, list_ and arra_list.\n",
    "\n",
    "## Consider the below code to answer further questions:\n",
    "## import numpy as np\n",
    "## num_list = [[1,2,3],[4,5,6]]\n",
    "    \n",
    "## num_array = np.array(object = num_list)"
   ]
  },
  {
   "cell_type": "code",
   "execution_count": 6,
   "id": "48019dad-b20c-447e-a338-8035b3977070",
   "metadata": {},
   "outputs": [],
   "source": [
    "array_list = np.array(object = array_list, dtype = int)"
   ]
  },
  {
   "cell_type": "code",
   "execution_count": 7,
   "id": "93a868f5-63d2-4d9d-8e1a-cb5268a9cada",
   "metadata": {},
   "outputs": [
    {
     "data": {
      "text/plain": [
       "array([1, 2, 3, 4, 5, 6])"
      ]
     },
     "execution_count": 7,
     "metadata": {},
     "output_type": "execute_result"
    }
   ],
   "source": [
    "array_list"
   ]
  },
  {
   "cell_type": "code",
   "execution_count": 8,
   "id": "32036f25-ef32-447b-8303-fcab3273d489",
   "metadata": {},
   "outputs": [],
   "source": [
    "import numpy as np\n",
    "num_list = [[1,2,3],[4,5,6]]\n",
    "num_array = np.array(object = num_list)"
   ]
  },
  {
   "cell_type": "code",
   "execution_count": 9,
   "id": "e6532d60-f79a-40c8-8103-76ef328b8f8d",
   "metadata": {},
   "outputs": [
    {
     "data": {
      "text/plain": [
       "array([[1, 2, 3],\n",
       "       [4, 5, 6]])"
      ]
     },
     "execution_count": 9,
     "metadata": {},
     "output_type": "execute_result"
    }
   ],
   "source": [
    "num_array"
   ]
  },
  {
   "cell_type": "code",
   "execution_count": 10,
   "id": "a93997f8-b542-4236-bf0e-3b20a41f32aa",
   "metadata": {},
   "outputs": [],
   "source": [
    "def Data_type(variable):\n",
    "    for i in variable:\n",
    "        print(f\"{i}:{type(i)}\")"
   ]
  },
  {
   "cell_type": "code",
   "execution_count": 11,
   "id": "50b5da46-cb69-42a0-90d5-874d7f0d981a",
   "metadata": {},
   "outputs": [
    {
     "name": "stdout",
     "output_type": "stream",
     "text": [
      "[1 2 3]:<class 'numpy.ndarray'>\n",
      "[4 5 6]:<class 'numpy.ndarray'>\n"
     ]
    }
   ],
   "source": [
    "Data_type(num_array)"
   ]
  },
  {
   "cell_type": "code",
   "execution_count": null,
   "id": "f282f0f4-5ad8-430e-91d5-3b6baa2dd51f",
   "metadata": {},
   "outputs": [],
   "source": []
  },
  {
   "cell_type": "markdown",
   "id": "db5d781b-5eed-4977-8908-eec512c36bc6",
   "metadata": {
    "tags": []
   },
   "source": [
    "## Q.4 Write a code to find the following characteristics of variable, num_array:\n",
    "## (i)  shape\n",
    "## (ii) size"
   ]
  },
  {
   "cell_type": "code",
   "execution_count": null,
   "id": "8a0bf485-ba20-4bef-9e1a-81c84d0ac8e4",
   "metadata": {},
   "outputs": [],
   "source": []
  },
  {
   "cell_type": "markdown",
   "id": "cdec45fb-62c8-4d74-aa3f-f9bb205ade45",
   "metadata": {},
   "source": [
    "## i) Shape"
   ]
  },
  {
   "cell_type": "raw",
   "id": "9c575947-a0d4-4a48-b198-b1e7107c60bc",
   "metadata": {},
   "source": [
    "In NumPy, the shape of an array is a tuple of integers representing the size of the array along each dimension. For a 1-dimensional array, the shape will be (n,),\n",
    "where n is the number of elements in the array. For a 2-dimensional array, the shape will be (m, n), where m is the number of rows and n is the number of columns,\n",
    "and so on for higher-dimensional arrays.\n",
    "\n",
    "Why is the shape important?\n",
    "\n",
    "                            1. Dimensionality Understanding:\n",
    "                                                            The shape attribute provides a clear understanding of the dimensions of the array. This is crucial when working with\n",
    "                                                            multi-dimensional data, as it allows you to navigate and manipulate the array correctly.\n",
    "                \n",
    "\n",
    "                            2. Array Operations and Broadcasting:\n",
    "                                                                The shape is essential for performing operations on arrays. NumPy uses a concept called broadcasting, \n",
    "                                                                which allows it to perform operations on arrays of different shapes. Understanding the shape helps you predict how\n",
    "                                                                broadcasting will behave.\n",
    "                                    \n",
    "\n",
    "                            3. Reshaping and Resizing:\n",
    "                                                    Knowing the shape is crucial when you want to reshape or resize an array. This allows you to change the dimensions of the array \n",
    "                                                    while maintaining the total number of elements.\n",
    "\n",
    "                            4. Slicing and Indexing: \n",
    "                                                    The shape of an array is used in conjunction with indexing to access specific elements or slices of the array. \n",
    "                                                    It guides you on how to access elements along different axes.\n",
    "                                        \n",
    "\n",
    "Importance of shape in Data Science and Mathematics:\n",
    "\n",
    "                                                    1. Linear Algebra: \n",
    "                                                                    The shape of matrices is fundamental in matrix multiplication, determinants, eigenvalues, and other operations.\n",
    "                \n",
    "\n",
    "                                                    2. Machine Learning and Data Science:\n",
    "                                                                                        In these fields, datasets are often represented as multi-dimensional arrays. Understanding the \n",
    "                                                                                        shape is essential for preprocessing, training, and evaluating models.\n",
    "                                \n",
    "\n",
    "                                                    3. Image Processing and Computer Vision: \n",
    "                                                                                            Images are often represented as multi-dimensional arrays of pixel values. Manipulating and \n",
    "                                                                                            analyzing these images requires a good understanding of the shape of the arrays.\n",
    "\n",
    "                                                    4. Numerical Computations: \n",
    "                                                                            In scientific and engineering applications, NumPy is widely used for numerical computations. Understanding \n",
    "                                                                            the shape is crucial for performing accurate and meaningful computations.\n",
    "\n",
    "In summary, the shape attribute in NumPy provides crucial information about the structure and dimensions of an array. It is a fundamental concept in array manipulation,\n",
    "linear algebra, and various fields of data science and mathematics."
   ]
  },
  {
   "cell_type": "code",
   "execution_count": 12,
   "id": "784c2e07-7027-4b08-8986-4efbcead78c4",
   "metadata": {},
   "outputs": [],
   "source": [
    "arr1=np.array([[1,2,3,4],[1,2,11,22],[22,33,44,22]])"
   ]
  },
  {
   "cell_type": "code",
   "execution_count": 13,
   "id": "8fda52e1-1b7b-4474-bfd8-a69df4bca898",
   "metadata": {},
   "outputs": [
    {
     "data": {
      "text/plain": [
       "(3, 4)"
      ]
     },
     "execution_count": 13,
     "metadata": {},
     "output_type": "execute_result"
    }
   ],
   "source": [
    "arr1.shape"
   ]
  },
  {
   "cell_type": "markdown",
   "id": "50173931-fe67-4fa6-8522-52de318bb804",
   "metadata": {},
   "source": [
    "# ii) size"
   ]
  },
  {
   "cell_type": "raw",
   "id": "5d0d0d3f-fc06-41b7-92b4-00aedaf289fd",
   "metadata": {},
   "source": [
    "In NumPy, the size of an array refers to the total number of elements present in the array. It is calculated by multiplying the lengths of all the dimensions of the array. \n",
    "For example, if you have a 2D array with shape (m, n), the size would be m * n.\n",
    "\n",
    "Why is the size important?\n",
    "\n",
    "                            1. Memory Allocation: \n",
    "                                                Understanding the size of an array is crucial for memory management. It allows you to estimate how much memory will be required to \n",
    "                                                store the array. This is important for optimizing memory usage, especially when dealing with large datasets.\n",
    "                \n",
    "\n",
    "                            2. Performance Considerations: \n",
    "                                                        Knowing the size of an array helps in evaluating the performance of operations. Certain operations have different time and\n",
    "                                                        space complexities based on the size of the input arrays. This knowledge is vital for writing efficient code.\n",
    "                                \n",
    "\n",
    "                            3. Reshaping and Resizing:\n",
    "                                                        When you want to reshape or resize an array, knowing its size is essential. Reshaping or resizing an array requires that\n",
    "                                                        the total number of elements remains the same.\n",
    "                                        \n",
    "\n",
    "                            4. Loop Iterations: \n",
    "                                                In situations where you need to iterate through the elements of an array, knowing the size allows you to determine the number of \n",
    "                                                iterations required.\n",
    "\n",
    "                            5. Statistical Analysis: \n",
    "                                                    In data analysis and statistics, the size of an array (or dataset) is often a critical parameter. It determines the degrees\n",
    "                                                    of freedom and affects the validity of statistical tests.\n",
    "                                        \n",
    "                                        \n",
    "\n",
    "Importance of size in Data Science and Mathematics:\n",
    "\n",
    "                                                1. Memory Efficiency: \n",
    "                                                                    Understanding the size of data structures is crucial for efficient memory usage. This is particularly important\n",
    "                                                                    when dealing with large datasets, where memory constraints may be a limiting factor.\n",
    "                    \n",
    "\n",
    "                                                2. Algorithm Complexity Analysis: \n",
    "                                                                                The size of data structures influences the time complexity of algorithms. It is a key factor in\n",
    "                                                                                determining the efficiency of algorithms in terms of both time and space.\n",
    "                                    \n",
    "\n",
    "                                                3. Statistical Analysis and Machine Learning:\n",
    "                                                                                            In these fields, understanding the size of datasets and feature sets is fundamental. \n",
    "                                                                                            It affects model training times, complexity, and the reliability of statistical inferences.\n",
    "                                                    \n",
    "\n",
    "                                                4. Numerical Computations: \n",
    "                                                                        In scientific and engineering applications, understanding the size of arrays is essential for performing \n",
    "                                                                        accurate and meaningful computations.\n",
    "\n",
    "In summary, the size attribute in NumPy provides crucial information about the total number of elements in an array. It plays a vital role in memory management, algorithm efficiency, \n",
    "and various fields of data science and mathematics.\n",
    "\n",
    "\n",
    "\n",
    "\n"
   ]
  },
  {
   "cell_type": "code",
   "execution_count": 14,
   "id": "5050d1d8-b7ac-4db8-a600-cd84b333ae1c",
   "metadata": {},
   "outputs": [],
   "source": [
    "arr1=np.array([[1,2,3,4],[1,2,11,22],[22,33,44,22]])"
   ]
  },
  {
   "cell_type": "code",
   "execution_count": 15,
   "id": "ff82815b-8ea1-46c9-bb14-02e8564f1ad4",
   "metadata": {},
   "outputs": [
    {
     "data": {
      "text/plain": [
       "12"
      ]
     },
     "execution_count": 15,
     "metadata": {},
     "output_type": "execute_result"
    }
   ],
   "source": [
    "arr1.size"
   ]
  },
  {
   "cell_type": "code",
   "execution_count": null,
   "id": "eb3045fc-84d8-445a-acdb-ffa365f247ef",
   "metadata": {},
   "outputs": [],
   "source": []
  },
  {
   "cell_type": "markdown",
   "id": "2459898a-9cb3-42bb-a926-57bdea78954f",
   "metadata": {},
   "source": [
    "## Q.5 Write a code to create numpy array of 3*3 matrix containing zeros only, using a numpy array creation function.\n",
    "## [Hint: The size of the array will be 9 and the shape will be(3,3)]"
   ]
  },
  {
   "cell_type": "code",
   "execution_count": 16,
   "id": "347f9b97-6aac-4244-8c9c-803409256f1a",
   "metadata": {},
   "outputs": [],
   "source": [
    "arr2=np.zeros((3,3))"
   ]
  },
  {
   "cell_type": "code",
   "execution_count": 17,
   "id": "ba4e7c70-4d4b-4a8a-828e-6803be024f54",
   "metadata": {},
   "outputs": [
    {
     "data": {
      "text/plain": [
       "array([[0., 0., 0.],\n",
       "       [0., 0., 0.],\n",
       "       [0., 0., 0.]])"
      ]
     },
     "execution_count": 17,
     "metadata": {},
     "output_type": "execute_result"
    }
   ],
   "source": [
    "arr2"
   ]
  },
  {
   "cell_type": "code",
   "execution_count": 18,
   "id": "642e5343-3084-46d7-8dbf-f799f99024e2",
   "metadata": {},
   "outputs": [
    {
     "data": {
      "text/plain": [
       "(3, 3)"
      ]
     },
     "execution_count": 18,
     "metadata": {},
     "output_type": "execute_result"
    }
   ],
   "source": [
    "arr2.shape"
   ]
  },
  {
   "cell_type": "code",
   "execution_count": 19,
   "id": "a593960e-1a1f-453e-845c-96b311496284",
   "metadata": {},
   "outputs": [
    {
     "data": {
      "text/plain": [
       "9"
      ]
     },
     "execution_count": 19,
     "metadata": {},
     "output_type": "execute_result"
    }
   ],
   "source": [
    "arr2.size"
   ]
  },
  {
   "cell_type": "code",
   "execution_count": null,
   "id": "7c5d1597-4d7e-4c2a-85a7-4289144c423b",
   "metadata": {},
   "outputs": [],
   "source": []
  },
  {
   "cell_type": "markdown",
   "id": "da502155-9998-499a-85d9-6d8f7027e849",
   "metadata": {},
   "source": [
    "## Q.6 Create an identity matrix of shape(5,5) using numpy functions?\n",
    "## [Hint: An identity matrix is amatrix containing 1 diagonally and other elements will be 0.]"
   ]
  },
  {
   "cell_type": "code",
   "execution_count": 20,
   "id": "e216ea98-45b9-4d2b-9d3c-f7e089b50baf",
   "metadata": {},
   "outputs": [],
   "source": [
    "arr3=np.eye(5)"
   ]
  },
  {
   "cell_type": "code",
   "execution_count": 21,
   "id": "01230a7f-cd81-43a1-b595-f7d9648d3acb",
   "metadata": {},
   "outputs": [
    {
     "data": {
      "text/plain": [
       "array([[1., 0., 0., 0., 0.],\n",
       "       [0., 1., 0., 0., 0.],\n",
       "       [0., 0., 1., 0., 0.],\n",
       "       [0., 0., 0., 1., 0.],\n",
       "       [0., 0., 0., 0., 1.]])"
      ]
     },
     "execution_count": 21,
     "metadata": {},
     "output_type": "execute_result"
    }
   ],
   "source": [
    "arr3"
   ]
  },
  {
   "cell_type": "code",
   "execution_count": null,
   "id": "1aaf1e70-d9be-434f-a0a9-4fa458cc8423",
   "metadata": {},
   "outputs": [],
   "source": []
  }
 ],
 "metadata": {
  "kernelspec": {
   "display_name": "Python 3 (ipykernel)",
   "language": "python",
   "name": "python3"
  },
  "language_info": {
   "codemirror_mode": {
    "name": "ipython",
    "version": 3
   },
   "file_extension": ".py",
   "mimetype": "text/x-python",
   "name": "python",
   "nbconvert_exporter": "python",
   "pygments_lexer": "ipython3",
   "version": "3.10.8"
  }
 },
 "nbformat": 4,
 "nbformat_minor": 5
}
