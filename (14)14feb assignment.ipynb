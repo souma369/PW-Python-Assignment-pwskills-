{
 "cells": [
  {
   "cell_type": "markdown",
   "id": "58340ebd-79ee-4b11-9639-901114c8d79b",
   "metadata": {},
   "source": [
    "## Multithreading"
   ]
  },
  {
   "cell_type": "code",
   "execution_count": null,
   "id": "dec287e0-834f-4c2a-98d8-152ea05e5164",
   "metadata": {},
   "outputs": [],
   "source": []
  },
  {
   "cell_type": "markdown",
   "id": "5b8f42c8-a86a-4be7-8ca9-7d7f0e11ca2b",
   "metadata": {},
   "source": [
    "# Q.1 What is multithreading in python? Why is it used? Name the module used to handle threads in python."
   ]
  },
  {
   "cell_type": "markdown",
   "id": "bad7fd59-540f-4687-b5de-47991c9ea3df",
   "metadata": {},
   "source": [
    "## What is multithreading in python?"
   ]
  },
  {
   "cell_type": "raw",
   "id": "7206e8e0-f78c-4290-b739-174fb790fb87",
   "metadata": {},
   "source": [
    "Multithreading in Python refers to the ability of a program to execute multiple threads concurrently, allowing it to perform multiple tasks at the same time. \n",
    "                A thread is a unit of execution within a program, and multithreading allows a program to utilize multiple threads to execute code in parallel.\n",
    "                  Python provides a built-in module called threading that allows you to create and manage threads. \n",
    "\n",
    "        \n",
    "        Here are some key points about multithreading in Python:\n",
    "\n",
    "      i).       Concurrency: Multithreading enables concurrent execution, which means that different parts of a program can run independently of each other. This is especially useful\n",
    "                                for tasks that involve I/O operations or other tasks that might cause a program to wait.\n",
    "\n",
    "\n",
    "      ii).    Global Interpreter Lock (GIL): In CPython (the standard implementation of Python), there is a Global Interpreter Lock (GIL) that ensures only one thread executes \n",
    "                                             in the interpreter at any given time. This means that, in practice, Python threads can't take full advantage of multicore processors \n",
    "                                           for CPU-bound tasks. However, threads can be very effective for I/O-bound tasks.\n",
    "\n",
    "     iii).    Creating Threads: You can create a thread in Python using the threading.Thread class. You typically subclass this class and override the run() method to define \n",
    "                                   the behavior of the thread.\n",
    "\n",
    "\n",
    "                              import threading\n",
    "\n",
    "                             class MyThread(threading.Thread):\n",
    "                                   def run(self):\n",
    "                                  # Code to be executed by the thread\n",
    "                                   pass\n",
    "      iv).   Starting and Joining Threads: To start a thread, you call the start() method. To wait for a thread to complete its execution, you can use the join() method.\n",
    "\n",
    "                  my_thread = MyThread()\n",
    "                  my_thread.start()\n",
    "                  my_thread.join()  # Wait for the thread to finish\n",
    "\n",
    "        v). Thread Safety: Python's threading module provides tools like locks, semaphores, and condition objects to help ensure thread safety when multiple threads are accessing\n",
    "                            shared resources.\n",
    "\n",
    "        vi).   GIL and CPU-bound Tasks: For CPU-bound tasks (tasks that require a lot of processing), you might not see significant performance improvements with multithreading \n",
    "                                        in Python due to the GIL. In such cases, you might consider using the multiprocessing module for true parallelism.\n",
    "\n",
    "        vii).  GIL and I/O-bound Tasks: For I/O-bound tasks (tasks that spend a lot of time waiting for input or output operations), multithreading can be highly effective because \n",
    "                                       threads can release the GIL while waiting, allowing other threads to run.\n",
    "\n",
    "Remember that when working with threads, you need to be mindful of potential issues like race conditions and deadlocks, which can occur when multiple threads try to access shared \n",
    "         resources simultaneously.\n",
    "\n",
    "In summary, multithreading in Python is a way to achieve concurrency by allowing a program to execute multiple tasks concurrently,\n",
    "             making it particularly useful for I/O-bound operations. However, due to the GIL, it might not be as effective for CPU-bound tasks. For CPU-bound tasks, \n",
    "              you might consider using the multiprocessing module."
   ]
  },
  {
   "cell_type": "markdown",
   "id": "31e9cdce-9dc8-4dd6-bc4c-8b698e64cdf2",
   "metadata": {},
   "source": [
    "## Why is it used"
   ]
  },
  {
   "cell_type": "raw",
   "id": "b6ced805-a382-45ee-ad9a-d0f4d2f17c86",
   "metadata": {},
   "source": [
    "Multithreading is used in Python for several reasons:\n",
    "\n",
    "      i).    Improved Responsiveness: Multithreading allows a program to remain responsive even when it's performing tasks that might otherwise cause it to appear \"frozen\" or \n",
    "                                       unresponsive. This is particularly beneficial for applications with graphical user interfaces (GUIs) or interactive elements.\n",
    "\n",
    "    ii).   Concurrency for I/O-Bound Tasks: In scenarios where a program is mainly waiting for I/O operations (e.g., reading from files, making network requests), multithreading \n",
    "                                      can significantly improve performance. While one thread is waiting for an I/O operation to complete, other threads can continue to execute.\n",
    "\n",
    "    iii).  Parallelism for Multiple Tasks: Multithreading allows a program to perform multiple tasks at the same time, making it useful for situations where there are multiple \n",
    "                                           independent tasks that can be executed concurrently.\n",
    "\n",
    "     iv).  Efficient Resource Utilization: In cases where the program is waiting for external events (like user input or network responses), threads can be used to keep the program \n",
    "                                          active, making efficient use of system resources.\n",
    "\n",
    "      v).  Managing GUIs and User Interfaces: In GUI applications, it's important to keep the user interface responsive. By using threads, time-consuming operations can be moved\n",
    "                                              to separate threads, preventing the GUI from becoming unresponsive.\n",
    "\n",
    "      vi).   Background Processing: Multithreading is useful for handling background tasks that don't need to block the main program's execution. For example,\n",
    "                                    a web server handling multiple client connections can use threads to manage concurrent requests.\n",
    "\n",
    "      vii).    Real-Time Systems: In certain applications like robotics or simulations, multithreading is crucial for managing multiple concurrent tasks in real-time.\n",
    "\n",
    "      viii) Resource Sharing: Threads can be used to share resources among different parts of a program. However, it's important to ensure thread safety to prevent race conditions \n",
    "                           and other synchronization issues.\n",
    "\n",
    "It's worth noting that while multithreading can provide benefits for I/O-bound and concurrent tasks, it may not be as effective for CPU-bound tasks due to \n",
    "        the Global Interpreter Lock (GIL) in Python's standard implementation (CPython). For CPU-bound tasks, the multiprocessing module is often a better choice as \n",
    "          it allows for true parallelism by utilizing multiple CPU cores."
   ]
  },
  {
   "cell_type": "markdown",
   "id": "0fa30a4a-be17-4cb4-889a-9dc09e25a05a",
   "metadata": {},
   "source": [
    "## Name the module used to handle threads in python."
   ]
  },
  {
   "cell_type": "raw",
   "id": "ca3d6c61-e0b8-4287-a615-f1dec7968c0f",
   "metadata": {},
   "source": [
    "The module in Python that handles multithreading is called threading.\n",
    "\n",
    "Functions of the threading module:\n",
    "                                \n",
    "                              A). Thread(target, args, kwargs):\n",
    "\n",
    "                                                              Creates a new thread that will execute the target function with the specified args and kwargs.\n",
    "                          \n",
    "                              B).    current_thread():\n",
    "\n",
    "                                                         Returns the currently executing thread object.\n",
    " \n",
    "                               c).  Lock():\n",
    "\n",
    "                                          Creates a new lock object, which is used to synchronize access to shared resources.\n",
    "       \n",
    "                              D).   Event():\n",
    "\n",
    "                                           Creates a new event object, which is used for communication between threads.\n",
    "\n",
    "                            E).   Semaphore(value):\n",
    "\n",
    "                                               Creates a new semaphore object, which is used to control access to a resource by a specified number of threads.\n",
    " \n",
    "                           F).   Timer(interval, function):\n",
    "\n",
    "                                                          Creates a new timer thread that will execute the function after the specified interval.\n",
    "\n",
    "                           G)     local():\n",
    "\n",
    "                                         Creates a thread-local storage object, allowing each thread to have its own set of data.\n",
    "\n",
    "                        \n",
    "                        Features:\n",
    "                           \n",
    "                            a).  Thread Management: \n",
    "                                                   The threading module provides tools for creating, managing, and synchronizing threads.\n",
    "\n",
    "                            b). Synchronization Primitives: \n",
    "                                                         It offers classes like Lock, Event, Semaphore, etc., to help prevent race conditions and manage access to shared resources.\n",
    "\n",
    "                            c).  Daemon Threads: \n",
    "                                                Threads can be marked as daemon, meaning they will automatically terminate when the main program finishes.\n",
    "\n",
    "                            d).    Timer Threads:\n",
    "                                                The Timer class allows for the execution of a function after a specified interval.\n",
    "\n",
    "                            e).  Thread Local Data:\n",
    "                                                  threading.local() allows you to create thread-local data, which is specific to each thread."
   ]
  },
  {
   "cell_type": "code",
   "execution_count": null,
   "id": "ee4885aa-dad5-4430-8145-2a93b5a0fdfb",
   "metadata": {},
   "outputs": [],
   "source": []
  },
  {
   "cell_type": "markdown",
   "id": "dbe1e7c7-3e85-4c83-b01a-ac7ebdd2ba6d",
   "metadata": {},
   "source": [
    "# Q.2 Why threading module used? Write the use of the following functions:\n",
    "# 1. activeCount()\n",
    "# 2. currentThread()\n",
    "# 3.enumerate()"
   ]
  },
  {
   "cell_type": "markdown",
   "id": "d3191986-e5fe-450b-90fa-b64a5075e028",
   "metadata": {},
   "source": [
    "## Why threading module used?"
   ]
  },
  {
   "cell_type": "raw",
   "id": "b581d5a3-4268-4da4-8adf-909336cae72b",
   "metadata": {},
   "source": [
    "The threading module in Python is used for several reasons:\n",
    "\n",
    "         i).   Improved Responsiveness:\n",
    "                                      Multithreading allows a program to remain responsive even when it's performing tasks that might otherwise cause it to appear \"frozen\" or\n",
    "                                       unresponsive. This is particularly beneficial for applications with graphical user interfaces (GUIs) or interactive elements.\n",
    "\n",
    "\n",
    "         ii).  Concurrency for I/O-Bound Tasks: \n",
    "                                               In scenarios where a program is mainly waiting for I/O operations (e.g., reading from files, making network requests),\n",
    "                      multithreading can significantly improve performance. While one thread is waiting for an I/O operation to complete, other threads can continue to execute.\n",
    "\n",
    "\n",
    "        iii). Parallelism for Multiple Tasks:\n",
    "                                            Multithreading allows a program to perform multiple tasks at the same time, making it useful for situations where there are multiple\n",
    "                                        independent tasks that can be executed concurrently.\n",
    "\n",
    "      \n",
    "        iv).   Efficient Resource Utilization: \n",
    "                                       In cases where the program is waiting for external events (like user input or network responses), threads can be used to keep the program active, \n",
    "                                        making efficient use of system resources.\n",
    "\n",
    "        v).  Managing GUIs and User Interfaces: \n",
    "                                             In GUI applications, it's important to keep the user interface responsive. By using threads, time-consuming operations can be moved to\n",
    "                                            separate threads, preventing the GUI from becoming unresponsive.\n",
    "\n",
    "        vi). Background Processing:\n",
    "                                  Multithreading is useful for handling background tasks that don't need to block the main program's execution. For example, a web server handling \n",
    "                                   multiple client connections can use threads to manage concurrent requests.\n",
    "\n",
    "        vii).  Real-Time Systems:\n",
    "                                In certain applications like robotics or simulations, multithreading is crucial for managing multiple concurrent tasks in real-time.\n",
    "\n",
    "\n",
    "        viii).  Resource Sharing:\n",
    "                                Threads can be used to share resources among different parts of a program. However, it's important to ensure thread safety to prevent race \n",
    "                                conditions and other synchronization issues.\n",
    "\n",
    "\n",
    "                    \n",
    "        It's worth noting that while multithreading can provide benefits for I/O-bound and concurrent tasks, it may not be as effective for CPU-bound tasks due to the Global \n",
    "         Interpreter Lock (GIL) in Python's standard implementation (CPython). For CPU-bound tasks, the multiprocessing module is often a better choice as it allows for true \n",
    "          parallelism by utilizing multiple CPU cores."
   ]
  },
  {
   "cell_type": "raw",
   "id": "730d9027-e860-40ef-8407-f30b36268b36",
   "metadata": {},
   "source": [
    "1. activeCount()\n",
    "              A. Definition:\n",
    "\n",
    "                          activeCount() is a method provided by the threading module in Python. It returns the number of Thread objects that are currently \n",
    "                           alive (i.e., have not yet completed their execution).\n",
    "               B. Uses:\n",
    "\n",
    "                    i). Usage: \n",
    "                               It can be used to get an estimate of how many threads are currently active in the program.\n",
    "                   \n",
    "                    ii). Scenario:\n",
    "                                     This can be helpful for monitoring the progress and concurrency of threaded tasks.\n",
    "\n",
    "                C. Advantages:\n",
    "\n",
    "                              Provides a quick way to check the number of active threads in a program.\n",
    "                              Useful for dynamic thread management and monitoring.\n",
    "               \n",
    "               D. Disadvantages:\n",
    "\n",
    "                                Does not provide detailed information about each thread's status or state.\n",
    "                                The count may not be perfectly accurate due to the dynamic nature of thread execution.\n",
    "\n",
    "                            \n",
    "                            \n",
    "2. currentThread()\n",
    "                \n",
    "                 A. Definition:\n",
    "\n",
    "                             currentThread() is a method provided by the threading module. It returns the current Thread object that corresponds to the caller's thread of control.\n",
    "    \n",
    "                 B. Uses:\n",
    "\n",
    "                        i). Usage: \n",
    "                                 It allows a thread to identify itself and obtain information about its own execution context.\n",
    "                       ii). Scenario: \n",
    "                                    Useful for tasks where a thread needs to know its own identity, for example, for logging purposes.\n",
    "\n",
    "                C. Advantages:\n",
    "\n",
    "                             i). Provides a way for a thread to introspect its own properties.\n",
    "                             ii). Helps in obtaining information about the current thread's state.\n",
    "\n",
    "                            \n",
    "                D. Disadvantages:\n",
    "\n",
    "                            i). Does not provide information about other threads.\n",
    "                            ii). Limited to providing information about the current thread only.\n",
    "\n",
    "                            \n",
    "3. enumerate()\n",
    "            A. Definition:\n",
    "\n",
    "                          enumerate() is a method in the threading module that returns a list of all Thread objects currently alive.\n",
    "           \n",
    "           B.  Uses:\n",
    "\n",
    "                   i).  Usage: \n",
    "                              It provides a list of all currently alive threads, allowing for inspection and management of multiple threads.\n",
    "                   ii). Scenario:\n",
    "                                Useful when you need to keep track of and potentially manage a collection of threads.\n",
    "\n",
    "            C. Advantages:\n",
    "\n",
    "                         i). Allows for dynamic and comprehensive monitoring of all active threads.\n",
    "                         ii). Enables operations on multiple threads simultaneously.\n",
    "\n",
    "            D.  Disadvantages:\n",
    "\n",
    "                            i).  Returns a list, which may consume memory for large numbers of threads.\n",
    "                            ii).  The list may not be sorted by thread start time or other criteria.\n",
    "                            iii).  In summary, these functions in the threading module are essential tools for managing and monitoring threads in a Python program. \n",
    "                            iv).  They provide insights into the number of active threads, information about the current thread, and a list of all currently alive threads. \n",
    "                            v).  Each function serves specific purposes and can be used to facilitate effective multithreading in Python programs."
   ]
  },
  {
   "cell_type": "code",
   "execution_count": 1,
   "id": "b57b9437-fd41-4d92-b07e-20101787742b",
   "metadata": {},
   "outputs": [
    {
     "name": "stdout",
     "output_type": "stream",
     "text": [
      " Active threads: 8\n",
      " Active threads: 8\n"
     ]
    },
    {
     "name": "stderr",
     "output_type": "stream",
     "text": [
      "/tmp/ipykernel_5157/1664040950.py:16: DeprecationWarning: activeCount() is deprecated, use active_count() instead\n",
      "  print(f\" Active threads: {threading.activeCount()}\")\n"
     ]
    }
   ],
   "source": [
    "#1. \"active_Count()\":\n",
    "import threading\n",
    "import time\n",
    "def task():\n",
    "    time.sleep(2)\n",
    "# Creating two threads\n",
    "thread1=threading.Thread(target=task)\n",
    "thread2=threading.Thread(target=task)\n",
    "# Starting both threads\n",
    "thread1.start()\n",
    "thread2.start()\n",
    "#Waiting for threads to complete\n",
    "thread1.join()\n",
    "thread2.join()\n",
    "print(f\" Active threads: {threading.active_count()}\")\n",
    "print(f\" Active threads: {threading.activeCount()}\")\n",
    "    "
   ]
  },
  {
   "cell_type": "code",
   "execution_count": 2,
   "id": "e59676cd-e795-439e-91ec-9c42aa859279",
   "metadata": {},
   "outputs": [
    {
     "name": "stdout",
     "output_type": "stream",
     "text": [
      "Current Thread: Thread 1\n",
      "Current Thread: Thread 2\n"
     ]
    }
   ],
   "source": [
    "# 2. \"currentThread()\":\n",
    "import threading\n",
    "\n",
    "def print_current_thread():\n",
    "    current_thread = threading.current_thread()\n",
    "    print(f'Current Thread: {current_thread.name}')\n",
    "\n",
    "thread1 = threading.Thread(target=print_current_thread, name='Thread 1')\n",
    "thread2 = threading.Thread(target=print_current_thread, name='Thread 2')\n",
    "\n",
    "thread1.start()\n",
    "thread2.start()\n"
   ]
  },
  {
   "cell_type": "code",
   "execution_count": 3,
   "id": "a6485c5c-ebbb-435e-ae71-891770dd6bb3",
   "metadata": {},
   "outputs": [
    {
     "name": "stdout",
     "output_type": "stream",
     "text": [
      "Alive Threads: [<_MainThread(MainThread, started 140285081896768)>, <Thread(IOPub, started daemon 140285011367488)>, <Heartbeat(Heartbeat, started daemon 140285002974784)>, <Thread(Thread-3 (_watch_pipe_fd), started daemon 140284771956288)>, <Thread(Thread-4 (_watch_pipe_fd), started daemon 140284763563584)>, <ControlThread(Control, started daemon 140284755170880)>, <HistorySavingThread(IPythonHistorySavingThread, started 140284746778176)>, <ParentPollerUnix(Thread-2, started daemon 140284738385472)>]\n"
     ]
    }
   ],
   "source": [
    "#3. \"enumerate()\":\n",
    "import threading\n",
    "\n",
    "def task():\n",
    "    return \"this is enumerate\"\n",
    "\n",
    "# Creating three threads\n",
    "thread1 = threading.Thread(target=task)\n",
    "thread2 = threading.Thread(target=task)\n",
    "thread3 = threading.Thread(target=task)\n",
    "\n",
    "# Starting all threads\n",
    "thread1.start()\n",
    "thread2.start()\n",
    "thread3.start()\n",
    "\n",
    "# Getting a list of all alive threads\n",
    "alive_threads = threading.enumerate()\n",
    "\n",
    "print(f'Alive Threads: {alive_threads}')\n"
   ]
  },
  {
   "cell_type": "code",
   "execution_count": null,
   "id": "79544eb8-11b4-4729-80b1-4655e741e976",
   "metadata": {},
   "outputs": [],
   "source": []
  },
  {
   "cell_type": "markdown",
   "id": "8196b513-080e-41e0-928c-af65965b30ad",
   "metadata": {},
   "source": [
    "# Q.3 Explain the following functions:\n",
    "# 1. run()\n",
    "# 2. start()\n",
    "# 3. join()\n",
    "# 4. isAlive()\n"
   ]
  },
  {
   "cell_type": "raw",
   "id": "a75070a3-a67d-4df6-8c3b-43d9033642d3",
   "metadata": {},
   "source": [
    "1. run():\n",
    "\n",
    "        A. Definition: \n",
    "                  The run() method is where the actual code that you want to run in a separate thread is defined. It's typically overridden when you subclass the threading.Thread class.\n",
    "        \n",
    "        B.  Features: \n",
    "                    This method contains the instructions that you want the thread to execute.\n",
    "\n",
    "        C. Advantage:\n",
    "                    It allows you to define the behavior of your thread in a separate method, helping keep the code organized and maintainable.\n",
    "\n",
    "         D. Disadvantage: \n",
    "                       The run() method is not directly called by the user; it's called internally when you call start()."
   ]
  },
  {
   "cell_type": "code",
   "execution_count": 4,
   "id": "9891c12d-ec79-4e70-9a7b-232f1f4770ea",
   "metadata": {},
   "outputs": [],
   "source": [
    "import threading\n",
    "class MyThread(threading.Thread):\n",
    "    def run(self):\n",
    "        for i in range(5):\n",
    "            print(f\"Thread {self.name}: {i}\")"
   ]
  },
  {
   "cell_type": "code",
   "execution_count": 5,
   "id": "9344171d-a4e0-4598-8367-2764fc55280e",
   "metadata": {},
   "outputs": [],
   "source": [
    "thread1=MyThread()"
   ]
  },
  {
   "cell_type": "code",
   "execution_count": 6,
   "id": "b738773f-7f8e-41c7-8ac7-5283ea82d45c",
   "metadata": {},
   "outputs": [
    {
     "name": "stdout",
     "output_type": "stream",
     "text": [
      "Thread Thread-10: 0\n",
      "Thread Thread-10: 1\n",
      "Thread Thread-10: 2\n",
      "Thread Thread-10: 3\n",
      "Thread Thread-10: 4\n"
     ]
    }
   ],
   "source": [
    "thread1.start()"
   ]
  },
  {
   "cell_type": "raw",
   "id": "01848e62-3a6f-4ab0-b001-3419c34a6549",
   "metadata": {},
   "source": [
    "2. start():\n",
    "\n",
    "         A. Definition:\n",
    "                      The start() method is used to begin the execution of the thread. It internally calls the run() method.\n",
    "\n",
    "         B. Features:\n",
    "                     Initiates the thread's execution and calls the run() method.\n",
    "\n",
    "         C. Advantage:\n",
    "                     It allows you to start the execution of a thread in a separate flow of control, enabling parallel processing.\n",
    "\n",
    "         D. Disadvantage:\n",
    "                   Remember not to call run() directly, as this would run the thread in the same context as the caller, rather than in a separate thread."
   ]
  },
  {
   "cell_type": "code",
   "execution_count": 7,
   "id": "67f99309-e95b-4b2e-8e64-83cdd4ea93df",
   "metadata": {},
   "outputs": [
    {
     "name": "stdout",
     "output_type": "stream",
     "text": [
      "0\n",
      "1\n",
      "2\n",
      "3\n",
      "4\n",
      "thread finished\n"
     ]
    }
   ],
   "source": [
    "import threading\n",
    "def print_numbers():\n",
    "    for i in range(5):\n",
    "        print(i)\n",
    "thread2=threading.Thread(target=print_numbers)\n",
    "thread2.start()\n",
    "print(\"thread finished\")"
   ]
  },
  {
   "cell_type": "raw",
   "id": "1b1c3b19-f670-4fc5-9c95-b39b6a148619",
   "metadata": {},
   "source": [
    "3. join():\n",
    "\n",
    "        A. Definition:\n",
    "                      The join() method is used to wait for a thread to finish its execution before moving on to the next code block. \n",
    "                       It blocks the calling thread until the thread that join() is called on completes its execution.\n",
    "\n",
    "        B. Features: \n",
    "                   It synchronizes the execution of threads, ensuring they finish in a specific order.\n",
    "\n",
    "        C. Advantage:\n",
    "                     Useful for coordinating the completion of different threads, especially in scenarios where one thread depends on the result of another.\n",
    "\n",
    "        D. Disadvantage:\n",
    "                      Care should be taken when using join() to avoid potential deadlocks where threads are waiting for each other, causing the program to hang."
   ]
  },
  {
   "cell_type": "code",
   "execution_count": 8,
   "id": "349aa8af-b939-4734-9354-e05c9f7cc8d6",
   "metadata": {},
   "outputs": [
    {
     "name": "stdout",
     "output_type": "stream",
     "text": [
      "0\n",
      "1\n",
      "2\n",
      "3\n",
      "4\n",
      "Thread finished\n"
     ]
    }
   ],
   "source": [
    "import threading\n",
    "def print_numbers():\n",
    "    for i in range(5):\n",
    "        print(i)\n",
    "thread3=threading.Thread(target=print_numbers)\n",
    "thread3.start()\n",
    "thread3.join()\n",
    "print(\"Thread finished\")"
   ]
  },
  {
   "cell_type": "raw",
   "id": "6f2618b9-da1e-4e84-8614-8082e85f7df9",
   "metadata": {},
   "source": [
    "4. is_alive():\n",
    "\n",
    "           A. Definition:\n",
    "                         The isAlive() method checks whether a thread is currently running or has finished executing.\n",
    "\n",
    "            B. Features:\n",
    "                         Returns a boolean value (True if the thread is still active, False otherwise).\n",
    "  \n",
    "            C. Advantage:\n",
    "                       Provides a dynamic way to check the status of a thread, useful for coordination and synchronization.\n",
    "\n",
    "            D. Disadvantage:\n",
    "                     Provides a snapshot of the thread's state at the moment it's called. The thread might have completed its execution by the time you check the result."
   ]
  },
  {
   "cell_type": "code",
   "execution_count": 9,
   "id": "c36da1a6-b84a-4b1a-b73f-2610c377f34e",
   "metadata": {},
   "outputs": [
    {
     "name": "stdout",
     "output_type": "stream",
     "text": [
      "Thread is alive:True\n"
     ]
    }
   ],
   "source": [
    "import threading\n",
    "import time\n",
    "def do_work():\n",
    "    time.sleep(2)\n",
    "thread4=threading.Thread(target=do_work)\n",
    "thread4.start()\n",
    "time.sleep(1)\n",
    "print(f\"Thread is alive:{thread4.is_alive()}\")"
   ]
  },
  {
   "cell_type": "raw",
   "id": "90ea8922-b06f-49e8-a193-34c975bdf987",
   "metadata": {},
   "source": [
    "These functions are essential for managing the behavior and lifecycle of threads in a multithreaded Python program.\n",
    "Understanding them enables you to effectively utilize threading for concurrent execution of tasks."
   ]
  },
  {
   "cell_type": "code",
   "execution_count": null,
   "id": "6f64994a-b12b-451b-9e39-eedf42b9c1c4",
   "metadata": {},
   "outputs": [],
   "source": []
  },
  {
   "cell_type": "markdown",
   "id": "aa7edeba-1ff0-40fb-9be9-638dc8e5663d",
   "metadata": {},
   "source": [
    "# Q.4 Write a python program to create two threads. Thread one must print the list of aquares and thread two must print the list of cubes."
   ]
  },
  {
   "cell_type": "code",
   "execution_count": 10,
   "id": "0ecbb425-2b78-462d-9a9a-849e09f757b1",
   "metadata": {},
   "outputs": [],
   "source": [
    "import threading\n",
    "\n",
    "def square():\n",
    "    for i in range(1,11):\n",
    "        print(i*i) \n",
    "\n",
    "def cube():\n",
    "    for i in range(1,11):\n",
    "        print(i*i*i)\n",
    "    \n",
    "\n",
    "\n"
   ]
  },
  {
   "cell_type": "code",
   "execution_count": 11,
   "id": "10a8deea-b445-4d9e-91f1-5672408ac32e",
   "metadata": {},
   "outputs": [],
   "source": [
    "thread11=[threading.Thread(target=square,) ]"
   ]
  },
  {
   "cell_type": "code",
   "execution_count": 12,
   "id": "181883d4-948a-4b7d-8a93-c1bfd92790a4",
   "metadata": {},
   "outputs": [
    {
     "name": "stdout",
     "output_type": "stream",
     "text": [
      "1\n",
      "4\n",
      "9\n",
      "16\n",
      "25\n",
      "36\n",
      "49\n",
      "64\n",
      "81\n",
      "100\n"
     ]
    }
   ],
   "source": [
    "for t in thread11:\n",
    "    t.start()"
   ]
  },
  {
   "cell_type": "code",
   "execution_count": 13,
   "id": "cd1d15ce-733b-4ea3-85d5-3c75e87c8d05",
   "metadata": {},
   "outputs": [],
   "source": [
    "thread22=[threading.Thread(target=cube,) ]"
   ]
  },
  {
   "cell_type": "code",
   "execution_count": 14,
   "id": "25051f01-e4c8-4473-a96c-fad79710fa63",
   "metadata": {},
   "outputs": [
    {
     "name": "stdout",
     "output_type": "stream",
     "text": [
      "1\n",
      "8\n",
      "27\n",
      "64\n",
      "125\n",
      "216\n",
      "343\n",
      "512\n",
      "729\n",
      "1000\n"
     ]
    }
   ],
   "source": [
    "for t in thread22:\n",
    "    t.start()"
   ]
  },
  {
   "cell_type": "code",
   "execution_count": 15,
   "id": "86a7b997-a73a-40f7-8d57-d7f5aff9610c",
   "metadata": {},
   "outputs": [],
   "source": [
    "thread1=threading.Thread(target=square)\n",
    "thread2=threading.Thread(target=cube)"
   ]
  },
  {
   "cell_type": "code",
   "execution_count": 16,
   "id": "eb266c79-f9da-48f7-b9cc-794e6629004d",
   "metadata": {},
   "outputs": [
    {
     "name": "stdout",
     "output_type": "stream",
     "text": [
      "1\n",
      "4\n",
      "9\n",
      "16\n",
      "25\n",
      "36\n",
      "49\n",
      "64\n",
      "81\n",
      "100\n",
      "1\n",
      "8\n",
      "27\n",
      "64\n",
      "125\n",
      "216\n",
      "343\n",
      "512\n",
      "729\n",
      "1000\n"
     ]
    }
   ],
   "source": [
    "thread1.start()\n",
    "thread2.start()\n"
   ]
  },
  {
   "cell_type": "code",
   "execution_count": null,
   "id": "844f9f20-2d74-4d6a-b6b5-cf2c78121fe5",
   "metadata": {},
   "outputs": [],
   "source": []
  },
  {
   "cell_type": "markdown",
   "id": "c645370d-053f-4dbc-9469-18df1536f89f",
   "metadata": {},
   "source": [
    "# Q.5 State advantages and disadvantages of multithreading.\n"
   ]
  },
  {
   "cell_type": "raw",
   "id": "0fe018e0-e461-4fac-af81-6439bf4ef95e",
   "metadata": {},
   "source": [
    "# Advantages:\n",
    "\n",
    "           i).  Parallelism: Multithreading allows you to achieve parallelism in your Python programs, which can lead to improved performance for certain types of tasks. \n",
    "                           It can be particularly useful for I/O-bound operations where threads can wait for I/O operations to complete without blocking the entire program.\n",
    "\n",
    "          ii).  Concurrency: Multithreading enables concurrent execution of tasks, making it easier to manage multiple tasks simultaneously. This is beneficial for applications \n",
    "                             that need to handle multiple tasks or user interactions concurrently.\n",
    "\n",
    "          iii).  Resource Sharing: Threads within the same process can easily share data and resources, making it efficient to communicate between different parts of a program or\n",
    "                                   share data between threads.\n",
    "\n",
    "           iv).   Responsiveness: Multithreading can help improve the responsiveness of graphical user interfaces (GUIs) and interactive applications by allowing tasks like user \n",
    "                                    input processing to run concurrently with other tasks.\n",
    "\n",
    "            v).   Utilization of Multiple Cores: In a multi-core processor environment, multithreading can take advantage of multiple CPU cores, potentially leading to better CPU                                                             utilization and performance gains.\n",
    "\n",
    "Disadvantages:\n",
    "\n",
    "             i). Global Interpreter Lock (GIL): Python has a Global Interpreter Lock (GIL) that prevents multiple native threads from executing Python code simultaneously.\n",
    "                                                This means that CPU-bound tasks may not see significant performance improvements from multithreading, as they are still subject to the                                                    GIL, which can limit true parallelism.\n",
    "\n",
    "             ii). Complexity: Multithreading can introduce complexity into your code, especially when dealing with shared resources. You need to carefully synchronize access\n",
    "                            to shared data to avoid race conditions and ensure data integrity.\n",
    "\n",
    "             iii).  Debugging: Debugging multithreaded code can be challenging. Issues such as deadlocks, race conditions, and thread contention can be difficult to diagnose \n",
    "                              and reproduce.\n",
    "\n",
    "             iv). Thread Safety: Ensuring thread safety can be time-consuming and error-prone. Without proper synchronization mechanisms (e.g., locks or semaphores), \n",
    "                                   concurrent access to shared resources can lead to unpredictable behavior.\n",
    "\n",
    "             v).   Overhead: Creating and managing threads in Python can have some overhead, both in terms of memory usage and CPU time. This overhead may outweigh the benefits \n",
    "                              for certain lightweight tasks.\n",
    "\n",
    "            vi).   Portability: Python's multithreading behavior may vary across different platforms and implementations, potentially leading to non-portable code.\n",
    "\n",
    "In summary, multithreading in Python can be a powerful tool for certain types of applications, particularly those that involve I/O-bound operations or require concurrent task handling. However, it's essential to consider the limitations and challenges associated with Python's Global Interpreter Lock and thread safety when deciding whether to use multithreading for a particular task. Depending on your specific use case, alternative concurrency models like multiprocessing or asynchronous programming may be more suitable."
   ]
  },
  {
   "cell_type": "code",
   "execution_count": null,
   "id": "26013e01-4233-425e-acac-01d86aef53c7",
   "metadata": {},
   "outputs": [],
   "source": []
  },
  {
   "cell_type": "markdown",
   "id": "25a9b7f4-04f6-4132-9098-ef6942bc470d",
   "metadata": {},
   "source": [
    "# Q.6 Explain deadlocks and race conditions."
   ]
  },
  {
   "cell_type": "raw",
   "id": "c5d88cdf-c829-4415-88b1-3b6cfa08fca4",
   "metadata": {},
   "source": [
    "  ### Deadlocks:\n",
    "\n",
    "    Definition:\n",
    "               A deadlock is a state in a concurrent system where two or more processes or threads are unable to proceed because each is waiting for the other to release a resource. \n",
    "               This creates a circular waiting condition.\n",
    "\n",
    "   A. Features:\n",
    "\n",
    "              i). Circular Waiting:\n",
    "                             Processes are in a circular chain of dependencies, each holding a resource that the next process in the chain needs.\n",
    "\n",
    "            ii). Irreversible: \n",
    "                         Once in a deadlock state, processes cannot recover without external intervention.\n",
    "\n",
    "            iii).  Resource Preemption: \n",
    "                                Deadlocks can sometimes be resolved by forcibly taking a resource from a waiting process, but this can lead to complications.\n",
    "\n",
    "            iv).  May Involve Multiple Resources: \n",
    "                                          Deadlocks can occur in systems with multiple types of resources, involving complex interactions.\n",
    "    \n",
    "    \n",
    "   B. Functions:\n",
    "\n",
    "             i). wait():\n",
    "                   Process requests a resource and waits if it's unavailable.\n",
    "   \n",
    "             ii). release():\n",
    "                      Process releases a resource once it's done using it.\n",
    "\n",
    "   \n",
    "    C. Advantages:\n",
    "\n",
    "               None. Deadlocks are undesirable states that need to be avoided.\n",
    "\n",
    "        \n",
    "    D. Disadvantages:\n",
    "\n",
    "                 i).  Can lead to program hang or unresponsiveness.\n",
    "\n",
    "                ii).  Requires intervention to resolve.\n",
    "               \n",
    "                iii).  Wastes system resources and may cause performance degradation.\n",
    "\n",
    "                 iv). Difficult to detect and debug.\n",
    "\n",
    "                  v). Can result in system-wide slowdown if not handled properly."
   ]
  },
  {
   "cell_type": "raw",
   "id": "f75d9d5a-b4d7-456f-81e1-d91ff7ae8bc0",
   "metadata": {},
   "source": [
    "   ##Race Conditions:\n",
    "\n",
    "     A.  Definition:\n",
    "                    A race condition occurs when two or more processes or threads access shared data simultaneously, and the outcome depends on the order in which they execute.\n",
    "\n",
    "\n",
    "    B.  Features:\n",
    "\n",
    "                i). Unpredictable Outcome: \n",
    "                                         The result of a race condition is unpredictable and can vary each time the program is executed.\n",
    "\n",
    "                ii). Timing-Dependent: \n",
    "                                     The behavior of the program depends on the relative timing of the operations.\n",
    "\n",
    "                iii). Non-Deterministic: \n",
    "                                       Race conditions can be difficult to reproduce consistently, making debugging challenging.\n",
    "\n",
    "                iv). Amplifies with Parallelism: \n",
    "                                                The likelihood of race conditions increases with more concurrent execution.\n",
    "\n",
    "    c.  Advantages:\n",
    "\n",
    "                  None. Race conditions are undesirable and can lead to incorrect program behavior.\n",
    "\n",
    "    D. Disadvantages:\n",
    "\n",
    "                    i). Can lead to incorrect program behavior or data corruption.\n",
    "                \n",
    "                    ii). Difficult to debug and reproduce reliably.\n",
    "             \n",
    "                    iii). May require synchronization mechanisms to prevent.\n",
    "\n",
    "                    iv). May cause performance issues due to the need for additional synchronization.\n",
    "\n",
    "                    v).  Can be subtle and hard to identify in complex systems.\n",
    "\n",
    "                    vi). Can result in security vulnerabilities if not addressed."
   ]
  },
  {
   "cell_type": "raw",
   "id": "1b83e0a7-7ce2-4f5e-aadc-4cb14c8f56c7",
   "metadata": {},
   "source": [
    "In summary, deadlocks and race conditions are both undesirable in concurrent programming. Deadlocks lead to processes being stuck,\n",
    "  while race conditions result in unpredictable program behavior due to concurrent access to shared resources. \n",
    "    Both situations require careful handling and the use of synchronization mechanisms to avoid. They can be particularly challenging to deal with in complex systems,\n",
    "    and if not addressed, can have serious consequences for system performance and correctness."
   ]
  },
  {
   "cell_type": "raw",
   "id": "d0abdc70-9fa4-4d5b-aa43-8bfa1ba30dd2",
   "metadata": {},
   "source": [
    "                                                                                        ##Deadlock:\n",
    "\n",
    "    Definition:\n",
    "                  A deadlock is a state in a concurrent system where two or more processes or threads are unable to proceed because each is waiting for the other to release a resource.\n",
    "                 This creates a circular waiting condition.\n",
    "\n",
    "                Example:\n",
    "                        Consider two friends, Alice and Bob, who need to borrow books from each other. They agree to meet and exchange books. However, they both arrive at \n",
    "                        the meeting spot and refuse to give up their own book until they receive the other person's book. As a result, neither Alice nor Bob can leave with both books, \n",
    "                        leading to a deadlock.\n",
    "\n",
    "                        In computing, this scenario might occur when two processes each hold a resource (like a file or a lock) and are waiting for the other process to release \n",
    "                        the resource they need. This circular dependency leads to a deadlock.\n",
    "\n",
    "\n",
    "                        \n",
    "                                                                                ##Race Condition:\n",
    "  \n",
    "   Definition:\n",
    "              A race condition occurs when two or more processes or threads access shared data simultaneously, and the outcome depends on the order in which they execute.\n",
    "\n",
    "\n",
    "              Example:\n",
    "                      Suppose two employees, Sarah and John, have access to a shared company expense report stored in a file. Both want to update the total expense amount:\n",
    "\n",
    "                       Sarah reads the current total (say $1000) into memory.\n",
    "                       John also reads the same total ($1000) into his memory.\n",
    "                       Sarah adds her expense ($200) to the total and writes back $1200.\n",
    "                       John adds his expense ($300) to the total and writes back $1300.\n",
    "                      \n",
    "                       In this example, the final total is $1300, even though Sarah's expense should have been added to the original total of $1000. \n",
    "                        The race condition led to an incorrect result.\n",
    "\n",
    "                       In computing, this situation might occur when multiple threads or processes try to update a shared variable without proper synchronization. \n",
    "                       The final value of the variable depends on the relative timing of their operations, leading to unpredictable outcomes.\n",
    "\n",
    "\n",
    "\n",
    "\n"
   ]
  }
 ],
 "metadata": {
  "kernelspec": {
   "display_name": "Python 3 (ipykernel)",
   "language": "python",
   "name": "python3"
  },
  "language_info": {
   "codemirror_mode": {
    "name": "ipython",
    "version": 3
   },
   "file_extension": ".py",
   "mimetype": "text/x-python",
   "name": "python",
   "nbconvert_exporter": "python",
   "pygments_lexer": "ipython3",
   "version": "3.10.8"
  }
 },
 "nbformat": 4,
 "nbformat_minor": 5
}
