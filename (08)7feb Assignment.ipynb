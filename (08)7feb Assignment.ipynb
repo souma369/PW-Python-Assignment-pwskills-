{
 "cells": [
  {
   "cell_type": "markdown",
   "id": "786f681f-843d-4208-845a-834fa04c0d51",
   "metadata": {},
   "source": [
    "## Task - 2"
   ]
  },
  {
   "cell_type": "code",
   "execution_count": null,
   "id": "4c27c8ae-a8a7-42a6-bc5f-36bc8f594f98",
   "metadata": {},
   "outputs": [],
   "source": []
  },
  {
   "cell_type": "markdown",
   "id": "b42b1759-d55b-4d7e-bc52-fdf6d9c40a40",
   "metadata": {},
   "source": [
    "## 1. you are writing code for a company. The requirement of the company is that you create a python function that will check whether the password entered by the user is correct or not. The function should take the password as input and return the string \"valid password\" if the entered password follows the below given password guidelines else it should return \"Invalid Password\"\n",
    "\n",
    "## Note:\n",
    "## a. The password should contain at least two uppercase letters and at least two lowercase Letters.\n",
    "## b. The password should contain at least a number and three special characters\n",
    "## c. The length of the password should be 10 characters long"
   ]
  },
  {
   "cell_type": "code",
   "execution_count": 1,
   "id": "278bb611-2870-4883-b0b6-9ce821897173",
   "metadata": {},
   "outputs": [],
   "source": [
    "class Set_Password:\n",
    "    def __init__(self,password):\n",
    "        self.__p=password\n",
    "    def check(self,n):\n",
    "        #self.__n=enter_password\n",
    "        if self.__p==n:\n",
    "            return \"Valid Password\"\n",
    "        else:\n",
    "            return \"Invalid Password\""
   ]
  },
  {
   "cell_type": "code",
   "execution_count": 2,
   "id": "cc384649-fd3f-4c6a-a122-ec47c41ecbc6",
   "metadata": {},
   "outputs": [
    {
     "name": "stdin",
     "output_type": "stream",
     "text": [
      "set your password SAsa@#1234\n"
     ]
    }
   ],
   "source": [
    "s=Set_Password(input(\"set your password\"))"
   ]
  },
  {
   "cell_type": "code",
   "execution_count": 3,
   "id": "b53d61c1-7616-4877-86a6-4cab4b02a591",
   "metadata": {},
   "outputs": [
    {
     "name": "stdin",
     "output_type": "stream",
     "text": [
      "enter your password SAsa@#1234\n"
     ]
    },
    {
     "data": {
      "text/plain": [
       "'Valid Password'"
      ]
     },
     "execution_count": 3,
     "metadata": {},
     "output_type": "execute_result"
    }
   ],
   "source": [
    "s.check(input(\"enter your password\"))"
   ]
  },
  {
   "cell_type": "code",
   "execution_count": 4,
   "id": "7ccf42e6-bc3e-493d-b165-9dcaa213e31b",
   "metadata": {},
   "outputs": [
    {
     "name": "stdin",
     "output_type": "stream",
     "text": [
      "enter your password SwE@#123\n"
     ]
    },
    {
     "data": {
      "text/plain": [
       "'Invalid Password'"
      ]
     },
     "execution_count": 4,
     "metadata": {},
     "output_type": "execute_result"
    }
   ],
   "source": [
    "s.check(input(\"enter your password\"))"
   ]
  },
  {
   "cell_type": "code",
   "execution_count": null,
   "id": "887a77da-42bd-48c4-8cf9-1eb721f6ef99",
   "metadata": {},
   "outputs": [],
   "source": []
  },
  {
   "cell_type": "markdown",
   "id": "f629b5c6-5148-4b7c-bb49-68ed194f2345",
   "metadata": {},
   "source": [
    "## Q2. Solve the below-given questions using at least one of the following: \n",
    "## 1. Lambda function\n",
    "## 2. Filter function\n",
    "## 3. Map function\n",
    "## 4. List Comprehension\n",
    "## * Check if the string starts with a particular letter.\n",
    "## * Check if the string is numeric.\n",
    "## * Sort a list of tuples having fruit names and their quantity. [(\"mango\",99),(\"orange\",80), (\"grapes\", 1000)]\n",
    "## * Find the squares of numbers from 1 to 10.\n",
    "## * Find the cube root of numbers from 1 to 10.\n",
    "## * Check if a given number is even.\n",
    "## * Filter odd numbers from the given list.\n",
    "\n",
    "## [1,2,3,4,5,6,7,8,9,10-\n",
    "## * Sort a list of integers into positive and negative integers lists.\n",
    "\n",
    "## [1,2,3,4,5,6,-1,-2,-3,-4,-5,0]"
   ]
  },
  {
   "cell_type": "code",
   "execution_count": null,
   "id": "207cfb52-0cec-4f1a-b597-266370f8dd5d",
   "metadata": {},
   "outputs": [],
   "source": []
  },
  {
   "cell_type": "markdown",
   "id": "a63be413-6e4b-4d7d-8540-3e963dedb002",
   "metadata": {},
   "source": [
    "## i) Check if the string starts with a particular letter."
   ]
  },
  {
   "cell_type": "code",
   "execution_count": 5,
   "id": "8004582d-1748-4b0d-9da1-ba1d7aa78b43",
   "metadata": {},
   "outputs": [],
   "source": [
    "def check(string,letter):\n",
    "    if  string[0]==letter[0]:\n",
    "        return \"yes\"\n",
    "    else:\n",
    "        return \"no\""
   ]
  },
  {
   "cell_type": "code",
   "execution_count": 6,
   "id": "1fe1c2e2-3f06-4df6-aacf-44ac4604f01e",
   "metadata": {},
   "outputs": [
    {
     "data": {
      "text/plain": [
       "'yes'"
      ]
     },
     "execution_count": 6,
     "metadata": {},
     "output_type": "execute_result"
    }
   ],
   "source": [
    "check(\"souma\",\"s\")"
   ]
  },
  {
   "cell_type": "code",
   "execution_count": 7,
   "id": "6e2ed0fc-0273-40ce-9419-5ce97c24998c",
   "metadata": {},
   "outputs": [
    {
     "data": {
      "text/plain": [
       "'no'"
      ]
     },
     "execution_count": 7,
     "metadata": {},
     "output_type": "execute_result"
    }
   ],
   "source": [
    "check(\"souma\",\"k\")"
   ]
  },
  {
   "cell_type": "code",
   "execution_count": 8,
   "id": "2df4ecad-eb67-4381-85bf-503a377ce956",
   "metadata": {},
   "outputs": [
    {
     "data": {
      "text/plain": [
       "'yes'"
      ]
     },
     "execution_count": 8,
     "metadata": {},
     "output_type": "execute_result"
    }
   ],
   "source": [
    "check(\"souma\",\"s\")"
   ]
  },
  {
   "cell_type": "code",
   "execution_count": 9,
   "id": "0c139bf0-65c4-41e2-8a18-dacca5ec853f",
   "metadata": {},
   "outputs": [],
   "source": [
    "def starts_with_letter(input_string, letter):\n",
    "    return input_string.startswith(letter)"
   ]
  },
  {
   "cell_type": "code",
   "execution_count": 11,
   "id": "06c5759d-a9d1-42e5-9225-654a41b58979",
   "metadata": {},
   "outputs": [
    {
     "data": {
      "text/plain": [
       "True"
      ]
     },
     "execution_count": 11,
     "metadata": {},
     "output_type": "execute_result"
    }
   ],
   "source": [
    "starts_with_letter(\"souma\",\"s\")"
   ]
  },
  {
   "cell_type": "code",
   "execution_count": 13,
   "id": "71560c2b-9b97-4738-afaa-4f9601de3ccd",
   "metadata": {},
   "outputs": [
    {
     "data": {
      "text/plain": [
       "False"
      ]
     },
     "execution_count": 13,
     "metadata": {},
     "output_type": "execute_result"
    }
   ],
   "source": [
    "starts_with_letter(\"knock\",\"s\")"
   ]
  },
  {
   "cell_type": "raw",
   "id": "28d13ee8-a29e-4bf1-826b-def41182a835",
   "metadata": {},
   "source": [
    "In this example, starts_with_letter is a function that takes two arguments: input_string (the string you want to check) and letter (the letter you want to check for \n",
    "at the beginning of the string).\n",
    "\n",
    "Inside the function, it uses the startswith() method, which returns True if the string starts with the specified letter and False otherwise."
   ]
  },
  {
   "cell_type": "code",
   "execution_count": null,
   "id": "0cb1374f-253c-4f66-8922-0966c03d11c6",
   "metadata": {},
   "outputs": [],
   "source": []
  },
  {
   "cell_type": "markdown",
   "id": "838241fe-78ed-4083-806f-8a2e3a5103cc",
   "metadata": {},
   "source": [
    "## ii)  Check if the string is numeric."
   ]
  },
  {
   "cell_type": "code",
   "execution_count": 14,
   "id": "f9ebf4f2-b493-4bfe-b12b-e81c49e9149b",
   "metadata": {},
   "outputs": [],
   "source": [
    "def is_numeric(input_string):\n",
    "    return input_string.isdigit()"
   ]
  },
  {
   "cell_type": "code",
   "execution_count": 15,
   "id": "8689787c-b44b-4abe-b871-8beee45bb15f",
   "metadata": {},
   "outputs": [
    {
     "data": {
      "text/plain": [
       "True"
      ]
     },
     "execution_count": 15,
     "metadata": {},
     "output_type": "execute_result"
    }
   ],
   "source": [
    "is_numeric(\"14463\")"
   ]
  },
  {
   "cell_type": "code",
   "execution_count": 16,
   "id": "e342eeb6-f3dc-417d-b17d-ee9b6172be2d",
   "metadata": {},
   "outputs": [
    {
     "data": {
      "text/plain": [
       "False"
      ]
     },
     "execution_count": 16,
     "metadata": {},
     "output_type": "execute_result"
    }
   ],
   "source": [
    "is_numeric(\"soumadip\")"
   ]
  },
  {
   "cell_type": "code",
   "execution_count": 17,
   "id": "83a9438b-18a1-4f3d-8e64-6a95b2a9b1e5",
   "metadata": {},
   "outputs": [
    {
     "data": {
      "text/plain": [
       "False"
      ]
     },
     "execution_count": 17,
     "metadata": {},
     "output_type": "execute_result"
    }
   ],
   "source": [
    "is_numeric(\"souma14346\")"
   ]
  },
  {
   "cell_type": "raw",
   "id": "46025440-5c68-4d70-922b-cb632d4b02b8",
   "metadata": {},
   "source": [
    "In this example, is_numeric is a function that takes an input_string as an argument. It uses the isdigit() method, which returns True if all characters in the string are digits, \n",
    "and False otherwise. The function then returns the result."
   ]
  },
  {
   "cell_type": "code",
   "execution_count": null,
   "id": "bcc162f6-a8d5-4838-ae9d-39d75ec61bd6",
   "metadata": {},
   "outputs": [],
   "source": []
  },
  {
   "cell_type": "markdown",
   "id": "0003ad32-e86d-42fa-866c-908a4ee2df1e",
   "metadata": {},
   "source": [
    "## iii) Sort a list of tuples having fruit names and their quantity. [(\"mango\",99),(\"orange\",80), (\"grapes\", 1000)]"
   ]
  },
  {
   "cell_type": "code",
   "execution_count": 18,
   "id": "5367b6d8-5d46-4c53-b197-23e9231897de",
   "metadata": {},
   "outputs": [
    {
     "name": "stdout",
     "output_type": "stream",
     "text": [
      "[('orange', 80), ('mango', 99), ('grapes', 1000)]\n"
     ]
    }
   ],
   "source": [
    "fruits = [(\"mango\", 99), (\"orange\", 80), (\"grapes\", 1000)]\n",
    "\n",
    "# Sort the list of tuples based on the quantity (element at index 1)\n",
    "sorted_fruits = sorted(fruits, key=lambda x: x[1])\n",
    "\n",
    "print(sorted_fruits)\n"
   ]
  },
  {
   "cell_type": "code",
   "execution_count": null,
   "id": "7884c708-97a3-4e48-a59a-3886b271364a",
   "metadata": {},
   "outputs": [],
   "source": []
  },
  {
   "cell_type": "markdown",
   "id": "bb65a9fa-a0cb-43aa-9437-36db648c8d82",
   "metadata": {},
   "source": [
    "## iv) Find the squares of numbers from 1 to 10."
   ]
  },
  {
   "cell_type": "code",
   "execution_count": 19,
   "id": "c339ed2c-d19e-4d64-af12-46157331c1d6",
   "metadata": {},
   "outputs": [],
   "source": [
    "l=list(range(1,11))"
   ]
  },
  {
   "cell_type": "code",
   "execution_count": 20,
   "id": "303958cb-f07f-4b8e-9cda-de7e89d30321",
   "metadata": {},
   "outputs": [
    {
     "data": {
      "text/plain": [
       "[1, 2, 3, 4, 5, 6, 7, 8, 9, 10]"
      ]
     },
     "execution_count": 20,
     "metadata": {},
     "output_type": "execute_result"
    }
   ],
   "source": [
    "l"
   ]
  },
  {
   "cell_type": "code",
   "execution_count": 21,
   "id": "d1594216-25a9-4815-a4d9-00c85978f913",
   "metadata": {},
   "outputs": [],
   "source": [
    "x=list(map(lambda i: i**2,l))"
   ]
  },
  {
   "cell_type": "code",
   "execution_count": 22,
   "id": "9c01f914-dc43-4b50-a4c0-0787903ea4b4",
   "metadata": {},
   "outputs": [
    {
     "data": {
      "text/plain": [
       "[1, 4, 9, 16, 25, 36, 49, 64, 81, 100]"
      ]
     },
     "execution_count": 22,
     "metadata": {},
     "output_type": "execute_result"
    }
   ],
   "source": [
    "x"
   ]
  },
  {
   "cell_type": "markdown",
   "id": "17f7255f-e827-42f4-98f0-002430323f79",
   "metadata": {},
   "source": [
    "## v) Find the cube root of numbers from 1 to 10."
   ]
  },
  {
   "cell_type": "code",
   "execution_count": 23,
   "id": "38e6be7b-d2ab-4be8-9be2-cf4a60fc7684",
   "metadata": {},
   "outputs": [],
   "source": [
    "l1=list(range(1,11))"
   ]
  },
  {
   "cell_type": "code",
   "execution_count": 24,
   "id": "87b31e99-4140-4717-b79e-fbcdcfb40771",
   "metadata": {},
   "outputs": [
    {
     "data": {
      "text/plain": [
       "[1, 2, 3, 4, 5, 6, 7, 8, 9, 10]"
      ]
     },
     "execution_count": 24,
     "metadata": {},
     "output_type": "execute_result"
    }
   ],
   "source": [
    "l1"
   ]
  },
  {
   "cell_type": "code",
   "execution_count": 25,
   "id": "b55ed964-ea0c-4e7e-a9b1-dd5dfa8412db",
   "metadata": {},
   "outputs": [],
   "source": [
    "y=list(map(lambda i: i**(1/3),l1))"
   ]
  },
  {
   "cell_type": "code",
   "execution_count": 26,
   "id": "630b39eb-c7bf-4cfc-bd12-080766c0c205",
   "metadata": {},
   "outputs": [
    {
     "data": {
      "text/plain": [
       "[1.0,\n",
       " 1.2599210498948732,\n",
       " 1.4422495703074083,\n",
       " 1.5874010519681994,\n",
       " 1.7099759466766968,\n",
       " 1.8171205928321397,\n",
       " 1.912931182772389,\n",
       " 2.0,\n",
       " 2.080083823051904,\n",
       " 2.154434690031884]"
      ]
     },
     "execution_count": 26,
     "metadata": {},
     "output_type": "execute_result"
    }
   ],
   "source": [
    "y"
   ]
  },
  {
   "cell_type": "code",
   "execution_count": null,
   "id": "409280a6-fb40-4c2d-9387-48424f8268fb",
   "metadata": {},
   "outputs": [],
   "source": []
  },
  {
   "cell_type": "markdown",
   "id": "1d8f7eaa-00f3-4b30-95d2-b95f3b85cf34",
   "metadata": {},
   "source": [
    "## vi)  Check if a given number is even."
   ]
  },
  {
   "cell_type": "code",
   "execution_count": 27,
   "id": "908ef998-af0c-460a-ac92-33839808edec",
   "metadata": {},
   "outputs": [],
   "source": [
    "def check_number(p):\n",
    "    if p%2==0:\n",
    "        return \"Even\"\n",
    "    else:\n",
    "        return \"odd\""
   ]
  },
  {
   "cell_type": "code",
   "execution_count": 28,
   "id": "2d4319ee-065e-4990-9305-1052e1d5b309",
   "metadata": {},
   "outputs": [
    {
     "data": {
      "text/plain": [
       "'odd'"
      ]
     },
     "execution_count": 28,
     "metadata": {},
     "output_type": "execute_result"
    }
   ],
   "source": [
    "check_number(23)"
   ]
  },
  {
   "cell_type": "code",
   "execution_count": 29,
   "id": "d999c0eb-e8fc-4439-9563-cf4f067b6e56",
   "metadata": {},
   "outputs": [
    {
     "data": {
      "text/plain": [
       "'Even'"
      ]
     },
     "execution_count": 29,
     "metadata": {},
     "output_type": "execute_result"
    }
   ],
   "source": [
    "check_number(52)"
   ]
  },
  {
   "cell_type": "markdown",
   "id": "e071757a-071b-4248-9791-2f12be6ca03b",
   "metadata": {},
   "source": [
    "## vii)  Filter odd numbers from the given list. [1,2,3,4,5,6,7,8,9,10]"
   ]
  },
  {
   "cell_type": "code",
   "execution_count": 30,
   "id": "04357c29-83d4-4567-b5dd-864f2b7a9066",
   "metadata": {},
   "outputs": [],
   "source": [
    "l3=[1,2,3,4,5,6,7,8,9,10]\n",
    "l4=list(filter(lambda i: i%2!=0,l3))"
   ]
  },
  {
   "cell_type": "code",
   "execution_count": 31,
   "id": "53aacdfe-6566-4626-9894-34d58ec71fbe",
   "metadata": {},
   "outputs": [
    {
     "data": {
      "text/plain": [
       "[1, 3, 5, 7, 9]"
      ]
     },
     "execution_count": 31,
     "metadata": {},
     "output_type": "execute_result"
    }
   ],
   "source": [
    "l4"
   ]
  },
  {
   "cell_type": "markdown",
   "id": "dab2c68a-8315-472e-a236-242635fd6d0c",
   "metadata": {},
   "source": [
    "## viii) Sort a list of integers into positive and negative integers lists.\n",
    "\n",
    "## [1,2,3,4,5,6,-1,-2,-3,-4,-5,0]"
   ]
  },
  {
   "cell_type": "code",
   "execution_count": 32,
   "id": "1aaf5082-586b-4d44-9d7f-83e3f34cbab6",
   "metadata": {},
   "outputs": [],
   "source": [
    "l5=[1,2,3,4,5,6,-1,-2,-3,-4,-5,0]\n"
   ]
  },
  {
   "cell_type": "code",
   "execution_count": 33,
   "id": "98d6630a-726d-4090-b2ee-3fec129f6b10",
   "metadata": {},
   "outputs": [],
   "source": [
    "l5.sort()"
   ]
  },
  {
   "cell_type": "code",
   "execution_count": 34,
   "id": "1d709d68-51b9-42ee-bab3-a585460f7b6a",
   "metadata": {},
   "outputs": [
    {
     "data": {
      "text/plain": [
       "[-5, -4, -3, -2, -1, 0, 1, 2, 3, 4, 5, 6]"
      ]
     },
     "execution_count": 34,
     "metadata": {},
     "output_type": "execute_result"
    }
   ],
   "source": [
    "l5"
   ]
  },
  {
   "cell_type": "code",
   "execution_count": 35,
   "id": "81b83967-38de-4e9c-bc8c-7f16f2da1bb7",
   "metadata": {},
   "outputs": [],
   "source": [
    "positive_integer_list=list(filter(lambda i: i>=0,l5))"
   ]
  },
  {
   "cell_type": "code",
   "execution_count": 36,
   "id": "99284a4d-e2f8-47f0-a951-00fbec5014ae",
   "metadata": {},
   "outputs": [
    {
     "data": {
      "text/plain": [
       "[0, 1, 2, 3, 4, 5, 6]"
      ]
     },
     "execution_count": 36,
     "metadata": {},
     "output_type": "execute_result"
    }
   ],
   "source": [
    "positive_integer_list"
   ]
  },
  {
   "cell_type": "code",
   "execution_count": 37,
   "id": "13d32d92-4b29-4f2e-aff5-6c4e8adfbbc7",
   "metadata": {},
   "outputs": [],
   "source": [
    "negative_integer_list=list(filter(lambda i: i<0,l5))"
   ]
  },
  {
   "cell_type": "code",
   "execution_count": 38,
   "id": "cdca9b6a-63bd-4021-aa7e-acecedf91cb2",
   "metadata": {},
   "outputs": [
    {
     "data": {
      "text/plain": [
       "[-5, -4, -3, -2, -1]"
      ]
     },
     "execution_count": 38,
     "metadata": {},
     "output_type": "execute_result"
    }
   ],
   "source": [
    "negative_integer_list"
   ]
  },
  {
   "cell_type": "code",
   "execution_count": null,
   "id": "707be7f3-8274-48a4-8e6d-7fadb393ec05",
   "metadata": {},
   "outputs": [],
   "source": []
  }
 ],
 "metadata": {
  "kernelspec": {
   "display_name": "Python 3 (ipykernel)",
   "language": "python",
   "name": "python3"
  },
  "language_info": {
   "codemirror_mode": {
    "name": "ipython",
    "version": 3
   },
   "file_extension": ".py",
   "mimetype": "text/x-python",
   "name": "python",
   "nbconvert_exporter": "python",
   "pygments_lexer": "ipython3",
   "version": "3.10.8"
  }
 },
 "nbformat": 4,
 "nbformat_minor": 5
}
