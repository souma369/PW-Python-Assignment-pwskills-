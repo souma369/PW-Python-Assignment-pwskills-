{
 "cells": [
  {
   "cell_type": "markdown",
   "id": "e6e0ed39-7273-4027-a78a-9c9acd96071b",
   "metadata": {},
   "source": [
    "## Exception handling-1"
   ]
  },
  {
   "cell_type": "code",
   "execution_count": null,
   "id": "7eced4eb-9d6b-4a9b-a527-c2deb32a720d",
   "metadata": {},
   "outputs": [],
   "source": []
  },
  {
   "cell_type": "markdown",
   "id": "a436f38a-aa70-4a44-83f8-0aa8d32f74e3",
   "metadata": {},
   "source": [
    "# Q.1 what is an Exception in python? Write the difference between Exceptions and syntax errors."
   ]
  },
  {
   "cell_type": "markdown",
   "id": "5130fc4a-50bc-41d6-884d-37455144c95a",
   "metadata": {},
   "source": [
    "## what is an Exception in python?"
   ]
  },
  {
   "cell_type": "code",
   "execution_count": 2,
   "id": "d5f7a9de-ce75-4d21-8f2b-04d4ef95de58",
   "metadata": {},
   "outputs": [
    {
     "name": "stdout",
     "output_type": "stream",
     "text": [
      "Error: Division by zero!\n"
     ]
    }
   ],
   "source": [
    "#            In python an exception is an event that occurs during the exceutionn of a program that disrupts the normal flow of the program's instructions. When an exceptional condition \n",
    "#           is encountered an exception object is rasied which can then be caught and handle by the program. Exception allow you to handle errors, unexpected situations or exceptional \n",
    "#           conditions that may arise during the execution of your code. They provide a mechanism for handling errors gracefully and taking appropriate actions. When an exception occurs \n",
    "#            it typically causes the program to terminate unless it is handled by an exception handler. Exception handling allows you to write code that can handle specific types of \n",
    "#             exceptions and take appropriate actions, such as displaying an error message, logging the error or attempting to recover from the error.\n",
    "\n",
    "#  Python provides a variety of built-in exception that cover common types of errors such as \"TypeError\", \"ValueError\", \" IOError\", and \"ZeroDivisionError\", among others.\n",
    "#            Additionally you can define your own custom exception by creating classes that inherit from the built-in \"Exception\" class or one of its subclasses.\n",
    "\n",
    "# example: \n",
    "try:\n",
    "    x = 10/0\n",
    "except ZeroDivisionError:\n",
    "    print(\"Error: Division by zero!\")"
   ]
  },
  {
   "cell_type": "code",
   "execution_count": null,
   "id": "18b566ef-0af3-41f6-a688-0e9694227340",
   "metadata": {},
   "outputs": [],
   "source": [
    "#   In this example the code inside the \"try\" block attempts to divide the number 10 by zero, which raises a \"ZeroDivisionError\". The \"except\" block catches the exception and executes\n",
    "#       the code within it, printing an error message. Without exception  handling the program would terminate with a traceback indicating the error."
   ]
  },
  {
   "cell_type": "markdown",
   "id": "b30f911c-abfd-4761-940a-de19f4bee5c6",
   "metadata": {},
   "source": [
    "## Write the difference between Exceptions and syntax errors."
   ]
  },
  {
   "cell_type": "code",
   "execution_count": null,
   "id": "71ac7f29-cb2b-49c8-b082-512baaf68f68",
   "metadata": {},
   "outputs": [],
   "source": [
    "# difference between exception and syntax error in python:\n",
    "\n",
    "#  A.  Syntax Errors: \n",
    "#                   a.syntax errors also known as parsing errors occur when the python interpreter encounters invalid code that does not conform to the language's syntax rules.\n",
    "#                   b. syntax errors are detected during the parsing phase before the program is executed\n",
    "#                   c. Common causes of syntax errors include misspelled keywords missing colons, incorrect indentation, and mismatched parentheses or quotes.\n",
    "#                   d. When a syntax error is encountered the interpreter displays a traceback with a specific error message pointing to the location of the error in the code.\n",
    "#                   e. syntax errors prevent the program from running at all until the code is corrected.\n",
    "\n",
    "# B.Exceptions:\n",
    "#             a. Exception occur during the execution of a program when an error or exceptional condition is encountered that disrupts the normal flow of instructions.\n",
    "#             b. Exception can be caused by various factors such as invalid user input, divided by zero file not found, or accessing a non-existent variable.\n",
    "#             c. Exceptions are handled using exception handling mechanisms such as the \"try-except\" statement which allows you to catch and handle specific types of executions.\n",
    "#             d. Exceptions can be built-in python exception(e,g., \"ValueError\",\"TypeError\",\"FileNotFoundError\") or custom exceptions defined by the programmer.\n",
    "#             e. when an exception is rasied and not handled it propagates up the call stack until it is caught and handled or the program terminates with a traceback displaying the \n",
    "#                   exception message and the location where it was rasied.\n",
    "#             f. Exception handling allows you to gracefully handle errors , log error messages provide fallback actions or recover from exceptional conditions, ensuring that the \n",
    "#                  program can continue running.\n",
    "\n",
    "\n",
    "#### In summary syntax errors are detected before the program is executed and occur due to violation of the python syntax rules, while exception occur during program execution when \n",
    "#        exceptional conditions or error are encountered. Exceptions can be caught and handled using exception handling mechanisms, allowing for graceful error handling and program \n",
    "#         flow control."
   ]
  },
  {
   "cell_type": "code",
   "execution_count": null,
   "id": "6a6335c2-0475-4bf9-b38f-840995fb1b68",
   "metadata": {},
   "outputs": [],
   "source": []
  },
  {
   "cell_type": "markdown",
   "id": "2f9f7eff-7ddc-456b-a053-b3412362826e",
   "metadata": {},
   "source": [
    "# Q.2 What happens when  an exception is not handled? Explain with an example."
   ]
  },
  {
   "cell_type": "markdown",
   "id": "35063cba-894e-4f86-bc5f-c874d21b3333",
   "metadata": {},
   "source": [
    "## What happens when an exception is not handled?"
   ]
  },
  {
   "cell_type": "code",
   "execution_count": 2,
   "id": "e5a302f9-ad11-4805-9b27-20aea3be306c",
   "metadata": {},
   "outputs": [],
   "source": [
    "#   A. Program Termination: when an exception is not handled the program excution is halted at the point where the exception occurred. the control flow is immediately transferred to \n",
    "#                            the nearest enclosing exception handler(if one exists). If there is no exception handler the program terminates.\n",
    "\n",
    "#   B. Error Message: when an unhandled exception occurs an error message is displayed providing information about the type of exception and the line of code where it occurred. \n",
    "#                      The error message typically includes a traceback, which is a stack trace showing the sequence of function calls leading to the exception.\n",
    "\n",
    "#   C. Stack Trace:  The stack trace provides valuable information to help diagnose and debug the issue. It shows the function call hierarchy and can help identify the specific \n",
    "#                    line of code where the exception was raised. The stack trace helps developers locate and fix the problem that caused the exception.\n",
    "\n",
    "#   D. Program State: when an exception is not handled the program state at the point of the exception might be left inconsistent or unpredictable. Resources that were acquired but \n",
    "#                      not released properly may remain in an invalid state. Data structures may be partially modified. Not handling exceptions can lead to incorrect program behavior \n",
    "#                     or unexpected results.\n",
    "\n",
    "#   E.Program Termination Code: After displaying the error message and stack trace the program terminates. The termination process usually involves freeing up system resources and \n",
    "#                               cleaning up any remaining state. Depending on the programming language and environment the termination process may vary.\n",
    "\n",
    "#   Handling exception is crucial to ensure that programs can gracefully recover from errors and continue executing . By catching and handling exceptions, developers can implement \n",
    "#              appropriate error-handling logic, provide meaningful feedback to users and prevent unexpected program terminations."
   ]
  },
  {
   "cell_type": "markdown",
   "id": "5f3bcbd3-82c8-4d3a-9fda-8a27fc57d821",
   "metadata": {},
   "source": [
    "## Explain with an example."
   ]
  },
  {
   "cell_type": "code",
   "execution_count": 3,
   "id": "4ef9455d-73a8-4550-a6fe-6cf2908823e4",
   "metadata": {},
   "outputs": [
    {
     "ename": "ZeroDivisionError",
     "evalue": "division by zero",
     "output_type": "error",
     "traceback": [
      "\u001b[0;31m---------------------------------------------------------------------------\u001b[0m",
      "\u001b[0;31mZeroDivisionError\u001b[0m                         Traceback (most recent call last)",
      "Cell \u001b[0;32mIn[3], line 5\u001b[0m\n\u001b[1;32m      3\u001b[0m     \u001b[38;5;28;01mreturn\u001b[39;00m result\n\u001b[1;32m      4\u001b[0m \u001b[38;5;66;03m# Division with exception not handled\u001b[39;00m\n\u001b[0;32m----> 5\u001b[0m result \u001b[38;5;241m=\u001b[39m \u001b[43mdivide\u001b[49m\u001b[43m(\u001b[49m\u001b[38;5;241;43m222\u001b[39;49m\u001b[43m,\u001b[49m\u001b[43m \u001b[49m\u001b[38;5;241;43m0\u001b[39;49m\u001b[43m)\u001b[49m\n\u001b[1;32m      6\u001b[0m \u001b[38;5;28mprint\u001b[39m(\u001b[38;5;124m\"\u001b[39m\u001b[38;5;124mprogram continues execution after the exception.\u001b[39m\u001b[38;5;124m\"\u001b[39m)\n\u001b[1;32m      8\u001b[0m \u001b[38;5;66;03m# in the above example the \"divide\" function performs a division operation between two numbers. However in this case the denominator is 0, which is not allowed in arithmetic operations.\u001b[39;00m\n\u001b[1;32m      9\u001b[0m \u001b[38;5;66;03m# When the program is executed the division operation \"222/0\" triggers a \"ZeroDivisionError\" exception as division by zero is not possible. Since there is no exception handling code(such as a try-except block), the exception is not caught or handled.\u001b[39;00m\n\u001b[1;32m     10\u001b[0m \n\u001b[1;32m     11\u001b[0m \u001b[38;5;66;03m# As a result the program execution is abruptly halted and an error message is displayed:\"ZeroDivisionError\"\u001b[39;00m\n",
      "Cell \u001b[0;32mIn[3], line 2\u001b[0m, in \u001b[0;36mdivide\u001b[0;34m(a, b)\u001b[0m\n\u001b[1;32m      1\u001b[0m \u001b[38;5;28;01mdef\u001b[39;00m \u001b[38;5;21mdivide\u001b[39m(a , b):\n\u001b[0;32m----> 2\u001b[0m     result \u001b[38;5;241m=\u001b[39m \u001b[43ma\u001b[49m\u001b[38;5;241;43m/\u001b[39;49m\u001b[43mb\u001b[49m\n\u001b[1;32m      3\u001b[0m     \u001b[38;5;28;01mreturn\u001b[39;00m result\n",
      "\u001b[0;31mZeroDivisionError\u001b[0m: division by zero"
     ]
    }
   ],
   "source": [
    "def divide(a , b):\n",
    "    result = a/b\n",
    "    return result\n",
    "# Division with exception not handled\n",
    "result = divide(222, 0)\n",
    "print(\"program continues execution after the exception.\")\n",
    "\n",
    "# in the above example the \"divide\" function performs a division operation between two numbers. However in this case the denominator is 0, which is not allowed in arithmetic operations.\n",
    "# When the program is executed the division operation \"222/0\" triggers a \"ZeroDivisionError\" exception as division by zero is not possible. Since there is no exception handling\n",
    "#   code(such as a try-except block), the exception is not caught or handled.\n",
    "\n",
    "# As a result the program execution is abruptly halted and an error message is displayed:\"ZeroDivisionError\""
   ]
  },
  {
   "cell_type": "code",
   "execution_count": 4,
   "id": "8e8c78e9-f304-4ba1-b4b4-48a4d01b040c",
   "metadata": {},
   "outputs": [],
   "source": [
    "#  The error message indicates the type of exception(\"ZeroDivisionError\") and the specific line of code where it occurred(\"result = divide(222/0)\"). It provides valuable information \n",
    "#      for identifying and debugging the issue.\n",
    "# After Displaying the error message the program terminates and any subsequent code is not executed. In the example the line \"print(\"Program continues execution after the exception.\")\" \n",
    "#      is never reached.\n",
    "\n",
    "# Handling exceptions allows you to control the flow of the program provide appropriate error messages and perform necessary actions to recover from error.\n",
    "#  Neglecting to handle exceptions can lead to unexpected program termination leaving the program state inconsistent and potentially causing data loss or other undesirable consequences."
   ]
  },
  {
   "cell_type": "markdown",
   "id": "128a344d-4b6c-4f59-a0fd-f08ed2de888e",
   "metadata": {},
   "source": [
    "# Q.3 Which python statements are used to catch and handle exceptions? Explain with an example."
   ]
  },
  {
   "cell_type": "markdown",
   "id": "d74a1c5f-fbe4-45f7-aa22-aa9f85ec4206",
   "metadata": {},
   "source": [
    "## Which python statements are used to catch and handle exceptions?"
   ]
  },
  {
   "cell_type": "code",
   "execution_count": null,
   "id": "0bcbdbae-c321-4ea4-be31-5731c25a9c04",
   "metadata": {},
   "outputs": [],
   "source": [
    "#  A. The \"try\"it block contains the code that may potentially raise an exception. \n",
    "#  B. The \"except\" block(S) specify the types(s) of expection(s) to catch and handle . you can have multiple \"except\" blocks to handle different types of exception.\n",
    "#         If an exception of the specified type occurs in the \"try\"  block the corresponding \"except\" block is executed.\n",
    "#  C. The \"else\" block is optional and is executed only if no exception were raised in the \"try\" block.\n",
    "#  D. The \"finally\" block is also optional and is always executed, regardless of whether an execption occurred or not. It is typically used to release resources or perform cleanuptasks.\n",
    "try:\n",
    "    # code that may raise an exception\n",
    "    # .......\n",
    "except ExceptionType1:\n",
    "    #code to handle ExceptionType1\n",
    "    #.........\n",
    "except ExceptionType2:\n",
    "    # code to handle ExceptionType2\n",
    "    # ......\n",
    "else:\n",
    "    # code to execute if no exception is raised\n",
    "    # ....\n",
    "finally:\n",
    "    # code that will always be executed, regardless of whether an exception  occurred or not\n",
    "    #.... "
   ]
  },
  {
   "cell_type": "markdown",
   "id": "c8f921ce-c4a9-4d5a-b27c-29d14374ffa4",
   "metadata": {},
   "source": [
    "## Explain with an example."
   ]
  },
  {
   "cell_type": "code",
   "execution_count": null,
   "id": "a0b7620c-afee-4931-aaea-ab7e0d4ff069",
   "metadata": {},
   "outputs": [],
   "source": [
    "try:\n",
    "    #code that may raise an exception\n",
    "    result = 5/0 # division by zero\n",
    "except ZeroDivisionError:\n",
    "    #handling the ZeroDivisionError\n",
    "    print(\"Error: Division by Zero\")"
   ]
  },
  {
   "cell_type": "code",
   "execution_count": null,
   "id": "a1615c09-6232-4ba6-a0c0-042eaf721a93",
   "metadata": {},
   "outputs": [],
   "source": [
    "# in this example above if the division by zero occurs the \"ZeroDivisionError\" excepton is raised and the corresponding \"except\" block is excuted printing an error message. \n",
    "#    you can customize the exception handling logic based on the specific needs of your program by using different eception types and adding additional \"except\" blocks"
   ]
  },
  {
   "cell_type": "code",
   "execution_count": 2,
   "id": "f93b9eda-11e3-49b1-9a17-cafdfc31ba5a",
   "metadata": {},
   "outputs": [
    {
     "name": "stdin",
     "output_type": "stream",
     "text": [
      "enter an integer: ada\n"
     ]
    },
    {
     "name": "stdout",
     "output_type": "stream",
     "text": [
      "Error: Invalid input, please enter an integer.\n"
     ]
    }
   ],
   "source": [
    "# let's consider an example where we want to read an integer input from the user and handle the \"ValueError\" that may occur if the user enters a non-numeric value. We'll \n",
    "#   use the \"try\" and \"except\" statements to catch and handle the exception.\n",
    "try:\n",
    "    # prompt the user for input\n",
    "    num = int(input(\"enter an integer:\"))\n",
    "    print(\"you entered:\", num)\n",
    "except ValueError:\n",
    "    #handling the ValueError\n",
    "    print(\"Error: Invalid input, please enter an integer.\")"
   ]
  },
  {
   "cell_type": "code",
   "execution_count": 3,
   "id": "891a5685-0c64-42a6-83e6-b616fb7ea429",
   "metadata": {},
   "outputs": [],
   "source": [
    "# In the example above the \"try\" block contains the code that may raise a ValueError if the user enters a non-numeric value. The \"int()\" function is used to convert the user's input to \n",
    "#       an integer. If the user enters a non-numeric value a ValueError will be raised and the program will jump to the \"except\" block. In this case the \"except\" \n",
    "#   block will excute and display an error message.On the other hand if the user enters a valid integers the program will executed the code in the \"try\" block without any exceptions \n",
    "#      and the \"except\" block will be skipped.\n",
    "# By catching the \"ValueError\" and providing a suitable error message we ensure that the program does not crash if the user  enters an invalid input. Instead we gracefully handle \n",
    "#      the exception and continue the execution of the program."
   ]
  },
  {
   "cell_type": "code",
   "execution_count": null,
   "id": "1a41d82b-7872-457e-ad74-48f89eb72fb3",
   "metadata": {},
   "outputs": [],
   "source": []
  },
  {
   "cell_type": "markdown",
   "id": "961f9a3c-b5cf-435e-a4ea-a306d1c03f07",
   "metadata": {},
   "source": [
    "# Q.4 Explain with an example:\n",
    "#    a. try and else\n",
    "#    b. finally\n",
    "#    c. raise"
   ]
  },
  {
   "cell_type": "markdown",
   "id": "87397dad-ff6d-4ffa-9981-a5b035bf16ec",
   "metadata": {},
   "source": [
    "## a. try and else"
   ]
  },
  {
   "cell_type": "code",
   "execution_count": 11,
   "id": "2c35015e-6663-4266-827a-4e962237343a",
   "metadata": {},
   "outputs": [
    {
     "name": "stdin",
     "output_type": "stream",
     "text": [
      "enter a dividend: 244\n",
      "enter a divisor: sff\n"
     ]
    },
    {
     "name": "stdout",
     "output_type": "stream",
     "text": [
      "Invalid input. please enter a valid number.\n"
     ]
    }
   ],
   "source": [
    "#  a. try and else:\n",
    "\n",
    "# In python the \"try\" and \"else\" blocks are used together in exception handling to provide alternative code paths. The \"try\" block is used to enclose the code that may raise an \n",
    "#      exception ans the \"else\" block is executed if no exception occur in the \"try\" block.\n",
    "try:\n",
    "    num1 = int(input(\"enter a dividend:\"))\n",
    "    num2 = int(input(\"enter a divisor:\"))\n",
    "    result = num1/num2\n",
    "except ValueError:\n",
    "    print(\"Invalid input. please enter a valid number.\")\n",
    "except ZeroDivisionError:\n",
    "    print(\"cannot divide by zero.\")\n",
    "else:\n",
    "    print(\"the division result is \", result)"
   ]
  },
  {
   "cell_type": "code",
   "execution_count": 12,
   "id": "56b1b538-797b-46cb-ae4b-8706302de8d4",
   "metadata": {},
   "outputs": [],
   "source": [
    "# In this example the \"try\" block attempts to divide \"num1\" by \"num2\" and assigns the result to the variable \"result\". However if either of the inputs is not a valid \n",
    "#   number(\"ValueError\"), or if the divisor is zero (\"ZeroDivisionError\") an exception is raised. If not exception occurs the code inside the \"else\" block is executed.\n",
    "#     In this case it simply prints the division result. However if an exception is raised, the corresponding \"except\" block is executed instead and the program can handle \n",
    "#     the exception accordingly by printing an error message. The \"else\" block is optional and is executed only if no exceptions are raised in the \"try\" block. It provides a \n",
    "#          way to distinguish between the code that is executed when an exception occurs and the code that is executed when no exception occurs."
   ]
  },
  {
   "cell_type": "markdown",
   "id": "f4b14c81-5fe5-48d4-9c50-b59100ffdb8c",
   "metadata": {},
   "source": [
    "## b. finally"
   ]
  },
  {
   "cell_type": "code",
   "execution_count": 19,
   "id": "59d86418-7f11-4255-94f3-25668526e662",
   "metadata": {},
   "outputs": [
    {
     "name": "stdout",
     "output_type": "stream",
     "text": [
      "file not found\n"
     ]
    },
    {
     "ename": "NameError",
     "evalue": "name 'file' is not defined",
     "output_type": "error",
     "traceback": [
      "\u001b[0;31m---------------------------------------------------------------------------\u001b[0m",
      "\u001b[0;31mNameError\u001b[0m                                 Traceback (most recent call last)",
      "Cell \u001b[0;32mIn[19], line 10\u001b[0m\n\u001b[1;32m      8\u001b[0m     \u001b[38;5;28mprint\u001b[39m(\u001b[38;5;124m\"\u001b[39m\u001b[38;5;124mfile not found\u001b[39m\u001b[38;5;124m\"\u001b[39m)\n\u001b[1;32m      9\u001b[0m \u001b[38;5;28;01mfinally\u001b[39;00m:\n\u001b[0;32m---> 10\u001b[0m     \u001b[43mfile\u001b[49m\u001b[38;5;241m.\u001b[39mclose()\n\u001b[1;32m     11\u001b[0m     \u001b[38;5;28mprint\u001b[39m(\u001b[38;5;124m\"\u001b[39m\u001b[38;5;124mfile closed.\u001b[39m\u001b[38;5;124m\"\u001b[39m)\n",
      "\u001b[0;31mNameError\u001b[0m: name 'file' is not defined"
     ]
    }
   ],
   "source": [
    "# b.finally:\n",
    "# In python the \"finally\" block is used in exception handling to specify a piece of code that should be executed regardless of whether an exception is raised or not. The \"finally\" \n",
    "#    block is executed after the \"try\" block and associated \"except\" or \"else\" blocks\n",
    "try:\n",
    "    file = open(\"test999.txt\", \"r\")\n",
    "    content = file.read()\n",
    "    print(content)\n",
    "except FileNotFoundError:\n",
    "    print(\"file not found\")\n",
    "finally:\n",
    "    file.close()\n",
    "    print(\"file closed.\")"
   ]
  },
  {
   "cell_type": "markdown",
   "id": "ddaa4450-ad3a-4b83-9b1a-5a5a42da1d76",
   "metadata": {},
   "source": [
    "## c. raise"
   ]
  },
  {
   "cell_type": "code",
   "execution_count": 22,
   "id": "fd94fb28-9567-41b4-93ee-31a7020e48fb",
   "metadata": {},
   "outputs": [
    {
     "name": "stdout",
     "output_type": "stream",
     "text": [
      "cannot divide by zero!\n"
     ]
    }
   ],
   "source": [
    "#   C. In python the \"raise\" statement is used to raise exceptions manually during the execution of a program. It allows you to handle exceptional situations and provide custom\n",
    "#         error messages or actions.\n",
    " \n",
    "    # raise [ExceptionClassName(\"Error mesage\")]\n",
    "\n",
    "\n",
    "    # here \"ExceptionClassName\" refers to the specific type of exception you want to raise and \"Error message\" is an optional string that provides additional information about\n",
    "    #         the exception.\n",
    "\n",
    "def divide_numbers(a, b):\n",
    "    if b == 0:\n",
    "        raise ValueError(\"cannot divide by zero!\")\n",
    "    return a/b\n",
    "try:\n",
    "    result = divide_numbers(50, 0)\n",
    "except ValueError as e:\n",
    "    print(e)"
   ]
  },
  {
   "cell_type": "code",
   "execution_count": 24,
   "id": "3915c177-2d89-4966-9080-b3af4bfb76c5",
   "metadata": {},
   "outputs": [],
   "source": [
    "# In this example we have a function called \"divide_numbers\" that takes two parameters \"a\" and \"b\". If \"b\" is zero which would result in a division by zero error, we raise a \n",
    "#    \"ValueError\" exception with the error message \"Cannot divide by zero!\" .To handle this exception we warp the function call inside a \"try-except\" block. If the \"raise\" statement \n",
    "#        is encountered within the \"try\" block the control flow jumps directly to the \"except\" block. In this case, the \"ValueError\" exception is caught and the error message is printed.\n",
    "# By using the \"raise\" statement you can create custom exception and handle them in a way that suits your program's logic and requirements."
   ]
  },
  {
   "cell_type": "code",
   "execution_count": null,
   "id": "0ca2c4ac-21d8-46fe-be7c-43d4b253d11f",
   "metadata": {},
   "outputs": [],
   "source": []
  },
  {
   "cell_type": "markdown",
   "id": "9ea0394b-f6e7-4e21-b9ee-b80c85b2ca30",
   "metadata": {},
   "source": [
    "# Q.5 What are custom Exceptions in python? Why do we need Custom Exceptions? Explain with an example.\n"
   ]
  },
  {
   "cell_type": "markdown",
   "id": "d841a370-0808-48a1-8a89-07355c4a0248",
   "metadata": {},
   "source": [
    "## What are custom Exceptions in python?"
   ]
  },
  {
   "cell_type": "code",
   "execution_count": 3,
   "id": "4f8b572d-0926-45d9-a799-2c987f1777e8",
   "metadata": {},
   "outputs": [
    {
     "name": "stdout",
     "output_type": "stream",
     "text": [
      "Custom exception caught: Division by zero is not allowed.\n"
     ]
    }
   ],
   "source": [
    "#  In Python custom exceptions are user-defined exception classes that allow you to create and raise your own exceptions in addition to the built-in exceptions provided by the language.\n",
    "#     Custom exceptions are use ful  when you encounter specific error conditions in your code and want to handle them in a specialized way. To define a custom exception in python you \n",
    "#     typically create a new class that inherits from the built-in \"Exception\"  class or one of its subclasses. This new class can then be used to raise exceptions when necessary.\n",
    "\n",
    "class CustomException(Exception):\n",
    "    pass\n",
    "\n",
    "#  In the example above we define a custom exception called \"CustomException\" that simply inherits from the \"Exception\" class. you can add additional functionality to your \n",
    "#    custom exception class by defining methods and attributes specific to your needs.\n",
    "# Once you have defined a custom exception class you can raise an instance of it using the \"raise\" statement.\n",
    "\n",
    "def divide(a, b):\n",
    "    if b == 0:\n",
    "        raise CustomException(\"Division by zero is not allowed.\")\n",
    "    return a/b\n",
    "try:\n",
    "    result = divide(23, 0)\n",
    "except CustomException as e:\n",
    "    print(\"Custom exception caught:\", str(e))\n",
    "\n",
    "    # In the example above, the \"divide()\" function raise a CustomException if the second argument \"b\" is zero. The exception  is caught in a\"try-except\" block allowing you to handle it \n",
    "#     gracefully. By defining custom exceptions you create a more meaningful and structured way to handle errors and communicate specific error conditions within your python code."
   ]
  },
  {
   "cell_type": "markdown",
   "id": "f9121eca-4e2e-4898-b9cb-b4c8cb064c6c",
   "metadata": {},
   "source": [
    "## Why do we need Custom Exceptions?"
   ]
  },
  {
   "cell_type": "code",
   "execution_count": null,
   "id": "8b6eff87-867e-4789-bc31-53992e57c5d5",
   "metadata": {},
   "outputs": [],
   "source": [
    "# custom exception are useful for several reasons:\n",
    "#  A. Semantic Clarity: custom exception provide a way to communicate specific error conditions in a more meaningful and readable manner. By creating custom exception classes \n",
    "#        you can give descriptive names to the exceptions that align with the problem domain, making it easier for developers to understand and handle the errors.\n",
    "\n",
    "#  B. Error Differentiation: In complex applications you may encounter different types of errors or exceptional conditions that require different handling approaches. \n",
    "#        custom exceptions allow you to differentiate between these error scenarios and handle them appropriately. By raising and catching specific custom exceptions you can \n",
    "#        execute specialized error handling code for each case.\n",
    "\n",
    "#  C. Modularity and Reusability: custom exception can be designed to encapsulate specific error scenarios within modules or libraries. This makes your code more modular as it \n",
    "#      separates the error handling logic from the core functionality. Additionally custom exceptions can be reused across different parts of your codebase or even in multiple\n",
    "#      projects, promoting code reusability.\n"
   ]
  },
  {
   "cell_type": "markdown",
   "id": "4082cf32-be71-481b-a77f-aad41c0386de",
   "metadata": {},
   "source": [
    "## Explain with an example."
   ]
  },
  {
   "cell_type": "code",
   "execution_count": null,
   "id": "2b054aed-eb0f-40d6-a15a-8d6d017521ae",
   "metadata": {},
   "outputs": [],
   "source": []
  },
  {
   "cell_type": "code",
   "execution_count": 6,
   "id": "2fe41edc-366f-4310-8aa6-bf7512cbea7a",
   "metadata": {},
   "outputs": [
    {
     "name": "stdout",
     "output_type": "stream",
     "text": [
      "Error: Insufficient funds to withdraw.\n"
     ]
    }
   ],
   "source": [
    "##  Explain with an example.\n",
    "\n",
    "class InsufficientFundError(Exception):\n",
    "    pass\n",
    "class BankAccount:\n",
    "    def __init__(self, balance):\n",
    "        self.balance = balance\n",
    "    def withdraw(self, amount):\n",
    "        if amount > self.balance:\n",
    "            raise InsufficientFundError(\"Insufficient funds to withdraw.\")\n",
    "        self.balance = self.balance - amount\n",
    "        print(\"withdrawal successful, remaining balance:\", self.balance)\n",
    "soumadip = BankAccount(1000)\n",
    "try:\n",
    "    soumadip.withdraw(2000)\n",
    "except InsufficientFundError as e:\n",
    "    print(\"Error:\", str(e))"
   ]
  },
  {
   "cell_type": "code",
   "execution_count": null,
   "id": "7167aa75-0c76-45f6-95eb-3de80773af85",
   "metadata": {},
   "outputs": [],
   "source": [
    "#      In the above example we define a custom exception called \"InsufficientFundsError\" exception and handle it differently from other exception. In this case we print a specific \n",
    "#      error message to infrom the user about  the lack of funds.\n",
    "#         Overall custom exception enhance code readability maintainability, and allow for more precise error handling making your code more robust and easier to debug."
   ]
  },
  {
   "cell_type": "markdown",
   "id": "22a013bf-68f3-4918-b845-052b1146ebb1",
   "metadata": {},
   "source": [
    "# Q.6 Create a custom exception class. Use this class to handle an exception."
   ]
  },
  {
   "cell_type": "markdown",
   "id": "2145b043-ba8b-4d16-9de8-94632e741c54",
   "metadata": {},
   "source": [
    "## Create a custom exception class."
   ]
  },
  {
   "cell_type": "code",
   "execution_count": 4,
   "id": "6dcea5fd-dedc-4a10-9223-ee5ae9e8aa29",
   "metadata": {},
   "outputs": [
    {
     "name": "stdout",
     "output_type": "stream",
     "text": [
      "Error Division by zero is not allowed.\n"
     ]
    }
   ],
   "source": [
    "# we can define a new class that inherits from the base \"Exception\" class or any of its subclasses. here's an example of how to create a custom exception class:\n",
    "class CustomException(Exception):\n",
    "    pass\n",
    "# In this example above we define a custom exception class named \"CustomException\" that inherits from the base \"Exception\" class. The \"pass\" statement is used to indicate that \n",
    "#     the class doesn't have any additional methods or attributes.\n",
    "# you can also add additional functionality to your custom exception class by defining methods or attributes specific to your needs. Here's an example where we add a custom error\n",
    "#     message to the exception:\n",
    "class CustomException(Exception):\n",
    "    def __init__(self, message):\n",
    "        self.message = message\n",
    "    def __str__(self):\n",
    "        return self.message\n",
    "# In this modified version we define an __init__ method to initialize the custom exception object with a custom error message . We also override the \"__str__\" method  to provide \n",
    "#         a string representation of the exception when it's printed or converted to a string.\n",
    "def divide(a, b):\n",
    "    if b == 0:\n",
    "        raise CustomException(\"Division by zero is not allowed.\")\n",
    "    return a/b\n",
    "try:\n",
    "    result = divide(5, 0)\n",
    "except CustomException as e:\n",
    "    print(\"Error\", str(e))"
   ]
  },
  {
   "cell_type": "code",
   "execution_count": 5,
   "id": "9ab36bc1-867a-42c9-9252-0855edd86419",
   "metadata": {},
   "outputs": [],
   "source": [
    "# In the example above the divide functiom checks if the divisor \"b\" is zero. If it is it raise a \"CustomException\" with a custom error message. When calling the \" divide\" function \n",
    "#    within a \"try\" block, If a \"CustomException\" is raised the \"except\" block will catch it, and r=the custom error message will be printed. By creating custom exception classes \n",
    "#        you can define your own set of exception that are specific to your application's needs and provide meaningful error messages or additional functionality."
   ]
  },
  {
   "cell_type": "markdown",
   "id": "298d66b2-29d0-42cd-81dd-c31a77090c44",
   "metadata": {},
   "source": [
    "## Use this class to handle an exception."
   ]
  },
  {
   "cell_type": "code",
   "execution_count": 6,
   "id": "851a082a-22c3-4b05-ad02-80a0a76afef5",
   "metadata": {},
   "outputs": [
    {
     "name": "stdout",
     "output_type": "stream",
     "text": [
      "Error: The list is empty.\n"
     ]
    }
   ],
   "source": [
    "# Let's use the custom exception class \"CustomException\" to handle an exception. In this example we'll create a function that accepts  alist and raise the \"CustomException\" if the \n",
    "#    list is empty.\n",
    "class CustomException(Exception):\n",
    "    def __init__(self, message):\n",
    "        self.message = message\n",
    "    def __str__(self):\n",
    "        return self.message\n",
    "def list(my_list):\n",
    "    if not my_list:\n",
    "        raise CustomException(\"The list is empty.\")\n",
    "    #process the list here\n",
    "    for item in my_list:\n",
    "        print(item)\n",
    "# example use\n",
    "try:\n",
    "    my_list = []\n",
    "    list(my_list)\n",
    "except CustomException as e:\n",
    "    print(\"Error:\", str(e))"
   ]
  },
  {
   "cell_type": "code",
   "execution_count": 8,
   "id": "7d60605d-7e30-4917-aa97-addecb8565ba",
   "metadata": {},
   "outputs": [],
   "source": [
    "# In the code above the \"list\" function takes a list as input. If the list is empty(\" not my_list\"), it raise a \"CustomExceptiom\" with the message \"The list is empty\".\n",
    "#     With in the \"try\" block we create an empty list\"my_list\" and pass it to the \"list\" function. Since the list is empty the \"CustomException\" and print the error message. \n",
    "#           By using the custom exception class \"CustomException\", we can raise and handle exceptions specific to our application  requirements."
   ]
  },
  {
   "cell_type": "code",
   "execution_count": null,
   "id": "5aaccf14-ce0d-43e8-b899-493421d03e2c",
   "metadata": {},
   "outputs": [],
   "source": []
  }
 ],
 "metadata": {
  "kernelspec": {
   "display_name": "Python 3 (ipykernel)",
   "language": "python",
   "name": "python3"
  },
  "language_info": {
   "codemirror_mode": {
    "name": "ipython",
    "version": 3
   },
   "file_extension": ".py",
   "mimetype": "text/x-python",
   "name": "python",
   "nbconvert_exporter": "python",
   "pygments_lexer": "ipython3",
   "version": "3.10.8"
  }
 },
 "nbformat": 4,
 "nbformat_minor": 5
}
