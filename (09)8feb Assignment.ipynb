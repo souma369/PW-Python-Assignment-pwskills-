{
 "cells": [
  {
   "cell_type": "markdown",
   "id": "e3f55783-8f9b-400a-9f3c-7d17c9149c47",
   "metadata": {},
   "source": [
    "## Abstraction and Encapsulation"
   ]
  },
  {
   "cell_type": "code",
   "execution_count": null,
   "id": "d9b8b3b8-c2e1-488f-bf07-a3869528d3a5",
   "metadata": {},
   "outputs": [],
   "source": []
  },
  {
   "cell_type": "markdown",
   "id": "c492cbb5-c10b-4d55-bea0-d29f06d1095a",
   "metadata": {},
   "source": [
    "# 1. what is Abstraction in oops? Explain with an example."
   ]
  },
  {
   "cell_type": "markdown",
   "id": "c7a6e485-64d0-4e35-86f3-e637eb9764fc",
   "metadata": {},
   "source": [
    "## what is Abstraction in oops?"
   ]
  },
  {
   "cell_type": "raw",
   "id": "e9b6986f-86d2-45a7-9c70-e769878555aa",
   "metadata": {},
   "source": [
    "# Abstraction in oops is a fundamental concept that allows us to create models of real -world objects by focusing on their essential characteristics while hiding unnecessary details.  \n",
    "\n",
    "                     1. It is the process of simplifying complex systems by breaking them down into more manageable and understandable units.\n",
    "\n",
    "                     2. In oops abstraction is implemented through the use of abstract classes and interfaces. An abstract class serves as a blueprint for other classes and \n",
    "                         cannot be instantiated itself. \n",
    "                     \n",
    "                     3. It contains both concrete and abstract method. Concrete methods have implementations, while abstract methods are declared with out implementations and must be\n",
    "                         overridden by the subclasses.\n",
    "\n",
    "                     4. By using abstract classes we can define a common interface and provide a level of standarization for the subclasses that inherit from it.\n",
    "                         This allows us to group objects with  similar characteristics and behavior promoting code reusability and maintainability.\n",
    "\n",
    "                     5. Interfaces on the other hand define a contract that a class must ad here to. They specify a set of methods that the implementing class must implement.\n",
    "                         Interfaces provide a way to achieve multiple inheritance in python and define behavior without specifying the implementation details.\n",
    "\n",
    "                     6. Abstraction helps to manage complexicity by focusing on the essential aspects of an object or system while hiding the inner working or implementation details.\n",
    "                         It allows us to think about objects and systems at a higher level of understanding promoting modularity encapsulation and seperation of concerns.\n",
    "                         \n",
    "                         \n",
    "\n",
    "  benefits of abstraction -- encapsulation(abstraction allows us to encapsulate the internal details of an object or system providing a clear and well-defined interface for\n",
    "    interacting with it),modularity and reusability, flexibility and maintainability, polymorphism(abstraction enables polymorphism which allows objects of different classes to be\n",
    "     trated as instances of a common superclass or interface providing flexibility and code reusability)"
   ]
  },
  {
   "cell_type": "markdown",
   "id": "4cf7fdc0-df2e-41f7-b0d9-79b2a55efa7f",
   "metadata": {},
   "source": [
    "## Explain with an example."
   ]
  },
  {
   "cell_type": "code",
   "execution_count": 1,
   "id": "d52b3cac-ccd2-4a7a-a616-d935c14f58fb",
   "metadata": {},
   "outputs": [],
   "source": [
    "import abc\n",
    "class Vehicle():\n",
    "    def __init__(self, make, model):\n",
    "        self.make = make\n",
    "        self.model = model\n",
    "\n",
    "    @abc.abstractmethod\n",
    "    def start(self):\n",
    "        pass\n",
    "\n",
    "    @abc.abstractmethod\n",
    "    def stop(self):\n",
    "        pass\n",
    "\n",
    "    @abc.abstractmethod\n",
    "    def drive(self):\n",
    "        pass\n",
    "\n",
    "class Car(Vehicle):\n",
    "    def start(self):\n",
    "        print(f\"The {self.make} {self.model} engine is running.\")\n",
    "\n",
    "    def stop(self):\n",
    "        print(f\"The {self.make} {self.model} engine is turned off.\")\n",
    "\n",
    "    def drive(self):\n",
    "        print(f\"The {self.make} {self.model} is now being driven.\")\n",
    "\n",
    "class Motorcycle(Vehicle):\n",
    "    def start(self):\n",
    "        print(f\"The {self.make} {self.model} engine is running.\")\n",
    "\n",
    "    def stop(self):\n",
    "        print(f\"The {self.make} {self.model} engine is turned off.\")\n",
    "\n",
    "    def drive(self):\n",
    "        print(f\"The {self.make} {self.model} is now being ridden.\")\n"
   ]
  },
  {
   "cell_type": "code",
   "execution_count": 2,
   "id": "12da4f1c-bafc-4614-b636-497ceeb3a93c",
   "metadata": {},
   "outputs": [
    {
     "name": "stdout",
     "output_type": "stream",
     "text": [
      "The Toyota Camry engine is running.\n",
      "The Toyota Camry is now being driven.\n",
      "The Toyota Camry engine is turned off.\n",
      "The Harley-Davidson Sportster engine is running.\n",
      "The Harley-Davidson Sportster is now being ridden.\n",
      "The Harley-Davidson Sportster engine is turned off.\n"
     ]
    }
   ],
   "source": [
    "my_car = Car(\"Toyota\", \"Camry\")\n",
    "my_motorcycle = Motorcycle(\"Harley-Davidson\", \"Sportster\")\n",
    "\n",
    "my_car.start()\n",
    "my_car.drive()\n",
    "my_car.stop()\n",
    "\n",
    "my_motorcycle.start()\n",
    "my_motorcycle.drive()\n",
    "my_motorcycle.stop()"
   ]
  },
  {
   "cell_type": "raw",
   "id": "26182735-b530-4dbb-bc0a-9bbfdaa1e0ba",
   "metadata": {},
   "source": [
    "A.. Abstraction in Python involves hiding the implementation details of an object and exposing only the necessary information or functionalities. The abc module in \n",
    "    Python stands for Abstract Base Classes, and it provides tools for working with abstract classes and methods.\n",
    "\n",
    "\n",
    "B.. In this example, we've defined an abstract base class Vehicle using the ABC class from the abc module. This class has abstract methods start(), stop(), and drive().\n",
    "    These methods are marked with the @abc.abstractmethod decorator, which indicates that subclasses must implement these methods.\n",
    "\n",
    "C..We then have two concrete subclasses, Car and Motorcycle, that inherit from Vehicle. They provide specific implementations for the abstract methods.\n",
    "\n",
    "D.. By using the abc module and defining an abstract base class, we enforce that any subclass of Vehicle must implement the specified methods (start(), stop(), drive()). \n",
    "    This provides a clear and consistent interface for working with vehicles, ensuring that they have the necessary behaviors defined.\n"
   ]
  },
  {
   "cell_type": "raw",
   "id": "45475944-0d73-4ac3-b27f-e26f86b4625b",
   "metadata": {},
   "source": []
  },
  {
   "cell_type": "markdown",
   "id": "38ac3286-caf2-4d93-b357-504e93447763",
   "metadata": {},
   "source": [
    "# 2. Differentiate between Abstraction and Encapsulation. Explain with an example."
   ]
  },
  {
   "cell_type": "code",
   "execution_count": null,
   "id": "2827b8fd-c0cf-45f6-82b4-63f8226578c9",
   "metadata": {},
   "outputs": [],
   "source": []
  },
  {
   "cell_type": "markdown",
   "id": "696e3165-dce3-4541-aad6-eb123b5e7b3e",
   "metadata": {},
   "source": [
    "## Differentiate between Abstraction and Encapsulation."
   ]
  },
  {
   "cell_type": "code",
   "execution_count": null,
   "id": "e170bbcc-0902-4b63-b938-23549fde3f23",
   "metadata": {},
   "outputs": [],
   "source": []
  },
  {
   "cell_type": "raw",
   "id": "352fe781-3307-4750-ba8a-6f636ebb41d4",
   "metadata": {},
   "source": [
    " In python abstraction and encapsulation are both object- oriented programming concepts that help in organizing and managing code. \n",
    "    While they are related they serve   different purposes.\n",
    "\n",
    "# Abstraction:\n",
    "\n",
    "                a. Abstraction is the process of hiding unnecessary details and presenting only the essential features to the user.\n",
    "    \n",
    "                b. It focuses on defining the interface and behavior of an object without exposing its internal implementation.\n",
    "        \n",
    "                c. Abstraction allows you to create abstract classes or interfaces that define a blueprint for other classes to follow.\n",
    "            \n",
    "                d. It provides a high-level view of the functionality allowing users to interact with the object without understanding the complexities of its internal workings.\n",
    "                \n",
    "                e. In python abstraction can be achieved through abstract classes or interfaces using the \"abc\" module. Abstract classes cannot be instantiated directly \n",
    "                    but can be subclassed to provide implementation details.\n",
    "\n",
    "## Encapsulation:\n",
    "\n",
    "                 a. Encapsulation is the practice of bundling data and the methods that operate on that data within a single unit typically a class.\n",
    "    \n",
    "                 b. It promotes data hiding and protection by preventing direct access to internal data from outside the class.\n",
    "        \n",
    "                 c. Encapsulation allows you to define access levels for attributes and methods such as public private or protected to control their visibility and usage.\n",
    "            \n",
    "                d. It helps in maintaining the integrity of the objects data by providing controlled access through methods or properties.\n",
    "                \n",
    "                e. In python encapsulation can be achieved by using naming conventions and access specifiers. By convention attributes and methods prefixed with a single \n",
    "                \n",
    "                f. underscore( _ ) are considered as protected and those prefixed with double underscores( _ _ ) are considered as private.\n",
    "\n",
    "###   to shorts: \n",
    "                abstraction focuses on defining interfaces and hiding implementation details while encapsulation deals with bundling data and methods together and\n",
    "                controlling access to them. Both concepts are crucial for building modular maintainable and reusable code in object- oriented programming."
   ]
  },
  {
   "cell_type": "code",
   "execution_count": null,
   "id": "4f069154-1abc-4810-9d25-02c08ec8c714",
   "metadata": {},
   "outputs": [],
   "source": []
  },
  {
   "cell_type": "markdown",
   "id": "4fbbb8c8-e231-4b56-b9e0-070a94c028d2",
   "metadata": {},
   "source": [
    "## Explain with an example."
   ]
  },
  {
   "cell_type": "code",
   "execution_count": null,
   "id": "b8b497b1-520f-41c2-88bf-d40eada8134d",
   "metadata": {},
   "outputs": [],
   "source": []
  },
  {
   "cell_type": "code",
   "execution_count": 3,
   "id": "9f625bb3-3fa2-41a3-bf73-4405efbb0197",
   "metadata": {},
   "outputs": [],
   "source": [
    "# example of abstraction\n",
    "import abc\n",
    "class shape:\n",
    "    @abc.abstractmethod\n",
    "    def area(self):\n",
    "        pass\n",
    "\n",
    "class rectangle(shape):\n",
    "    def __init__(self, length , width):\n",
    "        self._length = length\n",
    "        self._width = width\n",
    "    def area(self , length, width):\n",
    "        return self._length * self._width\n",
    "\n",
    "class circle(shape):\n",
    "    def __init__(self, radius):\n",
    "        self._radius = radius\n",
    "    def area(self ,radius):\n",
    "        return 3.14 * (self._radius ** 2)\n",
    "        \n"
   ]
  },
  {
   "cell_type": "code",
   "execution_count": 4,
   "id": "b28b612e-6d49-4f37-b982-519ce6c9047a",
   "metadata": {},
   "outputs": [],
   "source": [
    "r = rectangle(9,8)"
   ]
  },
  {
   "cell_type": "code",
   "execution_count": 5,
   "id": "3341d03c-0d4e-4c08-8a1e-6b239c1a0475",
   "metadata": {},
   "outputs": [
    {
     "name": "stdout",
     "output_type": "stream",
     "text": [
      "72\n"
     ]
    }
   ],
   "source": [
    "print(r.area(9 , 8))"
   ]
  },
  {
   "cell_type": "code",
   "execution_count": 6,
   "id": "7a5d2366-0a96-4139-ad5d-3a6d45d933e9",
   "metadata": {},
   "outputs": [],
   "source": [
    "c = circle(4)"
   ]
  },
  {
   "cell_type": "code",
   "execution_count": 7,
   "id": "1b1f2869-579a-4732-a0e0-11c5392b4869",
   "metadata": {},
   "outputs": [
    {
     "name": "stdout",
     "output_type": "stream",
     "text": [
      "50.24\n"
     ]
    }
   ],
   "source": [
    "print(c.area(4))"
   ]
  },
  {
   "cell_type": "code",
   "execution_count": null,
   "id": "f30bf905-7368-47fe-a608-53ba7efd1529",
   "metadata": {},
   "outputs": [],
   "source": []
  },
  {
   "cell_type": "code",
   "execution_count": null,
   "id": "95a31cee-56c2-4980-92b9-ad5598c154d8",
   "metadata": {},
   "outputs": [],
   "source": []
  },
  {
   "cell_type": "markdown",
   "id": "af7d648c-dfcd-41dd-8fdb-4168c8df1e44",
   "metadata": {},
   "source": [
    "# 3. what is abc module in python? Why is it used?"
   ]
  },
  {
   "cell_type": "markdown",
   "id": "048f2081-a210-4716-aa29-42bd903b83b4",
   "metadata": {},
   "source": [
    "## what is abc module in python?"
   ]
  },
  {
   "cell_type": "raw",
   "id": "3781004d-9515-4bc5-bb1a-0f53dfc4e925",
   "metadata": {},
   "source": [
    " In python the \"abc\" module stands for \"Abstract Base Classes\". It provides infrastructure for defining abstract base classes in python. Abstract base classes are classes that\n",
    " define a common interface for a group of subclasses. The \"abc\" module provides the \"ABC\" class which is used as a metaclass for defining abstract base classes.\n",
    " By inheriting from \"ABC\" a class can be designated as an abstract base class. Abstract methods can be defined within these classes using the \"@abc.abstractmethod\" decorator.\n",
    " Abstract base classes cannot be instantiated directly, they are meant  to be subclassed. Subclasses of abstract base classes are required to implement all the abstract \n",
    " methods defined in the base class. This enforces a certain structure or behavior in the subclasses. The \"abc\" module also provides other useful classes and functions such\n",
    " as \"abstractmethod\", \"abstractproperty\" and \"register\" which allow for more advanced usage of abstract base classes."
   ]
  },
  {
   "cell_type": "code",
   "execution_count": null,
   "id": "23a85730-15c8-44c8-8a1d-2e232051b378",
   "metadata": {},
   "outputs": [],
   "source": []
  },
  {
   "cell_type": "markdown",
   "id": "a203d5f7-2e55-4cca-95f0-fea7faa643df",
   "metadata": {},
   "source": [
    "## Why is it used?"
   ]
  },
  {
   "cell_type": "code",
   "execution_count": null,
   "id": "a43d97b4-d6da-471e-9383-096b7ee48661",
   "metadata": {},
   "outputs": [],
   "source": []
  },
  {
   "cell_type": "raw",
   "id": "626edd1f-e0c3-48d0-9a49-16bc19e462fe",
   "metadata": {},
   "source": [
    " Because:\n",
    "\n",
    "        \n",
    "            a. Interface definition: \n",
    "                                        Abstract base classes allow you to define a common interface that a group of related classes should implement. By defining abstract methods in \n",
    "                                        the base class you can establish a contract that specifies what methods should be implemented in the subclasses. This helps in organizing and \n",
    "                                          standardizing the codebase.\n",
    "                                          \n",
    "          \n",
    "            b. Polymorphism and Ducktyping: \n",
    "                                            Abstract base classes enable polymorphism by providing a common interface that different subclasses can adhere to. this allows you to\n",
    "                                             write code that works with objects of different classes as long as they implement the methods defines in the abstract base class. this \n",
    "                                             concept is also related to duck typing where the suitability of an object is determined by its behavior rather than its specific type.\n",
    "                                             \n",
    "          \n",
    "            c. Type checking and validation:\n",
    "                                                Abstract base classes can be used for type checking and validation purpose. By specifying abstract methods in the base class you can\n",
    "                                                ensure that subclasses provide the required functionality. This can help catch errors or inconsistencies early during development and \n",
    "                                                provide better code documentation.\n",
    "          \n",
    "            d. Structural guidance: \n",
    "                                      Abstract base classes can serve as a structural guide for developers working on a codebase. By looking at the abstract base class and its \n",
    "                                     defined methods developers can gain insights into the expected structure and behavior of the subclasses. This promotes consistency and \n",
    "                                     maintainability within a project.\n",
    "                                 \n",
    "          \n",
    "          e. Extension and Customization:\n",
    "                                          Abstract base classes can be subclassed to create specialized classes that inherit common behavior and structure. By extending an abstract \n",
    "                                         base class developers can build upon existing functionality while ensuring that the required methods are implemented."
   ]
  },
  {
   "cell_type": "code",
   "execution_count": null,
   "id": "757cd756-e657-4734-b5ad-9c6c6931f0c9",
   "metadata": {},
   "outputs": [],
   "source": []
  },
  {
   "cell_type": "markdown",
   "id": "1dc50f6b-f2cf-4322-bfff-295091bf4295",
   "metadata": {},
   "source": [
    "# 4. How can we achieve data abstraction?"
   ]
  },
  {
   "cell_type": "code",
   "execution_count": null,
   "id": "4c0f5cb1-942c-4e19-8c25-bd17c432e179",
   "metadata": {},
   "outputs": [],
   "source": []
  },
  {
   "cell_type": "raw",
   "id": "055abe25-1b0b-4a2d-8f17-392d8d9ae0a7",
   "metadata": {},
   "source": [
    " In python you can achieve data abstraction by using classes and objects. Data abstraction is a programming concept that focuses on exposing only the essential \n",
    "   information and hiding the implementation details.\n",
    "\n",
    " Here  are some techniques to achieve data abstraction in python:\n",
    "\n",
    "  A. Encapsulation: \n",
    "                    Encapsulation is the process of bundling data and methods together with in a class. By encapsulating data you can hide the internal implementation details \n",
    "                    and provide access to the data through well-defined methods or properties.This allow you to control how the data is accessed and manipulated providing a level \n",
    "                     of abstraction. Use access modifiers like private(using the underscore convention) to restrict direct access to internal data and provide getter and setter methods \n",
    "                      to interact with the data.\n",
    "                    \n",
    "\n",
    "  B.Abstraction through methods: \n",
    "                                Provide abstract and meaningful method names that represent the intended actions or operations to be performed on the data. The method names\n",
    "                                should be self-explanatory and provide a high-level interface for working with the data. By abstracting the functionality through methods you can \n",
    "                               hide the underlying implementation details and provide a simplified and intuitive way to interact with the data.\n",
    "\n",
    "  C.  Class hierarchy: \n",
    "                        Utilize inheritance to create a hierarchy of classes that represent different levels of abstraction. Define a base class with essential attributes and\n",
    "                      methods and then derived more specialized classes from it. Each subclass can add its own unique features while inheriting the common attributes and methods\n",
    "                      from the base class. This hierarchical structure allows you to represents different levels of abstraction and organize your code in a more modular and reusable \n",
    "                      manner.\n",
    "\n",
    "  D.  Abstract Base Classes(ABC): \n",
    "                                As mentioned earlier the \"abc\" module in python provides a way to define abstract base classes. By using the\"ABC metaclass and the \n",
    "                                \"@abc.abstractmethod\" decorator you can define abstract methods that subclasses must implement. This enforces a certain structure and behavior \n",
    "                                providing a form of data abstraction.\n",
    "\n",
    " By applying these techniques you can achieve data abstraction in python by exposing only the necessary information and hiding the imlementation details allowing for cleaner\n",
    "        code better organization and improved maintainability."
   ]
  },
  {
   "cell_type": "code",
   "execution_count": null,
   "id": "c6b81370-7a27-4848-95ee-3a00bc19847a",
   "metadata": {},
   "outputs": [],
   "source": []
  },
  {
   "cell_type": "code",
   "execution_count": null,
   "id": "875b480b-f0d7-4135-9a9a-74d24c1265fe",
   "metadata": {},
   "outputs": [],
   "source": []
  },
  {
   "cell_type": "markdown",
   "id": "e15fe4b2-85d5-4729-8bb2-d5dbe1337442",
   "metadata": {},
   "source": [
    "# 5. Can we create an instance of an abstractclass? Explain your answer."
   ]
  },
  {
   "cell_type": "code",
   "execution_count": null,
   "id": "5ec201a1-7251-430a-9e2f-60420d4e06ac",
   "metadata": {},
   "outputs": [],
   "source": []
  },
  {
   "cell_type": "raw",
   "id": "3ba227c1-9eca-4482-914d-70634aaa459a",
   "metadata": {},
   "source": [
    "# No, we cannot create an instance of an abstract class in python.\n",
    "\n",
    "        1. Abstract classes are designed to be incomplete and serve as a blueprint for other classes to inherit from. They are meant to be subclassed and provide a common interface or \n",
    "           structure for the subclasses.\n",
    "        \n",
    "        2.An abstract class typically contains one or more abstract methods which are declared but not implemented within the abstract class itself. Subclasses are required to implement \n",
    "             these abstract methods to provide the necessary functionality.\n",
    "\n",
    "# Attempting to create an instance of an abstract class will result in a \" TypeError\" with the message \"Can't instantiate abstract class\"\n"
   ]
  },
  {
   "cell_type": "code",
   "execution_count": 8,
   "id": "54d31c33-d9dd-4d9d-ad78-416f5e565203",
   "metadata": {},
   "outputs": [],
   "source": [
    "import abc\n",
    "class my_name:\n",
    "    @abc.abstractmethod\n",
    "    def abs_meth(self):\n",
    "        return \"this is abstract method\"\n",
    "    \n",
    "class class1(my_name):\n",
    "    def sum(self):\n",
    "        return \" this is sum class\""
   ]
  },
  {
   "cell_type": "code",
   "execution_count": 9,
   "id": "34c9633f-36b8-4046-88b2-fef43ee82b44",
   "metadata": {},
   "outputs": [],
   "source": [
    "my_name = my_name()"
   ]
  },
  {
   "cell_type": "code",
   "execution_count": 10,
   "id": "7deaf61d-71d1-4f85-bb0c-3535cd0bc263",
   "metadata": {},
   "outputs": [
    {
     "ename": "NameError",
     "evalue": "name 'ins' is not defined",
     "output_type": "error",
     "traceback": [
      "\u001b[0;31m---------------------------------------------------------------------------\u001b[0m",
      "\u001b[0;31mNameError\u001b[0m                                 Traceback (most recent call last)",
      "Cell \u001b[0;32mIn[10], line 1\u001b[0m\n\u001b[0;32m----> 1\u001b[0m \u001b[43mins\u001b[49m\u001b[38;5;241m.\u001b[39mabs_meth()\n",
      "\u001b[0;31mNameError\u001b[0m: name 'ins' is not defined"
     ]
    }
   ],
   "source": [
    "ins.abs_meth()"
   ]
  },
  {
   "cell_type": "code",
   "execution_count": 11,
   "id": "fc1c589f-8c41-4248-85d6-e03f9e8f09e5",
   "metadata": {},
   "outputs": [],
   "source": [
    "c=class1()"
   ]
  },
  {
   "cell_type": "code",
   "execution_count": 12,
   "id": "1c8cf53f-09bd-494a-b2f6-aae2bbf7aa20",
   "metadata": {},
   "outputs": [
    {
     "data": {
      "text/plain": [
       "'this is abstract method'"
      ]
     },
     "execution_count": 12,
     "metadata": {},
     "output_type": "execute_result"
    }
   ],
   "source": [
    "c.abs_meth()"
   ]
  },
  {
   "cell_type": "code",
   "execution_count": 13,
   "id": "92394762-5b0f-45d7-bd52-830677a7c62e",
   "metadata": {},
   "outputs": [
    {
     "data": {
      "text/plain": [
       "' this is sum class'"
      ]
     },
     "execution_count": 13,
     "metadata": {},
     "output_type": "execute_result"
    }
   ],
   "source": [
    "c.sum()"
   ]
  },
  {
   "cell_type": "code",
   "execution_count": null,
   "id": "1b455893-0765-4a70-af39-9427d401fe85",
   "metadata": {},
   "outputs": [],
   "source": []
  },
  {
   "cell_type": "code",
   "execution_count": 14,
   "id": "83bbdcb4-2984-4aed-9e21-504c72c38cab",
   "metadata": {},
   "outputs": [],
   "source": [
    "from abc import ABC, abstractmethod\n",
    "\n",
    "class Shape(ABC):\n",
    "    @abstractmethod\n",
    "    def area(self):\n",
    "        pass\n",
    "\n",
    "class Circle(Shape):\n",
    "    def __init__(self, radius):\n",
    "        self.radius = radius\n",
    "\n",
    "    def area(self):\n",
    "        return 3.14 * self.radius**2\n",
    "\n",
    "# Attempting to create an instance of Shape will result in a TypeError\n",
    "# shape = Shape()\n"
   ]
  },
  {
   "cell_type": "code",
   "execution_count": 15,
   "id": "cb24ada8-424e-422b-945a-37bf4e0ffd3b",
   "metadata": {},
   "outputs": [
    {
     "ename": "TypeError",
     "evalue": "Can't instantiate abstract class Shape with abstract method area",
     "output_type": "error",
     "traceback": [
      "\u001b[0;31m---------------------------------------------------------------------------\u001b[0m",
      "\u001b[0;31mTypeError\u001b[0m                                 Traceback (most recent call last)",
      "Cell \u001b[0;32mIn[15], line 1\u001b[0m\n\u001b[0;32m----> 1\u001b[0m shape \u001b[38;5;241m=\u001b[39m \u001b[43mShape\u001b[49m\u001b[43m(\u001b[49m\u001b[43m)\u001b[49m\n",
      "\u001b[0;31mTypeError\u001b[0m: Can't instantiate abstract class Shape with abstract method area"
     ]
    }
   ],
   "source": [
    "shape = Shape()"
   ]
  },
  {
   "cell_type": "code",
   "execution_count": null,
   "id": "20c77995-5ccd-40ff-b3fa-4f447f528eb7",
   "metadata": {},
   "outputs": [],
   "source": []
  },
  {
   "cell_type": "code",
   "execution_count": null,
   "id": "561a4e4a-d58a-4d50-b25e-789d76e2f6a0",
   "metadata": {},
   "outputs": [],
   "source": []
  }
 ],
 "metadata": {
  "kernelspec": {
   "display_name": "Python 3 (ipykernel)",
   "language": "python",
   "name": "python3"
  },
  "language_info": {
   "codemirror_mode": {
    "name": "ipython",
    "version": 3
   },
   "file_extension": ".py",
   "mimetype": "text/x-python",
   "name": "python",
   "nbconvert_exporter": "python",
   "pygments_lexer": "ipython3",
   "version": "3.10.8"
  }
 },
 "nbformat": 4,
 "nbformat_minor": 5
}
