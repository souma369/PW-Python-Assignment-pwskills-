{
 "cells": [
  {
   "cell_type": "markdown",
   "id": "491835f3-00a5-41c6-b082-3301b8e3beee",
   "metadata": {},
   "source": [
    "## OOPs Task"
   ]
  },
  {
   "cell_type": "code",
   "execution_count": null,
   "id": "36811b33-9307-450e-a223-584624463254",
   "metadata": {},
   "outputs": [],
   "source": []
  },
  {
   "cell_type": "markdown",
   "id": "a082a6cc-ea7e-4f84-ac97-3b8c50d46cc6",
   "metadata": {},
   "source": [
    "# 1. create a vehicle class with an init method having instance variables as name_of_vehicle, max_speed and average_of_vehicle."
   ]
  },
  {
   "cell_type": "code",
   "execution_count": 1,
   "id": "27cf5ae4-cbab-40cc-8aba-e783a3b2f4fd",
   "metadata": {},
   "outputs": [],
   "source": [
    "class vehicle:\n",
    "    def __init__(self,name_of_vehicle,max_speed,average_speed_of_vehicle):\n",
    "        self.nv=name_of_vehicle\n",
    "        self.ms=max_speed\n",
    "        self.asv=average_speed_of_vehicle\n",
    "    def vehicle_details(self):\n",
    "        return self.nv,self.ms,self.asv\n"
   ]
  },
  {
   "cell_type": "code",
   "execution_count": 2,
   "id": "0e29508b-6534-4f5e-b14f-51897cb19ef1",
   "metadata": {},
   "outputs": [],
   "source": [
    "v1=vehicle(\"dream doll\",300,120)"
   ]
  },
  {
   "cell_type": "code",
   "execution_count": 3,
   "id": "819e72fe-06d6-4e48-9ae8-4541a1882bad",
   "metadata": {},
   "outputs": [
    {
     "data": {
      "text/plain": [
       "('dream doll', 300, 120)"
      ]
     },
     "execution_count": 3,
     "metadata": {},
     "output_type": "execute_result"
    }
   ],
   "source": [
    "v1.vehicle_details()"
   ]
  },
  {
   "cell_type": "code",
   "execution_count": 4,
   "id": "25233dc3-7687-4b0b-a0e6-dd9ca211abc8",
   "metadata": {},
   "outputs": [
    {
     "data": {
      "text/plain": [
       "120"
      ]
     },
     "execution_count": 4,
     "metadata": {},
     "output_type": "execute_result"
    }
   ],
   "source": [
    "v1.asv"
   ]
  },
  {
   "cell_type": "code",
   "execution_count": 5,
   "id": "ea9f0eb9-8ecd-434d-bb78-938e5ac058b8",
   "metadata": {},
   "outputs": [
    {
     "data": {
      "text/plain": [
       "300"
      ]
     },
     "execution_count": 5,
     "metadata": {},
     "output_type": "execute_result"
    }
   ],
   "source": [
    "v1.ms"
   ]
  },
  {
   "cell_type": "code",
   "execution_count": 6,
   "id": "46848070-9504-467e-93c6-d13435dc643d",
   "metadata": {},
   "outputs": [
    {
     "data": {
      "text/plain": [
       "'dream doll'"
      ]
     },
     "execution_count": 6,
     "metadata": {},
     "output_type": "execute_result"
    }
   ],
   "source": [
    "v1.nv"
   ]
  },
  {
   "cell_type": "code",
   "execution_count": null,
   "id": "64087fa3-c26a-4389-ace2-008a25822427",
   "metadata": {},
   "outputs": [],
   "source": []
  },
  {
   "cell_type": "markdown",
   "id": "215dd655-aafc-4443-9797-931c8d227441",
   "metadata": {},
   "source": [
    "# 2. Create a child class car from the vehicle class created in Qne1, which will inherit the vehicle class. Create a method named seating_capacity which takes capacity as an argument\n",
    "#           and returns the name of the vehicle and its seating capacity."
   ]
  },
  {
   "cell_type": "code",
   "execution_count": 7,
   "id": "44064fb1-0f07-4fd5-8a4e-baec36fc024f",
   "metadata": {},
   "outputs": [],
   "source": [
    "class child_car(vehicle):\n",
    "    def seating_capacity(self,capacity):\n",
    "        return f\"The {self.nv} has a seating capacity of {capacity} people.\"\n",
    "        "
   ]
  },
  {
   "cell_type": "code",
   "execution_count": 8,
   "id": "1061315e-8c80-45e4-9f71-0f0681e9fab9",
   "metadata": {},
   "outputs": [],
   "source": [
    "car=child_car(\"thunder\",58,78)"
   ]
  },
  {
   "cell_type": "code",
   "execution_count": 9,
   "id": "27b81f7f-7392-41f0-9466-67c0ea95281c",
   "metadata": {},
   "outputs": [
    {
     "name": "stdout",
     "output_type": "stream",
     "text": [
      "The thunder has a seating capacity of 6 people.\n"
     ]
    }
   ],
   "source": [
    "print(car.seating_capacity(6))"
   ]
  },
  {
   "cell_type": "code",
   "execution_count": null,
   "id": "bfa22aaf-dd90-4a01-a547-ab9c87ac312d",
   "metadata": {},
   "outputs": [],
   "source": []
  },
  {
   "cell_type": "code",
   "execution_count": null,
   "id": "6cb53fd3-05a7-4572-a25e-bff7fa660611",
   "metadata": {},
   "outputs": [],
   "source": []
  },
  {
   "cell_type": "markdown",
   "id": "bfb020a3-b788-4ae5-a6ce-63ab36ecdf22",
   "metadata": {},
   "source": [
    "# 3. what is multiple inheeritance? write a python code to demonstrate multiple inheritance."
   ]
  },
  {
   "cell_type": "raw",
   "id": "9bf31f2d-8bff-430f-9ba1-b29fa9a85822",
   "metadata": {},
   "source": [
    " Multiple inheritance is a feature in object- oriented programming language that allows a class to inherit from more then one parent class. In multiple inheritance a class can\n",
    " inherit attributes and methods from multiple base classes combining their functionalities into a single derived class.\n",
    "\n",
    " In python multiple inheritance is supported and a class can inherit from multiple parent classes by specifying them within parentheses after the class name in the class definition."
   ]
  },
  {
   "cell_type": "code",
   "execution_count": 10,
   "id": "75c08704-7aed-419f-b37f-164fed868a64",
   "metadata": {},
   "outputs": [],
   "source": [
    "class father:\n",
    "    def method1(self):\n",
    "        print(\"this is father class\")\n",
    "class mother:\n",
    "    def method2(self):\n",
    "        print(\"this is mother class\")\n",
    "class son(father, mother):\n",
    "    def method3(self):\n",
    "        print(\" this is son class\")"
   ]
  },
  {
   "cell_type": "code",
   "execution_count": 11,
   "id": "c4ae2761-7526-4694-8aab-77b35292c956",
   "metadata": {},
   "outputs": [],
   "source": [
    "son_obj = son()"
   ]
  },
  {
   "cell_type": "code",
   "execution_count": 12,
   "id": "c1a40ab4-f16c-466f-b5c0-0fc999226fd8",
   "metadata": {},
   "outputs": [
    {
     "name": "stdout",
     "output_type": "stream",
     "text": [
      "this is father class\n"
     ]
    }
   ],
   "source": [
    "son_obj.method1()"
   ]
  },
  {
   "cell_type": "code",
   "execution_count": 13,
   "id": "4660960d-98aa-4e9e-adca-42fd477227ab",
   "metadata": {},
   "outputs": [
    {
     "name": "stdout",
     "output_type": "stream",
     "text": [
      "this is mother class\n"
     ]
    }
   ],
   "source": [
    "son_obj.method2()"
   ]
  },
  {
   "cell_type": "code",
   "execution_count": 14,
   "id": "46573630-0b19-4844-ad24-d6a4355f2a1d",
   "metadata": {},
   "outputs": [
    {
     "name": "stdout",
     "output_type": "stream",
     "text": [
      " this is son class\n"
     ]
    }
   ],
   "source": [
    "son_obj.method3()"
   ]
  },
  {
   "cell_type": "code",
   "execution_count": null,
   "id": "ef255f65-95e8-4290-af2a-3b4856fe68ea",
   "metadata": {},
   "outputs": [],
   "source": []
  },
  {
   "cell_type": "markdown",
   "id": "6ac91e8e-0545-4e79-8ff1-cb8341ca9c65",
   "metadata": {},
   "source": [
    "# 4. What are getter and setter in python ? create a class and create a getter and a setter method in this class."
   ]
  },
  {
   "cell_type": "raw",
   "id": "362317f1-b099-4538-a31e-520c53663554",
   "metadata": {},
   "source": [
    "  In Python, getters and setters are methods used to control access to an object's attributes. They allow you to enforce specific behavior\n",
    "      when getting and setting the values of attributes."
   ]
  },
  {
   "cell_type": "raw",
   "id": "2bf71472-47ab-494f-9ab4-4e43cf7123ec",
   "metadata": {},
   "source": [
    "#Getter: A getter is a method that allows you to retrieve the value of an attribute. It provides access to the internal representation of the attribute"
   ]
  },
  {
   "cell_type": "code",
   "execution_count": 15,
   "id": "f5394dfd-006a-46f3-b3d3-753ebfc94135",
   "metadata": {},
   "outputs": [],
   "source": [
    "class man:\n",
    "    def __init__(self,name):\n",
    "        self._name=name\n",
    "    def get_name(self):\n",
    "        return self._name"
   ]
  },
  {
   "cell_type": "code",
   "execution_count": 16,
   "id": "18189da8-4fab-4848-b992-adee7b6fa3b3",
   "metadata": {},
   "outputs": [],
   "source": [
    "man=man(\"soumadip\")"
   ]
  },
  {
   "cell_type": "code",
   "execution_count": 17,
   "id": "526f872b-b277-4a00-9047-59582fc9de24",
   "metadata": {},
   "outputs": [
    {
     "data": {
      "text/plain": [
       "'soumadip'"
      ]
     },
     "execution_count": 17,
     "metadata": {},
     "output_type": "execute_result"
    }
   ],
   "source": [
    "man.get_name()"
   ]
  },
  {
   "cell_type": "code",
   "execution_count": 18,
   "id": "af2bcc2d-90ae-45d2-84a6-cbf1b58c9510",
   "metadata": {},
   "outputs": [],
   "source": [
    "#In this example, get_name is the getter method that allows you to retrieve the value of the _name attribute"
   ]
  },
  {
   "cell_type": "raw",
   "id": "30c7c17f-cde4-4590-8bba-0bee39bf4b33",
   "metadata": {},
   "source": [
    "# Setter: A setter is a method that allows you to set the value of an attribute. It provides a way to modify the internal representation of the attribute,\n",
    "#          typically after some validation or processing"
   ]
  },
  {
   "cell_type": "code",
   "execution_count": 19,
   "id": "269f3d0b-cfb5-44b8-80bf-26be6cd7935c",
   "metadata": {},
   "outputs": [],
   "source": [
    "class man:\n",
    "    def __init__(self,name):\n",
    "        self._nam=name\n",
    "    def get_name(self):\n",
    "        return self._nam\n",
    "    def set_name(self,name):\n",
    "        if isinstance(name,str):\n",
    "            self._nam=name\n",
    "        else:\n",
    "            raise ValueError(\"enter must be string\")\n",
    "            "
   ]
  },
  {
   "cell_type": "code",
   "execution_count": 20,
   "id": "22dffe1c-bd5f-49d9-9c61-457fff25ca72",
   "metadata": {},
   "outputs": [],
   "source": [
    "man=man(\"soumadip\")"
   ]
  },
  {
   "cell_type": "code",
   "execution_count": 21,
   "id": "ac4d50cb-491f-4d35-905d-94ab3172f54e",
   "metadata": {},
   "outputs": [
    {
     "data": {
      "text/plain": [
       "'soumadip'"
      ]
     },
     "execution_count": 21,
     "metadata": {},
     "output_type": "execute_result"
    }
   ],
   "source": [
    "man.get_name()"
   ]
  },
  {
   "cell_type": "code",
   "execution_count": 22,
   "id": "a37a1c0e-151d-4cbf-b84a-28a9784b42e8",
   "metadata": {},
   "outputs": [],
   "source": [
    "man.set_name(\"Raj\")"
   ]
  },
  {
   "cell_type": "code",
   "execution_count": 23,
   "id": "068bc12c-0e05-43ca-829a-02724e5b06f0",
   "metadata": {},
   "outputs": [
    {
     "data": {
      "text/plain": [
       "'Raj'"
      ]
     },
     "execution_count": 23,
     "metadata": {},
     "output_type": "execute_result"
    }
   ],
   "source": [
    "man.get_name()"
   ]
  },
  {
   "cell_type": "code",
   "execution_count": 24,
   "id": "5c990516-5925-4709-bb9c-b18d441fd54b",
   "metadata": {},
   "outputs": [],
   "source": [
    "# In this example, set_name is the setter method that allows you to modify the value of the _name attribute after validating that it is a string."
   ]
  },
  {
   "cell_type": "raw",
   "id": "37276af4-6c89-4678-94f9-0bd4a9b2122c",
   "metadata": {},
   "source": [
    "# Using getters and setters can provide several benefits:\n",
    "\n",
    "1. Encapsulation: \n",
    "                It encapsulates the internal representation of the object, allowing you to change it later without affecting the external interface.\n",
    "\n",
    "2. Validation: \n",
    "                You can add validation logic to setters to ensure that only valid values are assigned to attributes.\n",
    "\n",
    "3. Controlled Access:\n",
    "                    You can implement different levels of access control, allowing you to define who can read or modify specific attributes.\n",
    "\n",
    "4. Flexibility:\n",
    "                It gives you the flexibility to change the internal implementation of an attribute without changing the interface.\n",
    "\n",
    "# However, in Python, it's worth noting that the use of explicit getters and setters is not as common as in some other languages. Instead, a convention called \"property\" \n",
    "   is often used. This allows you to define methods with names like get_name and set_name, but you can access and modify them like regular attributes. This maintains a clean and \n",
    " Pythonic syntax while still allowing for controlled access."
   ]
  },
  {
   "cell_type": "code",
   "execution_count": 25,
   "id": "663107d4-38bd-4480-be46-86c4933e594b",
   "metadata": {},
   "outputs": [],
   "source": [
    "class book:\n",
    "    def __init__(self,name,price):\n",
    "        self.__name=name\n",
    "        self.__price=price\n",
    "    def book_details(self):\n",
    "        return self.__name,self.__price\n",
    "    @property\n",
    "    def price(self):\n",
    "        return self.__price\n",
    "    @price.setter\n",
    "    def price(self,new_price):\n",
    "        if new_price<500:\n",
    "            pass\n",
    "        else:\n",
    "            self.__price=new_price\n",
    "            "
   ]
  },
  {
   "cell_type": "code",
   "execution_count": 26,
   "id": "806e996d-8ede-40bd-a67f-7f015c9749d9",
   "metadata": {},
   "outputs": [],
   "source": [
    "book=book(\"I wish\",499)"
   ]
  },
  {
   "cell_type": "code",
   "execution_count": 27,
   "id": "3dac3962-35d8-472b-8791-5d267aaa209d",
   "metadata": {},
   "outputs": [
    {
     "data": {
      "text/plain": [
       "('I wish', 499)"
      ]
     },
     "execution_count": 27,
     "metadata": {},
     "output_type": "execute_result"
    }
   ],
   "source": [
    "book.book_details()"
   ]
  },
  {
   "cell_type": "code",
   "execution_count": 28,
   "id": "b4b31295-55c2-4862-9201-0e4a917ca545",
   "metadata": {},
   "outputs": [
    {
     "data": {
      "text/plain": [
       "499"
      ]
     },
     "execution_count": 28,
     "metadata": {},
     "output_type": "execute_result"
    }
   ],
   "source": [
    "book.price\n"
   ]
  },
  {
   "cell_type": "code",
   "execution_count": 29,
   "id": "0d2f80eb-0708-41c4-9799-fd206a28d8c8",
   "metadata": {},
   "outputs": [],
   "source": [
    "book.price=400"
   ]
  },
  {
   "cell_type": "code",
   "execution_count": 30,
   "id": "cde5ce3b-f700-4d3b-86ca-7d981d094162",
   "metadata": {},
   "outputs": [
    {
     "data": {
      "text/plain": [
       "499"
      ]
     },
     "execution_count": 30,
     "metadata": {},
     "output_type": "execute_result"
    }
   ],
   "source": [
    "book.price"
   ]
  },
  {
   "cell_type": "code",
   "execution_count": 31,
   "id": "c9b27a8b-d021-4e2d-83d5-37bd420d0a70",
   "metadata": {},
   "outputs": [],
   "source": [
    "book.price=1000"
   ]
  },
  {
   "cell_type": "code",
   "execution_count": 32,
   "id": "588d35ac-6b8c-46a1-8568-45867ee12982",
   "metadata": {},
   "outputs": [
    {
     "data": {
      "text/plain": [
       "1000"
      ]
     },
     "execution_count": 32,
     "metadata": {},
     "output_type": "execute_result"
    }
   ],
   "source": [
    "book.price"
   ]
  },
  {
   "cell_type": "markdown",
   "id": "f0ce42e4-f99f-4185-bc6b-3bad129a861c",
   "metadata": {},
   "source": [
    "# 5. what is method overriding in python? write a python code demonstrate method overriding."
   ]
  },
  {
   "cell_type": "raw",
   "id": "7d3414c3-ce6f-4a0f-b663-cc5172a18db6",
   "metadata": {},
   "source": [
    "## Method Overriding in Python:\n",
    "\n",
    "A. Definition:\n",
    "                Method overriding in Python is a feature that allows a subclass to provide a specific implementation for a method that is already defined in its parent class. \n",
    "                  This means that the subclass can redefine the behavior of a method inherited from the parent class.\n",
    "\n",
    "B. Function:\n",
    "            The purpose of method overriding is to customize the behavior of a method in a subclass to suit the specific characteristics of that subclass.\n",
    "              It allows for more specialized behavior while maintaining a common interface defined in the parent class.\n",
    "\n",
    "C. Features:\n",
    "           i). Same Method Signature: \n",
    "                                      The method in the subclass must have the same name and the same number of parameters as the method in the parent class.\n",
    "           ii). Dynamic Dispatch: \n",
    "                                 When a method is called on an instance, Python determines which version of the method to use based on the type of the instance. \n",
    "                                 If the instance is of a subclass, Python will use the overridden method from the subclass.\n",
    " \n",
    "          iv). Polymorphism:\n",
    "                           Method overriding is a key aspect of achieving polymorphism in object-oriented programming, where different objects can respond to \n",
    "                            the same method call in different ways.\n",
    "\n",
    "                \n",
    "D. The condition for method overriding in Python is that the method in the subclass must have:\n",
    "\n",
    "           i). The same name as the method in the parent class.\n",
    "          ii). The same number and types of parameters (method signature) as the method in the parent class.\n",
    "         iii). A compatible return type or a subtype of the return type of the method in the parent class.\n",
    "\n",
    "          In essence, when you override a method in a subclass, you are providing a specific implementation for a method that is already defined in the parent class.\n",
    "          To ensure proper method overriding, you need to adhere to these conditions so that the overridden method has the same interface as the one in the parent class, \n",
    "          allowing it to be called in a polymorphic way.\n",
    "\n",
    "\n",
    "E. Advantages:\n",
    "\n",
    "            i). Customized Behavior: \n",
    "                                  Method overriding allows you to provide a specialized implementation for a method in a subclass, \n",
    "                                   enabling it to behave differently from the parent class.\n",
    "\n",
    "            ii). Flexibility:\n",
    "                             It gives you the flexibility to extend and modify the behavior of a class without modifying the original class.\n",
    "\n",
    "            iii). Promotes Code Reusability: \n",
    "                                          By inheriting methods from a parent class and overriding them in subclasses, you can reuse common functionalities\n",
    "                                        while customizing specific behaviors.\n",
    "\n",
    " F. Disadvantages:\n",
    "\n",
    "                 i). Potential for Confusion:\n",
    "                                            If not used carefully, method overriding can lead to confusion, especially in large codebases with multiple levels of inheritance.\n",
    "\n",
    "                 ii). Complexity: \n",
    "                                 Overriding methods can make the code more complex and harder to understand, especially if there are many levels of inheritance.\n",
    "\n",
    " G. How Method Overriding Works:\n",
    "\n",
    "                             When you call a method on an instance of a class, Python looks for the method starting from the class of the instance itself. \n",
    "                             If it doesn't find the method there, it looks in the parent class, and so on up the inheritance chain until it finds the method or \n",
    "                              reaches the top of the class hierarchy.\n",
    "\n",
    "      If a subclass overrides a method, when that method is called on an instance of the subclass, Python uses the version of the method defined in the subclass. \n",
    "     If the subclass doesn't override the method, Python will use the version from the parent class."
   ]
  },
  {
   "cell_type": "code",
   "execution_count": 33,
   "id": "fbf25758-13af-4696-b08b-121ae581e036",
   "metadata": {},
   "outputs": [],
   "source": [
    "class Animal:\n",
    "    def make_sound(self):\n",
    "        print(\"Generic animal sound\")\n",
    "class Dog(Animal):\n",
    "    def make_sound(self):\n",
    "        print(\"Bark\")\n",
    "class Cat(Animal):\n",
    "    def make_sound(self):\n",
    "        print(\"Meow\")"
   ]
  },
  {
   "cell_type": "code",
   "execution_count": 34,
   "id": "290f19e5-5861-4aea-a43b-acddddc1395c",
   "metadata": {},
   "outputs": [],
   "source": [
    "generic_sound=Animal()"
   ]
  },
  {
   "cell_type": "code",
   "execution_count": 35,
   "id": "b4f7cb82-8711-48ba-9b90-e8b6f34b7f7b",
   "metadata": {},
   "outputs": [
    {
     "name": "stdout",
     "output_type": "stream",
     "text": [
      "Generic animal sound\n"
     ]
    }
   ],
   "source": [
    "generic_sound.make_sound()"
   ]
  },
  {
   "cell_type": "code",
   "execution_count": 36,
   "id": "f5273a6b-79d2-4491-84ae-abc135f6aa4a",
   "metadata": {},
   "outputs": [],
   "source": [
    "dog=Dog()"
   ]
  },
  {
   "cell_type": "code",
   "execution_count": 37,
   "id": "231a4294-f097-4163-b7f0-570baa0c5538",
   "metadata": {},
   "outputs": [
    {
     "name": "stdout",
     "output_type": "stream",
     "text": [
      "Bark\n"
     ]
    }
   ],
   "source": [
    "dog.make_sound()"
   ]
  },
  {
   "cell_type": "code",
   "execution_count": 38,
   "id": "1a175c08-7a68-4d01-a013-76c408bba67a",
   "metadata": {},
   "outputs": [],
   "source": [
    "cat=Cat()"
   ]
  },
  {
   "cell_type": "code",
   "execution_count": 39,
   "id": "b2547b63-e318-4ea1-b76a-631fa24dcc01",
   "metadata": {},
   "outputs": [
    {
     "name": "stdout",
     "output_type": "stream",
     "text": [
      "Meow\n"
     ]
    }
   ],
   "source": [
    "cat.make_sound()"
   ]
  },
  {
   "cell_type": "raw",
   "id": "8d1acafe-2dcd-48e6-bd2d-09e047b4ecd1",
   "metadata": {},
   "source": [
    "## In this example, Dog and Cat classes override the make_sound method from the Animal class to provide their specific sounds. When you call make_sound on an instance of Dog or Cat, Python uses the version of make_sound defined in the subclass"
   ]
  },
  {
   "cell_type": "code",
   "execution_count": null,
   "id": "8d104f17-98f3-4aca-b14f-0385468f4e8f",
   "metadata": {},
   "outputs": [],
   "source": []
  },
  {
   "cell_type": "code",
   "execution_count": null,
   "id": "6e8ff290-9a94-4234-ad06-37f11535ca79",
   "metadata": {},
   "outputs": [],
   "source": []
  }
 ],
 "metadata": {
  "kernelspec": {
   "display_name": "Python 3 (ipykernel)",
   "language": "python",
   "name": "python3"
  },
  "language_info": {
   "codemirror_mode": {
    "name": "ipython",
    "version": 3
   },
   "file_extension": ".py",
   "mimetype": "text/x-python",
   "name": "python",
   "nbconvert_exporter": "python",
   "pygments_lexer": "ipython3",
   "version": "3.10.8"
  }
 },
 "nbformat": 4,
 "nbformat_minor": 5
}
